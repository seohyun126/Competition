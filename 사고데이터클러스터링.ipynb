{
 "cells": [
  {
   "cell_type": "code",
   "execution_count": 1,
   "id": "00da1eda",
   "metadata": {},
   "outputs": [],
   "source": [
    "import pandas as pd\n",
    "import numpy as np"
   ]
  },
  {
   "cell_type": "code",
   "execution_count": 2,
   "id": "2836e9bc",
   "metadata": {},
   "outputs": [],
   "source": [
    "data=pd.read_excel(\"C:/Users/MYCOM/data/schoolattack.xlsx\")"
   ]
  },
  {
   "cell_type": "markdown",
   "id": "c7f485f4",
   "metadata": {},
   "source": [
    "## K-MODES 클러스터링"
   ]
  },
  {
   "cell_type": "code",
   "execution_count": 13,
   "id": "5fb1d48f",
   "metadata": {},
   "outputs": [
    {
     "data": {
      "text/plain": [
       "중학교     102554\n",
       "초등학교     95033\n",
       "고등학교     60164\n",
       "유치원      24397\n",
       "특수학교      1291\n",
       "기타학교       987\n",
       "Name: 학교급, dtype: int64"
      ]
     },
     "execution_count": 13,
     "metadata": {},
     "output_type": "execute_result"
    }
   ],
   "source": [
    "data['학교급'].value_counts()"
   ]
  },
  {
   "cell_type": "code",
   "execution_count": 14,
   "id": "b0e35b9a",
   "metadata": {},
   "outputs": [],
   "source": [
    "data=data[data['학교급']!='유치원']\n",
    "data=data[data['학교급']!='특수학교']\n",
    "data=data[data['학교급']!='기타학교']"
   ]
  },
  {
   "cell_type": "code",
   "execution_count": 15,
   "id": "564835ea",
   "metadata": {},
   "outputs": [
    {
     "data": {
      "text/plain": [
       "중학교     102554\n",
       "초등학교     95033\n",
       "고등학교     60164\n",
       "Name: 학교급, dtype: int64"
      ]
     },
     "execution_count": 15,
     "metadata": {},
     "output_type": "execute_result"
    }
   ],
   "source": [
    "data['학교급'].value_counts()"
   ]
  },
  {
   "cell_type": "code",
   "execution_count": 16,
   "id": "a1d69f8d",
   "metadata": {},
   "outputs": [
    {
     "data": {
      "text/html": [
       "<div>\n",
       "<style scoped>\n",
       "    .dataframe tbody tr th:only-of-type {\n",
       "        vertical-align: middle;\n",
       "    }\n",
       "\n",
       "    .dataframe tbody tr th {\n",
       "        vertical-align: top;\n",
       "    }\n",
       "\n",
       "    .dataframe thead th {\n",
       "        text-align: right;\n",
       "    }\n",
       "</style>\n",
       "<table border=\"1\" class=\"dataframe\">\n",
       "  <thead>\n",
       "    <tr style=\"text-align: right;\">\n",
       "      <th></th>\n",
       "      <th>사고시간</th>\n",
       "      <th>사고장소</th>\n",
       "      <th>사고형태</th>\n",
       "      <th>사고매개물</th>\n",
       "      <th>사고당시활동</th>\n",
       "    </tr>\n",
       "  </thead>\n",
       "  <tbody>\n",
       "    <tr>\n",
       "      <th>0</th>\n",
       "      <td>특별활동</td>\n",
       "      <td>교실</td>\n",
       "      <td>기타</td>\n",
       "      <td>기타</td>\n",
       "      <td>실험실습</td>\n",
       "    </tr>\n",
       "    <tr>\n",
       "      <th>1</th>\n",
       "      <td>체육수업</td>\n",
       "      <td>운동장</td>\n",
       "      <td>넘어짐</td>\n",
       "      <td>운동/놀이</td>\n",
       "      <td>구기운동</td>\n",
       "    </tr>\n",
       "    <tr>\n",
       "      <th>2</th>\n",
       "      <td>학교행사</td>\n",
       "      <td>교외활동</td>\n",
       "      <td>넘어짐</td>\n",
       "      <td>기타</td>\n",
       "      <td>기타운동</td>\n",
       "    </tr>\n",
       "    <tr>\n",
       "      <th>3</th>\n",
       "      <td>체육수업</td>\n",
       "      <td>부속시설</td>\n",
       "      <td>물리적힘 노출</td>\n",
       "      <td>운동/놀이</td>\n",
       "      <td>구기운동</td>\n",
       "    </tr>\n",
       "    <tr>\n",
       "      <th>4</th>\n",
       "      <td>학교행사</td>\n",
       "      <td>운동장</td>\n",
       "      <td>미끄러짐</td>\n",
       "      <td>건물</td>\n",
       "      <td>장난/놀이</td>\n",
       "    </tr>\n",
       "    <tr>\n",
       "      <th>...</th>\n",
       "      <td>...</td>\n",
       "      <td>...</td>\n",
       "      <td>...</td>\n",
       "      <td>...</td>\n",
       "      <td>...</td>\n",
       "    </tr>\n",
       "    <tr>\n",
       "      <th>284421</th>\n",
       "      <td>체육수업</td>\n",
       "      <td>부속시설</td>\n",
       "      <td>넘어짐</td>\n",
       "      <td>자연</td>\n",
       "      <td>구기운동</td>\n",
       "    </tr>\n",
       "    <tr>\n",
       "      <th>284422</th>\n",
       "      <td>학교행사</td>\n",
       "      <td>운동장</td>\n",
       "      <td>물리적힘 노출</td>\n",
       "      <td>운동/놀이</td>\n",
       "      <td>기타</td>\n",
       "    </tr>\n",
       "    <tr>\n",
       "      <th>284423</th>\n",
       "      <td>점심시간</td>\n",
       "      <td>운동장</td>\n",
       "      <td>미끄러짐</td>\n",
       "      <td>건물</td>\n",
       "      <td>보행/주행</td>\n",
       "    </tr>\n",
       "    <tr>\n",
       "      <th>284424</th>\n",
       "      <td>등하교</td>\n",
       "      <td>운동장</td>\n",
       "      <td>미끄러짐</td>\n",
       "      <td>건물</td>\n",
       "      <td>보행/주행</td>\n",
       "    </tr>\n",
       "    <tr>\n",
       "      <th>284425</th>\n",
       "      <td>점심시간</td>\n",
       "      <td>부속시설</td>\n",
       "      <td>미끄러짐</td>\n",
       "      <td>건물</td>\n",
       "      <td>보행/주행</td>\n",
       "    </tr>\n",
       "  </tbody>\n",
       "</table>\n",
       "<p>257751 rows × 5 columns</p>\n",
       "</div>"
      ],
      "text/plain": [
       "        사고시간  사고장소     사고형태  사고매개물 사고당시활동\n",
       "0       특별활동    교실       기타     기타   실험실습\n",
       "1       체육수업   운동장      넘어짐  운동/놀이   구기운동\n",
       "2       학교행사  교외활동      넘어짐     기타   기타운동\n",
       "3       체육수업  부속시설  물리적힘 노출  운동/놀이   구기운동\n",
       "4       학교행사   운동장     미끄러짐     건물  장난/놀이\n",
       "...      ...   ...      ...    ...    ...\n",
       "284421  체육수업  부속시설      넘어짐     자연   구기운동\n",
       "284422  학교행사   운동장  물리적힘 노출  운동/놀이     기타\n",
       "284423  점심시간   운동장     미끄러짐     건물  보행/주행\n",
       "284424   등하교   운동장     미끄러짐     건물  보행/주행\n",
       "284425  점심시간  부속시설     미끄러짐     건물  보행/주행\n",
       "\n",
       "[257751 rows x 5 columns]"
      ]
     },
     "execution_count": 16,
     "metadata": {},
     "output_type": "execute_result"
    }
   ],
   "source": [
    "data[['사고시간','사고장소','사고형태','사고매개물','사고당시활동']]"
   ]
  },
  {
   "cell_type": "code",
   "execution_count": 17,
   "id": "f6771388",
   "metadata": {},
   "outputs": [],
   "source": [
    "def convert_categorical_to_integer(df):\n",
    "    df_copy = df.copy()\n",
    "    for column in df_copy.columns:\n",
    "        if df_copy[column].dtype == 'object':\n",
    "            # Convert the categorical column to integers using factorize\n",
    "            df_copy[column] = pd.factorize(df_copy[column])[0]\n",
    "    \n",
    "    return df_copy"
   ]
  },
  {
   "cell_type": "code",
   "execution_count": 18,
   "id": "0e89ae2c",
   "metadata": {},
   "outputs": [],
   "source": [
    "data_km=data[['사고시간','사고장소','사고형태','사고매개물','사고당시활동']]\n",
    "data_kmn=convert_categorical_to_integer(data_km)"
   ]
  },
  {
   "cell_type": "code",
   "execution_count": 19,
   "id": "cf263e58",
   "metadata": {},
   "outputs": [
    {
     "data": {
      "text/html": [
       "<div>\n",
       "<style scoped>\n",
       "    .dataframe tbody tr th:only-of-type {\n",
       "        vertical-align: middle;\n",
       "    }\n",
       "\n",
       "    .dataframe tbody tr th {\n",
       "        vertical-align: top;\n",
       "    }\n",
       "\n",
       "    .dataframe thead th {\n",
       "        text-align: right;\n",
       "    }\n",
       "</style>\n",
       "<table border=\"1\" class=\"dataframe\">\n",
       "  <thead>\n",
       "    <tr style=\"text-align: right;\">\n",
       "      <th></th>\n",
       "      <th>사고시간</th>\n",
       "      <th>사고장소</th>\n",
       "      <th>사고형태</th>\n",
       "      <th>사고매개물</th>\n",
       "      <th>사고당시활동</th>\n",
       "    </tr>\n",
       "  </thead>\n",
       "  <tbody>\n",
       "    <tr>\n",
       "      <th>0</th>\n",
       "      <td>0</td>\n",
       "      <td>0</td>\n",
       "      <td>0</td>\n",
       "      <td>0</td>\n",
       "      <td>0</td>\n",
       "    </tr>\n",
       "    <tr>\n",
       "      <th>1</th>\n",
       "      <td>1</td>\n",
       "      <td>1</td>\n",
       "      <td>1</td>\n",
       "      <td>1</td>\n",
       "      <td>1</td>\n",
       "    </tr>\n",
       "    <tr>\n",
       "      <th>2</th>\n",
       "      <td>2</td>\n",
       "      <td>2</td>\n",
       "      <td>1</td>\n",
       "      <td>0</td>\n",
       "      <td>2</td>\n",
       "    </tr>\n",
       "    <tr>\n",
       "      <th>3</th>\n",
       "      <td>1</td>\n",
       "      <td>3</td>\n",
       "      <td>2</td>\n",
       "      <td>1</td>\n",
       "      <td>1</td>\n",
       "    </tr>\n",
       "    <tr>\n",
       "      <th>4</th>\n",
       "      <td>2</td>\n",
       "      <td>1</td>\n",
       "      <td>3</td>\n",
       "      <td>2</td>\n",
       "      <td>3</td>\n",
       "    </tr>\n",
       "    <tr>\n",
       "      <th>5</th>\n",
       "      <td>3</td>\n",
       "      <td>0</td>\n",
       "      <td>2</td>\n",
       "      <td>2</td>\n",
       "      <td>4</td>\n",
       "    </tr>\n",
       "    <tr>\n",
       "      <th>6</th>\n",
       "      <td>4</td>\n",
       "      <td>1</td>\n",
       "      <td>2</td>\n",
       "      <td>3</td>\n",
       "      <td>3</td>\n",
       "    </tr>\n",
       "    <tr>\n",
       "      <th>7</th>\n",
       "      <td>1</td>\n",
       "      <td>1</td>\n",
       "      <td>3</td>\n",
       "      <td>1</td>\n",
       "      <td>1</td>\n",
       "    </tr>\n",
       "    <tr>\n",
       "      <th>8</th>\n",
       "      <td>4</td>\n",
       "      <td>3</td>\n",
       "      <td>2</td>\n",
       "      <td>1</td>\n",
       "      <td>1</td>\n",
       "    </tr>\n",
       "    <tr>\n",
       "      <th>9</th>\n",
       "      <td>0</td>\n",
       "      <td>3</td>\n",
       "      <td>3</td>\n",
       "      <td>2</td>\n",
       "      <td>4</td>\n",
       "    </tr>\n",
       "  </tbody>\n",
       "</table>\n",
       "</div>"
      ],
      "text/plain": [
       "   사고시간  사고장소  사고형태  사고매개물  사고당시활동\n",
       "0     0     0     0      0       0\n",
       "1     1     1     1      1       1\n",
       "2     2     2     1      0       2\n",
       "3     1     3     2      1       1\n",
       "4     2     1     3      2       3\n",
       "5     3     0     2      2       4\n",
       "6     4     1     2      3       3\n",
       "7     1     1     3      1       1\n",
       "8     4     3     2      1       1\n",
       "9     0     3     3      2       4"
      ]
     },
     "execution_count": 19,
     "metadata": {},
     "output_type": "execute_result"
    }
   ],
   "source": [
    "data_kmn.head(10)"
   ]
  },
  {
   "cell_type": "code",
   "execution_count": 20,
   "id": "1505c3db",
   "metadata": {},
   "outputs": [
    {
     "data": {
      "text/html": [
       "<div>\n",
       "<style scoped>\n",
       "    .dataframe tbody tr th:only-of-type {\n",
       "        vertical-align: middle;\n",
       "    }\n",
       "\n",
       "    .dataframe tbody tr th {\n",
       "        vertical-align: top;\n",
       "    }\n",
       "\n",
       "    .dataframe thead th {\n",
       "        text-align: right;\n",
       "    }\n",
       "</style>\n",
       "<table border=\"1\" class=\"dataframe\">\n",
       "  <thead>\n",
       "    <tr style=\"text-align: right;\">\n",
       "      <th></th>\n",
       "      <th>사고시간</th>\n",
       "      <th>사고장소</th>\n",
       "      <th>사고형태</th>\n",
       "      <th>사고매개물</th>\n",
       "      <th>사고당시활동</th>\n",
       "    </tr>\n",
       "  </thead>\n",
       "  <tbody>\n",
       "    <tr>\n",
       "      <th>0</th>\n",
       "      <td>특별활동</td>\n",
       "      <td>교실</td>\n",
       "      <td>기타</td>\n",
       "      <td>기타</td>\n",
       "      <td>실험실습</td>\n",
       "    </tr>\n",
       "    <tr>\n",
       "      <th>1</th>\n",
       "      <td>체육수업</td>\n",
       "      <td>운동장</td>\n",
       "      <td>넘어짐</td>\n",
       "      <td>운동/놀이</td>\n",
       "      <td>구기운동</td>\n",
       "    </tr>\n",
       "    <tr>\n",
       "      <th>2</th>\n",
       "      <td>학교행사</td>\n",
       "      <td>교외활동</td>\n",
       "      <td>넘어짐</td>\n",
       "      <td>기타</td>\n",
       "      <td>기타운동</td>\n",
       "    </tr>\n",
       "    <tr>\n",
       "      <th>3</th>\n",
       "      <td>체육수업</td>\n",
       "      <td>부속시설</td>\n",
       "      <td>물리적힘 노출</td>\n",
       "      <td>운동/놀이</td>\n",
       "      <td>구기운동</td>\n",
       "    </tr>\n",
       "    <tr>\n",
       "      <th>4</th>\n",
       "      <td>학교행사</td>\n",
       "      <td>운동장</td>\n",
       "      <td>미끄러짐</td>\n",
       "      <td>건물</td>\n",
       "      <td>장난/놀이</td>\n",
       "    </tr>\n",
       "    <tr>\n",
       "      <th>5</th>\n",
       "      <td>점심시간</td>\n",
       "      <td>교실</td>\n",
       "      <td>물리적힘 노출</td>\n",
       "      <td>건물</td>\n",
       "      <td>보행/주행</td>\n",
       "    </tr>\n",
       "    <tr>\n",
       "      <th>6</th>\n",
       "      <td>휴식시간 및 청소시간</td>\n",
       "      <td>운동장</td>\n",
       "      <td>물리적힘 노출</td>\n",
       "      <td>가구</td>\n",
       "      <td>장난/놀이</td>\n",
       "    </tr>\n",
       "    <tr>\n",
       "      <th>7</th>\n",
       "      <td>체육수업</td>\n",
       "      <td>운동장</td>\n",
       "      <td>미끄러짐</td>\n",
       "      <td>운동/놀이</td>\n",
       "      <td>구기운동</td>\n",
       "    </tr>\n",
       "    <tr>\n",
       "      <th>8</th>\n",
       "      <td>휴식시간 및 청소시간</td>\n",
       "      <td>부속시설</td>\n",
       "      <td>물리적힘 노출</td>\n",
       "      <td>운동/놀이</td>\n",
       "      <td>구기운동</td>\n",
       "    </tr>\n",
       "    <tr>\n",
       "      <th>9</th>\n",
       "      <td>특별활동</td>\n",
       "      <td>부속시설</td>\n",
       "      <td>미끄러짐</td>\n",
       "      <td>건물</td>\n",
       "      <td>보행/주행</td>\n",
       "    </tr>\n",
       "  </tbody>\n",
       "</table>\n",
       "</div>"
      ],
      "text/plain": [
       "          사고시간  사고장소     사고형태  사고매개물 사고당시활동\n",
       "0         특별활동    교실       기타     기타   실험실습\n",
       "1         체육수업   운동장      넘어짐  운동/놀이   구기운동\n",
       "2         학교행사  교외활동      넘어짐     기타   기타운동\n",
       "3         체육수업  부속시설  물리적힘 노출  운동/놀이   구기운동\n",
       "4         학교행사   운동장     미끄러짐     건물  장난/놀이\n",
       "5         점심시간    교실  물리적힘 노출     건물  보행/주행\n",
       "6  휴식시간 및 청소시간   운동장  물리적힘 노출     가구  장난/놀이\n",
       "7         체육수업   운동장     미끄러짐  운동/놀이   구기운동\n",
       "8  휴식시간 및 청소시간  부속시설  물리적힘 노출  운동/놀이   구기운동\n",
       "9         특별활동  부속시설     미끄러짐     건물  보행/주행"
      ]
     },
     "execution_count": 20,
     "metadata": {},
     "output_type": "execute_result"
    }
   ],
   "source": [
    "data_km.head(10)"
   ]
  },
  {
   "cell_type": "code",
   "execution_count": 21,
   "id": "d65fd2a6",
   "metadata": {},
   "outputs": [
    {
     "name": "stdout",
     "output_type": "stream",
     "text": [
      "[3 0 3 ... 1 2 2]\n"
     ]
    }
   ],
   "source": [
    "from kmodes.kmodes import KModes\n",
    "kmodes = KModes(n_clusters=5) ## 클래스 초기화\n",
    "kmodes.fit(data_kmn) ## 클러스터링 수행\n",
    "print(kmodes.predict(data_kmn))"
   ]
  },
  {
   "cell_type": "code",
   "execution_count": 22,
   "id": "29ee0cc2",
   "metadata": {},
   "outputs": [],
   "source": [
    "data_kmn['클러스터']=kmodes.predict(data_kmn)"
   ]
  },
  {
   "cell_type": "markdown",
   "id": "6d76a694",
   "metadata": {},
   "source": [
    "# 여기서부터 시작하기\n"
   ]
  },
  {
   "cell_type": "code",
   "execution_count": 12,
   "id": "6bca3424",
   "metadata": {},
   "outputs": [],
   "source": [
    "import pandas as pd"
   ]
  },
  {
   "cell_type": "code",
   "execution_count": 13,
   "id": "284d8662",
   "metadata": {},
   "outputs": [],
   "source": [
    "data_kmn=pd.read_csv(\"C:/Users/MYCOM/data/schoolattack_clustering.csv\")\n",
    "data_km=pd.read_csv(\"C:/Users/MYCOM/data/schoolattack_cluster_f.csv\")"
   ]
  },
  {
   "cell_type": "code",
   "execution_count": 14,
   "id": "12e52e69",
   "metadata": {},
   "outputs": [
    {
     "data": {
      "text/html": [
       "<div>\n",
       "<style scoped>\n",
       "    .dataframe tbody tr th:only-of-type {\n",
       "        vertical-align: middle;\n",
       "    }\n",
       "\n",
       "    .dataframe tbody tr th {\n",
       "        vertical-align: top;\n",
       "    }\n",
       "\n",
       "    .dataframe thead th {\n",
       "        text-align: right;\n",
       "    }\n",
       "</style>\n",
       "<table border=\"1\" class=\"dataframe\">\n",
       "  <thead>\n",
       "    <tr style=\"text-align: right;\">\n",
       "      <th></th>\n",
       "      <th>Unnamed: 0</th>\n",
       "      <th>사고시간</th>\n",
       "      <th>사고장소</th>\n",
       "      <th>사고형태</th>\n",
       "      <th>사고매개물</th>\n",
       "      <th>사고당시활동</th>\n",
       "      <th>클러스터</th>\n",
       "    </tr>\n",
       "  </thead>\n",
       "  <tbody>\n",
       "    <tr>\n",
       "      <th>0</th>\n",
       "      <td>0</td>\n",
       "      <td>특별활동</td>\n",
       "      <td>교실</td>\n",
       "      <td>기타</td>\n",
       "      <td>기타</td>\n",
       "      <td>실험실습</td>\n",
       "      <td>3</td>\n",
       "    </tr>\n",
       "    <tr>\n",
       "      <th>1</th>\n",
       "      <td>1</td>\n",
       "      <td>체육수업</td>\n",
       "      <td>운동장</td>\n",
       "      <td>넘어짐</td>\n",
       "      <td>운동/놀이</td>\n",
       "      <td>구기운동</td>\n",
       "      <td>0</td>\n",
       "    </tr>\n",
       "    <tr>\n",
       "      <th>2</th>\n",
       "      <td>2</td>\n",
       "      <td>학교행사</td>\n",
       "      <td>교외활동</td>\n",
       "      <td>넘어짐</td>\n",
       "      <td>기타</td>\n",
       "      <td>기타운동</td>\n",
       "      <td>3</td>\n",
       "    </tr>\n",
       "    <tr>\n",
       "      <th>3</th>\n",
       "      <td>3</td>\n",
       "      <td>체육수업</td>\n",
       "      <td>부속시설</td>\n",
       "      <td>물리적힘 노출</td>\n",
       "      <td>운동/놀이</td>\n",
       "      <td>구기운동</td>\n",
       "      <td>0</td>\n",
       "    </tr>\n",
       "    <tr>\n",
       "      <th>4</th>\n",
       "      <td>4</td>\n",
       "      <td>학교행사</td>\n",
       "      <td>운동장</td>\n",
       "      <td>미끄러짐</td>\n",
       "      <td>건물</td>\n",
       "      <td>장난/놀이</td>\n",
       "      <td>2</td>\n",
       "    </tr>\n",
       "    <tr>\n",
       "      <th>5</th>\n",
       "      <td>5</td>\n",
       "      <td>점심시간</td>\n",
       "      <td>교실</td>\n",
       "      <td>물리적힘 노출</td>\n",
       "      <td>건물</td>\n",
       "      <td>보행/주행</td>\n",
       "      <td>1</td>\n",
       "    </tr>\n",
       "    <tr>\n",
       "      <th>6</th>\n",
       "      <td>6</td>\n",
       "      <td>휴식시간 및 청소시간</td>\n",
       "      <td>운동장</td>\n",
       "      <td>물리적힘 노출</td>\n",
       "      <td>가구</td>\n",
       "      <td>장난/놀이</td>\n",
       "      <td>0</td>\n",
       "    </tr>\n",
       "    <tr>\n",
       "      <th>7</th>\n",
       "      <td>7</td>\n",
       "      <td>체육수업</td>\n",
       "      <td>운동장</td>\n",
       "      <td>미끄러짐</td>\n",
       "      <td>운동/놀이</td>\n",
       "      <td>구기운동</td>\n",
       "      <td>0</td>\n",
       "    </tr>\n",
       "    <tr>\n",
       "      <th>8</th>\n",
       "      <td>8</td>\n",
       "      <td>휴식시간 및 청소시간</td>\n",
       "      <td>부속시설</td>\n",
       "      <td>물리적힘 노출</td>\n",
       "      <td>운동/놀이</td>\n",
       "      <td>구기운동</td>\n",
       "      <td>0</td>\n",
       "    </tr>\n",
       "    <tr>\n",
       "      <th>9</th>\n",
       "      <td>9</td>\n",
       "      <td>특별활동</td>\n",
       "      <td>부속시설</td>\n",
       "      <td>미끄러짐</td>\n",
       "      <td>건물</td>\n",
       "      <td>보행/주행</td>\n",
       "      <td>2</td>\n",
       "    </tr>\n",
       "  </tbody>\n",
       "</table>\n",
       "</div>"
      ],
      "text/plain": [
       "   Unnamed: 0         사고시간  사고장소     사고형태  사고매개물 사고당시활동  클러스터\n",
       "0           0         특별활동    교실       기타     기타   실험실습     3\n",
       "1           1         체육수업   운동장      넘어짐  운동/놀이   구기운동     0\n",
       "2           2         학교행사  교외활동      넘어짐     기타   기타운동     3\n",
       "3           3         체육수업  부속시설  물리적힘 노출  운동/놀이   구기운동     0\n",
       "4           4         학교행사   운동장     미끄러짐     건물  장난/놀이     2\n",
       "5           5         점심시간    교실  물리적힘 노출     건물  보행/주행     1\n",
       "6           6  휴식시간 및 청소시간   운동장  물리적힘 노출     가구  장난/놀이     0\n",
       "7           7         체육수업   운동장     미끄러짐  운동/놀이   구기운동     0\n",
       "8           8  휴식시간 및 청소시간  부속시설  물리적힘 노출  운동/놀이   구기운동     0\n",
       "9           9         특별활동  부속시설     미끄러짐     건물  보행/주행     2"
      ]
     },
     "execution_count": 14,
     "metadata": {},
     "output_type": "execute_result"
    }
   ],
   "source": [
    "data_km.head(10)"
   ]
  },
  {
   "cell_type": "code",
   "execution_count": 15,
   "id": "1e79e490",
   "metadata": {},
   "outputs": [
    {
     "data": {
      "text/html": [
       "<div>\n",
       "<style scoped>\n",
       "    .dataframe tbody tr th:only-of-type {\n",
       "        vertical-align: middle;\n",
       "    }\n",
       "\n",
       "    .dataframe tbody tr th {\n",
       "        vertical-align: top;\n",
       "    }\n",
       "\n",
       "    .dataframe thead th {\n",
       "        text-align: right;\n",
       "    }\n",
       "</style>\n",
       "<table border=\"1\" class=\"dataframe\">\n",
       "  <thead>\n",
       "    <tr style=\"text-align: right;\">\n",
       "      <th></th>\n",
       "      <th>Unnamed: 0</th>\n",
       "      <th>사고시간</th>\n",
       "      <th>사고장소</th>\n",
       "      <th>사고형태</th>\n",
       "      <th>사고매개물</th>\n",
       "      <th>사고당시활동</th>\n",
       "      <th>클러스터</th>\n",
       "    </tr>\n",
       "  </thead>\n",
       "  <tbody>\n",
       "    <tr>\n",
       "      <th>0</th>\n",
       "      <td>0</td>\n",
       "      <td>0</td>\n",
       "      <td>0</td>\n",
       "      <td>0</td>\n",
       "      <td>0</td>\n",
       "      <td>0</td>\n",
       "      <td>3</td>\n",
       "    </tr>\n",
       "    <tr>\n",
       "      <th>1</th>\n",
       "      <td>1</td>\n",
       "      <td>1</td>\n",
       "      <td>1</td>\n",
       "      <td>1</td>\n",
       "      <td>1</td>\n",
       "      <td>1</td>\n",
       "      <td>0</td>\n",
       "    </tr>\n",
       "    <tr>\n",
       "      <th>2</th>\n",
       "      <td>2</td>\n",
       "      <td>2</td>\n",
       "      <td>2</td>\n",
       "      <td>1</td>\n",
       "      <td>0</td>\n",
       "      <td>2</td>\n",
       "      <td>3</td>\n",
       "    </tr>\n",
       "    <tr>\n",
       "      <th>3</th>\n",
       "      <td>3</td>\n",
       "      <td>1</td>\n",
       "      <td>3</td>\n",
       "      <td>2</td>\n",
       "      <td>1</td>\n",
       "      <td>1</td>\n",
       "      <td>0</td>\n",
       "    </tr>\n",
       "    <tr>\n",
       "      <th>4</th>\n",
       "      <td>4</td>\n",
       "      <td>2</td>\n",
       "      <td>1</td>\n",
       "      <td>3</td>\n",
       "      <td>2</td>\n",
       "      <td>3</td>\n",
       "      <td>2</td>\n",
       "    </tr>\n",
       "  </tbody>\n",
       "</table>\n",
       "</div>"
      ],
      "text/plain": [
       "   Unnamed: 0  사고시간  사고장소  사고형태  사고매개물  사고당시활동  클러스터\n",
       "0           0     0     0     0      0       0     3\n",
       "1           1     1     1     1      1       1     0\n",
       "2           2     2     2     1      0       2     3\n",
       "3           3     1     3     2      1       1     0\n",
       "4           4     2     1     3      2       3     2"
      ]
     },
     "execution_count": 15,
     "metadata": {},
     "output_type": "execute_result"
    }
   ],
   "source": [
    "data_kmn.head()"
   ]
  },
  {
   "cell_type": "code",
   "execution_count": null,
   "id": "98b81814",
   "metadata": {},
   "outputs": [],
   "source": []
  },
  {
   "cell_type": "code",
   "execution_count": 16,
   "id": "cfde576a",
   "metadata": {},
   "outputs": [],
   "source": [
    "\n",
    "#아닐 수도 \n",
    "#head() 결과 보고 결정하기\n",
    "\n",
    "data_km.drop('Unnamed: 0',axis=1,inplace=True)\n",
    "data_kmn.drop('Unnamed: 0',axis=1,inplace=True)"
   ]
  },
  {
   "cell_type": "code",
   "execution_count": 17,
   "id": "929b6484",
   "metadata": {},
   "outputs": [
    {
     "data": {
      "text/html": [
       "<div>\n",
       "<style scoped>\n",
       "    .dataframe tbody tr th:only-of-type {\n",
       "        vertical-align: middle;\n",
       "    }\n",
       "\n",
       "    .dataframe tbody tr th {\n",
       "        vertical-align: top;\n",
       "    }\n",
       "\n",
       "    .dataframe thead th {\n",
       "        text-align: right;\n",
       "    }\n",
       "</style>\n",
       "<table border=\"1\" class=\"dataframe\">\n",
       "  <thead>\n",
       "    <tr style=\"text-align: right;\">\n",
       "      <th></th>\n",
       "      <th>사고시간</th>\n",
       "      <th>사고장소</th>\n",
       "      <th>사고형태</th>\n",
       "      <th>사고매개물</th>\n",
       "      <th>사고당시활동</th>\n",
       "      <th>클러스터</th>\n",
       "    </tr>\n",
       "  </thead>\n",
       "  <tbody>\n",
       "    <tr>\n",
       "      <th>0</th>\n",
       "      <td>특별활동</td>\n",
       "      <td>교실</td>\n",
       "      <td>기타</td>\n",
       "      <td>기타</td>\n",
       "      <td>실험실습</td>\n",
       "      <td>3</td>\n",
       "    </tr>\n",
       "    <tr>\n",
       "      <th>1</th>\n",
       "      <td>체육수업</td>\n",
       "      <td>운동장</td>\n",
       "      <td>넘어짐</td>\n",
       "      <td>운동/놀이</td>\n",
       "      <td>구기운동</td>\n",
       "      <td>0</td>\n",
       "    </tr>\n",
       "    <tr>\n",
       "      <th>2</th>\n",
       "      <td>학교행사</td>\n",
       "      <td>교외활동</td>\n",
       "      <td>넘어짐</td>\n",
       "      <td>기타</td>\n",
       "      <td>기타운동</td>\n",
       "      <td>3</td>\n",
       "    </tr>\n",
       "    <tr>\n",
       "      <th>3</th>\n",
       "      <td>체육수업</td>\n",
       "      <td>부속시설</td>\n",
       "      <td>물리적힘 노출</td>\n",
       "      <td>운동/놀이</td>\n",
       "      <td>구기운동</td>\n",
       "      <td>0</td>\n",
       "    </tr>\n",
       "    <tr>\n",
       "      <th>4</th>\n",
       "      <td>학교행사</td>\n",
       "      <td>운동장</td>\n",
       "      <td>미끄러짐</td>\n",
       "      <td>건물</td>\n",
       "      <td>장난/놀이</td>\n",
       "      <td>2</td>\n",
       "    </tr>\n",
       "  </tbody>\n",
       "</table>\n",
       "</div>"
      ],
      "text/plain": [
       "   사고시간  사고장소     사고형태  사고매개물 사고당시활동  클러스터\n",
       "0  특별활동    교실       기타     기타   실험실습     3\n",
       "1  체육수업   운동장      넘어짐  운동/놀이   구기운동     0\n",
       "2  학교행사  교외활동      넘어짐     기타   기타운동     3\n",
       "3  체육수업  부속시설  물리적힘 노출  운동/놀이   구기운동     0\n",
       "4  학교행사   운동장     미끄러짐     건물  장난/놀이     2"
      ]
     },
     "execution_count": 17,
     "metadata": {},
     "output_type": "execute_result"
    }
   ],
   "source": [
    "data_km.head()"
   ]
  },
  {
   "cell_type": "code",
   "execution_count": 18,
   "id": "b55885cf",
   "metadata": {},
   "outputs": [
    {
     "data": {
      "text/html": [
       "<div>\n",
       "<style scoped>\n",
       "    .dataframe tbody tr th:only-of-type {\n",
       "        vertical-align: middle;\n",
       "    }\n",
       "\n",
       "    .dataframe tbody tr th {\n",
       "        vertical-align: top;\n",
       "    }\n",
       "\n",
       "    .dataframe thead th {\n",
       "        text-align: right;\n",
       "    }\n",
       "</style>\n",
       "<table border=\"1\" class=\"dataframe\">\n",
       "  <thead>\n",
       "    <tr style=\"text-align: right;\">\n",
       "      <th></th>\n",
       "      <th>사고시간</th>\n",
       "      <th>사고장소</th>\n",
       "      <th>사고형태</th>\n",
       "      <th>사고매개물</th>\n",
       "      <th>사고당시활동</th>\n",
       "      <th>클러스터</th>\n",
       "    </tr>\n",
       "  </thead>\n",
       "  <tbody>\n",
       "    <tr>\n",
       "      <th>0</th>\n",
       "      <td>0</td>\n",
       "      <td>0</td>\n",
       "      <td>0</td>\n",
       "      <td>0</td>\n",
       "      <td>0</td>\n",
       "      <td>3</td>\n",
       "    </tr>\n",
       "    <tr>\n",
       "      <th>1</th>\n",
       "      <td>1</td>\n",
       "      <td>1</td>\n",
       "      <td>1</td>\n",
       "      <td>1</td>\n",
       "      <td>1</td>\n",
       "      <td>0</td>\n",
       "    </tr>\n",
       "    <tr>\n",
       "      <th>2</th>\n",
       "      <td>2</td>\n",
       "      <td>2</td>\n",
       "      <td>1</td>\n",
       "      <td>0</td>\n",
       "      <td>2</td>\n",
       "      <td>3</td>\n",
       "    </tr>\n",
       "    <tr>\n",
       "      <th>3</th>\n",
       "      <td>1</td>\n",
       "      <td>3</td>\n",
       "      <td>2</td>\n",
       "      <td>1</td>\n",
       "      <td>1</td>\n",
       "      <td>0</td>\n",
       "    </tr>\n",
       "    <tr>\n",
       "      <th>4</th>\n",
       "      <td>2</td>\n",
       "      <td>1</td>\n",
       "      <td>3</td>\n",
       "      <td>2</td>\n",
       "      <td>3</td>\n",
       "      <td>2</td>\n",
       "    </tr>\n",
       "  </tbody>\n",
       "</table>\n",
       "</div>"
      ],
      "text/plain": [
       "   사고시간  사고장소  사고형태  사고매개물  사고당시활동  클러스터\n",
       "0     0     0     0      0       0     3\n",
       "1     1     1     1      1       1     0\n",
       "2     2     2     1      0       2     3\n",
       "3     1     3     2      1       1     0\n",
       "4     2     1     3      2       3     2"
      ]
     },
     "execution_count": 18,
     "metadata": {},
     "output_type": "execute_result"
    }
   ],
   "source": [
    "data_kmn.head()"
   ]
  },
  {
   "cell_type": "code",
   "execution_count": 43,
   "id": "ed1a216a",
   "metadata": {},
   "outputs": [],
   "source": [
    "from sklearn.decomposition import PCA\n",
    "pca = PCA(n_components=2)\n",
    "\n",
    "data_pca = pca.fit_transform(data_kmn[['사고시간','사고장소','사고형태','사고매개물','사고당시활동']])"
   ]
  },
  {
   "cell_type": "code",
   "execution_count": 44,
   "id": "78f0e331",
   "metadata": {},
   "outputs": [
    {
     "data": {
      "text/plain": [
       "(257751, 2)"
      ]
     },
     "execution_count": 44,
     "metadata": {},
     "output_type": "execute_result"
    }
   ],
   "source": [
    "data_pca.shape"
   ]
  },
  {
   "cell_type": "code",
   "execution_count": 51,
   "id": "36578098",
   "metadata": {},
   "outputs": [
    {
     "name": "stdout",
     "output_type": "stream",
     "text": [
      "Init: initializing centroids\n",
      "Init: initializing clusters\n",
      "Starting iterations...\n",
      "Run 1, iteration: 1/100, moves: 75647, cost: 558760.0\n",
      "Run 1, iteration: 2/100, moves: 16290, cost: 554920.0\n",
      "Run 1, iteration: 3/100, moves: 916, cost: 554920.0\n",
      "Init: initializing centroids\n",
      "Init: initializing clusters\n",
      "Starting iterations...\n",
      "Run 2, iteration: 1/100, moves: 65290, cost: 546197.0\n",
      "Init: initializing centroids\n",
      "Init: initializing clusters\n",
      "Starting iterations...\n",
      "Run 3, iteration: 1/100, moves: 53420, cost: 496319.0\n",
      "Run 3, iteration: 2/100, moves: 7061, cost: 496319.0\n",
      "Init: initializing centroids\n",
      "Init: initializing clusters\n",
      "Starting iterations...\n",
      "Run 4, iteration: 1/100, moves: 40181, cost: 618781.0\n",
      "Run 4, iteration: 2/100, moves: 24753, cost: 610044.0\n",
      "Run 4, iteration: 3/100, moves: 25204, cost: 596185.0\n",
      "Run 4, iteration: 4/100, moves: 110, cost: 596185.0\n",
      "Init: initializing centroids\n",
      "Init: initializing clusters\n",
      "Starting iterations...\n",
      "Run 5, iteration: 1/100, moves: 57874, cost: 550899.0\n",
      "Run 5, iteration: 2/100, moves: 36981, cost: 531977.0\n",
      "Run 5, iteration: 3/100, moves: 19795, cost: 522626.0\n",
      "Run 5, iteration: 4/100, moves: 11045, cost: 505390.0\n",
      "Run 5, iteration: 5/100, moves: 13560, cost: 505390.0\n",
      "Init: initializing centroids\n",
      "Init: initializing clusters\n",
      "Starting iterations...\n",
      "Run 6, iteration: 1/100, moves: 91622, cost: 545610.0\n",
      "Run 6, iteration: 2/100, moves: 17343, cost: 545610.0\n",
      "Init: initializing centroids\n",
      "Init: initializing clusters\n",
      "Starting iterations...\n",
      "Run 7, iteration: 1/100, moves: 61038, cost: 566137.0\n",
      "Run 7, iteration: 2/100, moves: 25896, cost: 554055.0\n",
      "Run 7, iteration: 3/100, moves: 5552, cost: 554055.0\n",
      "Init: initializing centroids\n",
      "Init: initializing clusters\n",
      "Starting iterations...\n",
      "Run 8, iteration: 1/100, moves: 52369, cost: 548296.0\n",
      "Init: initializing centroids\n",
      "Init: initializing clusters\n",
      "Starting iterations...\n",
      "Run 9, iteration: 1/100, moves: 52153, cost: 546543.0\n",
      "Run 9, iteration: 2/100, moves: 3895, cost: 546543.0\n",
      "Init: initializing centroids\n",
      "Init: initializing clusters\n",
      "Starting iterations...\n",
      "Run 10, iteration: 1/100, moves: 33228, cost: 534494.0\n",
      "Best run was number 3\n"
     ]
    }
   ],
   "source": [
    "from kmodes.kmodes import KModes\n",
    "n_clusters = 4  # 클러스터 개수를 설정한다\n",
    "km = KModes(n_clusters=n_clusters, init='Huang', n_init=10, verbose=1)\n",
    "\n",
    "# 클러스터링을 수행한다\n",
    "clusters = km.fit_predict(data_kmn[['사고시간','사고장소','사고형태','사고매개물','사고당시활동']])"
   ]
  },
  {
   "cell_type": "code",
   "execution_count": 52,
   "id": "532045fa",
   "metadata": {},
   "outputs": [
    {
     "data": {
      "text/plain": [
       "<matplotlib.collections.PathCollection at 0x1cd860f3160>"
      ]
     },
     "execution_count": 52,
     "metadata": {},
     "output_type": "execute_result"
    },
    {
     "name": "stderr",
     "output_type": "stream",
     "text": [
      "C:\\Users\\MYCOM\\anaconda3\\lib\\site-packages\\IPython\\core\\pylabtools.py:151: UserWarning: Glyph 8722 (\\N{MINUS SIGN}) missing from current font.\n",
      "  fig.canvas.print_figure(bytes_io, **kw)\n"
     ]
    },
    {
     "data": {
      "image/png": "[encoded data removed]",
      "text/plain": [
       "<Figure size 640x480 with 1 Axes>"
      ]
     },
     "metadata": {},
     "output_type": "display_data"
    }
   ],
   "source": [
    "plt.scatter(data_pca[:,0],data_pca[:,1])"
   ]
  },
  {
   "cell_type": "code",
   "execution_count": 53,
   "id": "31084aa8",
   "metadata": {},
   "outputs": [
    {
     "data": {
      "image/png": "[encoded data removed]",
      "text/plain": [
       "<Figure size 800x600 with 1 Axes>"
      ]
     },
     "metadata": {},
     "output_type": "display_data"
    }
   ],
   "source": [
    "import matplotlib.pyplot as plt\n",
    "plt.figure(figsize=(8, 6))\n",
    "n_clusters=4\n",
    "for cluster_num in range(n_clusters):\n",
    "    plt.scatter(data_pca[clusters == cluster_num, 0], data_pca[clusters== cluster_num, 1], label=f'Cluster {cluster_num + 1}')\n",
    "\n",
    "plt.title('K-Modes Clustering with PCA Visualization')\n",
    "plt.xlabel('Principal Component 1')\n",
    "plt.ylabel('Principal Component 2')\n",
    "plt.legend()\n",
    "plt.show()"
   ]
  },
  {
   "cell_type": "code",
   "execution_count": null,
   "id": "e2ccdad2",
   "metadata": {},
   "outputs": [],
   "source": []
  },
  {
   "cell_type": "code",
   "execution_count": null,
   "id": "2e368e47",
   "metadata": {},
   "outputs": [],
   "source": []
  },
  {
   "cell_type": "code",
   "execution_count": 10,
   "id": "5b453f67",
   "metadata": {},
   "outputs": [
    {
     "data": {
      "text/plain": [
       "0         True\n",
       "1         True\n",
       "2         True\n",
       "3         True\n",
       "4         True\n",
       "          ... \n",
       "257746    True\n",
       "257747    True\n",
       "257748    True\n",
       "257749    True\n",
       "257750    True\n",
       "Name: 클러스터, Length: 257751, dtype: bool"
      ]
     },
     "execution_count": 10,
     "metadata": {},
     "output_type": "execute_result"
    }
   ],
   "source": [
    "data_kmn['클러스터']==data_km['클러스터']"
   ]
  },
  {
   "cell_type": "code",
   "execution_count": 9,
   "id": "170f1535",
   "metadata": {},
   "outputs": [
    {
     "data": {
      "text/plain": [
       "0.011310121050318936"
      ]
     },
     "execution_count": 9,
     "metadata": {},
     "output_type": "execute_result"
    }
   ],
   "source": [
    "from sklearn.metrics import silhouette_score\n",
    "silhouette_score(data_kmn[['사고시간','사고장소','사고형태','사고매개물','사고당시활동']], data_km['클러스터'])"
   ]
  },
  {
   "cell_type": "code",
   "execution_count": 59,
   "id": "a0446d98",
   "metadata": {},
   "outputs": [],
   "source": [
    "import numpy as np\n",
    "import matplotlib.pyplot as plt\n",
    "import seaborn as sns\n",
    "from sklearn.metrics import silhouette_samples, silhouette_score\n",
    "\n",
    "def plot_silhouette(X, clusters):\n",
    "    silhouette_vals = silhouette_samples(X, clusters)\n",
    "    \n",
    "    fig, ax = plt.subplots(1, 1)\n",
    "    y_lower = 10\n",
    "    \n",
    "    for i in range(max(clusters)+1):\n",
    "        cluster_i = silhouette_vals[clusters == i]\n",
    "        cluster_i.sort()\n",
    "        y_upper = y_lower + cluster_i.shape[0]\n",
    "        \n",
    "        color = sns.color_palette('Set2')[i]\n",
    "        ax.fill_betweenx(np.arange(y_lower, y_upper), 0, cluster_i, facecolor=color, alpha=0.7)\n",
    "        ax.text(-0.05, y_lower + 0.5 * cluster_i.shape[0], str(i))\n",
    "        y_lower = y_upper + 10\n",
    "    \n",
    "    ax.set_yticks([])\n",
    "    ax.set_xlim([-0.1, 1])\n",
    "    ax.set_xlabel(\"Silhouette Coefficient Values\")\n",
    "    ax.set_ylabel(\"Cluster label\")\n",
    "    \n",
    "    # 수정된 부분: silhouette_avg 계산\n",
    "    silhouette_avg = silhouette_score(X, clusters)\n",
    "    ax.axvline(x=silhouette_avg, color=\"red\", linestyle=\"--\")\n",
    "    ax.set_title(\"Silhouette plot for the various clusters\")\n",
    "    \n",
    "    plt.show()\n"
   ]
  },
  {
   "cell_type": "code",
   "execution_count": 60,
   "id": "6ee7dc75",
   "metadata": {},
   "outputs": [
    {
     "data": {
      "image/png": "[encoded data removed]",
      "text/plain": [
       "<Figure size 640x480 with 1 Axes>"
      ]
     },
     "metadata": {},
     "output_type": "display_data"
    }
   ],
   "source": [
    "plot_silhouette(data_kmn[['사고시간','사고장소','사고형태','사고매개물','사고당시활동']], data_km['클러스터'])"
   ]
  },
  {
   "cell_type": "code",
   "execution_count": 24,
   "id": "779ad79c",
   "metadata": {},
   "outputs": [
    {
     "data": {
      "text/plain": [
       "구기운동        88183\n",
       "기타          19357\n",
       "장난/놀이       11154\n",
       "기타운동         8353\n",
       "실험실습         4170\n",
       "공부           3143\n",
       "식사/수면/휴식     2932\n",
       "보행/주행        1924\n",
       "Name: 사고당시활동, dtype: int64"
      ]
     },
     "execution_count": 24,
     "metadata": {},
     "output_type": "execute_result"
    }
   ],
   "source": [
    "data_km[data_kmn['클러스터']==0]['사고당시활동'].value_counts()"
   ]
  },
  {
   "cell_type": "code",
   "execution_count": 25,
   "id": "e6c4ee7e",
   "metadata": {},
   "outputs": [
    {
     "data": {
      "text/plain": [
       "보행/주행       5056\n",
       "기타          2302\n",
       "장난/놀이       1208\n",
       "기타운동        1098\n",
       "구기운동         830\n",
       "식사/수면/휴식     780\n",
       "공부           293\n",
       "실험실습         129\n",
       "Name: 사고당시활동, dtype: int64"
      ]
     },
     "execution_count": 25,
     "metadata": {},
     "output_type": "execute_result"
    }
   ],
   "source": [
    "data_km[data_kmn['클러스터']==4]['사고당시활동'].value_counts()"
   ]
  },
  {
   "cell_type": "code",
   "execution_count": 26,
   "id": "e46532e7",
   "metadata": {},
   "outputs": [
    {
     "data": {
      "text/html": [
       "<div>\n",
       "<style scoped>\n",
       "    .dataframe tbody tr th:only-of-type {\n",
       "        vertical-align: middle;\n",
       "    }\n",
       "\n",
       "    .dataframe tbody tr th {\n",
       "        vertical-align: top;\n",
       "    }\n",
       "\n",
       "    .dataframe thead th {\n",
       "        text-align: right;\n",
       "    }\n",
       "</style>\n",
       "<table border=\"1\" class=\"dataframe\">\n",
       "  <thead>\n",
       "    <tr style=\"text-align: right;\">\n",
       "      <th></th>\n",
       "      <th>사고시간</th>\n",
       "      <th>사고장소</th>\n",
       "      <th>사고형태</th>\n",
       "      <th>사고매개물</th>\n",
       "      <th>사고당시활동</th>\n",
       "    </tr>\n",
       "  </thead>\n",
       "  <tbody>\n",
       "    <tr>\n",
       "      <th>13</th>\n",
       "      <td>휴식시간 및 청소시간</td>\n",
       "      <td>교실</td>\n",
       "      <td>사람과의 충돌</td>\n",
       "      <td>자연</td>\n",
       "      <td>장난/놀이</td>\n",
       "    </tr>\n",
       "    <tr>\n",
       "      <th>32</th>\n",
       "      <td>휴식시간 및 청소시간</td>\n",
       "      <td>통로</td>\n",
       "      <td>넘어짐</td>\n",
       "      <td>건물</td>\n",
       "      <td>장난/놀이</td>\n",
       "    </tr>\n",
       "    <tr>\n",
       "      <th>33</th>\n",
       "      <td>점심시간</td>\n",
       "      <td>통로</td>\n",
       "      <td>물리적힘 노출</td>\n",
       "      <td>건물</td>\n",
       "      <td>보행/주행</td>\n",
       "    </tr>\n",
       "    <tr>\n",
       "      <th>34</th>\n",
       "      <td>휴식시간 및 청소시간</td>\n",
       "      <td>통로</td>\n",
       "      <td>넘어짐</td>\n",
       "      <td>건물</td>\n",
       "      <td>보행/주행</td>\n",
       "    </tr>\n",
       "    <tr>\n",
       "      <th>35</th>\n",
       "      <td>등하교</td>\n",
       "      <td>운동장</td>\n",
       "      <td>넘어짐</td>\n",
       "      <td>기타</td>\n",
       "      <td>보행/주행</td>\n",
       "    </tr>\n",
       "    <tr>\n",
       "      <th>...</th>\n",
       "      <td>...</td>\n",
       "      <td>...</td>\n",
       "      <td>...</td>\n",
       "      <td>...</td>\n",
       "      <td>...</td>\n",
       "    </tr>\n",
       "    <tr>\n",
       "      <th>284409</th>\n",
       "      <td>점심시간</td>\n",
       "      <td>운동장</td>\n",
       "      <td>넘어짐</td>\n",
       "      <td>자연</td>\n",
       "      <td>장난/놀이</td>\n",
       "    </tr>\n",
       "    <tr>\n",
       "      <th>284412</th>\n",
       "      <td>점심시간</td>\n",
       "      <td>통로</td>\n",
       "      <td>미끄러짐</td>\n",
       "      <td>건물</td>\n",
       "      <td>보행/주행</td>\n",
       "    </tr>\n",
       "    <tr>\n",
       "      <th>284417</th>\n",
       "      <td>점심시간</td>\n",
       "      <td>통로</td>\n",
       "      <td>물리적힘 노출</td>\n",
       "      <td>건물</td>\n",
       "      <td>장난/놀이</td>\n",
       "    </tr>\n",
       "    <tr>\n",
       "      <th>284418</th>\n",
       "      <td>점심시간</td>\n",
       "      <td>통로</td>\n",
       "      <td>넘어짐</td>\n",
       "      <td>자연</td>\n",
       "      <td>장난/놀이</td>\n",
       "    </tr>\n",
       "    <tr>\n",
       "      <th>284423</th>\n",
       "      <td>점심시간</td>\n",
       "      <td>운동장</td>\n",
       "      <td>미끄러짐</td>\n",
       "      <td>건물</td>\n",
       "      <td>보행/주행</td>\n",
       "    </tr>\n",
       "  </tbody>\n",
       "</table>\n",
       "<p>54037 rows × 5 columns</p>\n",
       "</div>"
      ],
      "text/plain": [
       "               사고시간 사고장소     사고형태 사고매개물 사고당시활동\n",
       "13      휴식시간 및 청소시간   교실  사람과의 충돌    자연  장난/놀이\n",
       "32      휴식시간 및 청소시간   통로      넘어짐    건물  장난/놀이\n",
       "33             점심시간   통로  물리적힘 노출    건물  보행/주행\n",
       "34      휴식시간 및 청소시간   통로      넘어짐    건물  보행/주행\n",
       "35              등하교  운동장      넘어짐    기타  보행/주행\n",
       "...             ...  ...      ...   ...    ...\n",
       "284409         점심시간  운동장      넘어짐    자연  장난/놀이\n",
       "284412         점심시간   통로     미끄러짐    건물  보행/주행\n",
       "284417         점심시간   통로  물리적힘 노출    건물  장난/놀이\n",
       "284418         점심시간   통로      넘어짐    자연  장난/놀이\n",
       "284423         점심시간  운동장     미끄러짐    건물  보행/주행\n",
       "\n",
       "[54037 rows x 5 columns]"
      ]
     },
     "execution_count": 26,
     "metadata": {},
     "output_type": "execute_result"
    }
   ],
   "source": [
    "data_km[data_kmn['클러스터']==1]"
   ]
  },
  {
   "cell_type": "code",
   "execution_count": 27,
   "id": "3424a613",
   "metadata": {},
   "outputs": [
    {
     "data": {
      "text/plain": [
       "점심시간           22879\n",
       "휴식시간 및 청소시간    12273\n",
       "등하교             9070\n",
       "수업시간            4614\n",
       "학교행사            2025\n",
       "기타              1226\n",
       "특별활동            1109\n",
       "체육수업             474\n",
       "석식시간             240\n",
       "기숙사생활            127\n",
       "Name: 사고시간, dtype: int64"
      ]
     },
     "execution_count": 27,
     "metadata": {},
     "output_type": "execute_result"
    }
   ],
   "source": [
    "data_km[data_kmn['클러스터']==1]['사고시간'].value_counts()"
   ]
  },
  {
   "cell_type": "code",
   "execution_count": 28,
   "id": "ad4d22ab",
   "metadata": {},
   "outputs": [
    {
     "data": {
      "text/html": [
       "<div>\n",
       "<style scoped>\n",
       "    .dataframe tbody tr th:only-of-type {\n",
       "        vertical-align: middle;\n",
       "    }\n",
       "\n",
       "    .dataframe tbody tr th {\n",
       "        vertical-align: top;\n",
       "    }\n",
       "\n",
       "    .dataframe thead th {\n",
       "        text-align: right;\n",
       "    }\n",
       "</style>\n",
       "<table border=\"1\" class=\"dataframe\">\n",
       "  <thead>\n",
       "    <tr style=\"text-align: right;\">\n",
       "      <th></th>\n",
       "      <th>사고시간</th>\n",
       "      <th>사고장소</th>\n",
       "      <th>사고형태</th>\n",
       "      <th>사고매개물</th>\n",
       "      <th>사고당시활동</th>\n",
       "    </tr>\n",
       "  </thead>\n",
       "  <tbody>\n",
       "    <tr>\n",
       "      <th>4</th>\n",
       "      <td>학교행사</td>\n",
       "      <td>운동장</td>\n",
       "      <td>미끄러짐</td>\n",
       "      <td>건물</td>\n",
       "      <td>장난/놀이</td>\n",
       "    </tr>\n",
       "    <tr>\n",
       "      <th>9</th>\n",
       "      <td>특별활동</td>\n",
       "      <td>부속시설</td>\n",
       "      <td>미끄러짐</td>\n",
       "      <td>건물</td>\n",
       "      <td>보행/주행</td>\n",
       "    </tr>\n",
       "    <tr>\n",
       "      <th>10</th>\n",
       "      <td>휴식시간 및 청소시간</td>\n",
       "      <td>교실</td>\n",
       "      <td>물리적힘 노출</td>\n",
       "      <td>건물</td>\n",
       "      <td>장난/놀이</td>\n",
       "    </tr>\n",
       "    <tr>\n",
       "      <th>25</th>\n",
       "      <td>학교행사</td>\n",
       "      <td>부속시설</td>\n",
       "      <td>넘어짐</td>\n",
       "      <td>건물</td>\n",
       "      <td>기타운동</td>\n",
       "    </tr>\n",
       "    <tr>\n",
       "      <th>27</th>\n",
       "      <td>수업시간</td>\n",
       "      <td>부속시설</td>\n",
       "      <td>미끄러짐</td>\n",
       "      <td>건물</td>\n",
       "      <td>보행/주행</td>\n",
       "    </tr>\n",
       "    <tr>\n",
       "      <th>...</th>\n",
       "      <td>...</td>\n",
       "      <td>...</td>\n",
       "      <td>...</td>\n",
       "      <td>...</td>\n",
       "      <td>...</td>\n",
       "    </tr>\n",
       "    <tr>\n",
       "      <th>284397</th>\n",
       "      <td>체육수업</td>\n",
       "      <td>부속시설</td>\n",
       "      <td>떨어짐</td>\n",
       "      <td>건물</td>\n",
       "      <td>구기운동</td>\n",
       "    </tr>\n",
       "    <tr>\n",
       "      <th>284402</th>\n",
       "      <td>휴식시간 및 청소시간</td>\n",
       "      <td>교실</td>\n",
       "      <td>물리적힘 노출</td>\n",
       "      <td>건물</td>\n",
       "      <td>장난/놀이</td>\n",
       "    </tr>\n",
       "    <tr>\n",
       "      <th>284419</th>\n",
       "      <td>휴식시간 및 청소시간</td>\n",
       "      <td>운동장</td>\n",
       "      <td>미끄러짐</td>\n",
       "      <td>자연</td>\n",
       "      <td>장난/놀이</td>\n",
       "    </tr>\n",
       "    <tr>\n",
       "      <th>284424</th>\n",
       "      <td>등하교</td>\n",
       "      <td>운동장</td>\n",
       "      <td>미끄러짐</td>\n",
       "      <td>건물</td>\n",
       "      <td>보행/주행</td>\n",
       "    </tr>\n",
       "    <tr>\n",
       "      <th>284425</th>\n",
       "      <td>점심시간</td>\n",
       "      <td>부속시설</td>\n",
       "      <td>미끄러짐</td>\n",
       "      <td>건물</td>\n",
       "      <td>보행/주행</td>\n",
       "    </tr>\n",
       "  </tbody>\n",
       "</table>\n",
       "<p>21300 rows × 5 columns</p>\n",
       "</div>"
      ],
      "text/plain": [
       "               사고시간  사고장소     사고형태 사고매개물 사고당시활동\n",
       "4              학교행사   운동장     미끄러짐    건물  장난/놀이\n",
       "9              특별활동  부속시설     미끄러짐    건물  보행/주행\n",
       "10      휴식시간 및 청소시간    교실  물리적힘 노출    건물  장난/놀이\n",
       "25             학교행사  부속시설      넘어짐    건물   기타운동\n",
       "27             수업시간  부속시설     미끄러짐    건물  보행/주행\n",
       "...             ...   ...      ...   ...    ...\n",
       "284397         체육수업  부속시설      떨어짐    건물   구기운동\n",
       "284402  휴식시간 및 청소시간    교실  물리적힘 노출    건물  장난/놀이\n",
       "284419  휴식시간 및 청소시간   운동장     미끄러짐    자연  장난/놀이\n",
       "284424          등하교   운동장     미끄러짐    건물  보행/주행\n",
       "284425         점심시간  부속시설     미끄러짐    건물  보행/주행\n",
       "\n",
       "[21300 rows x 5 columns]"
      ]
     },
     "execution_count": 28,
     "metadata": {},
     "output_type": "execute_result"
    }
   ],
   "source": [
    "data_km[data_kmn['클러스터']==2]"
   ]
  },
  {
   "cell_type": "markdown",
   "id": "2f8a9f10",
   "metadata": {},
   "source": [
    "# 클러스터 4개로"
   ]
  },
  {
   "cell_type": "code",
   "execution_count": 29,
   "id": "f240e531",
   "metadata": {},
   "outputs": [
    {
     "data": {
      "text/html": [
       "<div>\n",
       "<style scoped>\n",
       "    .dataframe tbody tr th:only-of-type {\n",
       "        vertical-align: middle;\n",
       "    }\n",
       "\n",
       "    .dataframe tbody tr th {\n",
       "        vertical-align: top;\n",
       "    }\n",
       "\n",
       "    .dataframe thead th {\n",
       "        text-align: right;\n",
       "    }\n",
       "</style>\n",
       "<table border=\"1\" class=\"dataframe\">\n",
       "  <thead>\n",
       "    <tr style=\"text-align: right;\">\n",
       "      <th></th>\n",
       "      <th>사고시간</th>\n",
       "      <th>사고장소</th>\n",
       "      <th>사고형태</th>\n",
       "      <th>사고매개물</th>\n",
       "      <th>사고당시활동</th>\n",
       "    </tr>\n",
       "  </thead>\n",
       "  <tbody>\n",
       "    <tr>\n",
       "      <th>0</th>\n",
       "      <td>0</td>\n",
       "      <td>0</td>\n",
       "      <td>0</td>\n",
       "      <td>0</td>\n",
       "      <td>0</td>\n",
       "    </tr>\n",
       "    <tr>\n",
       "      <th>1</th>\n",
       "      <td>1</td>\n",
       "      <td>1</td>\n",
       "      <td>1</td>\n",
       "      <td>1</td>\n",
       "      <td>1</td>\n",
       "    </tr>\n",
       "    <tr>\n",
       "      <th>2</th>\n",
       "      <td>2</td>\n",
       "      <td>2</td>\n",
       "      <td>1</td>\n",
       "      <td>0</td>\n",
       "      <td>2</td>\n",
       "    </tr>\n",
       "    <tr>\n",
       "      <th>3</th>\n",
       "      <td>1</td>\n",
       "      <td>3</td>\n",
       "      <td>2</td>\n",
       "      <td>1</td>\n",
       "      <td>1</td>\n",
       "    </tr>\n",
       "    <tr>\n",
       "      <th>4</th>\n",
       "      <td>2</td>\n",
       "      <td>1</td>\n",
       "      <td>3</td>\n",
       "      <td>2</td>\n",
       "      <td>3</td>\n",
       "    </tr>\n",
       "  </tbody>\n",
       "</table>\n",
       "</div>"
      ],
      "text/plain": [
       "   사고시간  사고장소  사고형태  사고매개물  사고당시활동\n",
       "0     0     0     0      0       0\n",
       "1     1     1     1      1       1\n",
       "2     2     2     1      0       2\n",
       "3     1     3     2      1       1\n",
       "4     2     1     3      2       3"
      ]
     },
     "execution_count": 29,
     "metadata": {},
     "output_type": "execute_result"
    }
   ],
   "source": [
    "data_kmn.drop('클러스터',axis=1,inplace=True)\n",
    "data_kmn.head()"
   ]
  },
  {
   "cell_type": "code",
   "execution_count": 30,
   "id": "aaceb590",
   "metadata": {},
   "outputs": [],
   "source": [
    "from kmodes.kmodes import KModes\n",
    "kmodes = KModes(n_clusters=4) ## 클래스 초기화\n",
    "kmodes.fit(data_kmn) ## 클러스터링 수행\n",
    "data_kmn['클러스터']=kmodes.predict(data_kmn)"
   ]
  },
  {
   "cell_type": "code",
   "execution_count": 31,
   "id": "0a5e74cf",
   "metadata": {},
   "outputs": [
    {
     "data": {
      "text/html": [
       "<div>\n",
       "<style scoped>\n",
       "    .dataframe tbody tr th:only-of-type {\n",
       "        vertical-align: middle;\n",
       "    }\n",
       "\n",
       "    .dataframe tbody tr th {\n",
       "        vertical-align: top;\n",
       "    }\n",
       "\n",
       "    .dataframe thead th {\n",
       "        text-align: right;\n",
       "    }\n",
       "</style>\n",
       "<table border=\"1\" class=\"dataframe\">\n",
       "  <thead>\n",
       "    <tr style=\"text-align: right;\">\n",
       "      <th></th>\n",
       "      <th>사고시간</th>\n",
       "      <th>사고장소</th>\n",
       "      <th>사고형태</th>\n",
       "      <th>사고매개물</th>\n",
       "      <th>사고당시활동</th>\n",
       "      <th>클러스터</th>\n",
       "    </tr>\n",
       "  </thead>\n",
       "  <tbody>\n",
       "    <tr>\n",
       "      <th>0</th>\n",
       "      <td>0</td>\n",
       "      <td>0</td>\n",
       "      <td>0</td>\n",
       "      <td>0</td>\n",
       "      <td>0</td>\n",
       "      <td>3</td>\n",
       "    </tr>\n",
       "    <tr>\n",
       "      <th>1</th>\n",
       "      <td>1</td>\n",
       "      <td>1</td>\n",
       "      <td>1</td>\n",
       "      <td>1</td>\n",
       "      <td>1</td>\n",
       "      <td>0</td>\n",
       "    </tr>\n",
       "    <tr>\n",
       "      <th>2</th>\n",
       "      <td>2</td>\n",
       "      <td>2</td>\n",
       "      <td>1</td>\n",
       "      <td>0</td>\n",
       "      <td>2</td>\n",
       "      <td>3</td>\n",
       "    </tr>\n",
       "    <tr>\n",
       "      <th>3</th>\n",
       "      <td>1</td>\n",
       "      <td>3</td>\n",
       "      <td>2</td>\n",
       "      <td>1</td>\n",
       "      <td>1</td>\n",
       "      <td>0</td>\n",
       "    </tr>\n",
       "    <tr>\n",
       "      <th>4</th>\n",
       "      <td>2</td>\n",
       "      <td>1</td>\n",
       "      <td>3</td>\n",
       "      <td>2</td>\n",
       "      <td>3</td>\n",
       "      <td>2</td>\n",
       "    </tr>\n",
       "  </tbody>\n",
       "</table>\n",
       "</div>"
      ],
      "text/plain": [
       "   사고시간  사고장소  사고형태  사고매개물  사고당시활동  클러스터\n",
       "0     0     0     0      0       0     3\n",
       "1     1     1     1      1       1     0\n",
       "2     2     2     1      0       2     3\n",
       "3     1     3     2      1       1     0\n",
       "4     2     1     3      2       3     2"
      ]
     },
     "execution_count": 31,
     "metadata": {},
     "output_type": "execute_result"
    }
   ],
   "source": [
    "data_kmn.head()"
   ]
  },
  {
   "cell_type": "code",
   "execution_count": 32,
   "id": "d0760743",
   "metadata": {},
   "outputs": [
    {
     "data": {
      "text/plain": [
       "0    146593\n",
       "1     51340\n",
       "3     34302\n",
       "2     25516\n",
       "Name: 클러스터, dtype: int64"
      ]
     },
     "execution_count": 32,
     "metadata": {},
     "output_type": "execute_result"
    }
   ],
   "source": [
    "data_kmn['클러스터'].value_counts()"
   ]
  },
  {
   "cell_type": "code",
   "execution_count": 33,
   "id": "aad33509",
   "metadata": {},
   "outputs": [
    {
     "ename": "PermissionError",
     "evalue": "[Errno 13] Permission denied: 'C:/Users/MYCOM/data/schoolattack_clustering.csv'",
     "output_type": "error",
     "traceback": [
      "\u001b[1;31m---------------------------------------------------------------------------\u001b[0m",
      "\u001b[1;31mPermissionError\u001b[0m                           Traceback (most recent call last)",
      "\u001b[1;32m~\\AppData\\Local\\Temp\\ipykernel_23260\\1093236258.py\u001b[0m in \u001b[0;36m<module>\u001b[1;34m\u001b[0m\n\u001b[1;32m----> 1\u001b[1;33m \u001b[0mdata_kmn\u001b[0m\u001b[1;33m.\u001b[0m\u001b[0mto_csv\u001b[0m\u001b[1;33m(\u001b[0m\u001b[1;34m\"C:/Users/MYCOM/data/schoolattack_clustering.csv\"\u001b[0m\u001b[1;33m)\u001b[0m\u001b[1;33m\u001b[0m\u001b[1;33m\u001b[0m\u001b[0m\n\u001b[0m",
      "\u001b[1;32m~\\anaconda3\\lib\\site-packages\\pandas\\core\\generic.py\u001b[0m in \u001b[0;36mto_csv\u001b[1;34m(self, path_or_buf, sep, na_rep, float_format, columns, header, index, index_label, mode, encoding, compression, quoting, quotechar, line_terminator, chunksize, date_format, doublequote, escapechar, decimal, errors, storage_options)\u001b[0m\n\u001b[0;32m   3549\u001b[0m         )\n\u001b[0;32m   3550\u001b[0m \u001b[1;33m\u001b[0m\u001b[0m\n\u001b[1;32m-> 3551\u001b[1;33m         return DataFrameRenderer(formatter).to_csv(\n\u001b[0m\u001b[0;32m   3552\u001b[0m             \u001b[0mpath_or_buf\u001b[0m\u001b[1;33m,\u001b[0m\u001b[1;33m\u001b[0m\u001b[1;33m\u001b[0m\u001b[0m\n\u001b[0;32m   3553\u001b[0m             \u001b[0mline_terminator\u001b[0m\u001b[1;33m=\u001b[0m\u001b[0mline_terminator\u001b[0m\u001b[1;33m,\u001b[0m\u001b[1;33m\u001b[0m\u001b[1;33m\u001b[0m\u001b[0m\n",
      "\u001b[1;32m~\\anaconda3\\lib\\site-packages\\pandas\\io\\formats\\format.py\u001b[0m in \u001b[0;36mto_csv\u001b[1;34m(self, path_or_buf, encoding, sep, columns, index_label, mode, compression, quoting, quotechar, line_terminator, chunksize, date_format, doublequote, escapechar, errors, storage_options)\u001b[0m\n\u001b[0;32m   1178\u001b[0m             \u001b[0mformatter\u001b[0m\u001b[1;33m=\u001b[0m\u001b[0mself\u001b[0m\u001b[1;33m.\u001b[0m\u001b[0mfmt\u001b[0m\u001b[1;33m,\u001b[0m\u001b[1;33m\u001b[0m\u001b[1;33m\u001b[0m\u001b[0m\n\u001b[0;32m   1179\u001b[0m         )\n\u001b[1;32m-> 1180\u001b[1;33m         \u001b[0mcsv_formatter\u001b[0m\u001b[1;33m.\u001b[0m\u001b[0msave\u001b[0m\u001b[1;33m(\u001b[0m\u001b[1;33m)\u001b[0m\u001b[1;33m\u001b[0m\u001b[1;33m\u001b[0m\u001b[0m\n\u001b[0m\u001b[0;32m   1181\u001b[0m \u001b[1;33m\u001b[0m\u001b[0m\n\u001b[0;32m   1182\u001b[0m         \u001b[1;32mif\u001b[0m \u001b[0mcreated_buffer\u001b[0m\u001b[1;33m:\u001b[0m\u001b[1;33m\u001b[0m\u001b[1;33m\u001b[0m\u001b[0m\n",
      "\u001b[1;32m~\\anaconda3\\lib\\site-packages\\pandas\\io\\formats\\csvs.py\u001b[0m in \u001b[0;36msave\u001b[1;34m(self)\u001b[0m\n\u001b[0;32m    239\u001b[0m         \"\"\"\n\u001b[0;32m    240\u001b[0m         \u001b[1;31m# apply compression and byte/text conversion\u001b[0m\u001b[1;33m\u001b[0m\u001b[1;33m\u001b[0m\u001b[0m\n\u001b[1;32m--> 241\u001b[1;33m         with get_handle(\n\u001b[0m\u001b[0;32m    242\u001b[0m             \u001b[0mself\u001b[0m\u001b[1;33m.\u001b[0m\u001b[0mfilepath_or_buffer\u001b[0m\u001b[1;33m,\u001b[0m\u001b[1;33m\u001b[0m\u001b[1;33m\u001b[0m\u001b[0m\n\u001b[0;32m    243\u001b[0m             \u001b[0mself\u001b[0m\u001b[1;33m.\u001b[0m\u001b[0mmode\u001b[0m\u001b[1;33m,\u001b[0m\u001b[1;33m\u001b[0m\u001b[1;33m\u001b[0m\u001b[0m\n",
      "\u001b[1;32m~\\anaconda3\\lib\\site-packages\\pandas\\io\\common.py\u001b[0m in \u001b[0;36mget_handle\u001b[1;34m(path_or_buf, mode, encoding, compression, memory_map, is_text, errors, storage_options)\u001b[0m\n\u001b[0;32m    784\u001b[0m         \u001b[1;32mif\u001b[0m \u001b[0mioargs\u001b[0m\u001b[1;33m.\u001b[0m\u001b[0mencoding\u001b[0m \u001b[1;32mand\u001b[0m \u001b[1;34m\"b\"\u001b[0m \u001b[1;32mnot\u001b[0m \u001b[1;32min\u001b[0m \u001b[0mioargs\u001b[0m\u001b[1;33m.\u001b[0m\u001b[0mmode\u001b[0m\u001b[1;33m:\u001b[0m\u001b[1;33m\u001b[0m\u001b[1;33m\u001b[0m\u001b[0m\n\u001b[0;32m    785\u001b[0m             \u001b[1;31m# Encoding\u001b[0m\u001b[1;33m\u001b[0m\u001b[1;33m\u001b[0m\u001b[0m\n\u001b[1;32m--> 786\u001b[1;33m             handle = open(\n\u001b[0m\u001b[0;32m    787\u001b[0m                 \u001b[0mhandle\u001b[0m\u001b[1;33m,\u001b[0m\u001b[1;33m\u001b[0m\u001b[1;33m\u001b[0m\u001b[0m\n\u001b[0;32m    788\u001b[0m                 \u001b[0mioargs\u001b[0m\u001b[1;33m.\u001b[0m\u001b[0mmode\u001b[0m\u001b[1;33m,\u001b[0m\u001b[1;33m\u001b[0m\u001b[1;33m\u001b[0m\u001b[0m\n",
      "\u001b[1;31mPermissionError\u001b[0m: [Errno 13] Permission denied: 'C:/Users/MYCOM/data/schoolattack_clustering.csv'"
     ]
    }
   ],
   "source": [
    "data_kmn.to_csv(\"C:/Users/MYCOM/data/schoolattack_clustering.csv\")"
   ]
  },
  {
   "cell_type": "code",
   "execution_count": null,
   "id": "0f9a750d",
   "metadata": {},
   "outputs": [],
   "source": [
    "data_kmn"
   ]
  },
  {
   "cell_type": "code",
   "execution_count": null,
   "id": "573ba05e",
   "metadata": {},
   "outputs": [],
   "source": [
    "data_kmn.info()"
   ]
  },
  {
   "cell_type": "code",
   "execution_count": null,
   "id": "1f7b546f",
   "metadata": {},
   "outputs": [],
   "source": [
    "data_kmn['클러스터']=data_kmn['클러스터'].astype('str')"
   ]
  },
  {
   "cell_type": "code",
   "execution_count": null,
   "id": "de291a11",
   "metadata": {},
   "outputs": [],
   "source": [
    "data_kmn.info()"
   ]
  },
  {
   "cell_type": "code",
   "execution_count": null,
   "id": "0aa66720",
   "metadata": {},
   "outputs": [],
   "source": [
    "data_kmn['사고시간']=data_kmn['사고시간'].astype('str')\n",
    "data_kmn['사고장소']=data_kmn['사고장소'].astype('str')\n",
    "data_kmn['사고매개물']=data_kmn['사고매개물'].astype('str')\n",
    "data_kmn['사고당시활동']=data_kmn['사고당시활동'].astype('str')"
   ]
  },
  {
   "cell_type": "code",
   "execution_count": null,
   "id": "9398579b",
   "metadata": {},
   "outputs": [],
   "source": [
    "data_kmn['사고형태']=data_kmn['사고형태'].astype('str')"
   ]
  },
  {
   "cell_type": "code",
   "execution_count": null,
   "id": "7acd12bb",
   "metadata": {},
   "outputs": [],
   "source": [
    "data_kmn.info()"
   ]
  },
  {
   "cell_type": "code",
   "execution_count": null,
   "id": "1dd400af",
   "metadata": {},
   "outputs": [],
   "source": [
    "sns.hist"
   ]
  },
  {
   "cell_type": "code",
   "execution_count": null,
   "id": "2a516d65",
   "metadata": {},
   "outputs": [],
   "source": [
    "all_features=data_kmn.columns\n",
    "import matplotlib.pyplot as plt\n",
    "import seaborn as sns\n",
    "for col in all_features:\n",
    "    plt.subplots(figsize = (15,5))\n",
    "    sns.countplot(x='클러스터',hue=col, data = data_kmn)\n",
    "    plt.show()"
   ]
  },
  {
   "cell_type": "code",
   "execution_count": null,
   "id": "e0f5f0d9",
   "metadata": {},
   "outputs": [],
   "source": [
    "data_km=pd.concat([data_km,data_kmn['클러스터']],axis=1)\n",
    "data_km"
   ]
  },
  {
   "cell_type": "code",
   "execution_count": null,
   "id": "472bc124",
   "metadata": {},
   "outputs": [],
   "source": [
    "data_km.head()"
   ]
  },
  {
   "cell_type": "code",
   "execution_count": null,
   "id": "ad8fdf7f",
   "metadata": {},
   "outputs": [],
   "source": [
    "all_features=data_kmn.columns\n",
    "import matplotlib.pyplot as plt\n",
    "import seaborn as sns\n",
    "for col in all_features:\n",
    "    plt.subplots(figsize = (8,5))\n",
    "    sns.countplot(x='클러스터',hue=col, data = data_km)\n",
    "    plt.show()"
   ]
  },
  {
   "cell_type": "code",
   "execution_count": null,
   "id": "ef0920a1",
   "metadata": {},
   "outputs": [],
   "source": []
  },
  {
   "cell_type": "code",
   "execution_count": null,
   "id": "e067750c",
   "metadata": {},
   "outputs": [],
   "source": [
    "data_km[data_kmn['클러스터']==3]['사고당시활동'].value_counts()"
   ]
  },
  {
   "cell_type": "code",
   "execution_count": null,
   "id": "66c97f9e",
   "metadata": {},
   "outputs": [],
   "source": [
    "data_km.head()"
   ]
  },
  {
   "cell_type": "code",
   "execution_count": null,
   "id": "6b3197d0",
   "metadata": {},
   "outputs": [],
   "source": [
    "all_features=data_kmn.columns\n",
    "import matplotlib.pyplot as plt\n",
    "import seaborn as sns"
   ]
  },
  {
   "cell_type": "code",
   "execution_count": null,
   "id": "912538e5",
   "metadata": {},
   "outputs": [],
   "source": [
    "cost = []\n",
    "K = range(1,5)\n",
    "for num_clusters in list(K):\n",
    "    kmode = KModes(n_clusters=4, init = \"Cao\", n_init = 1, verbose=1)\n",
    "    kmode.fit_predict(data_kmn)\n",
    "    cost.append(kmode.cost_)\n",
    "    \n",
    "plt.plot(K, cost, 'bx-')\n",
    "plt.xlabel('k clusters')\n",
    "plt.ylabel('Cost')\n",
    "plt.title('Elbow Method For Optimal k')\n",
    "plt.show()"
   ]
  },
  {
   "cell_type": "code",
   "execution_count": null,
   "id": "f2b51204",
   "metadata": {},
   "outputs": [],
   "source": [
    "for col in all_features:\n",
    "    plt.subplots(figsize = (15,5))\n",
    "    sns.countplot(x='Cluster',hue=col, data =data_km)\n",
    "    plt.show()\n"
   ]
  },
  {
   "cell_type": "code",
   "execution_count": null,
   "id": "c65319a9",
   "metadata": {},
   "outputs": [],
   "source": [
    "data_km[data_kmn['클러스터']==3]['사고형태'].value_counts()"
   ]
  },
  {
   "cell_type": "code",
   "execution_count": null,
   "id": "775f8123",
   "metadata": {},
   "outputs": [],
   "source": [
    "data[data['설립유형']=='공립'].count()#225797\n",
    "#4706434\n",
    "print(225797/4706434)"
   ]
  },
  {
   "cell_type": "code",
   "execution_count": null,
   "id": "54ff34da",
   "metadata": {},
   "outputs": [],
   "source": [
    "data[data['설립유형']=='공립'].count()"
   ]
  },
  {
   "cell_type": "code",
   "execution_count": null,
   "id": "27345690",
   "metadata": {},
   "outputs": [],
   "source": []
  },
  {
   "cell_type": "code",
   "execution_count": null,
   "id": "5ef590be",
   "metadata": {},
   "outputs": [],
   "source": [
    "data[data['설립유형']=='국립'].count()"
   ]
  },
  {
   "cell_type": "code",
   "execution_count": null,
   "id": "e5298bc2",
   "metadata": {},
   "outputs": [],
   "source": [
    "data[data['설립유형']=='사립'].count()#56623\n",
    "#1222592\n",
    "print(56623/1222592)"
   ]
  },
  {
   "cell_type": "code",
   "execution_count": null,
   "id": "748ff5ee",
   "metadata": {},
   "outputs": [],
   "source": []
  }
 ],
 "metadata": {
  "kernelspec": {
   "display_name": "Python 3 (ipykernel)",
   "language": "python",
   "name": "python3"
  },
  "language_info": {
   "codemirror_mode": {
    "name": "ipython",
    "version": 3
   },
   "file_extension": ".py",
   "mimetype": "text/x-python",
   "name": "python",
   "nbconvert_exporter": "python",
   "pygments_lexer": "ipython3",
   "version": "3.9.13"
  }
 },
 "nbformat": 4,
 "nbformat_minor": 5
}
