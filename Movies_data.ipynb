{
 "cells": [
  {
   "cell_type": "code",
   "execution_count": 3,
   "id": "c00827ed-d79a-40df-a0f1-00c5e093bbee",
   "metadata": {},
   "outputs": [
    {
     "name": "stdout",
     "output_type": "stream",
     "text": [
      "Downloading from https://www.kaggle.com/api/v1/datasets/download/rounakbanik/the-movies-dataset?dataset_version_number=7...\n"
     ]
    },
    {
     "name": "stderr",
     "output_type": "stream",
     "text": [
      "100%|███████████████████████████████████████████████████████████████████████████████| 228M/228M [00:49<00:00, 4.79MB/s]"
     ]
    },
    {
     "name": "stdout",
     "output_type": "stream",
     "text": [
      "Extracting files...\n"
     ]
    },
    {
     "name": "stderr",
     "output_type": "stream",
     "text": [
      "\n"
     ]
    },
    {
     "name": "stdout",
     "output_type": "stream",
     "text": [
      "Path to dataset files: C:\\Users\\sshyu\\.cache\\kagglehub\\datasets\\rounakbanik\\the-movies-dataset\\versions\\7\n"
     ]
    }
   ],
   "source": [
    "import kagglehub\n",
    "\n",
    "# Download latest version\n",
    "path = kagglehub.dataset_download(\"rounakbanik/the-movies-dataset\")\n",
    "\n",
    "print(\"Path to dataset files:\", path)"
   ]
  },
  {
   "cell_type": "markdown",
   "id": "9a8980cc-1751-4b40-a477-e7c85dc4ca0e",
   "metadata": {},
   "source": [
    "**[데이터셋]**\n",
    "\n",
    "https://www.kaggle.com/datasets/rounakbanik/the-movies-dataset/data\n",
    "\n",
    "**[참고]**\n",
    "\n",
    "https://lebi.tistory.com/26"
   ]
  },
  {
   "cell_type": "code",
   "execution_count": 8,
   "id": "dc001a1c-75b6-4d37-9d00-bc1bbecb5e5e",
   "metadata": {},
   "outputs": [
    {
     "name": "stdout",
     "output_type": "stream",
     "text": [
      "   userId  movieId  rating   timestamp\n",
      "0       1      110     1.0  1425941529\n",
      "1       1      147     4.5  1425942435\n",
      "2       1      858     5.0  1425941523\n",
      "3       1     1221     5.0  1425941546\n",
      "4       1     1246     5.0  1425941556\n"
     ]
    }
   ],
   "source": [
    "import pandas as pd\n",
    "ratings_path = f\"{path}/ratings.csv\"\n",
    "ratings_df = pd.read_csv(ratings_path)\n",
    "print(ratings_df.head())"
   ]
  },
  {
   "cell_type": "code",
   "execution_count": 7,
   "id": "27d106cb-0272-4e5b-a6d2-20000a8e099e",
   "metadata": {},
   "outputs": [
    {
     "data": {
      "text/plain": [
       "(26024289, 4)"
      ]
     },
     "execution_count": 7,
     "metadata": {},
     "output_type": "execute_result"
    }
   ],
   "source": [
    "ratings_df.shape"
   ]
  },
  {
   "cell_type": "code",
   "execution_count": 10,
   "id": "56c1c519-1c1e-4799-95d3-bba16af4d7c4",
   "metadata": {},
   "outputs": [
    {
     "data": {
      "text/plain": [
       "'C:\\\\Users\\\\sshyu\\\\.cache\\\\kagglehub\\\\datasets\\\\rounakbanik\\\\the-movies-dataset\\\\versions\\\\7'"
      ]
     },
     "execution_count": 10,
     "metadata": {},
     "output_type": "execute_result"
    }
   ],
   "source": [
    "path"
   ]
  },
  {
   "cell_type": "code",
   "execution_count": 15,
   "id": "c3de5f35-5e9b-4198-9675-1b73812241a1",
   "metadata": {},
   "outputs": [
    {
     "data": {
      "text/plain": [
       "270896"
      ]
     },
     "execution_count": 15,
     "metadata": {},
     "output_type": "execute_result"
    }
   ],
   "source": [
    "ratings_df['userId'].nunique()"
   ]
  },
  {
   "cell_type": "code",
   "execution_count": 22,
   "id": "5640cee9-c2eb-4db5-b2dc-8ad8d0e68f25",
   "metadata": {},
   "outputs": [
    {
     "data": {
      "text/html": [
       "<div>\n",
       "<style scoped>\n",
       "    .dataframe tbody tr th:only-of-type {\n",
       "        vertical-align: middle;\n",
       "    }\n",
       "\n",
       "    .dataframe tbody tr th {\n",
       "        vertical-align: top;\n",
       "    }\n",
       "\n",
       "    .dataframe thead th {\n",
       "        text-align: right;\n",
       "    }\n",
       "</style>\n",
       "<table border=\"1\" class=\"dataframe\">\n",
       "  <thead>\n",
       "    <tr style=\"text-align: right;\">\n",
       "      <th></th>\n",
       "      <th>movieId</th>\n",
       "      <th>rating</th>\n",
       "      <th>timestamp</th>\n",
       "    </tr>\n",
       "    <tr>\n",
       "      <th>userId</th>\n",
       "      <th></th>\n",
       "      <th></th>\n",
       "      <th></th>\n",
       "    </tr>\n",
       "  </thead>\n",
       "  <tbody>\n",
       "    <tr>\n",
       "      <th>1</th>\n",
       "      <td>27</td>\n",
       "      <td>27</td>\n",
       "      <td>27</td>\n",
       "    </tr>\n",
       "    <tr>\n",
       "      <th>2</th>\n",
       "      <td>22</td>\n",
       "      <td>22</td>\n",
       "      <td>22</td>\n",
       "    </tr>\n",
       "    <tr>\n",
       "      <th>3</th>\n",
       "      <td>10</td>\n",
       "      <td>10</td>\n",
       "      <td>10</td>\n",
       "    </tr>\n",
       "    <tr>\n",
       "      <th>4</th>\n",
       "      <td>62</td>\n",
       "      <td>62</td>\n",
       "      <td>62</td>\n",
       "    </tr>\n",
       "    <tr>\n",
       "      <th>5</th>\n",
       "      <td>26</td>\n",
       "      <td>26</td>\n",
       "      <td>26</td>\n",
       "    </tr>\n",
       "    <tr>\n",
       "      <th>...</th>\n",
       "      <td>...</td>\n",
       "      <td>...</td>\n",
       "      <td>...</td>\n",
       "    </tr>\n",
       "    <tr>\n",
       "      <th>270892</th>\n",
       "      <td>75</td>\n",
       "      <td>75</td>\n",
       "      <td>75</td>\n",
       "    </tr>\n",
       "    <tr>\n",
       "      <th>270893</th>\n",
       "      <td>190</td>\n",
       "      <td>190</td>\n",
       "      <td>190</td>\n",
       "    </tr>\n",
       "    <tr>\n",
       "      <th>270894</th>\n",
       "      <td>148</td>\n",
       "      <td>148</td>\n",
       "      <td>148</td>\n",
       "    </tr>\n",
       "    <tr>\n",
       "      <th>270895</th>\n",
       "      <td>20</td>\n",
       "      <td>20</td>\n",
       "      <td>20</td>\n",
       "    </tr>\n",
       "    <tr>\n",
       "      <th>270896</th>\n",
       "      <td>260</td>\n",
       "      <td>260</td>\n",
       "      <td>260</td>\n",
       "    </tr>\n",
       "  </tbody>\n",
       "</table>\n",
       "<p>270896 rows × 3 columns</p>\n",
       "</div>"
      ],
      "text/plain": [
       "        movieId  rating  timestamp\n",
       "userId                            \n",
       "1            27      27         27\n",
       "2            22      22         22\n",
       "3            10      10         10\n",
       "4            62      62         62\n",
       "5            26      26         26\n",
       "...         ...     ...        ...\n",
       "270892       75      75         75\n",
       "270893      190     190        190\n",
       "270894      148     148        148\n",
       "270895       20      20         20\n",
       "270896      260     260        260\n",
       "\n",
       "[270896 rows x 3 columns]"
      ]
     },
     "execution_count": 22,
     "metadata": {},
     "output_type": "execute_result"
    }
   ],
   "source": [
    "ratings_df.groupby('userId').count()"
   ]
  },
  {
   "cell_type": "markdown",
   "id": "f82227c7-7ae7-4fa4-974b-3f58561ffb28",
   "metadata": {},
   "source": [
    "총 270896명의 user가 있음"
   ]
  },
  {
   "cell_type": "code",
   "execution_count": 16,
   "id": "ef68eebe-623a-4a6d-9152-a86f58597de0",
   "metadata": {},
   "outputs": [],
   "source": [
    "import pandas as pd\n",
    "movies_path = f\"{path}/movies_metadata.csv\"\n",
    "movies_df = pd.read_csv(movies_path,low_memory=False)"
   ]
  },
  {
   "cell_type": "code",
   "execution_count": 18,
   "id": "955a5e6c-0e3a-46a6-83e6-2657c598ffd9",
   "metadata": {},
   "outputs": [
    {
     "name": "stdout",
     "output_type": "stream",
     "text": [
      "<class 'pandas.core.frame.DataFrame'>\n",
      "RangeIndex: 45466 entries, 0 to 45465\n",
      "Data columns (total 24 columns):\n",
      " #   Column                 Non-Null Count  Dtype  \n",
      "---  ------                 --------------  -----  \n",
      " 0   adult                  45466 non-null  object \n",
      " 1   belongs_to_collection  4494 non-null   object \n",
      " 2   budget                 45466 non-null  object \n",
      " 3   genres                 45466 non-null  object \n",
      " 4   homepage               7782 non-null   object \n",
      " 5   id                     45466 non-null  object \n",
      " 6   imdb_id                45449 non-null  object \n",
      " 7   original_language      45455 non-null  object \n",
      " 8   original_title         45466 non-null  object \n",
      " 9   overview               44512 non-null  object \n",
      " 10  popularity             45461 non-null  object \n",
      " 11  poster_path            45080 non-null  object \n",
      " 12  production_companies   45463 non-null  object \n",
      " 13  production_countries   45463 non-null  object \n",
      " 14  release_date           45379 non-null  object \n",
      " 15  revenue                45460 non-null  float64\n",
      " 16  runtime                45203 non-null  float64\n",
      " 17  spoken_languages       45460 non-null  object \n",
      " 18  status                 45379 non-null  object \n",
      " 19  tagline                20412 non-null  object \n",
      " 20  title                  45460 non-null  object \n",
      " 21  video                  45460 non-null  object \n",
      " 22  vote_average           45460 non-null  float64\n",
      " 23  vote_count             45460 non-null  float64\n",
      "dtypes: float64(4), object(20)\n",
      "memory usage: 8.3+ MB\n"
     ]
    }
   ],
   "source": [
    "movies_df.info()"
   ]
  },
  {
   "cell_type": "code",
   "execution_count": 20,
   "id": "4f237871-8995-42e6-b60b-dddb0558fb94",
   "metadata": {},
   "outputs": [
    {
     "data": {
      "text/plain": [
       "id\n",
       "141971    3\n",
       "168538    2\n",
       "25541     2\n",
       "15028     2\n",
       "11115     2\n",
       "         ..\n",
       "72272     1\n",
       "1549      1\n",
       "10171     1\n",
       "38996     1\n",
       "461257    1\n",
       "Name: count, Length: 45436, dtype: int64"
      ]
     },
     "execution_count": 20,
     "metadata": {},
     "output_type": "execute_result"
    }
   ],
   "source": [
    "movies_df['id'].value_counts()"
   ]
  },
  {
   "cell_type": "code",
   "execution_count": 21,
   "id": "5c3bf4e8-6eb3-4f5d-b838-d78fd251fbd3",
   "metadata": {},
   "outputs": [
    {
     "data": {
      "text/plain": [
       "movieId\n",
       "356       91921\n",
       "318       91082\n",
       "296       87901\n",
       "593       84078\n",
       "2571      77960\n",
       "          ...  \n",
       "175753        1\n",
       "175513        1\n",
       "174821        1\n",
       "163054        1\n",
       "171221        1\n",
       "Name: count, Length: 45115, dtype: int64"
      ]
     },
     "execution_count": 21,
     "metadata": {},
     "output_type": "execute_result"
    }
   ],
   "source": [
    "ratings_df['movieId'].value_counts()"
   ]
  },
  {
   "cell_type": "code",
   "execution_count": 23,
   "id": "16b31b3a-38db-418c-af84-25886398f9f4",
   "metadata": {},
   "outputs": [],
   "source": [
    "movies_df['movieId']=movies_df['id']\n",
    "movies_df.drop('id',axis=1,inplace=True)"
   ]
  },
  {
   "cell_type": "code",
   "execution_count": 32,
   "id": "72bd00a0-f5f2-478e-8ab6-5c698edbf23d",
   "metadata": {},
   "outputs": [
    {
     "data": {
      "text/plain": [
       "belongs_to_collection    40972\n",
       "homepage                 37684\n",
       "imdb_id                     17\n",
       "original_language           11\n",
       "overview                   954\n",
       "popularity                   5\n",
       "poster_path                386\n",
       "production_companies         3\n",
       "production_countries         3\n",
       "release_date                87\n",
       "revenue                      6\n",
       "runtime                    263\n",
       "spoken_languages             6\n",
       "status                      87\n",
       "tagline                  25054\n",
       "title                        6\n",
       "video                        6\n",
       "vote_average                 6\n",
       "vote_count                   6\n",
       "dtype: int64"
      ]
     },
     "execution_count": 32,
     "metadata": {},
     "output_type": "execute_result"
    }
   ],
   "source": [
    "movies_df.isna().sum()[movies_df.isna().sum()>0]"
   ]
  },
  {
   "cell_type": "code",
   "execution_count": 33,
   "id": "b5b793ca-1ee2-4654-93c5-a50f5ea77ecb",
   "metadata": {},
   "outputs": [],
   "source": [
    "# nan 값이 많은 belongs_to_collection, homepage, tagline 열 drop\n",
    "# 나머지는 행 drop\n",
    "# imdb_id도 필요 없음\n",
    "movies_df.drop(['belongs_to_collection','homepage','tagline','imdb_id'],axis=1,inplace=True)"
   ]
  },
  {
   "cell_type": "code",
   "execution_count": 36,
   "id": "3828c907-2f7a-4320-a41c-f553212fa3a1",
   "metadata": {},
   "outputs": [],
   "source": [
    "movies_df.dropna(axis=0,inplace=True, subset=movies_df.columns[movies_df.isna().sum()>0].tolist())"
   ]
  },
  {
   "cell_type": "code",
   "execution_count": 37,
   "id": "46962d6f-5f23-4c82-9a82-a59dc0b67524",
   "metadata": {},
   "outputs": [
    {
     "data": {
      "text/plain": [
       "0"
      ]
     },
     "execution_count": 37,
     "metadata": {},
     "output_type": "execute_result"
    }
   ],
   "source": [
    "movies_df.isna().sum().sum()"
   ]
  },
  {
   "cell_type": "code",
   "execution_count": 40,
   "id": "ad8c69a0-13de-4ca4-bd90-92fa73887fb1",
   "metadata": {},
   "outputs": [],
   "source": [
    "movies_df['movieId']=movies_df['movieId'].astype('int')"
   ]
  },
  {
   "cell_type": "code",
   "execution_count": 41,
   "id": "1beed19a-d470-4e4b-b500-3f7cdd49a74e",
   "metadata": {},
   "outputs": [],
   "source": [
    "data=pd.merge(ratings_df,movies_df,on='movieId',how='inner')"
   ]
  },
  {
   "cell_type": "code",
   "execution_count": 43,
   "id": "db847f28-c4a6-4c47-a629-72c9fa123407",
   "metadata": {},
   "outputs": [
    {
     "data": {
      "text/html": [
       "<div>\n",
       "<style scoped>\n",
       "    .dataframe tbody tr th:only-of-type {\n",
       "        vertical-align: middle;\n",
       "    }\n",
       "\n",
       "    .dataframe tbody tr th {\n",
       "        vertical-align: top;\n",
       "    }\n",
       "\n",
       "    .dataframe thead th {\n",
       "        text-align: right;\n",
       "    }\n",
       "</style>\n",
       "<table border=\"1\" class=\"dataframe\">\n",
       "  <thead>\n",
       "    <tr style=\"text-align: right;\">\n",
       "      <th></th>\n",
       "      <th>userId</th>\n",
       "      <th>movieId</th>\n",
       "      <th>rating</th>\n",
       "      <th>timestamp</th>\n",
       "      <th>adult</th>\n",
       "      <th>budget</th>\n",
       "      <th>genres</th>\n",
       "      <th>original_language</th>\n",
       "      <th>original_title</th>\n",
       "      <th>overview</th>\n",
       "      <th>...</th>\n",
       "      <th>production_countries</th>\n",
       "      <th>release_date</th>\n",
       "      <th>revenue</th>\n",
       "      <th>runtime</th>\n",
       "      <th>spoken_languages</th>\n",
       "      <th>status</th>\n",
       "      <th>title</th>\n",
       "      <th>video</th>\n",
       "      <th>vote_average</th>\n",
       "      <th>vote_count</th>\n",
       "    </tr>\n",
       "  </thead>\n",
       "  <tbody>\n",
       "    <tr>\n",
       "      <th>0</th>\n",
       "      <td>1</td>\n",
       "      <td>110</td>\n",
       "      <td>1.0</td>\n",
       "      <td>1425941529</td>\n",
       "      <td>False</td>\n",
       "      <td>0</td>\n",
       "      <td>[{'id': 18, 'name': 'Drama'}, {'id': 9648, 'na...</td>\n",
       "      <td>fr</td>\n",
       "      <td>Trois couleurs : Rouge</td>\n",
       "      <td>Red This is the third film from the trilogy by...</td>\n",
       "      <td>...</td>\n",
       "      <td>[{'iso_3166_1': 'FR', 'name': 'France'}, {'iso...</td>\n",
       "      <td>1994-05-27</td>\n",
       "      <td>0.0</td>\n",
       "      <td>99.0</td>\n",
       "      <td>[{'iso_639_1': 'fr', 'name': 'Français'}]</td>\n",
       "      <td>Released</td>\n",
       "      <td>Three Colors: Red</td>\n",
       "      <td>False</td>\n",
       "      <td>7.8</td>\n",
       "      <td>246.0</td>\n",
       "    </tr>\n",
       "    <tr>\n",
       "      <th>1</th>\n",
       "      <td>1</td>\n",
       "      <td>147</td>\n",
       "      <td>4.5</td>\n",
       "      <td>1425942435</td>\n",
       "      <td>False</td>\n",
       "      <td>0</td>\n",
       "      <td>[{'id': 18, 'name': 'Drama'}]</td>\n",
       "      <td>fr</td>\n",
       "      <td>Les Quatre Cents Coups</td>\n",
       "      <td>For young Parisian boy Antoine Doinel, life is...</td>\n",
       "      <td>...</td>\n",
       "      <td>[{'iso_3166_1': 'FR', 'name': 'France'}]</td>\n",
       "      <td>1959-05-04</td>\n",
       "      <td>0.0</td>\n",
       "      <td>99.0</td>\n",
       "      <td>[{'iso_639_1': 'en', 'name': 'English'}, {'iso...</td>\n",
       "      <td>Released</td>\n",
       "      <td>The 400 Blows</td>\n",
       "      <td>False</td>\n",
       "      <td>8.0</td>\n",
       "      <td>363.0</td>\n",
       "    </tr>\n",
       "    <tr>\n",
       "      <th>2</th>\n",
       "      <td>1</td>\n",
       "      <td>858</td>\n",
       "      <td>5.0</td>\n",
       "      <td>1425941523</td>\n",
       "      <td>False</td>\n",
       "      <td>21000000</td>\n",
       "      <td>[{'id': 35, 'name': 'Comedy'}, {'id': 18, 'nam...</td>\n",
       "      <td>en</td>\n",
       "      <td>Sleepless in Seattle</td>\n",
       "      <td>A young boy who tries to set his dad up on a d...</td>\n",
       "      <td>...</td>\n",
       "      <td>[{'iso_3166_1': 'US', 'name': 'United States o...</td>\n",
       "      <td>1993-06-24</td>\n",
       "      <td>227799884.0</td>\n",
       "      <td>105.0</td>\n",
       "      <td>[{'iso_639_1': 'en', 'name': 'English'}]</td>\n",
       "      <td>Released</td>\n",
       "      <td>Sleepless in Seattle</td>\n",
       "      <td>False</td>\n",
       "      <td>6.5</td>\n",
       "      <td>630.0</td>\n",
       "    </tr>\n",
       "    <tr>\n",
       "      <th>3</th>\n",
       "      <td>1</td>\n",
       "      <td>1246</td>\n",
       "      <td>5.0</td>\n",
       "      <td>1425941556</td>\n",
       "      <td>False</td>\n",
       "      <td>24000000</td>\n",
       "      <td>[{'id': 18, 'name': 'Drama'}]</td>\n",
       "      <td>en</td>\n",
       "      <td>Rocky Balboa</td>\n",
       "      <td>When he loses a highly publicized virtual boxi...</td>\n",
       "      <td>...</td>\n",
       "      <td>[{'iso_3166_1': 'US', 'name': 'United States o...</td>\n",
       "      <td>2006-12-20</td>\n",
       "      <td>155721132.0</td>\n",
       "      <td>102.0</td>\n",
       "      <td>[{'iso_639_1': 'en', 'name': 'English'}, {'iso...</td>\n",
       "      <td>Released</td>\n",
       "      <td>Rocky Balboa</td>\n",
       "      <td>False</td>\n",
       "      <td>6.5</td>\n",
       "      <td>858.0</td>\n",
       "    </tr>\n",
       "    <tr>\n",
       "      <th>4</th>\n",
       "      <td>1</td>\n",
       "      <td>1968</td>\n",
       "      <td>4.0</td>\n",
       "      <td>1425942148</td>\n",
       "      <td>False</td>\n",
       "      <td>0</td>\n",
       "      <td>[{'id': 18, 'name': 'Drama'}, {'id': 35, 'name...</td>\n",
       "      <td>en</td>\n",
       "      <td>Fools Rush In</td>\n",
       "      <td>Alex Whitman (Matthew Perry) is a designer fro...</td>\n",
       "      <td>...</td>\n",
       "      <td>[{'iso_3166_1': 'US', 'name': 'United States o...</td>\n",
       "      <td>1997-02-14</td>\n",
       "      <td>29481428.0</td>\n",
       "      <td>109.0</td>\n",
       "      <td>[{'iso_639_1': 'en', 'name': 'English'}]</td>\n",
       "      <td>Released</td>\n",
       "      <td>Fools Rush In</td>\n",
       "      <td>False</td>\n",
       "      <td>5.8</td>\n",
       "      <td>133.0</td>\n",
       "    </tr>\n",
       "  </tbody>\n",
       "</table>\n",
       "<p>5 rows × 23 columns</p>\n",
       "</div>"
      ],
      "text/plain": [
       "   userId  movieId  rating   timestamp  adult    budget  \\\n",
       "0       1      110     1.0  1425941529  False         0   \n",
       "1       1      147     4.5  1425942435  False         0   \n",
       "2       1      858     5.0  1425941523  False  21000000   \n",
       "3       1     1246     5.0  1425941556  False  24000000   \n",
       "4       1     1968     4.0  1425942148  False         0   \n",
       "\n",
       "                                              genres original_language  \\\n",
       "0  [{'id': 18, 'name': 'Drama'}, {'id': 9648, 'na...                fr   \n",
       "1                      [{'id': 18, 'name': 'Drama'}]                fr   \n",
       "2  [{'id': 35, 'name': 'Comedy'}, {'id': 18, 'nam...                en   \n",
       "3                      [{'id': 18, 'name': 'Drama'}]                en   \n",
       "4  [{'id': 18, 'name': 'Drama'}, {'id': 35, 'name...                en   \n",
       "\n",
       "           original_title                                           overview  \\\n",
       "0  Trois couleurs : Rouge  Red This is the third film from the trilogy by...   \n",
       "1  Les Quatre Cents Coups  For young Parisian boy Antoine Doinel, life is...   \n",
       "2    Sleepless in Seattle  A young boy who tries to set his dad up on a d...   \n",
       "3            Rocky Balboa  When he loses a highly publicized virtual boxi...   \n",
       "4           Fools Rush In  Alex Whitman (Matthew Perry) is a designer fro...   \n",
       "\n",
       "   ...                               production_countries release_date  \\\n",
       "0  ...  [{'iso_3166_1': 'FR', 'name': 'France'}, {'iso...   1994-05-27   \n",
       "1  ...           [{'iso_3166_1': 'FR', 'name': 'France'}]   1959-05-04   \n",
       "2  ...  [{'iso_3166_1': 'US', 'name': 'United States o...   1993-06-24   \n",
       "3  ...  [{'iso_3166_1': 'US', 'name': 'United States o...   2006-12-20   \n",
       "4  ...  [{'iso_3166_1': 'US', 'name': 'United States o...   1997-02-14   \n",
       "\n",
       "       revenue runtime                                   spoken_languages  \\\n",
       "0          0.0    99.0          [{'iso_639_1': 'fr', 'name': 'Français'}]   \n",
       "1          0.0    99.0  [{'iso_639_1': 'en', 'name': 'English'}, {'iso...   \n",
       "2  227799884.0   105.0           [{'iso_639_1': 'en', 'name': 'English'}]   \n",
       "3  155721132.0   102.0  [{'iso_639_1': 'en', 'name': 'English'}, {'iso...   \n",
       "4   29481428.0   109.0           [{'iso_639_1': 'en', 'name': 'English'}]   \n",
       "\n",
       "     status                 title  video vote_average vote_count  \n",
       "0  Released     Three Colors: Red  False          7.8      246.0  \n",
       "1  Released         The 400 Blows  False          8.0      363.0  \n",
       "2  Released  Sleepless in Seattle  False          6.5      630.0  \n",
       "3  Released          Rocky Balboa  False          6.5      858.0  \n",
       "4  Released         Fools Rush In  False          5.8      133.0  \n",
       "\n",
       "[5 rows x 23 columns]"
      ]
     },
     "execution_count": 43,
     "metadata": {},
     "output_type": "execute_result"
    }
   ],
   "source": [
    "data.head()"
   ]
  },
  {
   "cell_type": "code",
   "execution_count": 44,
   "id": "69c2d753-0289-479a-83cb-1fa6ca99b483",
   "metadata": {},
   "outputs": [
    {
     "data": {
      "text/plain": [
       "(11386509, 23)"
      ]
     },
     "execution_count": 44,
     "metadata": {},
     "output_type": "execute_result"
    }
   ],
   "source": [
    "data.shape"
   ]
  },
  {
   "cell_type": "code",
   "execution_count": 45,
   "id": "36797638-b373-4e3b-8743-1851d59b1aea",
   "metadata": {},
   "outputs": [
    {
     "name": "stdout",
     "output_type": "stream",
     "text": [
      "<class 'pandas.core.frame.DataFrame'>\n",
      "RangeIndex: 11386509 entries, 0 to 11386508\n",
      "Data columns (total 23 columns):\n",
      " #   Column                Dtype  \n",
      "---  ------                -----  \n",
      " 0   userId                int64  \n",
      " 1   movieId               int64  \n",
      " 2   rating                float64\n",
      " 3   timestamp             int64  \n",
      " 4   adult                 object \n",
      " 5   budget                object \n",
      " 6   genres                object \n",
      " 7   original_language     object \n",
      " 8   original_title        object \n",
      " 9   overview              object \n",
      " 10  popularity            object \n",
      " 11  poster_path           object \n",
      " 12  production_companies  object \n",
      " 13  production_countries  object \n",
      " 14  release_date          object \n",
      " 15  revenue               float64\n",
      " 16  runtime               float64\n",
      " 17  spoken_languages      object \n",
      " 18  status                object \n",
      " 19  title                 object \n",
      " 20  video                 object \n",
      " 21  vote_average          float64\n",
      " 22  vote_count            float64\n",
      "dtypes: float64(5), int64(3), object(15)\n",
      "memory usage: 2.0+ GB\n"
     ]
    }
   ],
   "source": [
    "data.info()"
   ]
  },
  {
   "cell_type": "code",
   "execution_count": 46,
   "id": "d2b8cba2-70a8-459e-953e-4b4f5b9b0101",
   "metadata": {},
   "outputs": [
    {
     "data": {
      "text/html": [
       "<div>\n",
       "<style scoped>\n",
       "    .dataframe tbody tr th:only-of-type {\n",
       "        vertical-align: middle;\n",
       "    }\n",
       "\n",
       "    .dataframe tbody tr th {\n",
       "        vertical-align: top;\n",
       "    }\n",
       "\n",
       "    .dataframe thead th {\n",
       "        text-align: right;\n",
       "    }\n",
       "</style>\n",
       "<table border=\"1\" class=\"dataframe\">\n",
       "  <thead>\n",
       "    <tr style=\"text-align: right;\">\n",
       "      <th></th>\n",
       "      <th>userId</th>\n",
       "      <th>movieId</th>\n",
       "      <th>rating</th>\n",
       "      <th>timestamp</th>\n",
       "      <th>revenue</th>\n",
       "      <th>runtime</th>\n",
       "      <th>vote_average</th>\n",
       "      <th>vote_count</th>\n",
       "    </tr>\n",
       "  </thead>\n",
       "  <tbody>\n",
       "    <tr>\n",
       "      <th>count</th>\n",
       "      <td>1.138651e+07</td>\n",
       "      <td>1.138651e+07</td>\n",
       "      <td>1.138651e+07</td>\n",
       "      <td>1.138651e+07</td>\n",
       "      <td>1.138651e+07</td>\n",
       "      <td>1.138651e+07</td>\n",
       "      <td>1.138651e+07</td>\n",
       "      <td>1.138651e+07</td>\n",
       "    </tr>\n",
       "    <tr>\n",
       "      <th>mean</th>\n",
       "      <td>1.351169e+05</td>\n",
       "      <td>6.994200e+03</td>\n",
       "      <td>3.532198e+00</td>\n",
       "      <td>1.121667e+09</td>\n",
       "      <td>7.491235e+07</td>\n",
       "      <td>1.087226e+02</td>\n",
       "      <td>6.621473e+00</td>\n",
       "      <td>6.624952e+02</td>\n",
       "    </tr>\n",
       "    <tr>\n",
       "      <th>std</th>\n",
       "      <td>7.812307e+04</td>\n",
       "      <td>1.806494e+04</td>\n",
       "      <td>1.067103e+00</td>\n",
       "      <td>2.048401e+08</td>\n",
       "      <td>1.750083e+08</td>\n",
       "      <td>2.514408e+01</td>\n",
       "      <td>1.053467e+00</td>\n",
       "      <td>1.213873e+03</td>\n",
       "    </tr>\n",
       "    <tr>\n",
       "      <th>min</th>\n",
       "      <td>1.000000e+00</td>\n",
       "      <td>2.000000e+00</td>\n",
       "      <td>5.000000e-01</td>\n",
       "      <td>7.896520e+08</td>\n",
       "      <td>0.000000e+00</td>\n",
       "      <td>0.000000e+00</td>\n",
       "      <td>0.000000e+00</td>\n",
       "      <td>0.000000e+00</td>\n",
       "    </tr>\n",
       "    <tr>\n",
       "      <th>25%</th>\n",
       "      <td>6.739800e+04</td>\n",
       "      <td>4.970000e+02</td>\n",
       "      <td>3.000000e+00</td>\n",
       "      <td>9.508968e+08</td>\n",
       "      <td>0.000000e+00</td>\n",
       "      <td>9.500000e+01</td>\n",
       "      <td>6.100000e+00</td>\n",
       "      <td>3.000000e+01</td>\n",
       "    </tr>\n",
       "    <tr>\n",
       "      <th>50%</th>\n",
       "      <td>1.354170e+05</td>\n",
       "      <td>1.407000e+03</td>\n",
       "      <td>4.000000e+00</td>\n",
       "      <td>1.107149e+09</td>\n",
       "      <td>2.200000e+06</td>\n",
       "      <td>1.060000e+02</td>\n",
       "      <td>6.800000e+00</td>\n",
       "      <td>1.650000e+02</td>\n",
       "    </tr>\n",
       "    <tr>\n",
       "      <th>75%</th>\n",
       "      <td>2.026930e+05</td>\n",
       "      <td>3.024000e+03</td>\n",
       "      <td>4.000000e+00</td>\n",
       "      <td>1.280181e+09</td>\n",
       "      <td>7.020000e+07</td>\n",
       "      <td>1.210000e+02</td>\n",
       "      <td>7.300000e+00</td>\n",
       "      <td>6.640000e+02</td>\n",
       "    </tr>\n",
       "    <tr>\n",
       "      <th>max</th>\n",
       "      <td>2.708960e+05</td>\n",
       "      <td>1.762730e+05</td>\n",
       "      <td>5.000000e+00</td>\n",
       "      <td>1.501829e+09</td>\n",
       "      <td>1.845034e+09</td>\n",
       "      <td>8.770000e+02</td>\n",
       "      <td>1.000000e+01</td>\n",
       "      <td>1.407500e+04</td>\n",
       "    </tr>\n",
       "  </tbody>\n",
       "</table>\n",
       "</div>"
      ],
      "text/plain": [
       "             userId       movieId        rating     timestamp       revenue  \\\n",
       "count  1.138651e+07  1.138651e+07  1.138651e+07  1.138651e+07  1.138651e+07   \n",
       "mean   1.351169e+05  6.994200e+03  3.532198e+00  1.121667e+09  7.491235e+07   \n",
       "std    7.812307e+04  1.806494e+04  1.067103e+00  2.048401e+08  1.750083e+08   \n",
       "min    1.000000e+00  2.000000e+00  5.000000e-01  7.896520e+08  0.000000e+00   \n",
       "25%    6.739800e+04  4.970000e+02  3.000000e+00  9.508968e+08  0.000000e+00   \n",
       "50%    1.354170e+05  1.407000e+03  4.000000e+00  1.107149e+09  2.200000e+06   \n",
       "75%    2.026930e+05  3.024000e+03  4.000000e+00  1.280181e+09  7.020000e+07   \n",
       "max    2.708960e+05  1.762730e+05  5.000000e+00  1.501829e+09  1.845034e+09   \n",
       "\n",
       "            runtime  vote_average    vote_count  \n",
       "count  1.138651e+07  1.138651e+07  1.138651e+07  \n",
       "mean   1.087226e+02  6.621473e+00  6.624952e+02  \n",
       "std    2.514408e+01  1.053467e+00  1.213873e+03  \n",
       "min    0.000000e+00  0.000000e+00  0.000000e+00  \n",
       "25%    9.500000e+01  6.100000e+00  3.000000e+01  \n",
       "50%    1.060000e+02  6.800000e+00  1.650000e+02  \n",
       "75%    1.210000e+02  7.300000e+00  6.640000e+02  \n",
       "max    8.770000e+02  1.000000e+01  1.407500e+04  "
      ]
     },
     "execution_count": 46,
     "metadata": {},
     "output_type": "execute_result"
    }
   ],
   "source": [
    "data.describe()"
   ]
  }
 ],
 "metadata": {
  "kernelspec": {
   "display_name": "Python 3 (ipykernel)",
   "language": "python",
   "name": "python3"
  },
  "language_info": {
   "codemirror_mode": {
    "name": "ipython",
    "version": 3
   },
   "file_extension": ".py",
   "mimetype": "text/x-python",
   "name": "python",
   "nbconvert_exporter": "python",
   "pygments_lexer": "ipython3",
   "version": "3.12.5"
  }
 },
 "nbformat": 4,
 "nbformat_minor": 5
}
