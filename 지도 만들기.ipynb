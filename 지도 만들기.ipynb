{
 "cells": [
  {
   "cell_type": "code",
   "execution_count": 1,
   "id": "5c3e6f31",
   "metadata": {},
   "outputs": [
    {
     "name": "stdout",
     "output_type": "stream",
     "text": [
      "0.14.0\n"
     ]
    }
   ],
   "source": [
    "import requests\n",
    "import json\n",
    "import pandas as pd\n",
    "import numpy as np\n",
    "from pandas.io.json import json_normalize\n",
    "import os\n",
    "import webbrowser\n",
    "import folium\n",
    "from folium import plugins\n",
    "print(folium.__version__)"
   ]
  },
  {
   "cell_type": "code",
   "execution_count": 6,
   "id": "7a2d5d2c",
   "metadata": {},
   "outputs": [],
   "source": [
    "import json\n",
    "import pandas as pd\n",
    "import folium\n",
    "from folium import plugins\n",
    "from folium.plugins import HeatMap\n",
    "\n",
    "# folium 그리기\n",
    "month = '2020-04-30'\n",
    "column_list = ['Month', 'Seoul', 'Busan', 'Daegu', 'Incheon',\n",
    "               'Gwangju', 'Daejeon', 'Ulsan', 'Gyeong-gi',\n",
    "               'Gangwon', 'Chungbuk', 'Chungnam', 'Jeonbuk',\n",
    "               'Jeonnam', 'Kyungbuk', 'Kyungnam', 'Jeju',\n",
    "               'Sejong', 'Hwangbuk', 'Total']\n",
    "#df = pd.read_csv('region.csv')\n",
    "#df.columns = column_list"
   ]
  },
  {
   "cell_type": "code",
   "execution_count": null,
   "id": "3e32bee8",
   "metadata": {},
   "outputs": [],
   "source": [
    "import pandas as pd\n",
    "import geopandas\n",
    "data"
   ]
  },
  {
   "cell_type": "code",
   "execution_count": 7,
   "id": "7ed3b0f8",
   "metadata": {},
   "outputs": [
    {
     "ename": "FileNotFoundError",
     "evalue": "[Errno 2] No such file or directory: '../data/02._US_Unemployment_Oct2012.csv'",
     "output_type": "error",
     "traceback": [
      "\u001b[1;31m---------------------------------------------------------------------------\u001b[0m",
      "\u001b[1;31mFileNotFoundError\u001b[0m                         Traceback (most recent call last)",
      "\u001b[1;32m~\\AppData\\Local\\Temp\\ipykernel_9160\\2425048606.py\u001b[0m in \u001b[0;36m<module>\u001b[1;34m\u001b[0m\n\u001b[0;32m      2\u001b[0m \u001b[1;33m\u001b[0m\u001b[0m\n\u001b[0;32m      3\u001b[0m \u001b[1;31m# 미국 주별 실업률 데이터 불러오기\u001b[0m\u001b[1;33m\u001b[0m\u001b[1;33m\u001b[0m\u001b[0m\n\u001b[1;32m----> 4\u001b[1;33m \u001b[0mstate_data\u001b[0m \u001b[1;33m=\u001b[0m \u001b[0mpd\u001b[0m\u001b[1;33m.\u001b[0m\u001b[0mread_csv\u001b[0m\u001b[1;33m(\u001b[0m\u001b[1;34m'../data/02._US_Unemployment_Oct2012.csv'\u001b[0m\u001b[1;33m)\u001b[0m\u001b[1;33m\u001b[0m\u001b[1;33m\u001b[0m\u001b[0m\n\u001b[0m\u001b[0;32m      5\u001b[0m \u001b[1;33m\u001b[0m\u001b[0m\n\u001b[0;32m      6\u001b[0m \u001b[0mm\u001b[0m \u001b[1;33m=\u001b[0m \u001b[0mfolium\u001b[0m\u001b[1;33m.\u001b[0m\u001b[0mMap\u001b[0m\u001b[1;33m(\u001b[0m\u001b[1;33m[\u001b[0m\u001b[1;36m43\u001b[0m\u001b[1;33m,\u001b[0m \u001b[1;33m-\u001b[0m\u001b[1;36m102\u001b[0m\u001b[1;33m]\u001b[0m\u001b[1;33m,\u001b[0m \u001b[0mzoom_start\u001b[0m\u001b[1;33m=\u001b[0m\u001b[1;36m3\u001b[0m\u001b[1;33m)\u001b[0m\u001b[1;33m\u001b[0m\u001b[1;33m\u001b[0m\u001b[0m\n",
      "\u001b[1;32m~\\anaconda3\\lib\\site-packages\\pandas\\util\\_decorators.py\u001b[0m in \u001b[0;36mwrapper\u001b[1;34m(*args, **kwargs)\u001b[0m\n\u001b[0;32m    309\u001b[0m                     \u001b[0mstacklevel\u001b[0m\u001b[1;33m=\u001b[0m\u001b[0mstacklevel\u001b[0m\u001b[1;33m,\u001b[0m\u001b[1;33m\u001b[0m\u001b[1;33m\u001b[0m\u001b[0m\n\u001b[0;32m    310\u001b[0m                 )\n\u001b[1;32m--> 311\u001b[1;33m             \u001b[1;32mreturn\u001b[0m \u001b[0mfunc\u001b[0m\u001b[1;33m(\u001b[0m\u001b[1;33m*\u001b[0m\u001b[0margs\u001b[0m\u001b[1;33m,\u001b[0m \u001b[1;33m**\u001b[0m\u001b[0mkwargs\u001b[0m\u001b[1;33m)\u001b[0m\u001b[1;33m\u001b[0m\u001b[1;33m\u001b[0m\u001b[0m\n\u001b[0m\u001b[0;32m    312\u001b[0m \u001b[1;33m\u001b[0m\u001b[0m\n\u001b[0;32m    313\u001b[0m         \u001b[1;32mreturn\u001b[0m \u001b[0mwrapper\u001b[0m\u001b[1;33m\u001b[0m\u001b[1;33m\u001b[0m\u001b[0m\n",
      "\u001b[1;32m~\\anaconda3\\lib\\site-packages\\pandas\\io\\parsers\\readers.py\u001b[0m in \u001b[0;36mread_csv\u001b[1;34m(filepath_or_buffer, sep, delimiter, header, names, index_col, usecols, squeeze, prefix, mangle_dupe_cols, dtype, engine, converters, true_values, false_values, skipinitialspace, skiprows, skipfooter, nrows, na_values, keep_default_na, na_filter, verbose, skip_blank_lines, parse_dates, infer_datetime_format, keep_date_col, date_parser, dayfirst, cache_dates, iterator, chunksize, compression, thousands, decimal, lineterminator, quotechar, quoting, doublequote, escapechar, comment, encoding, encoding_errors, dialect, error_bad_lines, warn_bad_lines, on_bad_lines, delim_whitespace, low_memory, memory_map, float_precision, storage_options)\u001b[0m\n\u001b[0;32m    676\u001b[0m     \u001b[0mkwds\u001b[0m\u001b[1;33m.\u001b[0m\u001b[0mupdate\u001b[0m\u001b[1;33m(\u001b[0m\u001b[0mkwds_defaults\u001b[0m\u001b[1;33m)\u001b[0m\u001b[1;33m\u001b[0m\u001b[1;33m\u001b[0m\u001b[0m\n\u001b[0;32m    677\u001b[0m \u001b[1;33m\u001b[0m\u001b[0m\n\u001b[1;32m--> 678\u001b[1;33m     \u001b[1;32mreturn\u001b[0m \u001b[0m_read\u001b[0m\u001b[1;33m(\u001b[0m\u001b[0mfilepath_or_buffer\u001b[0m\u001b[1;33m,\u001b[0m \u001b[0mkwds\u001b[0m\u001b[1;33m)\u001b[0m\u001b[1;33m\u001b[0m\u001b[1;33m\u001b[0m\u001b[0m\n\u001b[0m\u001b[0;32m    679\u001b[0m \u001b[1;33m\u001b[0m\u001b[0m\n\u001b[0;32m    680\u001b[0m \u001b[1;33m\u001b[0m\u001b[0m\n",
      "\u001b[1;32m~\\anaconda3\\lib\\site-packages\\pandas\\io\\parsers\\readers.py\u001b[0m in \u001b[0;36m_read\u001b[1;34m(filepath_or_buffer, kwds)\u001b[0m\n\u001b[0;32m    573\u001b[0m \u001b[1;33m\u001b[0m\u001b[0m\n\u001b[0;32m    574\u001b[0m     \u001b[1;31m# Create the parser.\u001b[0m\u001b[1;33m\u001b[0m\u001b[1;33m\u001b[0m\u001b[0m\n\u001b[1;32m--> 575\u001b[1;33m     \u001b[0mparser\u001b[0m \u001b[1;33m=\u001b[0m \u001b[0mTextFileReader\u001b[0m\u001b[1;33m(\u001b[0m\u001b[0mfilepath_or_buffer\u001b[0m\u001b[1;33m,\u001b[0m \u001b[1;33m**\u001b[0m\u001b[0mkwds\u001b[0m\u001b[1;33m)\u001b[0m\u001b[1;33m\u001b[0m\u001b[1;33m\u001b[0m\u001b[0m\n\u001b[0m\u001b[0;32m    576\u001b[0m \u001b[1;33m\u001b[0m\u001b[0m\n\u001b[0;32m    577\u001b[0m     \u001b[1;32mif\u001b[0m \u001b[0mchunksize\u001b[0m \u001b[1;32mor\u001b[0m \u001b[0miterator\u001b[0m\u001b[1;33m:\u001b[0m\u001b[1;33m\u001b[0m\u001b[1;33m\u001b[0m\u001b[0m\n",
      "\u001b[1;32m~\\anaconda3\\lib\\site-packages\\pandas\\io\\parsers\\readers.py\u001b[0m in \u001b[0;36m__init__\u001b[1;34m(self, f, engine, **kwds)\u001b[0m\n\u001b[0;32m    930\u001b[0m \u001b[1;33m\u001b[0m\u001b[0m\n\u001b[0;32m    931\u001b[0m         \u001b[0mself\u001b[0m\u001b[1;33m.\u001b[0m\u001b[0mhandles\u001b[0m\u001b[1;33m:\u001b[0m \u001b[0mIOHandles\u001b[0m \u001b[1;33m|\u001b[0m \u001b[1;32mNone\u001b[0m \u001b[1;33m=\u001b[0m \u001b[1;32mNone\u001b[0m\u001b[1;33m\u001b[0m\u001b[1;33m\u001b[0m\u001b[0m\n\u001b[1;32m--> 932\u001b[1;33m         \u001b[0mself\u001b[0m\u001b[1;33m.\u001b[0m\u001b[0m_engine\u001b[0m \u001b[1;33m=\u001b[0m \u001b[0mself\u001b[0m\u001b[1;33m.\u001b[0m\u001b[0m_make_engine\u001b[0m\u001b[1;33m(\u001b[0m\u001b[0mf\u001b[0m\u001b[1;33m,\u001b[0m \u001b[0mself\u001b[0m\u001b[1;33m.\u001b[0m\u001b[0mengine\u001b[0m\u001b[1;33m)\u001b[0m\u001b[1;33m\u001b[0m\u001b[1;33m\u001b[0m\u001b[0m\n\u001b[0m\u001b[0;32m    933\u001b[0m \u001b[1;33m\u001b[0m\u001b[0m\n\u001b[0;32m    934\u001b[0m     \u001b[1;32mdef\u001b[0m \u001b[0mclose\u001b[0m\u001b[1;33m(\u001b[0m\u001b[0mself\u001b[0m\u001b[1;33m)\u001b[0m\u001b[1;33m:\u001b[0m\u001b[1;33m\u001b[0m\u001b[1;33m\u001b[0m\u001b[0m\n",
      "\u001b[1;32m~\\anaconda3\\lib\\site-packages\\pandas\\io\\parsers\\readers.py\u001b[0m in \u001b[0;36m_make_engine\u001b[1;34m(self, f, engine)\u001b[0m\n\u001b[0;32m   1214\u001b[0m             \u001b[1;31m# \"Union[str, PathLike[str], ReadCsvBuffer[bytes], ReadCsvBuffer[str]]\"\u001b[0m\u001b[1;33m\u001b[0m\u001b[1;33m\u001b[0m\u001b[0m\n\u001b[0;32m   1215\u001b[0m             \u001b[1;31m# , \"str\", \"bool\", \"Any\", \"Any\", \"Any\", \"Any\", \"Any\"\u001b[0m\u001b[1;33m\u001b[0m\u001b[1;33m\u001b[0m\u001b[0m\n\u001b[1;32m-> 1216\u001b[1;33m             self.handles = get_handle(  # type: ignore[call-overload]\n\u001b[0m\u001b[0;32m   1217\u001b[0m                 \u001b[0mf\u001b[0m\u001b[1;33m,\u001b[0m\u001b[1;33m\u001b[0m\u001b[1;33m\u001b[0m\u001b[0m\n\u001b[0;32m   1218\u001b[0m                 \u001b[0mmode\u001b[0m\u001b[1;33m,\u001b[0m\u001b[1;33m\u001b[0m\u001b[1;33m\u001b[0m\u001b[0m\n",
      "\u001b[1;32m~\\anaconda3\\lib\\site-packages\\pandas\\io\\common.py\u001b[0m in \u001b[0;36mget_handle\u001b[1;34m(path_or_buf, mode, encoding, compression, memory_map, is_text, errors, storage_options)\u001b[0m\n\u001b[0;32m    784\u001b[0m         \u001b[1;32mif\u001b[0m \u001b[0mioargs\u001b[0m\u001b[1;33m.\u001b[0m\u001b[0mencoding\u001b[0m \u001b[1;32mand\u001b[0m \u001b[1;34m\"b\"\u001b[0m \u001b[1;32mnot\u001b[0m \u001b[1;32min\u001b[0m \u001b[0mioargs\u001b[0m\u001b[1;33m.\u001b[0m\u001b[0mmode\u001b[0m\u001b[1;33m:\u001b[0m\u001b[1;33m\u001b[0m\u001b[1;33m\u001b[0m\u001b[0m\n\u001b[0;32m    785\u001b[0m             \u001b[1;31m# Encoding\u001b[0m\u001b[1;33m\u001b[0m\u001b[1;33m\u001b[0m\u001b[0m\n\u001b[1;32m--> 786\u001b[1;33m             handle = open(\n\u001b[0m\u001b[0;32m    787\u001b[0m                 \u001b[0mhandle\u001b[0m\u001b[1;33m,\u001b[0m\u001b[1;33m\u001b[0m\u001b[1;33m\u001b[0m\u001b[0m\n\u001b[0;32m    788\u001b[0m                 \u001b[0mioargs\u001b[0m\u001b[1;33m.\u001b[0m\u001b[0mmode\u001b[0m\u001b[1;33m,\u001b[0m\u001b[1;33m\u001b[0m\u001b[1;33m\u001b[0m\u001b[0m\n",
      "\u001b[1;31mFileNotFoundError\u001b[0m: [Errno 2] No such file or directory: '../data/02._US_Unemployment_Oct2012.csv'"
     ]
    }
   ],
   "source": [
    "import json\n",
    "\n",
    "# 미국 주별 실업률 데이터 불러오기\n",
    "# state_data = pd.read_csv('../data/02._US_Unemployment_Oct2012.csv')\n",
    "\n",
    "m = folium.Map([43, -102], zoom_start=3)\n",
    "\n",
    "folium.Choropleth(\n",
    "    geo_data='../data/02._us-states.json', # 경계선 좌표값이 담긴 데이터\n",
    "    data=state_data, # Series or DataFrame 넣으면 된다\n",
    "    columns=['State', 'Unemployment'], # DataFrame의 어떤 columns을 넣을지\n",
    "    key_on='feature.id', # id 값을 가져오겠다; feature.id : feature 붙여줘야 함 (folium의 정해진 형식)\n",
    "    fill_color='BuPu',\n",
    "    fill_opacity=0.5, # 색 투명도\n",
    "    line_opacity=0.5, # 선 투명도\n",
    "    legend_name='Unemployment rate (%)' # 범례\n",
    ").add_to(m)\n",
    "m"
   ]
  },
  {
   "cell_type": "code",
   "execution_count": 27,
   "id": "38ef6b03",
   "metadata": {},
   "outputs": [
    {
     "name": "stderr",
     "output_type": "stream",
     "text": [
      "C:\\Users\\MYCOM\\anaconda3\\lib\\site-packages\\folium\\folium.py:465: FutureWarning: The choropleth  method has been deprecated. Instead use the new Choropleth class, which has the same arguments. See the example notebook 'GeoJSON_and_choropleth' for how to do this.\n",
      "  warnings.warn(\n",
      "C:\\Users\\MYCOM\\anaconda3\\lib\\site-packages\\pandas\\core\\indexes\\base.py:6999: FutureWarning: In a future version, the Index constructor will not infer numeric dtypes when passed object-dtype sequences (matching Series behavior)\n",
      "  return Index(sequences[0], name=names)\n"
     ]
    },
    {
     "data": {
      "text/plain": [
       "True"
      ]
     },
     "execution_count": 27,
     "metadata": {},
     "output_type": "execute_result"
    }
   ],
   "source": [
    "import pandas as pd\n",
    "import folium\n",
    "import webbrowser\n",
    " \n",
    "state_geo = \"C:/Users/MYCOM/data/TL_SCCO_SIG_WGS84.json\"\n",
    " \n",
    "# Load the unemployment value of each state\n",
    "# Find the original file here: https://github.com/python-visualization/folium/tree/master/examples/data\n",
    "state_visitor = \"C:/Users/MYCOM/data/codemapping.xlsx\"\n",
    "state_data = pd.read_excel(state_visitor)\n",
    "state_data = state_data.astype({'Code':'object'})\n",
    "state_data = state_data.astype({'Visitor':'float'})\n",
    "m = folium.Map(location=[36, 127], tiles=\"OpenStreetMap\", zoom_start=7)\n",
    "\n",
    "\n",
    "m.choropleth(\n",
    " geo_data=state_geo,\n",
    " name='choropleth',\n",
    " data=state_data,\n",
    " columns=['Code', 'Visitor'],\n",
    " key_on='feature.properties.SIG_CD',\n",
    " fill_color='YlGn',\n",
    " fill_opacity=0.7,\n",
    " line_opacity=0.5,\n",
    " legend_name='Visitor Rate (%)'\n",
    ")\n",
    "folium.LayerControl().add_to(m)\n",
    "\n",
    "# Save to html\n",
    "m.save('folium_kr.html')\n",
    "webbrowser.open_new(\"folium_kr.html\")\n",
    "\n",
    "\n"
   ]
  },
  {
   "cell_type": "code",
   "execution_count": 28,
   "id": "8791cc03",
   "metadata": {},
   "outputs": [
    {
     "data": {
      "text/html": [
       "<div>\n",
       "<style scoped>\n",
       "    .dataframe tbody tr th:only-of-type {\n",
       "        vertical-align: middle;\n",
       "    }\n",
       "\n",
       "    .dataframe tbody tr th {\n",
       "        vertical-align: top;\n",
       "    }\n",
       "\n",
       "    .dataframe thead th {\n",
       "        text-align: right;\n",
       "    }\n",
       "</style>\n",
       "<table border=\"1\" class=\"dataframe\">\n",
       "  <thead>\n",
       "    <tr style=\"text-align: right;\">\n",
       "      <th></th>\n",
       "      <th>Code</th>\n",
       "      <th>Visitor</th>\n",
       "      <th>Accomodation Visitor</th>\n",
       "      <th>Yearly Expenditure</th>\n",
       "      <th>Num of Searches</th>\n",
       "    </tr>\n",
       "  </thead>\n",
       "  <tbody>\n",
       "    <tr>\n",
       "      <th>0</th>\n",
       "      <td>39010</td>\n",
       "      <td>65421526.0</td>\n",
       "      <td>12694866</td>\n",
       "      <td>796005758</td>\n",
       "      <td>1551626</td>\n",
       "    </tr>\n",
       "    <tr>\n",
       "      <th>1</th>\n",
       "      <td>39020</td>\n",
       "      <td>49799405.0</td>\n",
       "      <td>9329564</td>\n",
       "      <td>3188866938913592</td>\n",
       "      <td>1071068</td>\n",
       "    </tr>\n",
       "    <tr>\n",
       "      <th>2</th>\n",
       "      <td>32030</td>\n",
       "      <td>35777645.0</td>\n",
       "      <td>7084141</td>\n",
       "      <td>222215626</td>\n",
       "      <td>1072979</td>\n",
       "    </tr>\n",
       "    <tr>\n",
       "      <th>3</th>\n",
       "      <td>36020</td>\n",
       "      <td>27311049.0</td>\n",
       "      <td>5871833</td>\n",
       "      <td>188901309</td>\n",
       "      <td>292794</td>\n",
       "    </tr>\n",
       "    <tr>\n",
       "      <th>4</th>\n",
       "      <td>32060</td>\n",
       "      <td>25063595.0</td>\n",
       "      <td>4779154</td>\n",
       "      <td>185760663</td>\n",
       "      <td>876159</td>\n",
       "    </tr>\n",
       "  </tbody>\n",
       "</table>\n",
       "</div>"
      ],
      "text/plain": [
       "    Code     Visitor  Accomodation Visitor  Yearly Expenditure  \\\n",
       "0  39010  65421526.0              12694866           796005758   \n",
       "1  39020  49799405.0               9329564    3188866938913592   \n",
       "2  32030  35777645.0               7084141           222215626   \n",
       "3  36020  27311049.0               5871833           188901309   \n",
       "4  32060  25063595.0               4779154           185760663   \n",
       "\n",
       "   Num of Searches  \n",
       "0          1551626  \n",
       "1          1071068  \n",
       "2          1072979  \n",
       "3           292794  \n",
       "4           876159  "
      ]
     },
     "execution_count": 28,
     "metadata": {},
     "output_type": "execute_result"
    }
   ],
   "source": [
    "state_data.head()"
   ]
  },
  {
   "cell_type": "code",
   "execution_count": 29,
   "id": "7157ad1e",
   "metadata": {},
   "outputs": [
    {
     "name": "stdout",
     "output_type": "stream",
     "text": [
      "<class 'pandas.core.frame.DataFrame'>\n",
      "RangeIndex: 15 entries, 0 to 14\n",
      "Data columns (total 5 columns):\n",
      " #   Column                Non-Null Count  Dtype  \n",
      "---  ------                --------------  -----  \n",
      " 0   Code                  15 non-null     object \n",
      " 1   Visitor               15 non-null     float64\n",
      " 2   Accomodation Visitor  15 non-null     int64  \n",
      " 3   Yearly Expenditure    15 non-null     int64  \n",
      " 4   Num of Searches       15 non-null     int64  \n",
      "dtypes: float64(1), int64(3), object(1)\n",
      "memory usage: 728.0+ bytes\n"
     ]
    }
   ],
   "source": [
    "state_data.info()"
   ]
  },
  {
   "cell_type": "code",
   "execution_count": 25,
   "id": "a9d9f8f8",
   "metadata": {},
   "outputs": [
    {
     "name": "stderr",
     "output_type": "stream",
     "text": [
      "C:\\Users\\MYCOM\\anaconda3\\lib\\site-packages\\folium\\folium.py:465: FutureWarning: The choropleth  method has been deprecated. Instead use the new Choropleth class, which has the same arguments. See the example notebook 'GeoJSON_and_choropleth' for how to do this.\n",
      "  warnings.warn(\n"
     ]
    },
    {
     "data": {
      "text/plain": [
       "True"
      ]
     },
     "execution_count": 25,
     "metadata": {},
     "output_type": "execute_result"
    }
   ],
   "source": [
    "\"\"\"\n",
    "Created on Fri Aug 31 16:42:02 2018\n",
    "\n",
    "@author: kccha\n",
    "\"\"\"\n",
    "\n",
    "# Import libraries\n",
    "import pandas as pd\n",
    "import folium\n",
    "import webbrowser\n",
    " \n",
    "# Load the shape of the zone (US states)\n",
    "# Find the original file here: https://github.com/python-visualization/folium/tree/master/examples/data\n",
    "# You have to download this file and set the directory where you saved it\n",
    "\n",
    " \n",
    "# Load the unemployment value of each state\n",
    "# Find the original file here: https://github.com/python-visualization/folium/tree/master/examples/data\n",
    "state_unemployment = \"C:/Users/MYCOM/data/Total_People_2018.csv\"\n",
    "state_data = pd.read_csv(state_unemployment, encoding = 'euc-kr')\n",
    " \n",
    "# Initialize the map:\n",
    "m = folium.Map(location=[36, 127], tiles=\"OpenStreetMap\", zoom_start=7)\n",
    " \n",
    "# Add the color for the chloropleth:\n",
    "\n",
    "m.choropleth(\n",
    " geo_data=state_geo,\n",
    " name='choropleth',\n",
    " data=state_data,\n",
    " columns=['Code', 'Population'],\n",
    " key_on='feature.properties.SIG_CD',\n",
    " fill_color='YlGn',\n",
    " fill_opacity=0.7,\n",
    " line_opacity=0.5,\n",
    " legend_name='Population Rate (%)'\n",
    ")\n",
    "\n",
    "folium.LayerControl().add_to(m)\n",
    " \n",
    "# Save to html\n",
    "m.save('folium_kr.html')\n",
    "webbrowser.open_new(\"folium_kr.html\")"
   ]
  },
  {
   "cell_type": "code",
   "execution_count": 26,
   "id": "0ccc04dd",
   "metadata": {},
   "outputs": [
    {
     "name": "stdout",
     "output_type": "stream",
     "text": [
      "<class 'pandas.core.frame.DataFrame'>\n",
      "RangeIndex: 255 entries, 0 to 254\n",
      "Data columns (total 2 columns):\n",
      " #   Column      Non-Null Count  Dtype  \n",
      "---  ------      --------------  -----  \n",
      " 0   Code        255 non-null    object \n",
      " 1   Population  255 non-null    float64\n",
      "dtypes: float64(1), object(1)\n",
      "memory usage: 4.1+ KB\n"
     ]
    }
   ],
   "source": [
    "state_data.info()"
   ]
  },
  {
   "cell_type": "code",
   "execution_count": 34,
   "id": "b3772673",
   "metadata": {},
   "outputs": [
    {
     "data": {
      "text/plain": [
       "True"
      ]
     },
     "execution_count": 34,
     "metadata": {},
     "output_type": "execute_result"
    }
   ],
   "source": [
    "# \"C:\\Users\\MYCOM\\data\\skorea_municipalities_geo_simple.json\"\n",
    "import webbrowser\n",
    "import folium, json\n",
    "import pandas as pd\n",
    "\n",
    "m = folium.Map(location=[36, 127], tiles=\"OpenStreetMap\", zoom_start=8)\n",
    "geo_data = json.load(open('C:/Users/MYCOM/data/skorea_municipalities_geo_simple.json', encoding='utf-8'))\n",
    "\n",
    "df = pd.read_csv(\"C:/Users/MYCOM/data/codemapping2.csv\", encoding='utf-8', dtype={'code':'str'})\n",
    "folium.Choropleth(geo_data=geo_data,\n",
    "                  data = df,\n",
    "                  columns=['Name', 'Visitor'],\n",
    "                  key_on='feature.properties.name',\n",
    "                  fill_color='YlGn',\n",
    "                  fill_opacity=1\n",
    "                  ).add_to(m)\n",
    "\n",
    "m.save('folium_kr.html')\n",
    "webbrowser.open_new(\"folium_kr.html\")"
   ]
  },
  {
   "cell_type": "code",
   "execution_count": 33,
   "id": "8edaa680",
   "metadata": {},
   "outputs": [
    {
     "data": {
      "text/plain": [
       "True"
      ]
     },
     "execution_count": 33,
     "metadata": {},
     "output_type": "execute_result"
    }
   ],
   "source": [
    "import webbrowser\n",
    "import folium, json\n",
    "import pandas as pd\n",
    "\n",
    "m = folium.Map(location=[36, 127], tiles=\"OpenStreetMap\", zoom_start=8)\n",
    "geo_data = json.load(open('C:/Users/MYCOM/data/skorea_municipalities_geo_simple.json', encoding='utf-8'))\n",
    "\n",
    "df = pd.read_csv(\"C:/Users/MYCOM/data/codemapping2.csv\", encoding='utf-8', dtype={'code':'str'})\n",
    "folium.Choropleth(geo_data=geo_data,\n",
    "                  data = df,\n",
    "                  columns=['Name', 'Num of Searches'],\n",
    "                  key_on='feature.properties.name',\n",
    "                  fill_color='RdPu',\n",
    "                  fill_opacity=1\n",
    "                  ).add_to(m)\n",
    "\n",
    "m.save('folium_kr.html')\n",
    "webbrowser.open_new(\"folium_kr.html\")"
   ]
  },
  {
   "cell_type": "code",
   "execution_count": 35,
   "id": "a7feaf52",
   "metadata": {},
   "outputs": [
    {
     "data": {
      "text/plain": [
       "True"
      ]
     },
     "execution_count": 35,
     "metadata": {},
     "output_type": "execute_result"
    }
   ],
   "source": [
    "import webbrowser\n",
    "import folium, json\n",
    "import pandas as pd\n",
    "\n",
    "m = folium.Map(location=[36, 127], tiles=\"OpenStreetMap\", zoom_start=8)\n",
    "geo_data = json.load(open('C:/Users/MYCOM/data/skorea_municipalities_geo_simple.json', encoding='utf-8'))\n",
    "\n",
    "df = pd.read_csv(\"C:/Users/MYCOM/data/codemapping2.csv\", encoding='utf-8', dtype={'code':'str'})\n",
    "folium.Choropleth(geo_data=geo_data,\n",
    "                  data = df,\n",
    "                  columns=['Name', 'Accomodation Visitor'],\n",
    "                  key_on='feature.properties.name',\n",
    "                  fill_color='YlOrRd',\n",
    "                  fill_opacity=1\n",
    "                  ).add_to(m)\n",
    "\n",
    "m.save('folium_kr.html')\n",
    "webbrowser.open_new(\"folium_kr.html\")"
   ]
  },
  {
   "cell_type": "code",
   "execution_count": 31,
   "id": "4ff9adc0",
   "metadata": {},
   "outputs": [
    {
     "data": {
      "text/html": [
       "<div>\n",
       "<style scoped>\n",
       "    .dataframe tbody tr th:only-of-type {\n",
       "        vertical-align: middle;\n",
       "    }\n",
       "\n",
       "    .dataframe tbody tr th {\n",
       "        vertical-align: top;\n",
       "    }\n",
       "\n",
       "    .dataframe thead th {\n",
       "        text-align: right;\n",
       "    }\n",
       "</style>\n",
       "<table border=\"1\" class=\"dataframe\">\n",
       "  <thead>\n",
       "    <tr style=\"text-align: right;\">\n",
       "      <th></th>\n",
       "      <th>Code</th>\n",
       "      <th>Visitor</th>\n",
       "      <th>Accomodation Visitor</th>\n",
       "      <th>Yearly Expenditure</th>\n",
       "      <th>Num of Searches</th>\n",
       "      <th>Name</th>\n",
       "      <th>Unnamed: 6</th>\n",
       "    </tr>\n",
       "  </thead>\n",
       "  <tbody>\n",
       "    <tr>\n",
       "      <th>0</th>\n",
       "      <td>50010</td>\n",
       "      <td>65421526</td>\n",
       "      <td>12694866</td>\n",
       "      <td>7.960058e+08</td>\n",
       "      <td>1551626</td>\n",
       "      <td>제주시</td>\n",
       "      <td>NaN</td>\n",
       "    </tr>\n",
       "    <tr>\n",
       "      <th>1</th>\n",
       "      <td>50020</td>\n",
       "      <td>49799405</td>\n",
       "      <td>9329564</td>\n",
       "      <td>3.188870e+15</td>\n",
       "      <td>1071068</td>\n",
       "      <td>서귀포시</td>\n",
       "      <td>NaN</td>\n",
       "    </tr>\n",
       "    <tr>\n",
       "      <th>2</th>\n",
       "      <td>51030</td>\n",
       "      <td>35777645</td>\n",
       "      <td>7084141</td>\n",
       "      <td>2.222156e+08</td>\n",
       "      <td>1072979</td>\n",
       "      <td>강릉시</td>\n",
       "      <td>NaN</td>\n",
       "    </tr>\n",
       "    <tr>\n",
       "      <th>3</th>\n",
       "      <td>46020</td>\n",
       "      <td>27311049</td>\n",
       "      <td>5871833</td>\n",
       "      <td>1.889013e+08</td>\n",
       "      <td>292794</td>\n",
       "      <td>여수시</td>\n",
       "      <td>NaN</td>\n",
       "    </tr>\n",
       "    <tr>\n",
       "      <th>4</th>\n",
       "      <td>51060</td>\n",
       "      <td>25063595</td>\n",
       "      <td>4779154</td>\n",
       "      <td>1.857607e+08</td>\n",
       "      <td>876159</td>\n",
       "      <td>속초시</td>\n",
       "      <td>NaN</td>\n",
       "    </tr>\n",
       "  </tbody>\n",
       "</table>\n",
       "</div>"
      ],
      "text/plain": [
       "    Code   Visitor  Accomodation Visitor  Yearly Expenditure  Num of Searches  \\\n",
       "0  50010  65421526              12694866        7.960058e+08          1551626   \n",
       "1  50020  49799405               9329564        3.188870e+15          1071068   \n",
       "2  51030  35777645               7084141        2.222156e+08          1072979   \n",
       "3  46020  27311049               5871833        1.889013e+08           292794   \n",
       "4  51060  25063595               4779154        1.857607e+08           876159   \n",
       "\n",
       "   Name  Unnamed: 6  \n",
       "0   제주시         NaN  \n",
       "1  서귀포시         NaN  \n",
       "2   강릉시         NaN  \n",
       "3   여수시         NaN  \n",
       "4   속초시         NaN  "
      ]
     },
     "execution_count": 31,
     "metadata": {},
     "output_type": "execute_result"
    }
   ],
   "source": [
    "df.head()"
   ]
  }
 ],
 "metadata": {
  "kernelspec": {
   "display_name": "Python 3 (ipykernel)",
   "language": "python",
   "name": "python3"
  },
  "language_info": {
   "codemirror_mode": {
    "name": "ipython",
    "version": 3
   },
   "file_extension": ".py",
   "mimetype": "text/x-python",
   "name": "python",
   "nbconvert_exporter": "python",
   "pygments_lexer": "ipython3",
   "version": "3.9.13"
  }
 },
 "nbformat": 4,
 "nbformat_minor": 5
}
