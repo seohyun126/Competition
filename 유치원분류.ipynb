{
 "cells": [
  {
   "cell_type": "code",
   "execution_count": 2,
   "id": "ebae5ad9",
   "metadata": {},
   "outputs": [],
   "source": [
    "import pandas as pd\n",
    "data=pd.read_csv('C:/Users/MYCOM/Downloads/유아부최종.csv',encoding='euc-kr')"
   ]
  },
  {
   "cell_type": "code",
   "execution_count": 3,
   "id": "c6af18dd",
   "metadata": {},
   "outputs": [
    {
     "data": {
      "text/html": [
       "<div>\n",
       "<style scoped>\n",
       "    .dataframe tbody tr th:only-of-type {\n",
       "        vertical-align: middle;\n",
       "    }\n",
       "\n",
       "    .dataframe tbody tr th {\n",
       "        vertical-align: top;\n",
       "    }\n",
       "\n",
       "    .dataframe thead th {\n",
       "        text-align: right;\n",
       "    }\n",
       "</style>\n",
       "<table border=\"1\" class=\"dataframe\">\n",
       "  <thead>\n",
       "    <tr style=\"text-align: right;\">\n",
       "      <th></th>\n",
       "      <th>유치원명</th>\n",
       "      <th>지역</th>\n",
       "      <th>급식유아수</th>\n",
       "      <th>영양교사및조리사수</th>\n",
       "      <th>소방대피훈련여부</th>\n",
       "      <th>가스점검여부</th>\n",
       "      <th>소방안전점검여부</th>\n",
       "      <th>전기설비점검여부</th>\n",
       "      <th>CCTV 설치여부</th>\n",
       "      <th>CCTV 총 설치수</th>\n",
       "      <th>안전교육</th>\n",
       "      <th>운행차량수</th>\n",
       "      <th>환경위생관리 점수</th>\n",
       "      <th>총유아수</th>\n",
       "      <th>사고수</th>\n",
       "      <th>나라</th>\n",
       "    </tr>\n",
       "  </thead>\n",
       "  <tbody>\n",
       "    <tr>\n",
       "      <th>0</th>\n",
       "      <td>가온유치원</td>\n",
       "      <td>강원도</td>\n",
       "      <td>120</td>\n",
       "      <td>3</td>\n",
       "      <td>1</td>\n",
       "      <td>1</td>\n",
       "      <td>1</td>\n",
       "      <td>1</td>\n",
       "      <td>1</td>\n",
       "      <td>20</td>\n",
       "      <td>52</td>\n",
       "      <td>2</td>\n",
       "      <td>5</td>\n",
       "      <td>120</td>\n",
       "      <td>2</td>\n",
       "      <td>대한민국</td>\n",
       "    </tr>\n",
       "    <tr>\n",
       "      <th>1</th>\n",
       "      <td>강동초등학교병설유치원</td>\n",
       "      <td>강원도</td>\n",
       "      <td>17</td>\n",
       "      <td>1</td>\n",
       "      <td>1</td>\n",
       "      <td>1</td>\n",
       "      <td>1</td>\n",
       "      <td>1</td>\n",
       "      <td>1</td>\n",
       "      <td>7</td>\n",
       "      <td>31</td>\n",
       "      <td>1</td>\n",
       "      <td>5</td>\n",
       "      <td>9</td>\n",
       "      <td>0</td>\n",
       "      <td>대한민국</td>\n",
       "    </tr>\n",
       "    <tr>\n",
       "      <th>2</th>\n",
       "      <td>강릉유치원</td>\n",
       "      <td>강원도</td>\n",
       "      <td>74</td>\n",
       "      <td>1</td>\n",
       "      <td>1</td>\n",
       "      <td>1</td>\n",
       "      <td>1</td>\n",
       "      <td>1</td>\n",
       "      <td>1</td>\n",
       "      <td>9</td>\n",
       "      <td>31</td>\n",
       "      <td>2</td>\n",
       "      <td>5</td>\n",
       "      <td>65</td>\n",
       "      <td>3</td>\n",
       "      <td>대한민국</td>\n",
       "    </tr>\n",
       "    <tr>\n",
       "      <th>3</th>\n",
       "      <td>강릉초등학교병설유치원</td>\n",
       "      <td>강원도</td>\n",
       "      <td>62</td>\n",
       "      <td>1</td>\n",
       "      <td>1</td>\n",
       "      <td>1</td>\n",
       "      <td>1</td>\n",
       "      <td>1</td>\n",
       "      <td>1</td>\n",
       "      <td>22</td>\n",
       "      <td>25</td>\n",
       "      <td>0</td>\n",
       "      <td>5</td>\n",
       "      <td>43</td>\n",
       "      <td>2</td>\n",
       "      <td>대한민국</td>\n",
       "    </tr>\n",
       "    <tr>\n",
       "      <th>4</th>\n",
       "      <td>경포대초등학교병설유치원</td>\n",
       "      <td>강원도</td>\n",
       "      <td>3</td>\n",
       "      <td>1</td>\n",
       "      <td>1</td>\n",
       "      <td>1</td>\n",
       "      <td>1</td>\n",
       "      <td>1</td>\n",
       "      <td>1</td>\n",
       "      <td>12</td>\n",
       "      <td>27</td>\n",
       "      <td>0</td>\n",
       "      <td>5</td>\n",
       "      <td>11</td>\n",
       "      <td>0</td>\n",
       "      <td>대한민국</td>\n",
       "    </tr>\n",
       "  </tbody>\n",
       "</table>\n",
       "</div>"
      ],
      "text/plain": [
       "           유치원명   지역  급식유아수  영양교사및조리사수  소방대피훈련여부  가스점검여부  소방안전점검여부  전기설비점검여부  \\\n",
       "0         가온유치원  강원도    120          3         1       1         1         1   \n",
       "1   강동초등학교병설유치원  강원도     17          1         1       1         1         1   \n",
       "2         강릉유치원  강원도     74          1         1       1         1         1   \n",
       "3   강릉초등학교병설유치원  강원도     62          1         1       1         1         1   \n",
       "4  경포대초등학교병설유치원  강원도      3          1         1       1         1         1   \n",
       "\n",
       "  CCTV 설치여부  CCTV 총 설치수  안전교육  운행차량수  환경위생관리 점수  총유아수  사고수    나라  \n",
       "0         1          20    52      2          5   120    2  대한민국  \n",
       "1         1           7    31      1          5     9    0  대한민국  \n",
       "2         1           9    31      2          5    65    3  대한민국  \n",
       "3         1          22    25      0          5    43    2  대한민국  \n",
       "4         1          12    27      0          5    11    0  대한민국  "
      ]
     },
     "execution_count": 3,
     "metadata": {},
     "output_type": "execute_result"
    }
   ],
   "source": [
    "data.drop('Unnamed: 0',axis=1,inplace=True)\n",
    "data.head()"
   ]
  },
  {
   "cell_type": "code",
   "execution_count": 4,
   "id": "ebb38fbd",
   "metadata": {},
   "outputs": [
    {
     "data": {
      "text/plain": [
       "Index(['유치원명', '지역', '급식유아수', '영양교사및조리사수', '소방대피훈련여부', '가스점검여부', '소방안전점검여부',\n",
       "       '전기설비점검여부', 'CCTV 설치여부', 'CCTV 총 설치수', '안전교육', '운행차량수', '환경위생관리 점수',\n",
       "       '총유아수', '사고수', '나라'],\n",
       "      dtype='object')"
      ]
     },
     "execution_count": 4,
     "metadata": {},
     "output_type": "execute_result"
    }
   ],
   "source": [
    "data.columns"
   ]
  },
  {
   "cell_type": "code",
   "execution_count": 5,
   "id": "2f2504cf",
   "metadata": {},
   "outputs": [
    {
     "name": "stdout",
     "output_type": "stream",
     "text": [
      "<class 'pandas.core.frame.DataFrame'>\n",
      "RangeIndex: 7343 entries, 0 to 7342\n",
      "Data columns (total 16 columns):\n",
      " #   Column      Non-Null Count  Dtype \n",
      "---  ------      --------------  ----- \n",
      " 0   유치원명        7343 non-null   object\n",
      " 1   지역          7343 non-null   object\n",
      " 2   급식유아수       7343 non-null   int64 \n",
      " 3   영양교사및조리사수   7343 non-null   int64 \n",
      " 4   소방대피훈련여부    7343 non-null   int64 \n",
      " 5   가스점검여부      7343 non-null   int64 \n",
      " 6   소방안전점검여부    7343 non-null   int64 \n",
      " 7   전기설비점검여부    7343 non-null   int64 \n",
      " 8   CCTV 설치여부   7343 non-null   object\n",
      " 9   CCTV 총 설치수  7343 non-null   int64 \n",
      " 10  안전교육        7343 non-null   int64 \n",
      " 11  운행차량수       7343 non-null   int64 \n",
      " 12  환경위생관리 점수   7343 non-null   int64 \n",
      " 13  총유아수        7343 non-null   int64 \n",
      " 14  사고수         7343 non-null   int64 \n",
      " 15  나라          7343 non-null   object\n",
      "dtypes: int64(12), object(4)\n",
      "memory usage: 918.0+ KB\n"
     ]
    }
   ],
   "source": [
    "data.info()"
   ]
  },
  {
   "cell_type": "code",
   "execution_count": 6,
   "id": "69217955",
   "metadata": {},
   "outputs": [
    {
     "data": {
      "text/plain": [
       "1    7225\n",
       "0     117\n",
       "        1\n",
       "Name: CCTV 설치여부, dtype: int64"
      ]
     },
     "execution_count": 6,
     "metadata": {},
     "output_type": "execute_result"
    }
   ],
   "source": [
    "data['CCTV 설치여부'].value_counts()"
   ]
  },
  {
   "cell_type": "code",
   "execution_count": 7,
   "id": "e940a959",
   "metadata": {},
   "outputs": [],
   "source": [
    "data.loc[data['CCTV 설치여부']==' ','CCTV 설치여부']=1"
   ]
  },
  {
   "cell_type": "code",
   "execution_count": 8,
   "id": "afbef629",
   "metadata": {},
   "outputs": [
    {
     "data": {
      "text/plain": [
       "1    7225\n",
       "0     117\n",
       "1       1\n",
       "Name: CCTV 설치여부, dtype: int64"
      ]
     },
     "execution_count": 8,
     "metadata": {},
     "output_type": "execute_result"
    }
   ],
   "source": [
    "data['CCTV 설치여부'].value_counts()"
   ]
  },
  {
   "cell_type": "code",
   "execution_count": 9,
   "id": "121583fd",
   "metadata": {},
   "outputs": [],
   "source": [
    "data['CCTV 설치여부']=data['CCTV 설치여부'].astype(int)"
   ]
  },
  {
   "cell_type": "code",
   "execution_count": 10,
   "id": "8a8049d2",
   "metadata": {},
   "outputs": [],
   "source": [
    "data['안전점수']=data['소방대피훈련여부']+data['가스점검여부']+data['소방안전점검여부']+data['전기설비점검여부']+data['CCTV 설치여부']+data['환경위생관리 점수']"
   ]
  },
  {
   "cell_type": "code",
   "execution_count": 11,
   "id": "babc4f4f",
   "metadata": {},
   "outputs": [
    {
     "data": {
      "text/plain": [
       "count    7343.000000\n",
       "mean        9.443960\n",
       "std         0.978709\n",
       "min         1.000000\n",
       "25%         9.000000\n",
       "50%        10.000000\n",
       "75%        10.000000\n",
       "max        11.000000\n",
       "Name: 안전점수, dtype: float64"
      ]
     },
     "execution_count": 11,
     "metadata": {},
     "output_type": "execute_result"
    }
   ],
   "source": [
    "data['안전점수'].describe()"
   ]
  },
  {
   "cell_type": "code",
   "execution_count": 12,
   "id": "87a734bc",
   "metadata": {},
   "outputs": [
    {
     "data": {
      "text/plain": [
       "10    4517\n",
       "9     1780\n",
       "8      536\n",
       "7      223\n",
       "11     133\n",
       "6       96\n",
       "5       44\n",
       "4       10\n",
       "3        2\n",
       "1        1\n",
       "2        1\n",
       "Name: 안전점수, dtype: int64"
      ]
     },
     "execution_count": 12,
     "metadata": {},
     "output_type": "execute_result"
    }
   ],
   "source": [
    "data['안전점수'].value_counts()"
   ]
  },
  {
   "cell_type": "code",
   "execution_count": 13,
   "id": "7b6990e9",
   "metadata": {},
   "outputs": [
    {
     "data": {
      "text/plain": [
       "(array([1.00e+00, 1.00e+00, 2.00e+00, 1.00e+01, 4.40e+01, 9.60e+01,\n",
       "        2.23e+02, 5.36e+02, 1.78e+03, 4.65e+03]),\n",
       " array([ 1.,  2.,  3.,  4.,  5.,  6.,  7.,  8.,  9., 10., 11.]),\n",
       " <BarContainer object of 10 artists>)"
      ]
     },
     "execution_count": 13,
     "metadata": {},
     "output_type": "execute_result"
    },
    {
     "data": {
      "image/png": "[encoded data removed]",
      "text/plain": [
       "<Figure size 640x480 with 1 Axes>"
      ]
     },
     "metadata": {},
     "output_type": "display_data"
    }
   ],
   "source": [
    "import matplotlib.pyplot as plt\n",
    "plt.hist(data['안전점수'])"
   ]
  },
  {
   "cell_type": "code",
   "execution_count": 14,
   "id": "fae3a204",
   "metadata": {},
   "outputs": [],
   "source": [
    "import numpy as np\n",
    "from scipy import stats\n",
    "z_scores = np.abs(stats.zscore(data['안전교육']))"
   ]
  },
  {
   "cell_type": "code",
   "execution_count": 15,
   "id": "63738257",
   "metadata": {},
   "outputs": [
    {
     "data": {
      "text/plain": [
       "(7306, 17)"
      ]
     },
     "execution_count": 15,
     "metadata": {},
     "output_type": "execute_result"
    }
   ],
   "source": [
    "threshold = 3\n",
    "# 이상치 제거\n",
    "data_out = data[(z_scores < threshold)]\n",
    "data_out.shape"
   ]
  },
  {
   "cell_type": "code",
   "execution_count": 16,
   "id": "8f2c72f2",
   "metadata": {},
   "outputs": [
    {
     "data": {
      "text/html": [
       "<div>\n",
       "<style scoped>\n",
       "    .dataframe tbody tr th:only-of-type {\n",
       "        vertical-align: middle;\n",
       "    }\n",
       "\n",
       "    .dataframe tbody tr th {\n",
       "        vertical-align: top;\n",
       "    }\n",
       "\n",
       "    .dataframe thead th {\n",
       "        text-align: right;\n",
       "    }\n",
       "</style>\n",
       "<table border=\"1\" class=\"dataframe\">\n",
       "  <thead>\n",
       "    <tr style=\"text-align: right;\">\n",
       "      <th></th>\n",
       "      <th>유치원명</th>\n",
       "      <th>지역</th>\n",
       "      <th>급식유아수</th>\n",
       "      <th>영양교사및조리사수</th>\n",
       "      <th>소방대피훈련여부</th>\n",
       "      <th>가스점검여부</th>\n",
       "      <th>소방안전점검여부</th>\n",
       "      <th>전기설비점검여부</th>\n",
       "      <th>CCTV 설치여부</th>\n",
       "      <th>CCTV 총 설치수</th>\n",
       "      <th>안전교육</th>\n",
       "      <th>운행차량수</th>\n",
       "      <th>환경위생관리 점수</th>\n",
       "      <th>총유아수</th>\n",
       "      <th>사고수</th>\n",
       "      <th>나라</th>\n",
       "      <th>안전점수</th>\n",
       "    </tr>\n",
       "  </thead>\n",
       "  <tbody>\n",
       "    <tr>\n",
       "      <th>0</th>\n",
       "      <td>가온유치원</td>\n",
       "      <td>강원도</td>\n",
       "      <td>120</td>\n",
       "      <td>3</td>\n",
       "      <td>1</td>\n",
       "      <td>1</td>\n",
       "      <td>1</td>\n",
       "      <td>1</td>\n",
       "      <td>1</td>\n",
       "      <td>20</td>\n",
       "      <td>52</td>\n",
       "      <td>2</td>\n",
       "      <td>5</td>\n",
       "      <td>120</td>\n",
       "      <td>2</td>\n",
       "      <td>대한민국</td>\n",
       "      <td>10</td>\n",
       "    </tr>\n",
       "    <tr>\n",
       "      <th>1</th>\n",
       "      <td>강동초등학교병설유치원</td>\n",
       "      <td>강원도</td>\n",
       "      <td>17</td>\n",
       "      <td>1</td>\n",
       "      <td>1</td>\n",
       "      <td>1</td>\n",
       "      <td>1</td>\n",
       "      <td>1</td>\n",
       "      <td>1</td>\n",
       "      <td>7</td>\n",
       "      <td>31</td>\n",
       "      <td>1</td>\n",
       "      <td>5</td>\n",
       "      <td>9</td>\n",
       "      <td>0</td>\n",
       "      <td>대한민국</td>\n",
       "      <td>10</td>\n",
       "    </tr>\n",
       "    <tr>\n",
       "      <th>2</th>\n",
       "      <td>강릉유치원</td>\n",
       "      <td>강원도</td>\n",
       "      <td>74</td>\n",
       "      <td>1</td>\n",
       "      <td>1</td>\n",
       "      <td>1</td>\n",
       "      <td>1</td>\n",
       "      <td>1</td>\n",
       "      <td>1</td>\n",
       "      <td>9</td>\n",
       "      <td>31</td>\n",
       "      <td>2</td>\n",
       "      <td>5</td>\n",
       "      <td>65</td>\n",
       "      <td>3</td>\n",
       "      <td>대한민국</td>\n",
       "      <td>10</td>\n",
       "    </tr>\n",
       "    <tr>\n",
       "      <th>3</th>\n",
       "      <td>강릉초등학교병설유치원</td>\n",
       "      <td>강원도</td>\n",
       "      <td>62</td>\n",
       "      <td>1</td>\n",
       "      <td>1</td>\n",
       "      <td>1</td>\n",
       "      <td>1</td>\n",
       "      <td>1</td>\n",
       "      <td>1</td>\n",
       "      <td>22</td>\n",
       "      <td>25</td>\n",
       "      <td>0</td>\n",
       "      <td>5</td>\n",
       "      <td>43</td>\n",
       "      <td>2</td>\n",
       "      <td>대한민국</td>\n",
       "      <td>10</td>\n",
       "    </tr>\n",
       "    <tr>\n",
       "      <th>4</th>\n",
       "      <td>경포대초등학교병설유치원</td>\n",
       "      <td>강원도</td>\n",
       "      <td>3</td>\n",
       "      <td>1</td>\n",
       "      <td>1</td>\n",
       "      <td>1</td>\n",
       "      <td>1</td>\n",
       "      <td>1</td>\n",
       "      <td>1</td>\n",
       "      <td>12</td>\n",
       "      <td>27</td>\n",
       "      <td>0</td>\n",
       "      <td>5</td>\n",
       "      <td>11</td>\n",
       "      <td>0</td>\n",
       "      <td>대한민국</td>\n",
       "      <td>10</td>\n",
       "    </tr>\n",
       "    <tr>\n",
       "      <th>...</th>\n",
       "      <td>...</td>\n",
       "      <td>...</td>\n",
       "      <td>...</td>\n",
       "      <td>...</td>\n",
       "      <td>...</td>\n",
       "      <td>...</td>\n",
       "      <td>...</td>\n",
       "      <td>...</td>\n",
       "      <td>...</td>\n",
       "      <td>...</td>\n",
       "      <td>...</td>\n",
       "      <td>...</td>\n",
       "      <td>...</td>\n",
       "      <td>...</td>\n",
       "      <td>...</td>\n",
       "      <td>...</td>\n",
       "      <td>...</td>\n",
       "    </tr>\n",
       "    <tr>\n",
       "      <th>7338</th>\n",
       "      <td>충주해솔유치원</td>\n",
       "      <td>충청북도</td>\n",
       "      <td>133</td>\n",
       "      <td>3</td>\n",
       "      <td>1</td>\n",
       "      <td>1</td>\n",
       "      <td>1</td>\n",
       "      <td>1</td>\n",
       "      <td>1</td>\n",
       "      <td>4</td>\n",
       "      <td>51</td>\n",
       "      <td>2</td>\n",
       "      <td>5</td>\n",
       "      <td>134</td>\n",
       "      <td>0</td>\n",
       "      <td>대한민국</td>\n",
       "      <td>10</td>\n",
       "    </tr>\n",
       "    <tr>\n",
       "      <th>7339</th>\n",
       "      <td>칠금초등학교병설유치원</td>\n",
       "      <td>충청북도</td>\n",
       "      <td>59</td>\n",
       "      <td>1</td>\n",
       "      <td>1</td>\n",
       "      <td>1</td>\n",
       "      <td>1</td>\n",
       "      <td>1</td>\n",
       "      <td>1</td>\n",
       "      <td>31</td>\n",
       "      <td>21</td>\n",
       "      <td>0</td>\n",
       "      <td>5</td>\n",
       "      <td>13</td>\n",
       "      <td>0</td>\n",
       "      <td>대한민국</td>\n",
       "      <td>10</td>\n",
       "    </tr>\n",
       "    <tr>\n",
       "      <th>7340</th>\n",
       "      <td>탄금유치원</td>\n",
       "      <td>충청북도</td>\n",
       "      <td>118</td>\n",
       "      <td>3</td>\n",
       "      <td>1</td>\n",
       "      <td>1</td>\n",
       "      <td>1</td>\n",
       "      <td>1</td>\n",
       "      <td>1</td>\n",
       "      <td>11</td>\n",
       "      <td>30</td>\n",
       "      <td>1</td>\n",
       "      <td>5</td>\n",
       "      <td>115</td>\n",
       "      <td>4</td>\n",
       "      <td>대한민국</td>\n",
       "      <td>10</td>\n",
       "    </tr>\n",
       "    <tr>\n",
       "      <th>7341</th>\n",
       "      <td>한담유치원</td>\n",
       "      <td>충청북도</td>\n",
       "      <td>78</td>\n",
       "      <td>2</td>\n",
       "      <td>1</td>\n",
       "      <td>1</td>\n",
       "      <td>1</td>\n",
       "      <td>1</td>\n",
       "      <td>1</td>\n",
       "      <td>8</td>\n",
       "      <td>56</td>\n",
       "      <td>2</td>\n",
       "      <td>5</td>\n",
       "      <td>41</td>\n",
       "      <td>0</td>\n",
       "      <td>대한민국</td>\n",
       "      <td>10</td>\n",
       "    </tr>\n",
       "    <tr>\n",
       "      <th>7342</th>\n",
       "      <td>해성유치원</td>\n",
       "      <td>충청북도</td>\n",
       "      <td>85</td>\n",
       "      <td>2</td>\n",
       "      <td>1</td>\n",
       "      <td>1</td>\n",
       "      <td>1</td>\n",
       "      <td>1</td>\n",
       "      <td>1</td>\n",
       "      <td>13</td>\n",
       "      <td>51</td>\n",
       "      <td>1</td>\n",
       "      <td>5</td>\n",
       "      <td>88</td>\n",
       "      <td>0</td>\n",
       "      <td>대한민국</td>\n",
       "      <td>10</td>\n",
       "    </tr>\n",
       "  </tbody>\n",
       "</table>\n",
       "<p>7306 rows × 17 columns</p>\n",
       "</div>"
      ],
      "text/plain": [
       "              유치원명    지역  급식유아수  영양교사및조리사수  소방대피훈련여부  가스점검여부  소방안전점검여부  \\\n",
       "0            가온유치원   강원도    120          3         1       1         1   \n",
       "1      강동초등학교병설유치원   강원도     17          1         1       1         1   \n",
       "2            강릉유치원   강원도     74          1         1       1         1   \n",
       "3      강릉초등학교병설유치원   강원도     62          1         1       1         1   \n",
       "4     경포대초등학교병설유치원   강원도      3          1         1       1         1   \n",
       "...            ...   ...    ...        ...       ...     ...       ...   \n",
       "7338       충주해솔유치원  충청북도    133          3         1       1         1   \n",
       "7339   칠금초등학교병설유치원  충청북도     59          1         1       1         1   \n",
       "7340         탄금유치원  충청북도    118          3         1       1         1   \n",
       "7341         한담유치원  충청북도     78          2         1       1         1   \n",
       "7342         해성유치원  충청북도     85          2         1       1         1   \n",
       "\n",
       "      전기설비점검여부  CCTV 설치여부  CCTV 총 설치수  안전교육  운행차량수  환경위생관리 점수  총유아수  사고수  \\\n",
       "0            1          1          20    52      2          5   120    2   \n",
       "1            1          1           7    31      1          5     9    0   \n",
       "2            1          1           9    31      2          5    65    3   \n",
       "3            1          1          22    25      0          5    43    2   \n",
       "4            1          1          12    27      0          5    11    0   \n",
       "...        ...        ...         ...   ...    ...        ...   ...  ...   \n",
       "7338         1          1           4    51      2          5   134    0   \n",
       "7339         1          1          31    21      0          5    13    0   \n",
       "7340         1          1          11    30      1          5   115    4   \n",
       "7341         1          1           8    56      2          5    41    0   \n",
       "7342         1          1          13    51      1          5    88    0   \n",
       "\n",
       "        나라  안전점수  \n",
       "0     대한민국    10  \n",
       "1     대한민국    10  \n",
       "2     대한민국    10  \n",
       "3     대한민국    10  \n",
       "4     대한민국    10  \n",
       "...    ...   ...  \n",
       "7338  대한민국    10  \n",
       "7339  대한민국    10  \n",
       "7340  대한민국    10  \n",
       "7341  대한민국    10  \n",
       "7342  대한민국    10  \n",
       "\n",
       "[7306 rows x 17 columns]"
      ]
     },
     "execution_count": 16,
     "metadata": {},
     "output_type": "execute_result"
    }
   ],
   "source": [
    "data_out"
   ]
  },
  {
   "cell_type": "code",
   "execution_count": 17,
   "id": "65677323",
   "metadata": {},
   "outputs": [],
   "source": [
    "data2=pd.read_excel(\"C:/Users/MYCOM/Downloads/방과후 과정 편성ㆍ운영에 관한 사항_20221.xlsx\")\n",
    "data3=pd.read_excel(\"C:/Users/MYCOM/Downloads/교실면적 현황_20221.xlsx\")"
   ]
  },
  {
   "cell_type": "code",
   "execution_count": 18,
   "id": "2783616c",
   "metadata": {},
   "outputs": [],
   "source": [
    "merged_data1=pd.merge(data[['유치원명','총유아수','사고수']],\n",
    "                     data2,on='유치원명',how='inner')\n",
    "\n",
    "merged_data2=pd.merge(data[['유치원명','총유아수','사고수']],\n",
    "                     data3,on='유치원명',how='inner')"
   ]
  },
  {
   "cell_type": "code",
   "execution_count": 19,
   "id": "5aa48572",
   "metadata": {},
   "outputs": [
    {
     "data": {
      "text/plain": [
       "Index(['유치원명', '총유아수', '사고수', '교육청명', '교육지원청명', '설립유형', '주소', '운영시간',\n",
       "       '독립편성학급수', '오후재편성학급수', '학급편성 계', '독립편성참여유아수', '오후재편성참여유아수', '참여유아수 계',\n",
       "       '정규교원수', '기간제교원수', '강사수', '교직원수 계'],\n",
       "      dtype='object')"
      ]
     },
     "execution_count": 19,
     "metadata": {},
     "output_type": "execute_result"
    }
   ],
   "source": [
    "merged_data1.columns"
   ]
  },
  {
   "cell_type": "code",
   "execution_count": 20,
   "id": "6f403997",
   "metadata": {},
   "outputs": [
    {
     "data": {
      "text/plain": [
       "Index(['유치원명', '총유아수', '사고수', '교육청명', '교육지원청명', '설립유형', '주소', '교실수', '교실면적',\n",
       "       '실내체육장', '보건/위생공간', '조리실/급식공간', '기타공간'],\n",
       "      dtype='object')"
      ]
     },
     "execution_count": 20,
     "metadata": {},
     "output_type": "execute_result"
    }
   ],
   "source": [
    "merged_data2.columns"
   ]
  },
  {
   "cell_type": "code",
   "execution_count": 21,
   "id": "8729cc3c",
   "metadata": {},
   "outputs": [],
   "source": [
    "merged_data3=pd.merge(merged_data1[['유치원명', '총유아수', '사고수', \n",
    "        '독립편성학급수', '오후재편성학급수', '학급편성 계',\n",
    "        '독립편성참여유아수', '오후재편성참여유아수', '참여유아수 계',\n",
    "       '정규교원수', '기간제교원수', '강사수', '교직원수 계']],\n",
    "        merged_data2[['유치원명','교실수', '교실면적',\n",
    "       '실내체육장', '보건/위생공간', '조리실/급식공간', '기타공간']],\n",
    "        on='유치원명',how='inner')"
   ]
  },
  {
   "cell_type": "code",
   "execution_count": 22,
   "id": "c88ffa28",
   "metadata": {},
   "outputs": [
    {
     "data": {
      "text/plain": [
       "1    797943\n",
       "0    562531\n",
       "Name: N사고수, dtype: int64"
      ]
     },
     "execution_count": 22,
     "metadata": {},
     "output_type": "execute_result"
    }
   ],
   "source": [
    "merged_data3['N사고수']=0\n",
    "merged_data3.loc[merged_data3['사고수']!=0,'N사고수']=1\n",
    "merged_data3['N사고수'].value_counts()"
   ]
  },
  {
   "cell_type": "code",
   "execution_count": 23,
   "id": "66950eb5",
   "metadata": {},
   "outputs": [],
   "source": [
    "X=merged_data3.drop(['사고수','N사고수','유치원명','총유아수'],\n",
    "                   axis=1,inplace=False)\n",
    "y=merged_data3['N사고수']"
   ]
  },
  {
   "cell_type": "code",
   "execution_count": 24,
   "id": "1650b2ea",
   "metadata": {},
   "outputs": [],
   "source": [
    "from sklearn.preprocessing import StandardScaler\n",
    "scaler=StandardScaler()\n",
    "X_scaled=scaler.fit_transform(X)"
   ]
  },
  {
   "cell_type": "code",
   "execution_count": 25,
   "id": "a5f5e24f",
   "metadata": {},
   "outputs": [
    {
     "data": {
      "text/plain": [
       "array([[ 0.78254303, -0.83458998, -0.0277398 , ..., -0.41284955,\n",
       "        -0.04880031, -0.0502574 ],\n",
       "       [ 0.78254303, -0.83458998, -0.0277398 , ...,  1.22551037,\n",
       "         0.00527596, -0.40795835],\n",
       "       [ 0.78254303, -0.83458998, -0.0277398 , ...,  1.72043159,\n",
       "         0.19724672,  1.55300934],\n",
       "       ...,\n",
       "       [-0.15604389, -0.83458998, -1.12319836, ...,  0.20153542,\n",
       "         1.46533526, -0.465446  ],\n",
       "       [-0.78176851,  1.75609205,  1.06771876, ...,  1.5839016 ,\n",
       "         0.47573951,  2.33228641],\n",
       "       [ 0.46968072, -0.83458998, -0.39289265, ..., -0.75417453,\n",
       "        -0.05961557, -0.38560204]])"
      ]
     },
     "execution_count": 25,
     "metadata": {},
     "output_type": "execute_result"
    }
   ],
   "source": [
    "X_scaled"
   ]
  },
  {
   "cell_type": "code",
   "execution_count": 26,
   "id": "2bd7da1b",
   "metadata": {},
   "outputs": [
    {
     "name": "stdout",
     "output_type": "stream",
     "text": [
      "f1 score:  0.7403559166441512\n"
     ]
    }
   ],
   "source": [
    "from sklearn.ensemble import GradientBoostingClassifier\n",
    "from sklearn.model_selection import GridSearchCV\n",
    "from sklearn.model_selection import train_test_split\n",
    "from sklearn.metrics import f1_score\n",
    "\n",
    "# 데이터 로드 (데이터는 X_train, y_train, X_test, y_test로 가정)\n",
    "X_train, X_test, y_train, y_test = train_test_split(X_scaled, y, test_size=0.3, random_state=42)\n",
    "\n",
    "# GBM 모델 초기화\n",
    "gbm = GradientBoostingClassifier(n_estimators=100, learning_rate=0.1, max_depth=3, min_samples_split=2)\n",
    "\n",
    "# 모델 학습\n",
    "gbm.fit(X_train, y_train)\n",
    "\n",
    "# 테스트 데이터로 모델 평가\n",
    "y_pred = gbm.predict(X_test)\n",
    "\n",
    "# 정확도와 ROC AUC 스코어 출력\n",
    "f1 = f1_score(y_test, y_pred)\n",
    "print(\"f1 score: \", f1)"
   ]
  },
  {
   "cell_type": "code",
   "execution_count": 27,
   "id": "c23c2fd0",
   "metadata": {},
   "outputs": [
    {
     "name": "stdout",
     "output_type": "stream",
     "text": [
      "0.5179459262497785\n"
     ]
    }
   ],
   "source": [
    "from sklearn.metrics import roc_auc_score\n",
    "roc_auc = roc_auc_score(y_test, y_pred)\n",
    "print(roc_auc)"
   ]
  },
  {
   "cell_type": "code",
   "execution_count": 28,
   "id": "1d3a36b4",
   "metadata": {},
   "outputs": [
    {
     "data": {
      "text/plain": [
       "0.5973739596170949"
      ]
     },
     "execution_count": 28,
     "metadata": {},
     "output_type": "execute_result"
    }
   ],
   "source": [
    "from sklearn.metrics import accuracy_score\n",
    "accuracy_score(y_test,y_pred)"
   ]
  },
  {
   "cell_type": "code",
   "execution_count": 33,
   "id": "2eeea76d",
   "metadata": {},
   "outputs": [
    {
     "name": "stdout",
     "output_type": "stream",
     "text": [
      "Accuracy:  0.5962812053618463\n",
      "ROC AUC:  0.515803944818728\n"
     ]
    }
   ],
   "source": [
    "import xgboost as xgb\n",
    "xgb_model = xgb.XGBClassifier(\n",
    "    objective='binary:logistic',  # 이진 분류 문제 설정\n",
    "    max_depth=5,  # 트리의 최대 깊이\n",
    "    learning_rate=0.01,  # 학습률\n",
    "    n_estimators=100  # 트리의 개수\n",
    ")\n",
    "\n",
    "# 모델 학습\n",
    "xgb_model.fit(X_train, y_train)\n",
    "\n",
    "# 테스트 데이터로 모델 평가\n",
    "y_pred = xgb_model.predict(X_test)\n",
    "\n",
    "# 정확도와 ROC AUC 스코어 출력\n",
    "accuracy = accuracy_score(y_test, y_pred)\n",
    "roc_auc = roc_auc_score(y_test, y_pred)\n",
    "print(\"Accuracy: \", accuracy)\n",
    "print(\"ROC AUC: \", roc_auc)"
   ]
  },
  {
   "cell_type": "code",
   "execution_count": 34,
   "id": "a5549c37",
   "metadata": {},
   "outputs": [
    {
     "data": {
      "text/plain": [
       "0.7406094399115922"
      ]
     },
     "execution_count": 34,
     "metadata": {},
     "output_type": "execute_result"
    }
   ],
   "source": [
    "f1_score(y_test,y_pred)"
   ]
  },
  {
   "cell_type": "code",
   "execution_count": 56,
   "id": "8c816f13",
   "metadata": {},
   "outputs": [
    {
     "name": "stderr",
     "output_type": "stream",
     "text": [
      "C:\\Users\\MYCOM\\anaconda3\\lib\\site-packages\\lightgbm\\engine.py:177: UserWarning: Found `n_estimators` in params. Will use it instead of argument\n",
      "  _log_warning(f\"Found `{alias}` in params. Will use it instead of argument\")\n"
     ]
    },
    {
     "name": "stdout",
     "output_type": "stream",
     "text": [
      "[LightGBM] [Info] Number of positive: 558753, number of negative: 393578\n",
      "[LightGBM] [Warning] Auto-choosing col-wise multi-threading, the overhead of testing was 0.105956 seconds.\n",
      "You can set `force_col_wise=true` to remove the overhead.\n",
      "[LightGBM] [Info] Total Bins 2054\n",
      "[LightGBM] [Info] Number of data points in the train set: 952331, number of used features: 16\n",
      "[LightGBM] [Info] [binary:BoostFromScore]: pavg=0.586721 -> initscore=0.350428\n",
      "[LightGBM] [Info] Start training from score 0.350428\n",
      "Accuracy:  0.5961390983062309\n",
      "ROC AUC:  0.5882857057194188\n"
     ]
    }
   ],
   "source": [
    "import lightgbm as lgb\n",
    "# LightGBM 모델 초기화\n",
    "params = {\n",
    "    'objective': 'binary',\n",
    "    'boosting_type': 'gbdt',\n",
    "    'n_estimators':200,\n",
    "    'metric': 'binary_logloss',\n",
    "    'num_leaves': 40,\n",
    "    'learning_rate': 0.005,\n",
    "    'feature_fraction': 0.9\n",
    "}\n",
    "\n",
    "num_round = 200  # 반복 횟수 설정\n",
    "\n",
    "# LightGBM 데이터셋 생성\n",
    "train_data = lgb.Dataset(X_train, label=y_train)\n",
    "test_data = lgb.Dataset(X_test, label=y_test, reference=train_data)\n",
    "# 모델 학습\n",
    "lgb_model = lgb.train(params, train_data, num_round)\n",
    "\n",
    "# 테스트 데이터로 모델 평가\n",
    "y_pred = lgb_model.predict(X_test, num_iteration=lgb_model.best_iteration)\n",
    "y_pred_binary = [1 if x >= 0.5 else 0 for x in y_pred]\n",
    "\n",
    "# 정확도와 ROC AUC 스코어 출력\n",
    "accuracy = accuracy_score(y_test, y_pred_binary)\n",
    "roc_auc = roc_auc_score(y_test, y_pred)\n",
    "print(\"Accuracy: \", accuracy)\n",
    "print(\"ROC AUC: \", roc_auc)\n"
   ]
  },
  {
   "cell_type": "code",
   "execution_count": 57,
   "id": "0f82457f",
   "metadata": {},
   "outputs": [
    {
     "data": {
      "text/plain": [
       "798379     1\n",
       "1024438    0\n",
       "1259579    1\n",
       "1000816    0\n",
       "65233      1\n",
       "          ..\n",
       "924122     1\n",
       "257317     1\n",
       "301911     1\n",
       "798963     0\n",
       "667427     1\n",
       "Name: N사고수, Length: 408143, dtype: int64"
      ]
     },
     "execution_count": 57,
     "metadata": {},
     "output_type": "execute_result"
    }
   ],
   "source": [
    "y_test"
   ]
  },
  {
   "cell_type": "code",
   "execution_count": 58,
   "id": "fb346f68",
   "metadata": {},
   "outputs": [
    {
     "data": {
      "text/plain": [
       "array([0.50128147, 0.58662413, 0.58324566, ..., 0.6135016 , 0.50734313,\n",
       "       0.58377243])"
      ]
     },
     "execution_count": 58,
     "metadata": {},
     "output_type": "execute_result"
    }
   ],
   "source": [
    "y_pred"
   ]
  },
  {
   "cell_type": "code",
   "execution_count": 59,
   "id": "df94293b",
   "metadata": {},
   "outputs": [
    {
     "data": {
      "text/plain": [
       "0.7408298388529614"
      ]
     },
     "execution_count": 59,
     "metadata": {},
     "output_type": "execute_result"
    }
   ],
   "source": [
    "f1_score(y_test, y_pred_binary)"
   ]
  },
  {
   "cell_type": "code",
   "execution_count": null,
   "id": "f4e72207",
   "metadata": {},
   "outputs": [],
   "source": [
    "from sklearn.svm import SVC\n",
    "svm_model = SVC(kernel='linear', C=1.0)  # 선형 커널 사용\n",
    "\n",
    "# 모델 학습\n",
    "svm_model.fit(X_train, y_train)\n",
    "\n",
    "# 테스트 데이터로 모델 평가\n",
    "y_pred = svm_model.predict(X_test)\n",
    "\n",
    "# 정확도와 ROC AUC 스코어 출력\n",
    "accuracy = accuracy_score(y_test, y_pred)\n",
    "roc_auc = roc_auc_score(y_test, y_pred)\n",
    "print(\"Accuracy: \", accuracy)\n",
    "print(\"ROC AUC: \", roc_auc)"
   ]
  },
  {
   "cell_type": "code",
   "execution_count": null,
   "id": "48d255d2",
   "metadata": {},
   "outputs": [],
   "source": [
    "f1_score(y_test, y_pred)"
   ]
  }
 ],
 "metadata": {
  "kernelspec": {
   "display_name": "Python 3 (ipykernel)",
   "language": "python",
   "name": "python3"
  },
  "language_info": {
   "codemirror_mode": {
    "name": "ipython",
    "version": 3
   },
   "file_extension": ".py",
   "mimetype": "text/x-python",
   "name": "python",
   "nbconvert_exporter": "python",
   "pygments_lexer": "ipython3",
   "version": "3.9.13"
  }
 },
 "nbformat": 4,
 "nbformat_minor": 5
}
