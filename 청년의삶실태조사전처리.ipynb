{
 "cells": [
  {
   "cell_type": "code",
   "execution_count": 50,
   "id": "caa4307a",
   "metadata": {},
   "outputs": [],
   "source": [
    "import pandas as pd\n",
    "data=pd.read_csv(\"C:/Users/MYCOM/Downloads/2022_총괄_청년삶실태조사.csv\", encoding='cp949')"
   ]
  },
  {
   "cell_type": "markdown",
   "id": "7f0f82b2",
   "metadata": {},
   "source": [
    "## 0 데이터 로드"
   ]
  },
  {
   "cell_type": "code",
   "execution_count": 51,
   "id": "cfba8b33",
   "metadata": {},
   "outputs": [
    {
     "data": {
      "text/html": [
       "<div>\n",
       "<style scoped>\n",
       "    .dataframe tbody tr th:only-of-type {\n",
       "        vertical-align: middle;\n",
       "    }\n",
       "\n",
       "    .dataframe tbody tr th {\n",
       "        vertical-align: top;\n",
       "    }\n",
       "\n",
       "    .dataframe thead th {\n",
       "        text-align: right;\n",
       "    }\n",
       "</style>\n",
       "<table border=\"1\" class=\"dataframe\">\n",
       "  <thead>\n",
       "    <tr style=\"text-align: right;\">\n",
       "      <th></th>\n",
       "      <th>가구원수</th>\n",
       "      <th>성별</th>\n",
       "      <th>연령</th>\n",
       "      <th>지역구분</th>\n",
       "      <th>시도코드</th>\n",
       "      <th>가구원 수</th>\n",
       "      <th>가구주에 해당하는 가구원</th>\n",
       "      <th>가구 유형</th>\n",
       "      <th>국민기초생활보장제도(또는 맞춤형 급여) 수급 여부 및 경험</th>\n",
       "      <th>맞춤형 급여 수급 형태(생계급여)</th>\n",
       "      <th>...</th>\n",
       "      <th>개인자산</th>\n",
       "      <th>가구소득_5분위</th>\n",
       "      <th>경제활동상태</th>\n",
       "      <th>종사상지위</th>\n",
       "      <th>평균근속기간(개월)</th>\n",
       "      <th>평균구직기간(개월)</th>\n",
       "      <th>두가지 이상 종류의 담배를 흡연하는 사람 비율</th>\n",
       "      <th>월간음주율</th>\n",
       "      <th>월간폭음률</th>\n",
       "      <th>고위험음주율</th>\n",
       "    </tr>\n",
       "  </thead>\n",
       "  <tbody>\n",
       "    <tr>\n",
       "      <th>0</th>\n",
       "      <td>1</td>\n",
       "      <td>1</td>\n",
       "      <td>1</td>\n",
       "      <td>1</td>\n",
       "      <td>11</td>\n",
       "      <td>1</td>\n",
       "      <td>1</td>\n",
       "      <td>4</td>\n",
       "      <td>3</td>\n",
       "      <td>NaN</td>\n",
       "      <td>...</td>\n",
       "      <td>1500</td>\n",
       "      <td>1</td>\n",
       "      <td>1</td>\n",
       "      <td>1.0</td>\n",
       "      <td>5.0</td>\n",
       "      <td>NaN</td>\n",
       "      <td>3.0</td>\n",
       "      <td>1.0</td>\n",
       "      <td>1.0</td>\n",
       "      <td>1.0</td>\n",
       "    </tr>\n",
       "    <tr>\n",
       "      <th>1</th>\n",
       "      <td>1</td>\n",
       "      <td>1</td>\n",
       "      <td>1</td>\n",
       "      <td>1</td>\n",
       "      <td>11</td>\n",
       "      <td>1</td>\n",
       "      <td>1</td>\n",
       "      <td>4</td>\n",
       "      <td>3</td>\n",
       "      <td>NaN</td>\n",
       "      <td>...</td>\n",
       "      <td>6000</td>\n",
       "      <td>1</td>\n",
       "      <td>1</td>\n",
       "      <td>1.0</td>\n",
       "      <td>6.0</td>\n",
       "      <td>NaN</td>\n",
       "      <td>3.0</td>\n",
       "      <td>1.0</td>\n",
       "      <td>0.0</td>\n",
       "      <td>0.0</td>\n",
       "    </tr>\n",
       "    <tr>\n",
       "      <th>2</th>\n",
       "      <td>1</td>\n",
       "      <td>1</td>\n",
       "      <td>1</td>\n",
       "      <td>1</td>\n",
       "      <td>11</td>\n",
       "      <td>1</td>\n",
       "      <td>1</td>\n",
       "      <td>4</td>\n",
       "      <td>3</td>\n",
       "      <td>NaN</td>\n",
       "      <td>...</td>\n",
       "      <td>1800</td>\n",
       "      <td>1</td>\n",
       "      <td>1</td>\n",
       "      <td>1.0</td>\n",
       "      <td>27.0</td>\n",
       "      <td>NaN</td>\n",
       "      <td>NaN</td>\n",
       "      <td>NaN</td>\n",
       "      <td>NaN</td>\n",
       "      <td>NaN</td>\n",
       "    </tr>\n",
       "    <tr>\n",
       "      <th>3</th>\n",
       "      <td>1</td>\n",
       "      <td>1</td>\n",
       "      <td>1</td>\n",
       "      <td>1</td>\n",
       "      <td>11</td>\n",
       "      <td>1</td>\n",
       "      <td>1</td>\n",
       "      <td>4</td>\n",
       "      <td>3</td>\n",
       "      <td>NaN</td>\n",
       "      <td>...</td>\n",
       "      <td>120</td>\n",
       "      <td>1</td>\n",
       "      <td>1</td>\n",
       "      <td>1.0</td>\n",
       "      <td>6.0</td>\n",
       "      <td>NaN</td>\n",
       "      <td>NaN</td>\n",
       "      <td>1.0</td>\n",
       "      <td>0.0</td>\n",
       "      <td>0.0</td>\n",
       "    </tr>\n",
       "    <tr>\n",
       "      <th>4</th>\n",
       "      <td>1</td>\n",
       "      <td>1</td>\n",
       "      <td>1</td>\n",
       "      <td>1</td>\n",
       "      <td>11</td>\n",
       "      <td>1</td>\n",
       "      <td>1</td>\n",
       "      <td>4</td>\n",
       "      <td>3</td>\n",
       "      <td>NaN</td>\n",
       "      <td>...</td>\n",
       "      <td>550</td>\n",
       "      <td>1</td>\n",
       "      <td>1</td>\n",
       "      <td>1.0</td>\n",
       "      <td>49.0</td>\n",
       "      <td>NaN</td>\n",
       "      <td>1.0</td>\n",
       "      <td>1.0</td>\n",
       "      <td>0.0</td>\n",
       "      <td>0.0</td>\n",
       "    </tr>\n",
       "  </tbody>\n",
       "</table>\n",
       "<p>5 rows × 138 columns</p>\n",
       "</div>"
      ],
      "text/plain": [
       "   가구원수  성별  연령  지역구분  시도코드  가구원 수  가구주에 해당하는 가구원  가구 유형  \\\n",
       "0     1   1   1     1    11      1              1      4   \n",
       "1     1   1   1     1    11      1              1      4   \n",
       "2     1   1   1     1    11      1              1      4   \n",
       "3     1   1   1     1    11      1              1      4   \n",
       "4     1   1   1     1    11      1              1      4   \n",
       "\n",
       "   국민기초생활보장제도(또는 맞춤형 급여) 수급 여부 및 경험  맞춤형 급여 수급 형태(생계급여)  ...  개인자산  가구소득_5분위  \\\n",
       "0                                 3                 NaN  ...  1500         1   \n",
       "1                                 3                 NaN  ...  6000         1   \n",
       "2                                 3                 NaN  ...  1800         1   \n",
       "3                                 3                 NaN  ...   120         1   \n",
       "4                                 3                 NaN  ...   550         1   \n",
       "\n",
       "   경제활동상태  종사상지위  평균근속기간(개월)  평균구직기간(개월)  두가지 이상 종류의 담배를 흡연하는 사람 비율  월간음주율  \\\n",
       "0       1    1.0         5.0         NaN                        3.0    1.0   \n",
       "1       1    1.0         6.0         NaN                        3.0    1.0   \n",
       "2       1    1.0        27.0         NaN                        NaN    NaN   \n",
       "3       1    1.0         6.0         NaN                        NaN    1.0   \n",
       "4       1    1.0        49.0         NaN                        1.0    1.0   \n",
       "\n",
       "   월간폭음률  고위험음주율  \n",
       "0    1.0     1.0  \n",
       "1    0.0     0.0  \n",
       "2    NaN     NaN  \n",
       "3    0.0     0.0  \n",
       "4    0.0     0.0  \n",
       "\n",
       "[5 rows x 138 columns]"
      ]
     },
     "execution_count": 51,
     "metadata": {},
     "output_type": "execute_result"
    }
   ],
   "source": [
    "data.head()"
   ]
  },
  {
   "cell_type": "markdown",
   "id": "bde4760c",
   "metadata": {},
   "source": [
    "## 1 공공임대주택 클러스터링에 유의미한 변수만 추출"
   ]
  },
  {
   "cell_type": "code",
   "execution_count": 52,
   "id": "c562467a",
   "metadata": {},
   "outputs": [],
   "source": [
    "data=data[['가구원수', '성별', '연령', '시도코드', '가구원 수', '가구 유형', '국민기초생활보장제도(또는 맞춤형 급여) 수급 여부 및 경험', \n",
    "      '혼인 상태_R', '부모 동거 여부', '공공임대주택 거주 경험', \n",
    "      '보증금이 없는 일세(월세환산)', '현재 거주 지역의 주거 환경 만족도[생활 인프라]',\n",
    "      '현재 거주 지역의 주거 환경 만족도[대중교통 이용]', '현재 거주 지역의 주거 환경 만족도[치안 및 범죄 등 방범 상태]', \n",
    "      '현재 거주 지역의 주거 환경 만족도[위생 환경]', '현재 거주 지역의 주거 환경 만족도[녹지 공간]',\n",
    "      '현재 거주 지역의 주거 환경 만족도[문화/부대시설]', '현재 거주 지역의 주거 환경 만족도[교육 환경]', \n",
    "      '현재 거주 지역의 주거 환경 만족도[이웃과의 관계]', \n",
    "      '공공임대주택 거주 의향', '최근 1년간 주거불안 상황 경험[2개월 이상 월 임대료 연체]',\n",
    "      '최근 1년간 주거불안 상황 경험[이사 또는 임대차 계약 갱신에 필요한 임대 보증금 부족]',\n",
    "      '최근 1년간 주거불안 상황 경험[임대인이 기피하는 대상자라는 이유로 주택확보 곤란]', '최근 1년간 주거불안 상황 경험[3개월 이상 주택담보대출 이자 또는 원리금 상환 연체]',\n",
    "      '최근 1년간 주거불안 상황 경험[주택압류, 재개발, 임대차 계약 중도 해지 등으로 인한 퇴거]', '최근 1년간 주거불안 상황 경험[3개월 이상 공과금이나 관리비 연체]',\n",
    "      '최근 1년간 주거불안 상황 경험[임대인과의 갈등]', '최근 1년간 주거불안 상황 경험[주택임대차 보호법 위반]', '최근 1년간 1달 이상 주택 이외의 거처에 거주한 경험[거리 노숙]', '최근 1년간 1달 이상 주택 이외의 거처에 거주한 경험[PC방·만화방·찜질방 등]', '최근 1년간 1달 이상 주택 이외의 거처에 거주한 경험[쪽방]', '최근 1년간 1달 이상 주택 이외의 거처에 거주한 경험[고시원]', '최근 1년간 1달 이상 주택 이외의 거처에 거주한 경험[여관·여인숙]', '최근 1년간 1달 이상 주택 이외의 거처에 거주한 경험[일터의 일부공간]', '최근 1년간 1달 이상 주택 이외의 거처에 거주한 경험[복지시설(아동·청소년·여성·장애인·노숙인 등)]', '현재 거주 주택에 대한 만족도[안전하게 보호받는 공간이다]', '현재 거주 주택에 대한 만족도[휴식할 수 있는 공간이다]', '현재 거주 주택에 대한 만족도[가족과 함께하는 공간이다]', '현재 거주 주택에 대한 만족도[나만의 사적인 공간이다]', '현재 거주 주택에 대한 만족도[생리위생 및 세탁, 식사를 위한 공간이다]', '현재 거주 주택에 대한 만족도[자산 증식을 위한 수단이다]', \n",
    "      '한 달 평균 지출 자기계발비', '(복수일자리)복수일자리 수', '취업 경험', \n",
    "      '외출 빈도', '은둔 생활 상태 지속 기간',  '총생활비', '총소득(개인)', '개인부채', '개인자산', '가구소득_5분위', '경제활동상태']]"
   ]
  },
  {
   "cell_type": "code",
   "execution_count": 53,
   "id": "c92ea809",
   "metadata": {},
   "outputs": [
    {
     "data": {
      "text/plain": [
       "(14966, 52)"
      ]
     },
     "execution_count": 53,
     "metadata": {},
     "output_type": "execute_result"
    }
   ],
   "source": [
    "data.shape"
   ]
  },
  {
   "cell_type": "code",
   "execution_count": 54,
   "id": "2e07c6fd",
   "metadata": {},
   "outputs": [
    {
     "data": {
      "text/plain": [
       "가구원수                                                             0\n",
       "성별                                                               0\n",
       "연령                                                               0\n",
       "시도코드                                                             0\n",
       "가구원 수                                                            0\n",
       "가구 유형                                                            0\n",
       "국민기초생활보장제도(또는 맞춤형 급여) 수급 여부 및 경험                                 0\n",
       "혼인 상태_R                                                          0\n",
       "부모 동거 여부                                                         0\n",
       "공공임대주택 거주 경험                                                     0\n",
       "보증금이 없는 일세(월세환산)                                             14965\n",
       "현재 거주 지역의 주거 환경 만족도[생활 인프라]                                      0\n",
       "현재 거주 지역의 주거 환경 만족도[대중교통 이용]                                     0\n",
       "현재 거주 지역의 주거 환경 만족도[치안 및 범죄 등 방범 상태]                             0\n",
       "현재 거주 지역의 주거 환경 만족도[위생 환경]                                       0\n",
       "현재 거주 지역의 주거 환경 만족도[녹지 공간]                                       0\n",
       "현재 거주 지역의 주거 환경 만족도[문화/부대시설]                                     0\n",
       "현재 거주 지역의 주거 환경 만족도[교육 환경]                                       0\n",
       "현재 거주 지역의 주거 환경 만족도[이웃과의 관계]                                     0\n",
       "공공임대주택 거주 의향                                                     0\n",
       "최근 1년간 주거불안 상황 경험[2개월 이상 월 임대료 연체]                               0\n",
       "최근 1년간 주거불안 상황 경험[이사 또는 임대차 계약 갱신에 필요한 임대 보증금 부족]                0\n",
       "최근 1년간 주거불안 상황 경험[임대인이 기피하는 대상자라는 이유로 주택확보 곤란]                   0\n",
       "최근 1년간 주거불안 상황 경험[3개월 이상 주택담보대출 이자 또는 원리금 상환 연체]                 0\n",
       "최근 1년간 주거불안 상황 경험[주택압류, 재개발, 임대차 계약 중도 해지 등으로 인한 퇴거]             0\n",
       "최근 1년간 주거불안 상황 경험[3개월 이상 공과금이나 관리비 연체]                           0\n",
       "최근 1년간 주거불안 상황 경험[임대인과의 갈등]                                      0\n",
       "최근 1년간 주거불안 상황 경험[주택임대차 보호법 위반]                                  0\n",
       "최근 1년간 1달 이상 주택 이외의 거처에 거주한 경험[거리 노숙]                            0\n",
       "최근 1년간 1달 이상 주택 이외의 거처에 거주한 경험[PC방·만화방·찜질방 등]                    0\n",
       "최근 1년간 1달 이상 주택 이외의 거처에 거주한 경험[쪽방]                               0\n",
       "최근 1년간 1달 이상 주택 이외의 거처에 거주한 경험[고시원]                              0\n",
       "최근 1년간 1달 이상 주택 이외의 거처에 거주한 경험[여관·여인숙]                           0\n",
       "최근 1년간 1달 이상 주택 이외의 거처에 거주한 경험[일터의 일부공간]                         0\n",
       "최근 1년간 1달 이상 주택 이외의 거처에 거주한 경험[복지시설(아동·청소년·여성·장애인·노숙인 등)]        0\n",
       "현재 거주 주택에 대한 만족도[안전하게 보호받는 공간이다]                                 0\n",
       "현재 거주 주택에 대한 만족도[휴식할 수 있는 공간이다]                                  0\n",
       "현재 거주 주택에 대한 만족도[가족과 함께하는 공간이다]                                  0\n",
       "현재 거주 주택에 대한 만족도[나만의 사적인 공간이다]                                   0\n",
       "현재 거주 주택에 대한 만족도[생리위생 및 세탁, 식사를 위한 공간이다]                         0\n",
       "현재 거주 주택에 대한 만족도[자산 증식을 위한 수단이다]                                 0\n",
       "한 달 평균 지출 자기계발비                                                  0\n",
       "(복수일자리)복수일자리 수                                                5317\n",
       "취업 경험                                                           35\n",
       "외출 빈도                                                            0\n",
       "은둔 생활 상태 지속 기간                                               14569\n",
       "총생활비                                                             0\n",
       "총소득(개인)                                                          0\n",
       "개인부채                                                             0\n",
       "개인자산                                                             0\n",
       "가구소득_5분위                                                         0\n",
       "경제활동상태                                                           0\n",
       "dtype: int64"
      ]
     },
     "execution_count": 54,
     "metadata": {},
     "output_type": "execute_result"
    }
   ],
   "source": [
    "# NaN값 확인하기\n",
    "data.isna().sum()"
   ]
  },
  {
   "cell_type": "code",
   "execution_count": 55,
   "id": "45a50967",
   "metadata": {},
   "outputs": [
    {
     "data": {
      "text/plain": [
       "14965"
      ]
     },
     "execution_count": 55,
     "metadata": {},
     "output_type": "execute_result"
    }
   ],
   "source": [
    "data['보증금이 없는 일세(월세환산)'].isna().sum()"
   ]
  },
  {
   "cell_type": "code",
   "execution_count": 56,
   "id": "686f546f",
   "metadata": {},
   "outputs": [],
   "source": [
    "data.drop('보증금이 없는 일세(월세환산)',axis=1,inplace=True)"
   ]
  },
  {
   "cell_type": "markdown",
   "id": "18a76bf7",
   "metadata": {},
   "source": [
    "'보증금이 없는 일세(월세환산)' 칼럼인 경우 nan값이 많으므로 drop 하기"
   ]
  },
  {
   "cell_type": "code",
   "execution_count": 57,
   "id": "c662c1db",
   "metadata": {},
   "outputs": [],
   "source": [
    "data.fillna(0,inplace=True)"
   ]
  },
  {
   "cell_type": "markdown",
   "id": "8eced670",
   "metadata": {},
   "source": [
    "이후 nan값을 모두 0으로 채우기"
   ]
  },
  {
   "cell_type": "code",
   "execution_count": 58,
   "id": "2ed0eb5a",
   "metadata": {},
   "outputs": [
    {
     "data": {
      "text/plain": [
       "1    5355\n",
       "3    4186\n",
       "4    2802\n",
       "2    2034\n",
       "5     513\n",
       "6      76\n",
       "Name: 가구원수, dtype: int64"
      ]
     },
     "execution_count": 58,
     "metadata": {},
     "output_type": "execute_result"
    }
   ],
   "source": [
    "data['가구원수'].value_counts()"
   ]
  },
  {
   "cell_type": "code",
   "execution_count": 59,
   "id": "5e290d2f",
   "metadata": {},
   "outputs": [
    {
     "data": {
      "text/plain": [
       "1    5355\n",
       "3    4186\n",
       "4    2802\n",
       "2    2034\n",
       "5     513\n",
       "6      62\n",
       "7      11\n",
       "8       3\n",
       "Name: 가구원 수, dtype: int64"
      ]
     },
     "execution_count": 59,
     "metadata": {},
     "output_type": "execute_result"
    }
   ],
   "source": [
    "data['가구원 수'].value_counts()"
   ]
  },
  {
   "cell_type": "code",
   "execution_count": 60,
   "id": "5e11f5d3",
   "metadata": {},
   "outputs": [],
   "source": [
    "data.drop('가구원 수',axis=1,inplace=True)"
   ]
  },
  {
   "cell_type": "markdown",
   "id": "2cba24e7",
   "metadata": {},
   "source": [
    "'가구원수'와 '가구원 수'와 의미가 겹치는 칼럼이 있음. 이때 상대적으로 이상치가 적은 '가구원 수' 열을 drop하기"
   ]
  },
  {
   "cell_type": "code",
   "execution_count": 23,
   "id": "d47ac0a3",
   "metadata": {},
   "outputs": [
    {
     "data": {
      "text/plain": [
       "4    14638\n",
       "1      267\n",
       "3       46\n",
       "2       15\n",
       "Name: 가구 유형, dtype: int64"
      ]
     },
     "execution_count": 23,
     "metadata": {},
     "output_type": "execute_result"
    }
   ],
   "source": [
    "data['가구 유형'].value_counts()"
   ]
  },
  {
   "cell_type": "markdown",
   "id": "e82a7fc8",
   "metadata": {},
   "source": [
    "'가구 유형'의 경우 4. 해당 없음 이 가장 많음. 나중에 해석할 때 큰 의미가 없을 것 같아 drop하기"
   ]
  },
  {
   "cell_type": "code",
   "execution_count": 61,
   "id": "ac01edad",
   "metadata": {},
   "outputs": [],
   "source": [
    "data.drop('가구 유형',axis=1, inplace=True)"
   ]
  },
  {
   "cell_type": "markdown",
   "id": "98fef0d0",
   "metadata": {},
   "source": [
    "## 2 전처리"
   ]
  },
  {
   "cell_type": "markdown",
   "id": "1bd03829",
   "metadata": {},
   "source": [
    "### 🌱성별\n",
    "\n",
    "\n",
    "- 성별을 남/여 로 원핫 인코딩 >> 기존 '남'이면 '성별'==1, '여'이면 '성별'==2 를 '남'이면 '성별_남'=1,'성별_여'=0, '여'이면 '성별_남'=0,'성별_여'=1로"
   ]
  },
  {
   "cell_type": "code",
   "execution_count": 62,
   "id": "6d8f8ed6",
   "metadata": {},
   "outputs": [],
   "source": [
    "data['성별_여']=0\n",
    "data['성별_남']=0\n",
    "data.loc[data['성별']==2,'성별_여']=1\n",
    "data.loc[data['성별']==1,'성별_남']=1\n",
    "data.drop('성별',inplace=True,axis=1)"
   ]
  },
  {
   "cell_type": "markdown",
   "id": "5af213f6",
   "metadata": {},
   "source": [
    "### 🌱 '국민기초생활보장제도(또는 맞춤형 급여) 수급 여부 및 경험'\n",
    "\n",
    "- 기존 국민기초생활보장제도(또는 맞춤형 급여)를 현재 수급 중이면 1, 과거 수급하였으나 현재는 수급하지 않을 경우  2, 수급 경험이 없을 경우 3인 열을 수급 경험이 있으면(과거 또는 현재) 1, 없으면 0으로 변경"
   ]
  },
  {
   "cell_type": "code",
   "execution_count": 63,
   "id": "5b43f2f2",
   "metadata": {},
   "outputs": [
    {
     "data": {
      "text/plain": [
       "3    14503\n",
       "2      312\n",
       "1      151\n",
       "Name: 국민기초생활보장제도(또는 맞춤형 급여) 수급 여부 및 경험, dtype: int64"
      ]
     },
     "execution_count": 63,
     "metadata": {},
     "output_type": "execute_result"
    }
   ],
   "source": [
    "data['국민기초생활보장제도(또는 맞춤형 급여) 수급 여부 및 경험'].value_counts()"
   ]
  },
  {
   "cell_type": "code",
   "execution_count": 64,
   "id": "38cd2c34",
   "metadata": {},
   "outputs": [],
   "source": [
    "data.loc[data['국민기초생활보장제도(또는 맞춤형 급여) 수급 여부 및 경험']==2,'국민기초생활보장제도(또는 맞춤형 급여) 수급 여부 및 경험']=1\n",
    "data.loc[data['국민기초생활보장제도(또는 맞춤형 급여) 수급 여부 및 경험']==3,'국민기초생활보장제도(또는 맞춤형 급여) 수급 여부 및 경험']=0"
   ]
  },
  {
   "cell_type": "code",
   "execution_count": 65,
   "id": "6dd35122",
   "metadata": {},
   "outputs": [
    {
     "data": {
      "text/plain": [
       "0    14503\n",
       "1      463\n",
       "Name: 국민기초생활보장제도(또는 맞춤형 급여) 수급 여부 및 경험, dtype: int64"
      ]
     },
     "execution_count": 65,
     "metadata": {},
     "output_type": "execute_result"
    }
   ],
   "source": [
    "data['국민기초생활보장제도(또는 맞춤형 급여) 수급 여부 및 경험'].value_counts()\n",
    "# 바뀐 값 확인"
   ]
  },
  {
   "cell_type": "markdown",
   "id": "116c4199",
   "metadata": {},
   "source": [
    "### 🌱 혼인 상태_R\n",
    "\n",
    "- 혼인 상태_R인 칼럼을 더미화하기, 청년의 삶 실태조사 파일 설계서에 따라 혼인 상태_R이 2일 경우 혼인상태_미혼에 1 나머지에는 0값 부여, 혼인 상태_R이 1일 경우 혼인상태_기혼에 1 나머지에 0값 부여, 혼인 상태_R이 3일 경우 혼인상태_기타(이혼/별거/사별이 해당됨)에 1 나머지에 0값 부여"
   ]
  },
  {
   "cell_type": "code",
   "execution_count": 67,
   "id": "168247ad",
   "metadata": {},
   "outputs": [
    {
     "data": {
      "text/plain": [
       "2    13268\n",
       "1     1570\n",
       "3      128\n",
       "Name: 혼인 상태_R, dtype: int64"
      ]
     },
     "execution_count": 67,
     "metadata": {},
     "output_type": "execute_result"
    }
   ],
   "source": [
    "data['혼인 상태_R'].value_counts()"
   ]
  },
  {
   "cell_type": "code",
   "execution_count": 68,
   "id": "490677f2",
   "metadata": {},
   "outputs": [],
   "source": [
    "# 혼인상태 더미화 하기\n",
    "data['혼인상태_미혼']=0\n",
    "data['혼인상태_기혼']=0\n",
    "data['혼인상태_기타']=0 # 이혼/별거/사별이 해당됨\n",
    "data.loc[data['혼인 상태_R']==2,'혼인상태_미혼']=1\n",
    "data.loc[data['혼인 상태_R']==1,'혼인상태_기혼']=1\n",
    "data.loc[data['혼인 상태_R']==3,'혼인상태_기타']=1"
   ]
  },
  {
   "cell_type": "code",
   "execution_count": 69,
   "id": "ac267b96",
   "metadata": {},
   "outputs": [],
   "source": [
    "data.drop('혼인 상태_R',axis=1,inplace=True)\n",
    "# 기존 칼럼 drop 하기"
   ]
  },
  {
   "cell_type": "code",
   "execution_count": 70,
   "id": "13c90de8",
   "metadata": {},
   "outputs": [
    {
     "data": {
      "text/plain": [
       "(14966, 52)"
      ]
     },
     "execution_count": 70,
     "metadata": {},
     "output_type": "execute_result"
    }
   ],
   "source": [
    "data.shape"
   ]
  },
  {
   "cell_type": "markdown",
   "id": "f47c73de",
   "metadata": {},
   "source": [
    "### 🌱 부모 동거 여부\n",
    "- 기존 부모 동거 여부가 '아니요'이면 2 었던 값을 0으로 바꾸기"
   ]
  },
  {
   "cell_type": "code",
   "execution_count": 71,
   "id": "384bf6fa",
   "metadata": {},
   "outputs": [],
   "source": [
    "data.loc[data['부모 동거 여부']==2,'부모 동거 여부']=0"
   ]
  },
  {
   "cell_type": "code",
   "execution_count": 72,
   "id": "ef37bffc",
   "metadata": {},
   "outputs": [
    {
     "data": {
      "text/plain": [
       "1    7832\n",
       "0    7134\n",
       "Name: 부모 동거 여부, dtype: int64"
      ]
     },
     "execution_count": 72,
     "metadata": {},
     "output_type": "execute_result"
    }
   ],
   "source": [
    "data['부모 동거 여부'].value_counts()"
   ]
  },
  {
   "cell_type": "markdown",
   "id": "43edbfd4",
   "metadata": {},
   "source": [
    "### 🌱 공공임대주택 거주 경험"
   ]
  },
  {
   "cell_type": "markdown",
   "id": "6cbd19cf",
   "metadata": {},
   "source": [
    "- 기존 공공임대주택 거주 경험이 '아니요'이면 2 었던 값을 0으로 바꾸기"
   ]
  },
  {
   "cell_type": "code",
   "execution_count": 73,
   "id": "bcc47b25",
   "metadata": {},
   "outputs": [
    {
     "data": {
      "text/plain": [
       "0    14128\n",
       "1      838\n",
       "Name: 공공임대주택 거주 경험, dtype: int64"
      ]
     },
     "execution_count": 73,
     "metadata": {},
     "output_type": "execute_result"
    }
   ],
   "source": [
    "data.loc[data['공공임대주택 거주 경험']==2,'공공임대주택 거주 경험']=0\n",
    "data['공공임대주택 거주 경험'].value_counts()"
   ]
  },
  {
   "cell_type": "markdown",
   "id": "3f5f596e",
   "metadata": {},
   "source": [
    "### 🌱 공공임대주택 거주 의향\n",
    "- 기존 공공임대주택 거주 의향이 '아니요'이면 2 었던 값을 0으로 바꾸기"
   ]
  },
  {
   "cell_type": "code",
   "execution_count": 74,
   "id": "5cfa7a3d",
   "metadata": {},
   "outputs": [
    {
     "data": {
      "text/plain": [
       "1    9744\n",
       "0    5222\n",
       "Name: 공공임대주택 거주 의향, dtype: int64"
      ]
     },
     "execution_count": 74,
     "metadata": {},
     "output_type": "execute_result"
    }
   ],
   "source": [
    "data.loc[data['공공임대주택 거주 의향']==2,'공공임대주택 거주 의향']=0\n",
    "data['공공임대주택 거주 의향'].value_counts()"
   ]
  },
  {
   "cell_type": "markdown",
   "id": "c7c73d12",
   "metadata": {},
   "source": [
    "### 🌱 최근 1년간 주거불안 상황 경험\n",
    "- 기존 최근 1년간 주거 불안 상황 경험 여부가 '아니요'이면 2 었던 값을 0으로 바꾸기"
   ]
  },
  {
   "cell_type": "code",
   "execution_count": 75,
   "id": "7d69c210",
   "metadata": {},
   "outputs": [],
   "source": [
    "data.loc[data['최근 1년간 주거불안 상황 경험[이사 또는 임대차 계약 갱신에 필요한 임대 보증금 부족]']==2,'최근 1년간 주거불안 상황 경험[이사 또는 임대차 계약 갱신에 필요한 임대 보증금 부족]']=0\n",
    "data.loc[data['최근 1년간 주거불안 상황 경험[2개월 이상 월 임대료 연체]']==2,'최근 1년간 주거불안 상황 경험[2개월 이상 월 임대료 연체]']=0\n",
    "data.loc[data['최근 1년간 주거불안 상황 경험[임대인이 기피하는 대상자라는 이유로 주택확보 곤란]']==2,'최근 1년간 주거불안 상황 경험[임대인이 기피하는 대상자라는 이유로 주택확보 곤란]']=0\n",
    "data.loc[data['최근 1년간 주거불안 상황 경험[3개월 이상 주택담보대출 이자 또는 원리금 상환 연체]']==2,'최근 1년간 주거불안 상황 경험[3개월 이상 주택담보대출 이자 또는 원리금 상환 연체]']=0\n",
    "data.loc[data['최근 1년간 주거불안 상황 경험[주택압류, 재개발, 임대차 계약 중도 해지 등으로 인한 퇴거]']==2,'최근 1년간 주거불안 상황 경험[주택압류, 재개발, 임대차 계약 중도 해지 등으로 인한 퇴거]']=0\n",
    "data.loc[data['최근 1년간 주거불안 상황 경험[3개월 이상 공과금이나 관리비 연체]']==2,'최근 1년간 주거불안 상황 경험[3개월 이상 공과금이나 관리비 연체]']=0\n",
    "data.loc[data['최근 1년간 주거불안 상황 경험[임대인과의 갈등]']==2,'최근 1년간 주거불안 상황 경험[임대인과의 갈등]']=0\n",
    "data.loc[data['최근 1년간 주거불안 상황 경험[주택임대차 보호법 위반]']==2,'최근 1년간 주거불안 상황 경험[주택임대차 보호법 위반]']=0"
   ]
  },
  {
   "cell_type": "markdown",
   "id": "a23af17a",
   "metadata": {},
   "source": [
    "### 🌱 최근 1달 이상 주택 이외의 거처에 거주한 경험"
   ]
  },
  {
   "cell_type": "markdown",
   "id": "61f2a5cd",
   "metadata": {},
   "source": [
    "- '최근 1달 이상 주택 이외의 거처에 거주한 경험' 라는 새로운 변수 생성. 이때 디폴트 값으로 0을 부여 (0: 거주한 경험이 없다)\n",
    "- 다양한 장소에서 '최근 1달 이상 주택 이외의 거처에 거주한 경험'이 있을 경우 '최근 1달 이상 주택 이외의 거처에 거주한 경험'에 1을 부여"
   ]
  },
  {
   "cell_type": "code",
   "execution_count": 76,
   "id": "52dd6c57",
   "metadata": {},
   "outputs": [],
   "source": [
    "data['최근 1달 이상 주택 이외의 거처에 거주한 경험']=0\n",
    "data.loc[data['최근 1년간 1달 이상 주택 이외의 거처에 거주한 경험[거리 노숙]']==1,'최근 1달 이상 주택 이외의 거처에 거주한 경험' ]=1\n",
    "data.loc[data['최근 1년간 1달 이상 주택 이외의 거처에 거주한 경험[쪽방]']==1,'최근 1달 이상 주택 이외의 거처에 거주한 경험' ]=1\n",
    "data.loc[data['최근 1년간 1달 이상 주택 이외의 거처에 거주한 경험[PC방·만화방·찜질방 등]']==1,'최근 1달 이상 주택 이외의 거처에 거주한 경험' ]=1\n",
    "data.loc[data['최근 1년간 1달 이상 주택 이외의 거처에 거주한 경험[고시원]']==1,'최근 1달 이상 주택 이외의 거처에 거주한 경험' ]=1\n",
    "data.loc[data['최근 1년간 1달 이상 주택 이외의 거처에 거주한 경험[여관·여인숙]']==1,'최근 1달 이상 주택 이외의 거처에 거주한 경험' ]=1\n",
    "data.loc[data['최근 1년간 1달 이상 주택 이외의 거처에 거주한 경험[일터의 일부공간]']==1,'최근 1달 이상 주택 이외의 거처에 거주한 경험' ]=1\n",
    "data.loc[data['최근 1년간 1달 이상 주택 이외의 거처에 거주한 경험[복지시설(아동·청소년·여성·장애인·노숙인 등)]']==1,'최근 1달 이상 주택 이외의 거처에 거주한 경험' ]=1"
   ]
  },
  {
   "cell_type": "code",
   "execution_count": 77,
   "id": "b2952281",
   "metadata": {},
   "outputs": [],
   "source": [
    "# 기존 열 드롭하기\n",
    "data.drop(['최근 1년간 1달 이상 주택 이외의 거처에 거주한 경험[거리 노숙]', '최근 1년간 1달 이상 주택 이외의 거처에 거주한 경험[PC방·만화방·찜질방 등]', '최근 1년간 1달 이상 주택 이외의 거처에 거주한 경험[쪽방]', '최근 1년간 1달 이상 주택 이외의 거처에 거주한 경험[고시원]', '최근 1년간 1달 이상 주택 이외의 거처에 거주한 경험[여관·여인숙]', '최근 1년간 1달 이상 주택 이외의 거처에 거주한 경험[일터의 일부공간]', '최근 1년간 1달 이상 주택 이외의 거처에 거주한 경험[복지시설(아동·청소년·여성·장애인·노숙인 등)]'],axis=1,inplace=True)"
   ]
  },
  {
   "cell_type": "code",
   "execution_count": 78,
   "id": "b2bdb8e2",
   "metadata": {},
   "outputs": [
    {
     "data": {
      "text/plain": [
       "(14966, 46)"
      ]
     },
     "execution_count": 78,
     "metadata": {},
     "output_type": "execute_result"
    }
   ],
   "source": [
    "data.shape"
   ]
  },
  {
   "cell_type": "code",
   "execution_count": 79,
   "id": "085818f7",
   "metadata": {},
   "outputs": [
    {
     "data": {
      "text/plain": [
       "Index(['가구원수', '연령', '시도코드', '국민기초생활보장제도(또는 맞춤형 급여) 수급 여부 및 경험', '부모 동거 여부',\n",
       "       '공공임대주택 거주 경험', '현재 거주 지역의 주거 환경 만족도[생활 인프라]',\n",
       "       '현재 거주 지역의 주거 환경 만족도[대중교통 이용]', '현재 거주 지역의 주거 환경 만족도[치안 및 범죄 등 방범 상태]',\n",
       "       '현재 거주 지역의 주거 환경 만족도[위생 환경]', '현재 거주 지역의 주거 환경 만족도[녹지 공간]',\n",
       "       '현재 거주 지역의 주거 환경 만족도[문화/부대시설]', '현재 거주 지역의 주거 환경 만족도[교육 환경]',\n",
       "       '현재 거주 지역의 주거 환경 만족도[이웃과의 관계]', '공공임대주택 거주 의향',\n",
       "       '최근 1년간 주거불안 상황 경험[2개월 이상 월 임대료 연체]',\n",
       "       '최근 1년간 주거불안 상황 경험[이사 또는 임대차 계약 갱신에 필요한 임대 보증금 부족]',\n",
       "       '최근 1년간 주거불안 상황 경험[임대인이 기피하는 대상자라는 이유로 주택확보 곤란]',\n",
       "       '최근 1년간 주거불안 상황 경험[3개월 이상 주택담보대출 이자 또는 원리금 상환 연체]',\n",
       "       '최근 1년간 주거불안 상황 경험[주택압류, 재개발, 임대차 계약 중도 해지 등으로 인한 퇴거]',\n",
       "       '최근 1년간 주거불안 상황 경험[3개월 이상 공과금이나 관리비 연체]', '최근 1년간 주거불안 상황 경험[임대인과의 갈등]',\n",
       "       '최근 1년간 주거불안 상황 경험[주택임대차 보호법 위반]', '현재 거주 주택에 대한 만족도[안전하게 보호받는 공간이다]',\n",
       "       '현재 거주 주택에 대한 만족도[휴식할 수 있는 공간이다]', '현재 거주 주택에 대한 만족도[가족과 함께하는 공간이다]',\n",
       "       '현재 거주 주택에 대한 만족도[나만의 사적인 공간이다]',\n",
       "       '현재 거주 주택에 대한 만족도[생리위생 및 세탁, 식사를 위한 공간이다]',\n",
       "       '현재 거주 주택에 대한 만족도[자산 증식을 위한 수단이다]', '한 달 평균 지출 자기계발비', '(복수일자리)복수일자리 수',\n",
       "       '취업 경험', '외출 빈도', '은둔 생활 상태 지속 기간', '총생활비', '총소득(개인)', '개인부채', '개인자산',\n",
       "       '가구소득_5분위', '경제활동상태', '성별_여', '성별_남', '혼인상태_미혼', '혼인상태_기혼', '혼인상태_기타',\n",
       "       '최근 1달 이상 주택 이외의 거처에 거주한 경험'],\n",
       "      dtype='object')"
      ]
     },
     "execution_count": 79,
     "metadata": {},
     "output_type": "execute_result"
    }
   ],
   "source": [
    "data.columns"
   ]
  },
  {
   "cell_type": "markdown",
   "id": "0e6924a4",
   "metadata": {},
   "source": [
    "### 🌱 공공임대주택에 관심이 있는 row 추출\n",
    "- 공공임대 주택 거주 경험이 있거나 아니면 공공임대 주택 거주 의향이 있는 row 빼내기"
   ]
  },
  {
   "cell_type": "code",
   "execution_count": 80,
   "id": "db1647aa",
   "metadata": {},
   "outputs": [],
   "source": [
    "data_c=data[(data['공공임대주택 거주 경험']==1)|(data['공공임대주택 거주 의향']==1)]"
   ]
  },
  {
   "cell_type": "code",
   "execution_count": 81,
   "id": "9ac35b62",
   "metadata": {},
   "outputs": [
    {
     "data": {
      "text/plain": [
       "(9914, 46)"
      ]
     },
     "execution_count": 81,
     "metadata": {},
     "output_type": "execute_result"
    }
   ],
   "source": [
    "data_c.shape"
   ]
  },
  {
   "cell_type": "markdown",
   "id": "88c65c00",
   "metadata": {},
   "source": [
    "### 🌱 외출 빈도\n",
    "- 파일 설계서에 따르면 외출 빈도가 높을 수록 값이 작아짐. 이는 해석할 때 혼란을 줄 수 있으므로 외출 빈도가 높을 수록 값이 커지도록 조정하기"
   ]
  },
  {
   "cell_type": "code",
   "execution_count": 82,
   "id": "20fd26cc",
   "metadata": {},
   "outputs": [
    {
     "name": "stderr",
     "output_type": "stream",
     "text": [
      "C:\\Users\\MYCOM\\AppData\\Local\\Temp\\ipykernel_17512\\1384750650.py:1: SettingWithCopyWarning: \n",
      "A value is trying to be set on a copy of a slice from a DataFrame.\n",
      "Try using .loc[row_indexer,col_indexer] = value instead\n",
      "\n",
      "See the caveats in the documentation: https://pandas.pydata.org/pandas-docs/stable/user_guide/indexing.html#returning-a-view-versus-a-copy\n",
      "  data_c['외출 빈도']=data_c['외출 빈도'].max()-data_c['외출 빈도']+1\n"
     ]
    }
   ],
   "source": [
    "data_c['외출 빈도']=data_c['외출 빈도'].max()-data_c['외출 빈도']+1"
   ]
  },
  {
   "cell_type": "markdown",
   "id": "14b3b7fa",
   "metadata": {},
   "source": [
    "### 🌱 경제 활동 상태"
   ]
  },
  {
   "cell_type": "markdown",
   "id": "e683e663",
   "metadata": {},
   "source": [
    "- 기존 경제 활동 상태가 '아니요'면 2인 값을 0으로 바꾸기"
   ]
  },
  {
   "cell_type": "code",
   "execution_count": 83,
   "id": "3dbe561e",
   "metadata": {},
   "outputs": [],
   "source": [
    "data_c.loc[data_c['경제활동상태']!=1,'경제활동상태']=0"
   ]
  },
  {
   "cell_type": "code",
   "execution_count": 84,
   "id": "ec6b7d45",
   "metadata": {},
   "outputs": [
    {
     "data": {
      "text/plain": [
       "1    6408\n",
       "0    3506\n",
       "Name: 경제활동상태, dtype: int64"
      ]
     },
     "execution_count": 84,
     "metadata": {},
     "output_type": "execute_result"
    }
   ],
   "source": [
    "data_c['경제활동상태'].value_counts()"
   ]
  },
  {
   "cell_type": "markdown",
   "id": "cc1f57e6",
   "metadata": {},
   "source": [
    "### 🌱취업경험"
   ]
  },
  {
   "cell_type": "markdown",
   "id": "f60985c9",
   "metadata": {},
   "source": [
    "- 기존 취업 경험이 '없다'면 2인 값을 0으로 바꾸기"
   ]
  },
  {
   "cell_type": "code",
   "execution_count": 85,
   "id": "fbfe2a57",
   "metadata": {},
   "outputs": [],
   "source": [
    "data_c.loc[data_c['취업 경험']==2,'취업 경험']=0"
   ]
  },
  {
   "cell_type": "code",
   "execution_count": 86,
   "id": "96577098",
   "metadata": {},
   "outputs": [
    {
     "data": {
      "text/html": [
       "<div>\n",
       "<style scoped>\n",
       "    .dataframe tbody tr th:only-of-type {\n",
       "        vertical-align: middle;\n",
       "    }\n",
       "\n",
       "    .dataframe tbody tr th {\n",
       "        vertical-align: top;\n",
       "    }\n",
       "\n",
       "    .dataframe thead th {\n",
       "        text-align: right;\n",
       "    }\n",
       "</style>\n",
       "<table border=\"1\" class=\"dataframe\">\n",
       "  <thead>\n",
       "    <tr style=\"text-align: right;\">\n",
       "      <th></th>\n",
       "      <th>가구원수</th>\n",
       "      <th>연령</th>\n",
       "      <th>시도코드</th>\n",
       "      <th>국민기초생활보장제도(또는 맞춤형 급여) 수급 여부 및 경험</th>\n",
       "      <th>부모 동거 여부</th>\n",
       "      <th>공공임대주택 거주 경험</th>\n",
       "      <th>현재 거주 지역의 주거 환경 만족도[생활 인프라]</th>\n",
       "      <th>현재 거주 지역의 주거 환경 만족도[대중교통 이용]</th>\n",
       "      <th>현재 거주 지역의 주거 환경 만족도[치안 및 범죄 등 방범 상태]</th>\n",
       "      <th>현재 거주 지역의 주거 환경 만족도[위생 환경]</th>\n",
       "      <th>...</th>\n",
       "      <th>개인부채</th>\n",
       "      <th>개인자산</th>\n",
       "      <th>가구소득_5분위</th>\n",
       "      <th>경제활동상태</th>\n",
       "      <th>성별_여</th>\n",
       "      <th>성별_남</th>\n",
       "      <th>혼인상태_미혼</th>\n",
       "      <th>혼인상태_기혼</th>\n",
       "      <th>혼인상태_기타</th>\n",
       "      <th>최근 1달 이상 주택 이외의 거처에 거주한 경험</th>\n",
       "    </tr>\n",
       "  </thead>\n",
       "  <tbody>\n",
       "    <tr>\n",
       "      <th>0</th>\n",
       "      <td>1</td>\n",
       "      <td>1</td>\n",
       "      <td>11</td>\n",
       "      <td>0</td>\n",
       "      <td>0</td>\n",
       "      <td>0</td>\n",
       "      <td>4</td>\n",
       "      <td>4</td>\n",
       "      <td>4</td>\n",
       "      <td>4</td>\n",
       "      <td>...</td>\n",
       "      <td>0</td>\n",
       "      <td>1500</td>\n",
       "      <td>1</td>\n",
       "      <td>1</td>\n",
       "      <td>0</td>\n",
       "      <td>1</td>\n",
       "      <td>1</td>\n",
       "      <td>0</td>\n",
       "      <td>0</td>\n",
       "      <td>0</td>\n",
       "    </tr>\n",
       "    <tr>\n",
       "      <th>1</th>\n",
       "      <td>1</td>\n",
       "      <td>1</td>\n",
       "      <td>11</td>\n",
       "      <td>0</td>\n",
       "      <td>0</td>\n",
       "      <td>0</td>\n",
       "      <td>4</td>\n",
       "      <td>5</td>\n",
       "      <td>5</td>\n",
       "      <td>4</td>\n",
       "      <td>...</td>\n",
       "      <td>0</td>\n",
       "      <td>6000</td>\n",
       "      <td>1</td>\n",
       "      <td>1</td>\n",
       "      <td>0</td>\n",
       "      <td>1</td>\n",
       "      <td>1</td>\n",
       "      <td>0</td>\n",
       "      <td>0</td>\n",
       "      <td>0</td>\n",
       "    </tr>\n",
       "    <tr>\n",
       "      <th>2</th>\n",
       "      <td>1</td>\n",
       "      <td>1</td>\n",
       "      <td>11</td>\n",
       "      <td>0</td>\n",
       "      <td>0</td>\n",
       "      <td>0</td>\n",
       "      <td>3</td>\n",
       "      <td>4</td>\n",
       "      <td>3</td>\n",
       "      <td>3</td>\n",
       "      <td>...</td>\n",
       "      <td>0</td>\n",
       "      <td>1800</td>\n",
       "      <td>1</td>\n",
       "      <td>1</td>\n",
       "      <td>0</td>\n",
       "      <td>1</td>\n",
       "      <td>1</td>\n",
       "      <td>0</td>\n",
       "      <td>0</td>\n",
       "      <td>0</td>\n",
       "    </tr>\n",
       "    <tr>\n",
       "      <th>3</th>\n",
       "      <td>1</td>\n",
       "      <td>1</td>\n",
       "      <td>11</td>\n",
       "      <td>0</td>\n",
       "      <td>0</td>\n",
       "      <td>0</td>\n",
       "      <td>4</td>\n",
       "      <td>4</td>\n",
       "      <td>4</td>\n",
       "      <td>4</td>\n",
       "      <td>...</td>\n",
       "      <td>0</td>\n",
       "      <td>120</td>\n",
       "      <td>1</td>\n",
       "      <td>1</td>\n",
       "      <td>0</td>\n",
       "      <td>1</td>\n",
       "      <td>1</td>\n",
       "      <td>0</td>\n",
       "      <td>0</td>\n",
       "      <td>0</td>\n",
       "    </tr>\n",
       "    <tr>\n",
       "      <th>4</th>\n",
       "      <td>1</td>\n",
       "      <td>1</td>\n",
       "      <td>11</td>\n",
       "      <td>0</td>\n",
       "      <td>0</td>\n",
       "      <td>0</td>\n",
       "      <td>4</td>\n",
       "      <td>4</td>\n",
       "      <td>4</td>\n",
       "      <td>4</td>\n",
       "      <td>...</td>\n",
       "      <td>0</td>\n",
       "      <td>550</td>\n",
       "      <td>1</td>\n",
       "      <td>1</td>\n",
       "      <td>0</td>\n",
       "      <td>1</td>\n",
       "      <td>1</td>\n",
       "      <td>0</td>\n",
       "      <td>0</td>\n",
       "      <td>0</td>\n",
       "    </tr>\n",
       "  </tbody>\n",
       "</table>\n",
       "<p>5 rows × 46 columns</p>\n",
       "</div>"
      ],
      "text/plain": [
       "   가구원수  연령  시도코드  국민기초생활보장제도(또는 맞춤형 급여) 수급 여부 및 경험  부모 동거 여부  공공임대주택 거주 경험  \\\n",
       "0     1   1    11                                 0         0             0   \n",
       "1     1   1    11                                 0         0             0   \n",
       "2     1   1    11                                 0         0             0   \n",
       "3     1   1    11                                 0         0             0   \n",
       "4     1   1    11                                 0         0             0   \n",
       "\n",
       "   현재 거주 지역의 주거 환경 만족도[생활 인프라]  현재 거주 지역의 주거 환경 만족도[대중교통 이용]  \\\n",
       "0                            4                             4   \n",
       "1                            4                             5   \n",
       "2                            3                             4   \n",
       "3                            4                             4   \n",
       "4                            4                             4   \n",
       "\n",
       "   현재 거주 지역의 주거 환경 만족도[치안 및 범죄 등 방범 상태]  현재 거주 지역의 주거 환경 만족도[위생 환경]  ...  \\\n",
       "0                                     4                           4  ...   \n",
       "1                                     5                           4  ...   \n",
       "2                                     3                           3  ...   \n",
       "3                                     4                           4  ...   \n",
       "4                                     4                           4  ...   \n",
       "\n",
       "   개인부채  개인자산  가구소득_5분위  경제활동상태  성별_여  성별_남  혼인상태_미혼  혼인상태_기혼  혼인상태_기타  \\\n",
       "0     0  1500         1       1     0     1        1        0        0   \n",
       "1     0  6000         1       1     0     1        1        0        0   \n",
       "2     0  1800         1       1     0     1        1        0        0   \n",
       "3     0   120         1       1     0     1        1        0        0   \n",
       "4     0   550         1       1     0     1        1        0        0   \n",
       "\n",
       "   최근 1달 이상 주택 이외의 거처에 거주한 경험  \n",
       "0                           0  \n",
       "1                           0  \n",
       "2                           0  \n",
       "3                           0  \n",
       "4                           0  \n",
       "\n",
       "[5 rows x 46 columns]"
      ]
     },
     "execution_count": 86,
     "metadata": {},
     "output_type": "execute_result"
    }
   ],
   "source": [
    "data_c.head()"
   ]
  },
  {
   "cell_type": "markdown",
   "id": "4e26b772",
   "metadata": {},
   "source": [
    "## 3 데이터 내보내기"
   ]
  },
  {
   "cell_type": "code",
   "execution_count": 87,
   "id": "63501b0b",
   "metadata": {},
   "outputs": [],
   "source": [
    "data_c.to_csv(\"C:/Users/MYCOM/data/청년의삶실태조사_전처리_완료.csv\")"
   ]
  }
 ],
 "metadata": {
  "kernelspec": {
   "display_name": "Python 3 (ipykernel)",
   "language": "python",
   "name": "python3"
  },
  "language_info": {
   "codemirror_mode": {
    "name": "ipython",
    "version": 3
   },
   "file_extension": ".py",
   "mimetype": "text/x-python",
   "name": "python",
   "nbconvert_exporter": "python",
   "pygments_lexer": "ipython3",
   "version": "3.9.13"
  }
 },
 "nbformat": 4,
 "nbformat_minor": 5
}
