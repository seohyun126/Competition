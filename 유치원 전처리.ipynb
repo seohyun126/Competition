{
 "cells": [
  {
   "cell_type": "code",
   "execution_count": 15,
   "id": "a3e28515",
   "metadata": {},
   "outputs": [],
   "source": [
    "import pandas as pd\n",
    "data=pd.read_csv(\"C:/Users/MYCOM/data/merged_kinder3.csv\")"
   ]
  },
  {
   "cell_type": "code",
   "execution_count": 16,
   "id": "0147f62c",
   "metadata": {},
   "outputs": [
    {
     "data": {
      "text/plain": [
       "Unnamed: 0       0\n",
       "유치원명             0\n",
       "교육지원청명           0\n",
       "급식유아수            0\n",
       "영양교사및조리사수        0\n",
       "소방대피훈련여부         0\n",
       "가스점검여부           0\n",
       "소방안전점검여부         0\n",
       "전기설비점검여부         0\n",
       "CCTV 설치여부        0\n",
       "CCTV 총 설치수       0\n",
       "교통안전교육           0\n",
       "폭력예방 및 신변보호교육    0\n",
       "약물중독예방교육         0\n",
       "사이버중독예방교육        0\n",
       "재난안전교육           0\n",
       "직업안전교육           0\n",
       "응급처치교육           0\n",
       "운행차량수            0\n",
       "환경위생관리 점수        0\n",
       "총유아수             0\n",
       "사고수              0\n",
       "dtype: int64"
      ]
     },
     "execution_count": 16,
     "metadata": {},
     "output_type": "execute_result"
    }
   ],
   "source": [
    "data.isnull().sum()"
   ]
  },
  {
   "cell_type": "code",
   "execution_count": 18,
   "id": "9f518017",
   "metadata": {},
   "outputs": [
    {
     "data": {
      "text/plain": [
       "(7407, 22)"
      ]
     },
     "execution_count": 18,
     "metadata": {},
     "output_type": "execute_result"
    }
   ],
   "source": [
    "data.shape"
   ]
  },
  {
   "cell_type": "code",
   "execution_count": 5,
   "id": "d9aac15f",
   "metadata": {},
   "outputs": [
    {
     "data": {
      "text/plain": [
       "0       강릉교육지원청\n",
       "1       강릉교육지원청\n",
       "2       강릉교육지원청\n",
       "3       강릉교육지원청\n",
       "4       강릉교육지원청\n",
       "         ...   \n",
       "7402    충주교육지원청\n",
       "7403    충주교육지원청\n",
       "7404    충주교육지원청\n",
       "7405    충주교육지원청\n",
       "7406    충주교육지원청\n",
       "Name: 교육지원청명, Length: 7407, dtype: object"
      ]
     },
     "execution_count": 5,
     "metadata": {},
     "output_type": "execute_result"
    }
   ],
   "source": [
    "data['교육지원청명']"
   ]
  },
  {
   "cell_type": "code",
   "execution_count": 6,
   "id": "a75d5357",
   "metadata": {},
   "outputs": [],
   "source": [
    "data=pd.read_csv(\"C:/Users/MYCOM/Downloads/유치원전처리.csv\")"
   ]
  },
  {
   "cell_type": "code",
   "execution_count": 8,
   "id": "0dd95fcd",
   "metadata": {},
   "outputs": [
    {
     "data": {
      "text/plain": [
       "경기도교육청        1857\n",
       "서울특별시교육청       676\n",
       "경상남도교육청        596\n",
       "경상북도교육청        594\n",
       "전라남도교육청        463\n",
       "충청남도교육청        451\n",
       "전라북도교육청        430\n",
       "인천광역시교육청       355\n",
       "부산광역시교육청       326\n",
       "충청북도교육청        289\n",
       "대구광역시교육청       288\n",
       "광주광역시교육청       248\n",
       "대전광역시교육청       226\n",
       "울산광역시교육청       163\n",
       "제주특별자치도교육청     115\n",
       "세종특별자치시교육청      58\n",
       "Name: 교육청명, dtype: int64"
      ]
     },
     "execution_count": 8,
     "metadata": {},
     "output_type": "execute_result"
    }
   ],
   "source": [
    "data.drop('Unnamed: 0',axis=1,inplace=True)\n",
    "data['교육청명'].value_counts()"
   ]
  },
  {
   "cell_type": "code",
   "execution_count": 10,
   "id": "6e8bfda2",
   "metadata": {},
   "outputs": [],
   "source": [
    "data['시군구']=data['교육청명'].str.replace('교육청', '')"
   ]
  },
  {
   "cell_type": "code",
   "execution_count": 11,
   "id": "45efdc82",
   "metadata": {},
   "outputs": [
    {
     "data": {
      "text/plain": [
       "경기도        1857\n",
       "서울특별시       676\n",
       "경상남도        596\n",
       "경상북도        594\n",
       "전라남도        463\n",
       "충청남도        451\n",
       "전라북도        430\n",
       "인천광역시       355\n",
       "부산광역시       326\n",
       "충청북도        289\n",
       "대구광역시       288\n",
       "광주광역시       248\n",
       "대전광역시       226\n",
       "울산광역시       163\n",
       "제주특별자치도     115\n",
       "세종특별자치시      58\n",
       "Name: 시군구, dtype: int64"
      ]
     },
     "execution_count": 11,
     "metadata": {},
     "output_type": "execute_result"
    }
   ],
   "source": [
    "data['시군구']. value_counts()"
   ]
  },
  {
   "cell_type": "code",
   "execution_count": 13,
   "id": "e211ce1c",
   "metadata": {},
   "outputs": [],
   "source": [
    "data['나라']='대한민국'"
   ]
  },
  {
   "cell_type": "code",
   "execution_count": 14,
   "id": "a44cb76f",
   "metadata": {},
   "outputs": [],
   "source": [
    "data.to_csv(\"C:/Users/MYCOM/Downloads/유치원전처리2.csv\")"
   ]
  }
 ],
 "metadata": {
  "kernelspec": {
   "display_name": "Python 3 (ipykernel)",
   "language": "python",
   "name": "python3"
  },
  "language_info": {
   "codemirror_mode": {
    "name": "ipython",
    "version": 3
   },
   "file_extension": ".py",
   "mimetype": "text/x-python",
   "name": "python",
   "nbconvert_exporter": "python",
   "pygments_lexer": "ipython3",
   "version": "3.9.13"
  }
 },
 "nbformat": 4,
 "nbformat_minor": 5
}
