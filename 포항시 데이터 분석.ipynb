{
 "cells": [
  {
   "cell_type": "code",
   "execution_count": 1,
   "id": "fa60f3db",
   "metadata": {},
   "outputs": [
    {
     "name": "stderr",
     "output_type": "stream",
     "text": [
      "C:\\Users\\MYCOM\\AppData\\Local\\Temp\\ipykernel_11224\\3613778591.py:2: DtypeWarning: Columns (1,2) have mixed types. Specify dtype option on import or set low_memory=False.\n",
      "  data_sh=pd.read_csv(\"C:/Users/MYCOM/data/2023년 문화관광 데이터 분석대회(카드데이터_내국인).txt\",sep='|')\n"
     ]
    },
    {
     "data": {
      "text/html": [
       "<div>\n",
       "<style scoped>\n",
       "    .dataframe tbody tr th:only-of-type {\n",
       "        vertical-align: middle;\n",
       "    }\n",
       "\n",
       "    .dataframe tbody tr th {\n",
       "        vertical-align: top;\n",
       "    }\n",
       "\n",
       "    .dataframe thead th {\n",
       "        text-align: right;\n",
       "    }\n",
       "</style>\n",
       "<table border=\"1\" class=\"dataframe\">\n",
       "  <thead>\n",
       "    <tr style=\"text-align: right;\">\n",
       "      <th></th>\n",
       "      <th>자택광역시도</th>\n",
       "      <th>가맹점광역시도</th>\n",
       "      <th>가맹점시군구</th>\n",
       "      <th>GB3</th>\n",
       "      <th>GB2</th>\n",
       "      <th>SEX_CCD</th>\n",
       "      <th>CLN_AGE_R</th>\n",
       "      <th>TA_YM</th>\n",
       "      <th>DAW_CCD_R</th>\n",
       "      <th>APV_TS_DL_TM_R</th>\n",
       "      <th>VLM</th>\n",
       "      <th>USEC</th>\n",
       "    </tr>\n",
       "  </thead>\n",
       "  <tbody>\n",
       "    <tr>\n",
       "      <th>0</th>\n",
       "      <td>42</td>\n",
       "      <td>42</td>\n",
       "      <td>42830</td>\n",
       "      <td>여행</td>\n",
       "      <td>교통</td>\n",
       "      <td>M</td>\n",
       "      <td>40</td>\n",
       "      <td>202107</td>\n",
       "      <td>RED</td>\n",
       "      <td>활동</td>\n",
       "      <td>18730606</td>\n",
       "      <td>78</td>\n",
       "    </tr>\n",
       "    <tr>\n",
       "      <th>1</th>\n",
       "      <td>28</td>\n",
       "      <td>42</td>\n",
       "      <td>42830</td>\n",
       "      <td>여행</td>\n",
       "      <td>관광쇼핑</td>\n",
       "      <td>F</td>\n",
       "      <td>50</td>\n",
       "      <td>202107</td>\n",
       "      <td>RED</td>\n",
       "      <td>활동</td>\n",
       "      <td>319575</td>\n",
       "      <td>26</td>\n",
       "    </tr>\n",
       "    <tr>\n",
       "      <th>2</th>\n",
       "      <td>28</td>\n",
       "      <td>43</td>\n",
       "      <td>43111</td>\n",
       "      <td>취미오락</td>\n",
       "      <td>외식</td>\n",
       "      <td>F</td>\n",
       "      <td>60</td>\n",
       "      <td>202107</td>\n",
       "      <td>RED</td>\n",
       "      <td>활동</td>\n",
       "      <td>2187119</td>\n",
       "      <td>96</td>\n",
       "    </tr>\n",
       "    <tr>\n",
       "      <th>3</th>\n",
       "      <td>43</td>\n",
       "      <td>43</td>\n",
       "      <td>43111</td>\n",
       "      <td>취미오락</td>\n",
       "      <td>목욕</td>\n",
       "      <td>M</td>\n",
       "      <td>40</td>\n",
       "      <td>202107</td>\n",
       "      <td>RED</td>\n",
       "      <td>활동</td>\n",
       "      <td>1821140</td>\n",
       "      <td>201</td>\n",
       "    </tr>\n",
       "    <tr>\n",
       "      <th>4</th>\n",
       "      <td>43</td>\n",
       "      <td>43</td>\n",
       "      <td>43112</td>\n",
       "      <td>여행</td>\n",
       "      <td>관광쇼핑</td>\n",
       "      <td>F</td>\n",
       "      <td>40</td>\n",
       "      <td>202107</td>\n",
       "      <td>WHITE</td>\n",
       "      <td>활동</td>\n",
       "      <td>100688</td>\n",
       "      <td>17</td>\n",
       "    </tr>\n",
       "  </tbody>\n",
       "</table>\n",
       "</div>"
      ],
      "text/plain": [
       "  자택광역시도 가맹점광역시도 가맹점시군구   GB3   GB2 SEX_CCD  CLN_AGE_R   TA_YM DAW_CCD_R  \\\n",
       "0     42      42  42830    여행    교통       M         40  202107       RED   \n",
       "1     28      42  42830    여행  관광쇼핑       F         50  202107       RED   \n",
       "2     28      43  43111  취미오락    외식       F         60  202107       RED   \n",
       "3     43      43  43111  취미오락    목욕       M         40  202107       RED   \n",
       "4     43      43  43112    여행  관광쇼핑       F         40  202107     WHITE   \n",
       "\n",
       "  APV_TS_DL_TM_R       VLM  USEC  \n",
       "0             활동  18730606    78  \n",
       "1             활동    319575    26  \n",
       "2             활동   2187119    96  \n",
       "3             활동   1821140   201  \n",
       "4             활동    100688    17  "
      ]
     },
     "execution_count": 1,
     "metadata": {},
     "output_type": "execute_result"
    }
   ],
   "source": [
    "import pandas as pd\n",
    "data_sh=pd.read_csv(\"C:/Users/MYCOM/data/2023년 문화관광 데이터 분석대회(카드데이터_내국인).txt\",sep='|')\n",
    "data_sh.head()"
   ]
  },
  {
   "cell_type": "code",
   "execution_count": 2,
   "id": "9f6aca68",
   "metadata": {},
   "outputs": [
    {
     "data": {
      "text/plain": [
       "array(['여행', '취미오락', '스포츠활동', '문화예술활동'], dtype=object)"
      ]
     },
     "execution_count": 2,
     "metadata": {},
     "output_type": "execute_result"
    }
   ],
   "source": [
    "data_sh['GB3'].unique()"
   ]
  },
  {
   "cell_type": "code",
   "execution_count": 3,
   "id": "df7161a6",
   "metadata": {},
   "outputs": [
    {
     "name": "stdout",
     "output_type": "stream",
     "text": [
      "<class 'pandas.core.frame.DataFrame'>\n",
      "RangeIndex: 36778848 entries, 0 to 36778847\n",
      "Data columns (total 12 columns):\n",
      " #   Column          Dtype \n",
      "---  ------          ----- \n",
      " 0   자택광역시도          object\n",
      " 1   가맹점광역시도         object\n",
      " 2   가맹점시군구          object\n",
      " 3   GB3             object\n",
      " 4   GB2             object\n",
      " 5   SEX_CCD         object\n",
      " 6   CLN_AGE_R       int64 \n",
      " 7   TA_YM           int64 \n",
      " 8   DAW_CCD_R       object\n",
      " 9   APV_TS_DL_TM_R  object\n",
      " 10  VLM             int64 \n",
      " 11  USEC            int64 \n",
      "dtypes: int64(4), object(8)\n",
      "memory usage: 3.3+ GB\n"
     ]
    }
   ],
   "source": [
    "data_sh.info()"
   ]
  },
  {
   "cell_type": "code",
   "execution_count": 4,
   "id": "006b1ba0",
   "metadata": {},
   "outputs": [],
   "source": [
    "data_sh_ph=data_sh[data_sh['가맹점시군구']==47111]"
   ]
  },
  {
   "cell_type": "code",
   "execution_count": 5,
   "id": "4a43e0c9",
   "metadata": {},
   "outputs": [
    {
     "data": {
      "text/html": [
       "<div>\n",
       "<style scoped>\n",
       "    .dataframe tbody tr th:only-of-type {\n",
       "        vertical-align: middle;\n",
       "    }\n",
       "\n",
       "    .dataframe tbody tr th {\n",
       "        vertical-align: top;\n",
       "    }\n",
       "\n",
       "    .dataframe thead th {\n",
       "        text-align: right;\n",
       "    }\n",
       "</style>\n",
       "<table border=\"1\" class=\"dataframe\">\n",
       "  <thead>\n",
       "    <tr style=\"text-align: right;\">\n",
       "      <th></th>\n",
       "      <th>자택광역시도</th>\n",
       "      <th>가맹점광역시도</th>\n",
       "      <th>가맹점시군구</th>\n",
       "      <th>GB3</th>\n",
       "      <th>GB2</th>\n",
       "      <th>SEX_CCD</th>\n",
       "      <th>CLN_AGE_R</th>\n",
       "      <th>TA_YM</th>\n",
       "      <th>DAW_CCD_R</th>\n",
       "      <th>APV_TS_DL_TM_R</th>\n",
       "      <th>VLM</th>\n",
       "      <th>USEC</th>\n",
       "    </tr>\n",
       "  </thead>\n",
       "  <tbody>\n",
       "    <tr>\n",
       "      <th>65692</th>\n",
       "      <td>36</td>\n",
       "      <td>47</td>\n",
       "      <td>47111</td>\n",
       "      <td>취미오락</td>\n",
       "      <td>외식</td>\n",
       "      <td>F</td>\n",
       "      <td>40</td>\n",
       "      <td>202107</td>\n",
       "      <td>RED</td>\n",
       "      <td>활동</td>\n",
       "      <td>869857</td>\n",
       "      <td>35</td>\n",
       "    </tr>\n",
       "    <tr>\n",
       "      <th>66129</th>\n",
       "      <td>42</td>\n",
       "      <td>47</td>\n",
       "      <td>47111</td>\n",
       "      <td>취미오락</td>\n",
       "      <td>종합쇼핑</td>\n",
       "      <td>M</td>\n",
       "      <td>20</td>\n",
       "      <td>202107</td>\n",
       "      <td>WHITE</td>\n",
       "      <td>휴식</td>\n",
       "      <td>1090933</td>\n",
       "      <td>78</td>\n",
       "    </tr>\n",
       "    <tr>\n",
       "      <th>66130</th>\n",
       "      <td>11</td>\n",
       "      <td>47</td>\n",
       "      <td>47111</td>\n",
       "      <td>여행</td>\n",
       "      <td>숙박</td>\n",
       "      <td>M</td>\n",
       "      <td>20</td>\n",
       "      <td>202107</td>\n",
       "      <td>WHITE</td>\n",
       "      <td>휴식</td>\n",
       "      <td>2670422</td>\n",
       "      <td>43</td>\n",
       "    </tr>\n",
       "    <tr>\n",
       "      <th>66131</th>\n",
       "      <td>30</td>\n",
       "      <td>47</td>\n",
       "      <td>47111</td>\n",
       "      <td>취미오락</td>\n",
       "      <td>미용</td>\n",
       "      <td>F</td>\n",
       "      <td>20</td>\n",
       "      <td>202107</td>\n",
       "      <td>RED</td>\n",
       "      <td>활동</td>\n",
       "      <td>105065</td>\n",
       "      <td>8</td>\n",
       "    </tr>\n",
       "    <tr>\n",
       "      <th>66513</th>\n",
       "      <td>41</td>\n",
       "      <td>47</td>\n",
       "      <td>47111</td>\n",
       "      <td>취미오락</td>\n",
       "      <td>외식</td>\n",
       "      <td>M</td>\n",
       "      <td>50</td>\n",
       "      <td>202207</td>\n",
       "      <td>RED</td>\n",
       "      <td>휴식</td>\n",
       "      <td>48818117</td>\n",
       "      <td>872</td>\n",
       "    </tr>\n",
       "  </tbody>\n",
       "</table>\n",
       "</div>"
      ],
      "text/plain": [
       "      자택광역시도 가맹점광역시도 가맹점시군구   GB3   GB2 SEX_CCD  CLN_AGE_R   TA_YM DAW_CCD_R  \\\n",
       "65692     36      47  47111  취미오락    외식       F         40  202107       RED   \n",
       "66129     42      47  47111  취미오락  종합쇼핑       M         20  202107     WHITE   \n",
       "66130     11      47  47111    여행    숙박       M         20  202107     WHITE   \n",
       "66131     30      47  47111  취미오락    미용       F         20  202107       RED   \n",
       "66513     41      47  47111  취미오락    외식       M         50  202207       RED   \n",
       "\n",
       "      APV_TS_DL_TM_R       VLM  USEC  \n",
       "65692             활동    869857    35  \n",
       "66129             휴식   1090933    78  \n",
       "66130             휴식   2670422    43  \n",
       "66131             활동    105065     8  \n",
       "66513             휴식  48818117   872  "
      ]
     },
     "execution_count": 5,
     "metadata": {},
     "output_type": "execute_result"
    }
   ],
   "source": [
    "data_sh_ph.head()"
   ]
  },
  {
   "cell_type": "code",
   "execution_count": 6,
   "id": "b8ab0547",
   "metadata": {},
   "outputs": [],
   "source": [
    "data_sh_ph=pd.get_dummies(data_sh_ph,columns=['SEX_CCD'])"
   ]
  },
  {
   "cell_type": "code",
   "execution_count": 7,
   "id": "ca489856",
   "metadata": {},
   "outputs": [
    {
     "data": {
      "text/html": [
       "<div>\n",
       "<style scoped>\n",
       "    .dataframe tbody tr th:only-of-type {\n",
       "        vertical-align: middle;\n",
       "    }\n",
       "\n",
       "    .dataframe tbody tr th {\n",
       "        vertical-align: top;\n",
       "    }\n",
       "\n",
       "    .dataframe thead th {\n",
       "        text-align: right;\n",
       "    }\n",
       "</style>\n",
       "<table border=\"1\" class=\"dataframe\">\n",
       "  <thead>\n",
       "    <tr style=\"text-align: right;\">\n",
       "      <th></th>\n",
       "      <th>자택광역시도</th>\n",
       "      <th>가맹점광역시도</th>\n",
       "      <th>가맹점시군구</th>\n",
       "      <th>GB3</th>\n",
       "      <th>GB2</th>\n",
       "      <th>CLN_AGE_R</th>\n",
       "      <th>TA_YM</th>\n",
       "      <th>DAW_CCD_R</th>\n",
       "      <th>APV_TS_DL_TM_R</th>\n",
       "      <th>VLM</th>\n",
       "      <th>USEC</th>\n",
       "      <th>SEX_CCD_F</th>\n",
       "      <th>SEX_CCD_M</th>\n",
       "    </tr>\n",
       "  </thead>\n",
       "  <tbody>\n",
       "    <tr>\n",
       "      <th>65692</th>\n",
       "      <td>36</td>\n",
       "      <td>47</td>\n",
       "      <td>47111</td>\n",
       "      <td>취미오락</td>\n",
       "      <td>외식</td>\n",
       "      <td>40</td>\n",
       "      <td>202107</td>\n",
       "      <td>RED</td>\n",
       "      <td>활동</td>\n",
       "      <td>869857</td>\n",
       "      <td>35</td>\n",
       "      <td>1</td>\n",
       "      <td>0</td>\n",
       "    </tr>\n",
       "    <tr>\n",
       "      <th>66129</th>\n",
       "      <td>42</td>\n",
       "      <td>47</td>\n",
       "      <td>47111</td>\n",
       "      <td>취미오락</td>\n",
       "      <td>종합쇼핑</td>\n",
       "      <td>20</td>\n",
       "      <td>202107</td>\n",
       "      <td>WHITE</td>\n",
       "      <td>휴식</td>\n",
       "      <td>1090933</td>\n",
       "      <td>78</td>\n",
       "      <td>0</td>\n",
       "      <td>1</td>\n",
       "    </tr>\n",
       "    <tr>\n",
       "      <th>66130</th>\n",
       "      <td>11</td>\n",
       "      <td>47</td>\n",
       "      <td>47111</td>\n",
       "      <td>여행</td>\n",
       "      <td>숙박</td>\n",
       "      <td>20</td>\n",
       "      <td>202107</td>\n",
       "      <td>WHITE</td>\n",
       "      <td>휴식</td>\n",
       "      <td>2670422</td>\n",
       "      <td>43</td>\n",
       "      <td>0</td>\n",
       "      <td>1</td>\n",
       "    </tr>\n",
       "    <tr>\n",
       "      <th>66131</th>\n",
       "      <td>30</td>\n",
       "      <td>47</td>\n",
       "      <td>47111</td>\n",
       "      <td>취미오락</td>\n",
       "      <td>미용</td>\n",
       "      <td>20</td>\n",
       "      <td>202107</td>\n",
       "      <td>RED</td>\n",
       "      <td>활동</td>\n",
       "      <td>105065</td>\n",
       "      <td>8</td>\n",
       "      <td>1</td>\n",
       "      <td>0</td>\n",
       "    </tr>\n",
       "    <tr>\n",
       "      <th>66513</th>\n",
       "      <td>41</td>\n",
       "      <td>47</td>\n",
       "      <td>47111</td>\n",
       "      <td>취미오락</td>\n",
       "      <td>외식</td>\n",
       "      <td>50</td>\n",
       "      <td>202207</td>\n",
       "      <td>RED</td>\n",
       "      <td>휴식</td>\n",
       "      <td>48818117</td>\n",
       "      <td>872</td>\n",
       "      <td>0</td>\n",
       "      <td>1</td>\n",
       "    </tr>\n",
       "  </tbody>\n",
       "</table>\n",
       "</div>"
      ],
      "text/plain": [
       "      자택광역시도 가맹점광역시도 가맹점시군구   GB3   GB2  CLN_AGE_R   TA_YM DAW_CCD_R  \\\n",
       "65692     36      47  47111  취미오락    외식         40  202107       RED   \n",
       "66129     42      47  47111  취미오락  종합쇼핑         20  202107     WHITE   \n",
       "66130     11      47  47111    여행    숙박         20  202107     WHITE   \n",
       "66131     30      47  47111  취미오락    미용         20  202107       RED   \n",
       "66513     41      47  47111  취미오락    외식         50  202207       RED   \n",
       "\n",
       "      APV_TS_DL_TM_R       VLM  USEC  SEX_CCD_F  SEX_CCD_M  \n",
       "65692             활동    869857    35          1          0  \n",
       "66129             휴식   1090933    78          0          1  \n",
       "66130             휴식   2670422    43          0          1  \n",
       "66131             활동    105065     8          1          0  \n",
       "66513             휴식  48818117   872          0          1  "
      ]
     },
     "execution_count": 7,
     "metadata": {},
     "output_type": "execute_result"
    }
   ],
   "source": [
    "data_sh_ph.head()"
   ]
  },
  {
   "cell_type": "code",
   "execution_count": 8,
   "id": "cda8e06d",
   "metadata": {},
   "outputs": [],
   "source": [
    "data_reg=data_sh_ph.drop(['자택광역시도','가맹점광역시도','가맹점시군구','DAW_CCD_R','USEC','APV_TS_DL_TM_R','GB2','GB3'],axis=1,inplace=False)"
   ]
  },
  {
   "cell_type": "code",
   "execution_count": 9,
   "id": "1e6e53dd",
   "metadata": {},
   "outputs": [
    {
     "data": {
      "text/html": [
       "<div>\n",
       "<style scoped>\n",
       "    .dataframe tbody tr th:only-of-type {\n",
       "        vertical-align: middle;\n",
       "    }\n",
       "\n",
       "    .dataframe tbody tr th {\n",
       "        vertical-align: top;\n",
       "    }\n",
       "\n",
       "    .dataframe thead th {\n",
       "        text-align: right;\n",
       "    }\n",
       "</style>\n",
       "<table border=\"1\" class=\"dataframe\">\n",
       "  <thead>\n",
       "    <tr style=\"text-align: right;\">\n",
       "      <th></th>\n",
       "      <th>CLN_AGE_R</th>\n",
       "      <th>TA_YM</th>\n",
       "      <th>VLM</th>\n",
       "      <th>SEX_CCD_F</th>\n",
       "      <th>SEX_CCD_M</th>\n",
       "    </tr>\n",
       "  </thead>\n",
       "  <tbody>\n",
       "    <tr>\n",
       "      <th>65692</th>\n",
       "      <td>40</td>\n",
       "      <td>202107</td>\n",
       "      <td>869857</td>\n",
       "      <td>1</td>\n",
       "      <td>0</td>\n",
       "    </tr>\n",
       "    <tr>\n",
       "      <th>66129</th>\n",
       "      <td>20</td>\n",
       "      <td>202107</td>\n",
       "      <td>1090933</td>\n",
       "      <td>0</td>\n",
       "      <td>1</td>\n",
       "    </tr>\n",
       "    <tr>\n",
       "      <th>66130</th>\n",
       "      <td>20</td>\n",
       "      <td>202107</td>\n",
       "      <td>2670422</td>\n",
       "      <td>0</td>\n",
       "      <td>1</td>\n",
       "    </tr>\n",
       "    <tr>\n",
       "      <th>66131</th>\n",
       "      <td>20</td>\n",
       "      <td>202107</td>\n",
       "      <td>105065</td>\n",
       "      <td>1</td>\n",
       "      <td>0</td>\n",
       "    </tr>\n",
       "    <tr>\n",
       "      <th>66513</th>\n",
       "      <td>50</td>\n",
       "      <td>202207</td>\n",
       "      <td>48818117</td>\n",
       "      <td>0</td>\n",
       "      <td>1</td>\n",
       "    </tr>\n",
       "  </tbody>\n",
       "</table>\n",
       "</div>"
      ],
      "text/plain": [
       "       CLN_AGE_R   TA_YM       VLM  SEX_CCD_F  SEX_CCD_M\n",
       "65692         40  202107    869857          1          0\n",
       "66129         20  202107   1090933          0          1\n",
       "66130         20  202107   2670422          0          1\n",
       "66131         20  202107    105065          1          0\n",
       "66513         50  202207  48818117          0          1"
      ]
     },
     "execution_count": 9,
     "metadata": {},
     "output_type": "execute_result"
    }
   ],
   "source": [
    "data_reg.head()"
   ]
  },
  {
   "cell_type": "code",
   "execution_count": 10,
   "id": "3b58e1cf",
   "metadata": {},
   "outputs": [
    {
     "name": "stdout",
     "output_type": "stream",
     "text": [
      "<class 'pandas.core.frame.DataFrame'>\n",
      "Int64Index: 117775 entries, 65692 to 36778228\n",
      "Data columns (total 5 columns):\n",
      " #   Column     Non-Null Count   Dtype\n",
      "---  ------     --------------   -----\n",
      " 0   CLN_AGE_R  117775 non-null  int64\n",
      " 1   TA_YM      117775 non-null  int64\n",
      " 2   VLM        117775 non-null  int64\n",
      " 3   SEX_CCD_F  117775 non-null  uint8\n",
      " 4   SEX_CCD_M  117775 non-null  uint8\n",
      "dtypes: int64(3), uint8(2)\n",
      "memory usage: 3.8 MB\n"
     ]
    }
   ],
   "source": [
    "data_reg.info()"
   ]
  },
  {
   "cell_type": "code",
   "execution_count": 45,
   "id": "25246785",
   "metadata": {},
   "outputs": [
    {
     "data": {
      "text/html": [
       "<div>\n",
       "<style scoped>\n",
       "    .dataframe tbody tr th:only-of-type {\n",
       "        vertical-align: middle;\n",
       "    }\n",
       "\n",
       "    .dataframe tbody tr th {\n",
       "        vertical-align: top;\n",
       "    }\n",
       "\n",
       "    .dataframe thead th {\n",
       "        text-align: right;\n",
       "    }\n",
       "</style>\n",
       "<table border=\"1\" class=\"dataframe\">\n",
       "  <thead>\n",
       "    <tr style=\"text-align: right;\">\n",
       "      <th></th>\n",
       "      <th>CLN_AGE_R</th>\n",
       "      <th>TA_YM</th>\n",
       "      <th>VLM</th>\n",
       "      <th>SEX_CCD_F</th>\n",
       "      <th>SEX_CCD_M</th>\n",
       "      <th>MONTH</th>\n",
       "    </tr>\n",
       "  </thead>\n",
       "  <tbody>\n",
       "    <tr>\n",
       "      <th>65692</th>\n",
       "      <td>40</td>\n",
       "      <td>202107</td>\n",
       "      <td>869857</td>\n",
       "      <td>1</td>\n",
       "      <td>0</td>\n",
       "      <td>7.0</td>\n",
       "    </tr>\n",
       "    <tr>\n",
       "      <th>66129</th>\n",
       "      <td>20</td>\n",
       "      <td>202107</td>\n",
       "      <td>1090933</td>\n",
       "      <td>0</td>\n",
       "      <td>1</td>\n",
       "      <td>7.0</td>\n",
       "    </tr>\n",
       "    <tr>\n",
       "      <th>66130</th>\n",
       "      <td>20</td>\n",
       "      <td>202107</td>\n",
       "      <td>2670422</td>\n",
       "      <td>0</td>\n",
       "      <td>1</td>\n",
       "      <td>7.0</td>\n",
       "    </tr>\n",
       "    <tr>\n",
       "      <th>66131</th>\n",
       "      <td>20</td>\n",
       "      <td>202107</td>\n",
       "      <td>105065</td>\n",
       "      <td>1</td>\n",
       "      <td>0</td>\n",
       "      <td>7.0</td>\n",
       "    </tr>\n",
       "    <tr>\n",
       "      <th>66513</th>\n",
       "      <td>50</td>\n",
       "      <td>202207</td>\n",
       "      <td>48818117</td>\n",
       "      <td>0</td>\n",
       "      <td>1</td>\n",
       "      <td>0.0</td>\n",
       "    </tr>\n",
       "  </tbody>\n",
       "</table>\n",
       "</div>"
      ],
      "text/plain": [
       "       CLN_AGE_R   TA_YM       VLM  SEX_CCD_F  SEX_CCD_M  MONTH\n",
       "65692         40  202107    869857          1          0    7.0\n",
       "66129         20  202107   1090933          0          1    7.0\n",
       "66130         20  202107   2670422          0          1    7.0\n",
       "66131         20  202107    105065          1          0    7.0\n",
       "66513         50  202207  48818117          0          1    0.0"
      ]
     },
     "execution_count": 45,
     "metadata": {},
     "output_type": "execute_result"
    }
   ],
   "source": [
    "data_reg.head()"
   ]
  },
  {
   "cell_type": "code",
   "execution_count": 50,
   "id": "7ae423f8",
   "metadata": {},
   "outputs": [],
   "source": [
    "data_reg = data_reg.astype({'TA_YM':'str'})\n",
    "data_reg['MONTH']=data_reg['TA_YM'].str[4:]"
   ]
  },
  {
   "cell_type": "code",
   "execution_count": 52,
   "id": "46699120",
   "metadata": {},
   "outputs": [
    {
     "data": {
      "text/html": [
       "<div>\n",
       "<style scoped>\n",
       "    .dataframe tbody tr th:only-of-type {\n",
       "        vertical-align: middle;\n",
       "    }\n",
       "\n",
       "    .dataframe tbody tr th {\n",
       "        vertical-align: top;\n",
       "    }\n",
       "\n",
       "    .dataframe thead th {\n",
       "        text-align: right;\n",
       "    }\n",
       "</style>\n",
       "<table border=\"1\" class=\"dataframe\">\n",
       "  <thead>\n",
       "    <tr style=\"text-align: right;\">\n",
       "      <th></th>\n",
       "      <th>CLN_AGE_R</th>\n",
       "      <th>VLM</th>\n",
       "      <th>SEX_CCD_F</th>\n",
       "      <th>SEX_CCD_M</th>\n",
       "      <th>MONTH</th>\n",
       "    </tr>\n",
       "  </thead>\n",
       "  <tbody>\n",
       "    <tr>\n",
       "      <th>65692</th>\n",
       "      <td>40</td>\n",
       "      <td>869857</td>\n",
       "      <td>1</td>\n",
       "      <td>0</td>\n",
       "      <td>7</td>\n",
       "    </tr>\n",
       "    <tr>\n",
       "      <th>66129</th>\n",
       "      <td>20</td>\n",
       "      <td>1090933</td>\n",
       "      <td>0</td>\n",
       "      <td>1</td>\n",
       "      <td>7</td>\n",
       "    </tr>\n",
       "    <tr>\n",
       "      <th>66130</th>\n",
       "      <td>20</td>\n",
       "      <td>2670422</td>\n",
       "      <td>0</td>\n",
       "      <td>1</td>\n",
       "      <td>7</td>\n",
       "    </tr>\n",
       "    <tr>\n",
       "      <th>66131</th>\n",
       "      <td>20</td>\n",
       "      <td>105065</td>\n",
       "      <td>1</td>\n",
       "      <td>0</td>\n",
       "      <td>7</td>\n",
       "    </tr>\n",
       "    <tr>\n",
       "      <th>66513</th>\n",
       "      <td>50</td>\n",
       "      <td>48818117</td>\n",
       "      <td>0</td>\n",
       "      <td>1</td>\n",
       "      <td>7</td>\n",
       "    </tr>\n",
       "  </tbody>\n",
       "</table>\n",
       "</div>"
      ],
      "text/plain": [
       "       CLN_AGE_R       VLM  SEX_CCD_F  SEX_CCD_M  MONTH\n",
       "65692         40    869857          1          0      7\n",
       "66129         20   1090933          0          1      7\n",
       "66130         20   2670422          0          1      7\n",
       "66131         20    105065          1          0      7\n",
       "66513         50  48818117          0          1      7"
      ]
     },
     "execution_count": 52,
     "metadata": {},
     "output_type": "execute_result"
    }
   ],
   "source": [
    "data_reg.drop('TA_YM',axis=1,inplace=True)\n",
    "data_reg = data_reg.astype({'MONTH':'int'})\n",
    "data_reg.head()"
   ]
  },
  {
   "cell_type": "code",
   "execution_count": 53,
   "id": "d0f55126",
   "metadata": {},
   "outputs": [
    {
     "name": "stdout",
     "output_type": "stream",
     "text": [
      "<class 'pandas.core.frame.DataFrame'>\n",
      "Int64Index: 117775 entries, 65692 to 36778228\n",
      "Data columns (total 5 columns):\n",
      " #   Column     Non-Null Count   Dtype\n",
      "---  ------     --------------   -----\n",
      " 0   CLN_AGE_R  117775 non-null  int64\n",
      " 1   VLM        117775 non-null  int64\n",
      " 2   SEX_CCD_F  117775 non-null  uint8\n",
      " 3   SEX_CCD_M  117775 non-null  uint8\n",
      " 4   MONTH      117775 non-null  int32\n",
      "dtypes: int32(1), int64(2), uint8(2)\n",
      "memory usage: 3.4 MB\n"
     ]
    }
   ],
   "source": [
    "data_reg.info()"
   ]
  },
  {
   "cell_type": "code",
   "execution_count": 58,
   "id": "b27de1dc",
   "metadata": {},
   "outputs": [
    {
     "data": {
      "text/plain": [
       "LinearRegression()"
      ]
     },
     "execution_count": 58,
     "metadata": {},
     "output_type": "execute_result"
    }
   ],
   "source": [
    "from sklearn.linear_model import LinearRegression\n",
    "y_target=data_reg.VLM\n",
    "X_features=data_reg.drop('VLM',axis=1,inplace=False)\n",
    "lr=LinearRegression()\n",
    "lr.fit(X_features,y_target)"
   ]
  },
  {
   "cell_type": "code",
   "execution_count": 11,
   "id": "0854f0a3",
   "metadata": {},
   "outputs": [
    {
     "ename": "NameError",
     "evalue": "name 'lr' is not defined",
     "output_type": "error",
     "traceback": [
      "\u001b[1;31m---------------------------------------------------------------------------\u001b[0m",
      "\u001b[1;31mNameError\u001b[0m                                 Traceback (most recent call last)",
      "\u001b[1;32m~\\AppData\\Local\\Temp\\ipykernel_11224\\3805043052.py\u001b[0m in \u001b[0;36m<module>\u001b[1;34m\u001b[0m\n\u001b[1;32m----> 1\u001b[1;33m \u001b[0mlr\u001b[0m\u001b[1;33m.\u001b[0m\u001b[0mcoef_\u001b[0m\u001b[1;33m\u001b[0m\u001b[1;33m\u001b[0m\u001b[0m\n\u001b[0m",
      "\u001b[1;31mNameError\u001b[0m: name 'lr' is not defined"
     ]
    }
   ],
   "source": [
    "lr.coef_"
   ]
  },
  {
   "cell_type": "code",
   "execution_count": 12,
   "id": "572c2aa6",
   "metadata": {},
   "outputs": [
    {
     "ename": "NameError",
     "evalue": "name 'y_target' is not defined",
     "output_type": "error",
     "traceback": [
      "\u001b[1;31m---------------------------------------------------------------------------\u001b[0m",
      "\u001b[1;31mNameError\u001b[0m                                 Traceback (most recent call last)",
      "\u001b[1;32m~\\AppData\\Local\\Temp\\ipykernel_11224\\2317916608.py\u001b[0m in \u001b[0;36m<module>\u001b[1;34m\u001b[0m\n\u001b[0;32m      1\u001b[0m \u001b[1;32mimport\u001b[0m \u001b[0mstatsmodels\u001b[0m\u001b[1;33m.\u001b[0m\u001b[0mapi\u001b[0m \u001b[1;32mas\u001b[0m \u001b[0msm\u001b[0m\u001b[1;33m\u001b[0m\u001b[1;33m\u001b[0m\u001b[0m\n\u001b[1;32m----> 2\u001b[1;33m \u001b[0mresults\u001b[0m\u001b[1;33m=\u001b[0m\u001b[0msm\u001b[0m\u001b[1;33m.\u001b[0m\u001b[0mOLS\u001b[0m\u001b[1;33m(\u001b[0m\u001b[0my_target\u001b[0m\u001b[1;33m,\u001b[0m\u001b[0msm\u001b[0m\u001b[1;33m.\u001b[0m\u001b[0madd_constant\u001b[0m\u001b[1;33m(\u001b[0m\u001b[0mX_features\u001b[0m\u001b[1;33m)\u001b[0m\u001b[1;33m)\u001b[0m\u001b[1;33m.\u001b[0m\u001b[0mfit\u001b[0m\u001b[1;33m(\u001b[0m\u001b[1;33m)\u001b[0m\u001b[1;33m\u001b[0m\u001b[1;33m\u001b[0m\u001b[0m\n\u001b[0m\u001b[0;32m      3\u001b[0m \u001b[0mresults\u001b[0m\u001b[1;33m.\u001b[0m\u001b[0msummary\u001b[0m\u001b[1;33m(\u001b[0m\u001b[1;33m)\u001b[0m\u001b[1;33m\u001b[0m\u001b[1;33m\u001b[0m\u001b[0m\n",
      "\u001b[1;31mNameError\u001b[0m: name 'y_target' is not defined"
     ]
    }
   ],
   "source": [
    "import statsmodels.api as sm\n",
    "results=sm.OLS(y_target,sm.add_constant(X_features)).fit()\n",
    "results.summary()"
   ]
  },
  {
   "cell_type": "code",
   "execution_count": 65,
   "id": "28aa8019",
   "metadata": {},
   "outputs": [
    {
     "name": "stdout",
     "output_type": "stream",
     "text": [
      "<class 'pandas.core.frame.DataFrame'>\n",
      "Int64Index: 117775 entries, 65692 to 36778228\n",
      "Data columns (total 5 columns):\n",
      " #   Column     Non-Null Count   Dtype\n",
      "---  ------     --------------   -----\n",
      " 0   CLN_AGE_R  117775 non-null  int64\n",
      " 1   VLM        117775 non-null  int64\n",
      " 2   SEX_CCD_F  117775 non-null  uint8\n",
      " 3   SEX_CCD_M  117775 non-null  uint8\n",
      " 4   MONTH      117775 non-null  int32\n",
      "dtypes: int32(1), int64(2), uint8(2)\n",
      "memory usage: 7.4 MB\n"
     ]
    }
   ],
   "source": [
    "data_reg.info()"
   ]
  },
  {
   "cell_type": "code",
   "execution_count": 13,
   "id": "c22e5ecf",
   "metadata": {},
   "outputs": [
    {
     "name": "stderr",
     "output_type": "stream",
     "text": [
      "C:\\Users\\MYCOM\\anaconda3\\lib\\site-packages\\seaborn\\_decorators.py:36: FutureWarning: Pass the following variables as keyword args: x, y. From version 0.12, the only valid positional argument will be `data`, and passing other arguments without an explicit keyword will result in an error or misinterpretation.\n",
      "  warnings.warn(\n"
     ]
    },
    {
     "data": {
      "text/plain": [
       "<AxesSubplot:xlabel='CLN_AGE_R', ylabel='VLM'>"
      ]
     },
     "execution_count": 13,
     "metadata": {},
     "output_type": "execute_result"
    },
    {
     "data": {
      "image/png": "[encoded data removed]",
      "text/plain": [
       "<Figure size 640x480 with 1 Axes>"
      ]
     },
     "metadata": {},
     "output_type": "display_data"
    }
   ],
   "source": [
    "import seaborn as sns\n",
    "sns.scatterplot(data_reg['CLN_AGE_R'],data_reg['VLM'])"
   ]
  },
  {
   "cell_type": "code",
   "execution_count": 14,
   "id": "4bfa18b6",
   "metadata": {},
   "outputs": [
    {
     "name": "stderr",
     "output_type": "stream",
     "text": [
      "C:\\Users\\MYCOM\\anaconda3\\lib\\site-packages\\seaborn\\_decorators.py:36: FutureWarning: Pass the following variables as keyword args: x, y. From version 0.12, the only valid positional argument will be `data`, and passing other arguments without an explicit keyword will result in an error or misinterpretation.\n",
      "  warnings.warn(\n"
     ]
    },
    {
     "data": {
      "text/plain": [
       "<AxesSubplot:xlabel='CLN_AGE_R', ylabel='VLM'>"
      ]
     },
     "execution_count": 14,
     "metadata": {},
     "output_type": "execute_result"
    },
    {
     "data": {
      "image/png": "[encoded data removed]",
      "text/plain": [
       "<Figure size 640x480 with 1 Axes>"
      ]
     },
     "metadata": {},
     "output_type": "display_data"
    }
   ],
   "source": [
    "sns.scatterplot(data_sh_ph['CLN_AGE_R'],data_sh_ph['VLM'])"
   ]
  },
  {
   "cell_type": "code",
   "execution_count": 68,
   "id": "3e321b2a",
   "metadata": {},
   "outputs": [
    {
     "data": {
      "text/html": [
       "<div>\n",
       "<style scoped>\n",
       "    .dataframe tbody tr th:only-of-type {\n",
       "        vertical-align: middle;\n",
       "    }\n",
       "\n",
       "    .dataframe tbody tr th {\n",
       "        vertical-align: top;\n",
       "    }\n",
       "\n",
       "    .dataframe thead th {\n",
       "        text-align: right;\n",
       "    }\n",
       "</style>\n",
       "<table border=\"1\" class=\"dataframe\">\n",
       "  <thead>\n",
       "    <tr style=\"text-align: right;\">\n",
       "      <th></th>\n",
       "      <th>자택광역시도</th>\n",
       "      <th>가맹점광역시도</th>\n",
       "      <th>가맹점시군구</th>\n",
       "      <th>GB3</th>\n",
       "      <th>GB2</th>\n",
       "      <th>CLN_AGE_R</th>\n",
       "      <th>TA_YM</th>\n",
       "      <th>DAW_CCD_R</th>\n",
       "      <th>APV_TS_DL_TM_R</th>\n",
       "      <th>VLM</th>\n",
       "      <th>USEC</th>\n",
       "      <th>SEX_CCD_F</th>\n",
       "      <th>SEX_CCD_M</th>\n",
       "    </tr>\n",
       "  </thead>\n",
       "  <tbody>\n",
       "    <tr>\n",
       "      <th>65692</th>\n",
       "      <td>36</td>\n",
       "      <td>47</td>\n",
       "      <td>47111</td>\n",
       "      <td>취미오락</td>\n",
       "      <td>외식</td>\n",
       "      <td>40</td>\n",
       "      <td>202107</td>\n",
       "      <td>RED</td>\n",
       "      <td>활동</td>\n",
       "      <td>869857</td>\n",
       "      <td>35</td>\n",
       "      <td>1</td>\n",
       "      <td>0</td>\n",
       "    </tr>\n",
       "    <tr>\n",
       "      <th>66129</th>\n",
       "      <td>42</td>\n",
       "      <td>47</td>\n",
       "      <td>47111</td>\n",
       "      <td>취미오락</td>\n",
       "      <td>종합쇼핑</td>\n",
       "      <td>20</td>\n",
       "      <td>202107</td>\n",
       "      <td>WHITE</td>\n",
       "      <td>휴식</td>\n",
       "      <td>1090933</td>\n",
       "      <td>78</td>\n",
       "      <td>0</td>\n",
       "      <td>1</td>\n",
       "    </tr>\n",
       "    <tr>\n",
       "      <th>66130</th>\n",
       "      <td>11</td>\n",
       "      <td>47</td>\n",
       "      <td>47111</td>\n",
       "      <td>여행</td>\n",
       "      <td>숙박</td>\n",
       "      <td>20</td>\n",
       "      <td>202107</td>\n",
       "      <td>WHITE</td>\n",
       "      <td>휴식</td>\n",
       "      <td>2670422</td>\n",
       "      <td>43</td>\n",
       "      <td>0</td>\n",
       "      <td>1</td>\n",
       "    </tr>\n",
       "    <tr>\n",
       "      <th>66131</th>\n",
       "      <td>30</td>\n",
       "      <td>47</td>\n",
       "      <td>47111</td>\n",
       "      <td>취미오락</td>\n",
       "      <td>미용</td>\n",
       "      <td>20</td>\n",
       "      <td>202107</td>\n",
       "      <td>RED</td>\n",
       "      <td>활동</td>\n",
       "      <td>105065</td>\n",
       "      <td>8</td>\n",
       "      <td>1</td>\n",
       "      <td>0</td>\n",
       "    </tr>\n",
       "    <tr>\n",
       "      <th>66513</th>\n",
       "      <td>41</td>\n",
       "      <td>47</td>\n",
       "      <td>47111</td>\n",
       "      <td>취미오락</td>\n",
       "      <td>외식</td>\n",
       "      <td>50</td>\n",
       "      <td>202207</td>\n",
       "      <td>RED</td>\n",
       "      <td>휴식</td>\n",
       "      <td>48818117</td>\n",
       "      <td>872</td>\n",
       "      <td>0</td>\n",
       "      <td>1</td>\n",
       "    </tr>\n",
       "  </tbody>\n",
       "</table>\n",
       "</div>"
      ],
      "text/plain": [
       "      자택광역시도 가맹점광역시도 가맹점시군구   GB3   GB2  CLN_AGE_R   TA_YM DAW_CCD_R  \\\n",
       "65692     36      47  47111  취미오락    외식         40  202107       RED   \n",
       "66129     42      47  47111  취미오락  종합쇼핑         20  202107     WHITE   \n",
       "66130     11      47  47111    여행    숙박         20  202107     WHITE   \n",
       "66131     30      47  47111  취미오락    미용         20  202107       RED   \n",
       "66513     41      47  47111  취미오락    외식         50  202207       RED   \n",
       "\n",
       "      APV_TS_DL_TM_R       VLM  USEC  SEX_CCD_F  SEX_CCD_M  \n",
       "65692             활동    869857    35          1          0  \n",
       "66129             휴식   1090933    78          0          1  \n",
       "66130             휴식   2670422    43          0          1  \n",
       "66131             활동    105065     8          1          0  \n",
       "66513             휴식  48818117   872          0          1  "
      ]
     },
     "execution_count": 68,
     "metadata": {},
     "output_type": "execute_result"
    }
   ],
   "source": [
    "data_sh_ph.head()"
   ]
  },
  {
   "cell_type": "code",
   "execution_count": null,
   "id": "b397970c",
   "metadata": {},
   "outputs": [],
   "source": []
  },
  {
   "cell_type": "code",
   "execution_count": null,
   "id": "8e17d276",
   "metadata": {},
   "outputs": [],
   "source": []
  },
  {
   "cell_type": "code",
   "execution_count": null,
   "id": "0d00c647",
   "metadata": {},
   "outputs": [],
   "source": []
  },
  {
   "cell_type": "code",
   "execution_count": null,
   "id": "e05b27b7",
   "metadata": {},
   "outputs": [],
   "source": []
  },
  {
   "cell_type": "code",
   "execution_count": null,
   "id": "3cf7d8f2",
   "metadata": {},
   "outputs": [],
   "source": [
    "sns.scatterplot(data_reg['SEX'],data_reg['VLM'])"
   ]
  },
  {
   "cell_type": "code",
   "execution_count": 56,
   "id": "431d4714",
   "metadata": {},
   "outputs": [
    {
     "data": {
      "text/plain": [
       "65692         869857\n",
       "66129        1090933\n",
       "66130        2670422\n",
       "66131         105065\n",
       "66513       48818117\n",
       "              ...   \n",
       "36778224     3653114\n",
       "36778225     4121969\n",
       "36778226     1580434\n",
       "36778227     6025404\n",
       "36778228     1679211\n",
       "Name: VLM, Length: 117775, dtype: int64"
      ]
     },
     "execution_count": 56,
     "metadata": {},
     "output_type": "execute_result"
    }
   ],
   "source": [
    "data_reg.VLM"
   ]
  },
  {
   "cell_type": "code",
   "execution_count": 57,
   "id": "705df28f",
   "metadata": {},
   "outputs": [
    {
     "data": {
      "text/html": [
       "<div>\n",
       "<style scoped>\n",
       "    .dataframe tbody tr th:only-of-type {\n",
       "        vertical-align: middle;\n",
       "    }\n",
       "\n",
       "    .dataframe tbody tr th {\n",
       "        vertical-align: top;\n",
       "    }\n",
       "\n",
       "    .dataframe thead th {\n",
       "        text-align: right;\n",
       "    }\n",
       "</style>\n",
       "<table border=\"1\" class=\"dataframe\">\n",
       "  <thead>\n",
       "    <tr style=\"text-align: right;\">\n",
       "      <th></th>\n",
       "      <th>CLN_AGE_R</th>\n",
       "      <th>SEX_CCD_F</th>\n",
       "      <th>SEX_CCD_M</th>\n",
       "      <th>MONTH</th>\n",
       "    </tr>\n",
       "  </thead>\n",
       "  <tbody>\n",
       "    <tr>\n",
       "      <th>65692</th>\n",
       "      <td>40</td>\n",
       "      <td>1</td>\n",
       "      <td>0</td>\n",
       "      <td>7</td>\n",
       "    </tr>\n",
       "    <tr>\n",
       "      <th>66129</th>\n",
       "      <td>20</td>\n",
       "      <td>0</td>\n",
       "      <td>1</td>\n",
       "      <td>7</td>\n",
       "    </tr>\n",
       "    <tr>\n",
       "      <th>66130</th>\n",
       "      <td>20</td>\n",
       "      <td>0</td>\n",
       "      <td>1</td>\n",
       "      <td>7</td>\n",
       "    </tr>\n",
       "    <tr>\n",
       "      <th>66131</th>\n",
       "      <td>20</td>\n",
       "      <td>1</td>\n",
       "      <td>0</td>\n",
       "      <td>7</td>\n",
       "    </tr>\n",
       "    <tr>\n",
       "      <th>66513</th>\n",
       "      <td>50</td>\n",
       "      <td>0</td>\n",
       "      <td>1</td>\n",
       "      <td>7</td>\n",
       "    </tr>\n",
       "    <tr>\n",
       "      <th>...</th>\n",
       "      <td>...</td>\n",
       "      <td>...</td>\n",
       "      <td>...</td>\n",
       "      <td>...</td>\n",
       "    </tr>\n",
       "    <tr>\n",
       "      <th>36778224</th>\n",
       "      <td>30</td>\n",
       "      <td>1</td>\n",
       "      <td>0</td>\n",
       "      <td>6</td>\n",
       "    </tr>\n",
       "    <tr>\n",
       "      <th>36778225</th>\n",
       "      <td>50</td>\n",
       "      <td>0</td>\n",
       "      <td>1</td>\n",
       "      <td>6</td>\n",
       "    </tr>\n",
       "    <tr>\n",
       "      <th>36778226</th>\n",
       "      <td>60</td>\n",
       "      <td>0</td>\n",
       "      <td>1</td>\n",
       "      <td>6</td>\n",
       "    </tr>\n",
       "    <tr>\n",
       "      <th>36778227</th>\n",
       "      <td>50</td>\n",
       "      <td>1</td>\n",
       "      <td>0</td>\n",
       "      <td>6</td>\n",
       "    </tr>\n",
       "    <tr>\n",
       "      <th>36778228</th>\n",
       "      <td>50</td>\n",
       "      <td>0</td>\n",
       "      <td>1</td>\n",
       "      <td>6</td>\n",
       "    </tr>\n",
       "  </tbody>\n",
       "</table>\n",
       "<p>117775 rows × 4 columns</p>\n",
       "</div>"
      ],
      "text/plain": [
       "          CLN_AGE_R  SEX_CCD_F  SEX_CCD_M  MONTH\n",
       "65692            40          1          0      7\n",
       "66129            20          0          1      7\n",
       "66130            20          0          1      7\n",
       "66131            20          1          0      7\n",
       "66513            50          0          1      7\n",
       "...             ...        ...        ...    ...\n",
       "36778224         30          1          0      6\n",
       "36778225         50          0          1      6\n",
       "36778226         60          0          1      6\n",
       "36778227         50          1          0      6\n",
       "36778228         50          0          1      6\n",
       "\n",
       "[117775 rows x 4 columns]"
      ]
     },
     "execution_count": 57,
     "metadata": {},
     "output_type": "execute_result"
    }
   ],
   "source": [
    "data_reg.drop('VLM',axis=1,inplace=False)"
   ]
  },
  {
   "cell_type": "code",
   "execution_count": null,
   "id": "d683603e",
   "metadata": {},
   "outputs": [],
   "source": [
    "# LDA 수행해서 클러스터링\n",
    "# 크롤링 -> 주요 키워드 분석 \n"
   ]
  },
  {
   "cell_type": "code",
   "execution_count": 70,
   "id": "44eaa009",
   "metadata": {},
   "outputs": [
    {
     "data": {
      "text/html": [
       "<div>\n",
       "<style scoped>\n",
       "    .dataframe tbody tr th:only-of-type {\n",
       "        vertical-align: middle;\n",
       "    }\n",
       "\n",
       "    .dataframe tbody tr th {\n",
       "        vertical-align: top;\n",
       "    }\n",
       "\n",
       "    .dataframe thead th {\n",
       "        text-align: right;\n",
       "    }\n",
       "</style>\n",
       "<table border=\"1\" class=\"dataframe\">\n",
       "  <thead>\n",
       "    <tr style=\"text-align: right;\">\n",
       "      <th></th>\n",
       "      <th>자택광역시도</th>\n",
       "      <th>가맹점광역시도</th>\n",
       "      <th>가맹점시군구</th>\n",
       "      <th>GB3</th>\n",
       "      <th>GB2</th>\n",
       "      <th>CLN_AGE_R</th>\n",
       "      <th>TA_YM</th>\n",
       "      <th>DAW_CCD_R</th>\n",
       "      <th>APV_TS_DL_TM_R</th>\n",
       "      <th>VLM</th>\n",
       "      <th>USEC</th>\n",
       "      <th>SEX_CCD_F</th>\n",
       "      <th>SEX_CCD_M</th>\n",
       "    </tr>\n",
       "  </thead>\n",
       "  <tbody>\n",
       "    <tr>\n",
       "      <th>65692</th>\n",
       "      <td>36</td>\n",
       "      <td>47</td>\n",
       "      <td>47111</td>\n",
       "      <td>취미오락</td>\n",
       "      <td>외식</td>\n",
       "      <td>40</td>\n",
       "      <td>202107</td>\n",
       "      <td>RED</td>\n",
       "      <td>활동</td>\n",
       "      <td>869857</td>\n",
       "      <td>35</td>\n",
       "      <td>1</td>\n",
       "      <td>0</td>\n",
       "    </tr>\n",
       "    <tr>\n",
       "      <th>66129</th>\n",
       "      <td>42</td>\n",
       "      <td>47</td>\n",
       "      <td>47111</td>\n",
       "      <td>취미오락</td>\n",
       "      <td>종합쇼핑</td>\n",
       "      <td>20</td>\n",
       "      <td>202107</td>\n",
       "      <td>WHITE</td>\n",
       "      <td>휴식</td>\n",
       "      <td>1090933</td>\n",
       "      <td>78</td>\n",
       "      <td>0</td>\n",
       "      <td>1</td>\n",
       "    </tr>\n",
       "    <tr>\n",
       "      <th>66130</th>\n",
       "      <td>11</td>\n",
       "      <td>47</td>\n",
       "      <td>47111</td>\n",
       "      <td>여행</td>\n",
       "      <td>숙박</td>\n",
       "      <td>20</td>\n",
       "      <td>202107</td>\n",
       "      <td>WHITE</td>\n",
       "      <td>휴식</td>\n",
       "      <td>2670422</td>\n",
       "      <td>43</td>\n",
       "      <td>0</td>\n",
       "      <td>1</td>\n",
       "    </tr>\n",
       "    <tr>\n",
       "      <th>66131</th>\n",
       "      <td>30</td>\n",
       "      <td>47</td>\n",
       "      <td>47111</td>\n",
       "      <td>취미오락</td>\n",
       "      <td>미용</td>\n",
       "      <td>20</td>\n",
       "      <td>202107</td>\n",
       "      <td>RED</td>\n",
       "      <td>활동</td>\n",
       "      <td>105065</td>\n",
       "      <td>8</td>\n",
       "      <td>1</td>\n",
       "      <td>0</td>\n",
       "    </tr>\n",
       "    <tr>\n",
       "      <th>66513</th>\n",
       "      <td>41</td>\n",
       "      <td>47</td>\n",
       "      <td>47111</td>\n",
       "      <td>취미오락</td>\n",
       "      <td>외식</td>\n",
       "      <td>50</td>\n",
       "      <td>202207</td>\n",
       "      <td>RED</td>\n",
       "      <td>휴식</td>\n",
       "      <td>48818117</td>\n",
       "      <td>872</td>\n",
       "      <td>0</td>\n",
       "      <td>1</td>\n",
       "    </tr>\n",
       "  </tbody>\n",
       "</table>\n",
       "</div>"
      ],
      "text/plain": [
       "      자택광역시도 가맹점광역시도 가맹점시군구   GB3   GB2  CLN_AGE_R   TA_YM DAW_CCD_R  \\\n",
       "65692     36      47  47111  취미오락    외식         40  202107       RED   \n",
       "66129     42      47  47111  취미오락  종합쇼핑         20  202107     WHITE   \n",
       "66130     11      47  47111    여행    숙박         20  202107     WHITE   \n",
       "66131     30      47  47111  취미오락    미용         20  202107       RED   \n",
       "66513     41      47  47111  취미오락    외식         50  202207       RED   \n",
       "\n",
       "      APV_TS_DL_TM_R       VLM  USEC  SEX_CCD_F  SEX_CCD_M  \n",
       "65692             활동    869857    35          1          0  \n",
       "66129             휴식   1090933    78          0          1  \n",
       "66130             휴식   2670422    43          0          1  \n",
       "66131             활동    105065     8          1          0  \n",
       "66513             휴식  48818117   872          0          1  "
      ]
     },
     "execution_count": 70,
     "metadata": {},
     "output_type": "execute_result"
    }
   ],
   "source": [
    "data_sh_ph.head()"
   ]
  },
  {
   "cell_type": "code",
   "execution_count": 71,
   "id": "36e09a40",
   "metadata": {},
   "outputs": [
    {
     "name": "stdout",
     "output_type": "stream",
     "text": [
      "<class 'pandas.core.frame.DataFrame'>\n",
      "Int64Index: 117775 entries, 65692 to 36778228\n",
      "Data columns (total 13 columns):\n",
      " #   Column          Non-Null Count   Dtype \n",
      "---  ------          --------------   ----- \n",
      " 0   자택광역시도          117775 non-null  object\n",
      " 1   가맹점광역시도         117775 non-null  object\n",
      " 2   가맹점시군구          117775 non-null  object\n",
      " 3   GB3             117775 non-null  object\n",
      " 4   GB2             117775 non-null  object\n",
      " 5   CLN_AGE_R       117775 non-null  int64 \n",
      " 6   TA_YM           117775 non-null  int64 \n",
      " 7   DAW_CCD_R       117775 non-null  object\n",
      " 8   APV_TS_DL_TM_R  117775 non-null  object\n",
      " 9   VLM             117775 non-null  int64 \n",
      " 10  USEC            117775 non-null  int64 \n",
      " 11  SEX_CCD_F       117775 non-null  uint8 \n",
      " 12  SEX_CCD_M       117775 non-null  uint8 \n",
      "dtypes: int64(4), object(7), uint8(2)\n",
      "memory usage: 15.0+ MB\n"
     ]
    }
   ],
   "source": [
    "data_sh_ph.info()"
   ]
  },
  {
   "cell_type": "markdown",
   "id": "1cc0004a",
   "metadata": {},
   "source": [
    "# 정리"
   ]
  },
  {
   "cell_type": "code",
   "execution_count": 34,
   "id": "ca7bf66c",
   "metadata": {},
   "outputs": [
    {
     "data": {
      "text/plain": [
       "<AxesSubplot:xlabel='연령대', ylabel='지출액'>"
      ]
     },
     "execution_count": 34,
     "metadata": {},
     "output_type": "execute_result"
    },
    {
     "data": {
      "image/png": "[encoded data removed]",
      "text/plain": [
       "<Figure size 640x480 with 1 Axes>"
      ]
     },
     "metadata": {},
     "output_type": "display_data"
    }
   ],
   "source": [
    "# 신한데이터 사용해서 포항에서 돈을 쓴 사람 슬라이싱\n",
    "# data_sh_ph=data_sh[data_sh['가맹점시군구']==47111]\n",
    "# 40-50대 분들이 포항에서 쓴 비용이 높음 -> 4050을 겨냥한 웰니스 상품\n",
    "import seaborn as sns\n",
    "import matplotlib.pyplot as plt\n",
    "plt.xlabel('연령대', fontsize=15)\n",
    "plt.ylabel('지출액', fontsize=15)\n",
    "plt.suptitle('포항시 관광객 연령대별 지출액')\n",
    "sns.scatterplot(data_sh_ph['CLN_AGE_R'],data_sh_ph['VLM'],color='g',s=20)"
   ]
  },
  {
   "cell_type": "code",
   "execution_count": 16,
   "id": "c448aa7c",
   "metadata": {},
   "outputs": [
    {
     "data": {
      "text/html": [
       "<div>\n",
       "<style scoped>\n",
       "    .dataframe tbody tr th:only-of-type {\n",
       "        vertical-align: middle;\n",
       "    }\n",
       "\n",
       "    .dataframe tbody tr th {\n",
       "        vertical-align: top;\n",
       "    }\n",
       "\n",
       "    .dataframe thead th {\n",
       "        text-align: right;\n",
       "    }\n",
       "</style>\n",
       "<table border=\"1\" class=\"dataframe\">\n",
       "  <thead>\n",
       "    <tr style=\"text-align: right;\">\n",
       "      <th></th>\n",
       "      <th>자택광역시도</th>\n",
       "      <th>가맹점광역시도</th>\n",
       "      <th>가맹점시군구</th>\n",
       "      <th>GB3</th>\n",
       "      <th>GB2</th>\n",
       "      <th>CLN_AGE_R</th>\n",
       "      <th>TA_YM</th>\n",
       "      <th>DAW_CCD_R</th>\n",
       "      <th>APV_TS_DL_TM_R</th>\n",
       "      <th>VLM</th>\n",
       "      <th>USEC</th>\n",
       "      <th>SEX_CCD_F</th>\n",
       "      <th>SEX_CCD_M</th>\n",
       "    </tr>\n",
       "  </thead>\n",
       "  <tbody>\n",
       "    <tr>\n",
       "      <th>65692</th>\n",
       "      <td>36</td>\n",
       "      <td>47</td>\n",
       "      <td>47111</td>\n",
       "      <td>취미오락</td>\n",
       "      <td>외식</td>\n",
       "      <td>40</td>\n",
       "      <td>202107</td>\n",
       "      <td>RED</td>\n",
       "      <td>활동</td>\n",
       "      <td>869857</td>\n",
       "      <td>35</td>\n",
       "      <td>1</td>\n",
       "      <td>0</td>\n",
       "    </tr>\n",
       "    <tr>\n",
       "      <th>66513</th>\n",
       "      <td>41</td>\n",
       "      <td>47</td>\n",
       "      <td>47111</td>\n",
       "      <td>취미오락</td>\n",
       "      <td>외식</td>\n",
       "      <td>50</td>\n",
       "      <td>202207</td>\n",
       "      <td>RED</td>\n",
       "      <td>휴식</td>\n",
       "      <td>48818117</td>\n",
       "      <td>872</td>\n",
       "      <td>0</td>\n",
       "      <td>1</td>\n",
       "    </tr>\n",
       "    <tr>\n",
       "      <th>66850</th>\n",
       "      <td>41</td>\n",
       "      <td>47</td>\n",
       "      <td>47111</td>\n",
       "      <td>취미오락</td>\n",
       "      <td>미용</td>\n",
       "      <td>40</td>\n",
       "      <td>202207</td>\n",
       "      <td>RED</td>\n",
       "      <td>활동</td>\n",
       "      <td>588624</td>\n",
       "      <td>50</td>\n",
       "      <td>1</td>\n",
       "      <td>0</td>\n",
       "    </tr>\n",
       "    <tr>\n",
       "      <th>66851</th>\n",
       "      <td>28</td>\n",
       "      <td>47</td>\n",
       "      <td>47111</td>\n",
       "      <td>문화예술활동</td>\n",
       "      <td>공연관람</td>\n",
       "      <td>40</td>\n",
       "      <td>202207</td>\n",
       "      <td>WHITE</td>\n",
       "      <td>휴식</td>\n",
       "      <td>208048</td>\n",
       "      <td>20</td>\n",
       "      <td>0</td>\n",
       "      <td>1</td>\n",
       "    </tr>\n",
       "    <tr>\n",
       "      <th>67262</th>\n",
       "      <td>42</td>\n",
       "      <td>47</td>\n",
       "      <td>47111</td>\n",
       "      <td>취미오락</td>\n",
       "      <td>미용</td>\n",
       "      <td>40</td>\n",
       "      <td>202207</td>\n",
       "      <td>RED</td>\n",
       "      <td>활동</td>\n",
       "      <td>324758</td>\n",
       "      <td>10</td>\n",
       "      <td>1</td>\n",
       "      <td>0</td>\n",
       "    </tr>\n",
       "  </tbody>\n",
       "</table>\n",
       "</div>"
      ],
      "text/plain": [
       "      자택광역시도 가맹점광역시도 가맹점시군구     GB3   GB2  CLN_AGE_R   TA_YM DAW_CCD_R  \\\n",
       "65692     36      47  47111    취미오락    외식         40  202107       RED   \n",
       "66513     41      47  47111    취미오락    외식         50  202207       RED   \n",
       "66850     41      47  47111    취미오락    미용         40  202207       RED   \n",
       "66851     28      47  47111  문화예술활동  공연관람         40  202207     WHITE   \n",
       "67262     42      47  47111    취미오락    미용         40  202207       RED   \n",
       "\n",
       "      APV_TS_DL_TM_R       VLM  USEC  SEX_CCD_F  SEX_CCD_M  \n",
       "65692             활동    869857    35          1          0  \n",
       "66513             휴식  48818117   872          0          1  \n",
       "66850             활동    588624    50          1          0  \n",
       "66851             휴식    208048    20          0          1  \n",
       "67262             활동    324758    10          1          0  "
      ]
     },
     "execution_count": 16,
     "metadata": {},
     "output_type": "execute_result"
    }
   ],
   "source": [
    "data_4050=data_sh_ph[(data_sh_ph['CLN_AGE_R']==40)|(data_sh_ph['CLN_AGE_R']==50) ]\n",
    "data_4050.head()"
   ]
  },
  {
   "cell_type": "code",
   "execution_count": 17,
   "id": "61ab3e44",
   "metadata": {},
   "outputs": [
    {
     "name": "stderr",
     "output_type": "stream",
     "text": [
      "C:\\Users\\MYCOM\\AppData\\Local\\Temp\\ipykernel_11224\\2520382547.py:7: MatplotlibDeprecationWarning: \n",
      "The get_fontconfig_fonts function was deprecated in Matplotlib 3.5 and will be removed two minor releases later.\n",
      "  fm.get_fontconfig_fonts()\n"
     ]
    }
   ],
   "source": [
    "# \"C:\\Users\\MYCOM\\OneDrive\\문서\\MaruBuriTTF\\MaruBuri-Regular.ttf\"\n",
    "import matplotlib\n",
    "from matplotlib import rc\n",
    "import matplotlib.font_manager as fm\n",
    "\n",
    "#fm._rebuild()\n",
    "fm.get_fontconfig_fonts()\n",
    "\n",
    "# 디렉토리 및 파일 이름에 맞추어 변경\n",
    "font_location =\"C:/Users/MYCOM/OneDrive/문서/MaruBuriTTF/MaruBuri-Regular.ttf\"\n",
    "\n",
    "font_name = fm.FontProperties(fname=font_location).get_name()\n",
    "matplotlib.rc('font', family=font_name)"
   ]
  },
  {
   "cell_type": "code",
   "execution_count": 18,
   "id": "7da1f27a",
   "metadata": {
    "scrolled": true
   },
   "outputs": [
    {
     "data": {
      "text/plain": [
       "(array([12347.,  9376.,  4330.,  6503.,  4581.,  2142.,  3427.,  1088.,\n",
       "         3760.,   430.]),\n",
       " array([ 0. ,  2.5,  5. ,  7.5, 10. , 12.5, 15. , 17.5, 20. , 22.5, 25. ]),\n",
       " <BarContainer object of 10 artists>)"
      ]
     },
     "execution_count": 18,
     "metadata": {},
     "output_type": "execute_result"
    },
    {
     "data": {
      "image/png": "[encoded data removed]",
      "text/plain": [
       "<Figure size 640x480 with 1 Axes>"
      ]
     },
     "metadata": {},
     "output_type": "display_data"
    }
   ],
   "source": [
    "#sns.histplot(data_4050['GB2'])\n",
    "import matplotlib.pyplot as plt\n",
    "plt.hist(data_4050['GB2'])"
   ]
  },
  {
   "cell_type": "code",
   "execution_count": 20,
   "id": "2d3deb17",
   "metadata": {},
   "outputs": [
    {
     "data": {
      "text/plain": [
       "취미오락      29643\n",
       "스포츠활동      8243\n",
       "여행         7263\n",
       "문화예술활동     2835\n",
       "Name: GB3, dtype: int64"
      ]
     },
     "execution_count": 20,
     "metadata": {},
     "output_type": "execute_result"
    }
   ],
   "source": [
    "data_4050['GB3'].value_counts()"
   ]
  },
  {
   "cell_type": "code",
   "execution_count": 21,
   "id": "7880778f",
   "metadata": {},
   "outputs": [
    {
     "data": {
      "text/plain": [
       "외식         7845\n",
       "종합쇼핑       6987\n",
       "숙박         4519\n",
       "미용         3176\n",
       "목욕         2389\n",
       "골프         2318\n",
       "스포츠용품구매    2280\n",
       "레저스포츠      2077\n",
       "인터넷게임      2010\n",
       "유흥         1984\n",
       "패션쇼핑       1737\n",
       "공연관람       1326\n",
       "헬스         1309\n",
       "관광쇼핑       1262\n",
       "교육훈련       1107\n",
       "사진촬영       1091\n",
       "독서         1048\n",
       "애완동물돌보기    1035\n",
       "교통          988\n",
       "체험          394\n",
       "종교활동        325\n",
       "미술공예참여      313\n",
       "자전거         259\n",
       "여행사         100\n",
       "음악감상         57\n",
       "악기연주         48\n",
       "Name: GB2, dtype: int64"
      ]
     },
     "execution_count": 21,
     "metadata": {},
     "output_type": "execute_result"
    }
   ],
   "source": [
    "data_4050['GB2'].value_counts()"
   ]
  },
  {
   "cell_type": "code",
   "execution_count": 22,
   "id": "a313d01b",
   "metadata": {},
   "outputs": [
    {
     "data": {
      "text/plain": [
       "숙박      4519\n",
       "관광쇼핑    1262\n",
       "교통       988\n",
       "체험       394\n",
       "여행사      100\n",
       "Name: GB2, dtype: int64"
      ]
     },
     "execution_count": 22,
     "metadata": {},
     "output_type": "execute_result"
    }
   ],
   "source": [
    "data_4050[data_4050['GB3']=='여행']['GB2'].value_counts()"
   ]
  },
  {
   "cell_type": "code",
   "execution_count": 23,
   "id": "dfe5b4d1",
   "metadata": {},
   "outputs": [],
   "source": [
    "import warnings\n",
    "warnings.filterwarnings(\"ignore\")"
   ]
  },
  {
   "cell_type": "code",
   "execution_count": 24,
   "id": "cb7c86e1",
   "metadata": {},
   "outputs": [
    {
     "data": {
      "text/plain": [
       "(array([4519.,    0., 1262.,    0.,    0.,  988.,    0.,  100.,    0.,\n",
       "         394.]),\n",
       " array([0. , 0.4, 0.8, 1.2, 1.6, 2. , 2.4, 2.8, 3.2, 3.6, 4. ]),\n",
       " <BarContainer object of 10 artists>)"
      ]
     },
     "execution_count": 24,
     "metadata": {},
     "output_type": "execute_result"
    },
    {
     "data": {
      "image/png": "[encoded data removed]",
      "text/plain": [
       "<Figure size 640x480 with 1 Axes>"
      ]
     },
     "metadata": {},
     "output_type": "display_data"
    }
   ],
   "source": [
    "plt.hist(data_4050[data_4050['GB3']=='여행']['GB2'])"
   ]
  },
  {
   "cell_type": "code",
   "execution_count": 25,
   "id": "9d5179fc",
   "metadata": {},
   "outputs": [
    {
     "name": "stdout",
     "output_type": "stream",
     "text": [
      "<class 'pandas.core.frame.DataFrame'>\n",
      "Int64Index: 117775 entries, 65692 to 36778228\n",
      "Data columns (total 13 columns):\n",
      " #   Column          Non-Null Count   Dtype \n",
      "---  ------          --------------   ----- \n",
      " 0   자택광역시도          117775 non-null  object\n",
      " 1   가맹점광역시도         117775 non-null  object\n",
      " 2   가맹점시군구          117775 non-null  object\n",
      " 3   GB3             117775 non-null  object\n",
      " 4   GB2             117775 non-null  object\n",
      " 5   CLN_AGE_R       117775 non-null  int64 \n",
      " 6   TA_YM           117775 non-null  int64 \n",
      " 7   DAW_CCD_R       117775 non-null  object\n",
      " 8   APV_TS_DL_TM_R  117775 non-null  object\n",
      " 9   VLM             117775 non-null  int64 \n",
      " 10  USEC            117775 non-null  int64 \n",
      " 11  SEX_CCD_F       117775 non-null  uint8 \n",
      " 12  SEX_CCD_M       117775 non-null  uint8 \n",
      "dtypes: int64(4), object(7), uint8(2)\n",
      "memory usage: 11.0+ MB\n"
     ]
    }
   ],
   "source": [
    "data_sh_ph.info()"
   ]
  },
  {
   "cell_type": "code",
   "execution_count": 26,
   "id": "770f6ff3",
   "metadata": {},
   "outputs": [
    {
     "data": {
      "text/plain": [
       "숙박      2042\n",
       "관광쇼핑     504\n",
       "교통       342\n",
       "체험       149\n",
       "여행사        3\n",
       "Name: GB2, dtype: int64"
      ]
     },
     "execution_count": 26,
     "metadata": {},
     "output_type": "execute_result"
    }
   ],
   "source": [
    "data_sh_ph[(data_sh_ph['CLN_AGE_R']==20) & (data_sh_ph['GB3']=='여행')]['GB2'].value_counts()"
   ]
  },
  {
   "cell_type": "code",
   "execution_count": 27,
   "id": "2f73eee8",
   "metadata": {},
   "outputs": [
    {
     "data": {
      "text/plain": [
       "외식         3941\n",
       "종합쇼핑       3437\n",
       "인터넷게임      2853\n",
       "숙박         2042\n",
       "미용         1932\n",
       "유흥         1462\n",
       "공연관람       1406\n",
       "레저스포츠      1375\n",
       "사진촬영       1261\n",
       "스포츠용품구매    1156\n",
       "패션쇼핑       1098\n",
       "목욕          998\n",
       "애완동물돌보기     926\n",
       "헬스          829\n",
       "독서          794\n",
       "골프          532\n",
       "관광쇼핑        504\n",
       "교육훈련        475\n",
       "교통          342\n",
       "미술공예참여      270\n",
       "체험          149\n",
       "자전거         110\n",
       "종교활동         66\n",
       "악기연주          6\n",
       "음악감상          4\n",
       "여행사           3\n",
       "Name: GB2, dtype: int64"
      ]
     },
     "execution_count": 27,
     "metadata": {},
     "output_type": "execute_result"
    }
   ],
   "source": [
    "data_sh_ph[data_sh_ph['CLN_AGE_R']==20]['GB2'].value_counts()"
   ]
  },
  {
   "cell_type": "code",
   "execution_count": 28,
   "id": "7070de41",
   "metadata": {},
   "outputs": [
    {
     "data": {
      "text/plain": [
       "외식         3951\n",
       "종합쇼핑       3544\n",
       "숙박         2310\n",
       "미용         1700\n",
       "스포츠용품구매    1267\n",
       "목욕         1197\n",
       "골프         1157\n",
       "인터넷게임      1153\n",
       "레저스포츠      1128\n",
       "패션쇼핑        953\n",
       "유흥          950\n",
       "공연관람        756\n",
       "헬스          694\n",
       "교육훈련        691\n",
       "관광쇼핑        641\n",
       "사진촬영        603\n",
       "독서          579\n",
       "애완동물돌보기     555\n",
       "교통          517\n",
       "체험          215\n",
       "미술공예참여      184\n",
       "종교활동        138\n",
       "자전거         133\n",
       "악기연주         35\n",
       "여행사          31\n",
       "음악감상         24\n",
       "Name: GB2, dtype: int64"
      ]
     },
     "execution_count": 28,
     "metadata": {},
     "output_type": "execute_result"
    }
   ],
   "source": [
    "data_sh_ph[data_sh_ph['CLN_AGE_R']==40]['GB2'].value_counts()"
   ]
  },
  {
   "cell_type": "code",
   "execution_count": 111,
   "id": "ecf918d0",
   "metadata": {},
   "outputs": [],
   "source": [
    "import requests\n",
    "from bs4 import BeautifulSoup\n",
    "from urllib.parse import quote\n",
    "query='포항'\n",
    "url='https://search.naver.com/search.naver?where=view&sm=tab_jum&query='+quote(query)\n",
    "headers={'User-Agent':'Mozilla/5.0(Windows NT 10.0;Win64;x64)AppleWebkit/537.36(KHTML,like Gecko)Chrome/90.0.4430.93 Safari/537.36'}\n",
    "res=requests.get(url,headers=headers)\n",
    "\n",
    "soup=BeautifulSoup(res.text,'lxml')\n",
    "posts=soup.find_all('li',attrs={'class':'bx_svp_item'})\n",
    "\n",
    "for post in posts:\n",
    "    post_title=post.find('a',attrs={'class':'api_txt_lines total_tit'}).get_text()\n",
    "    print('제목',post_title)"
   ]
  },
  {
   "cell_type": "code",
   "execution_count": 113,
   "id": "85341440",
   "metadata": {},
   "outputs": [
    {
     "data": {
      "text/plain": [
       "<Response [200]>"
      ]
     },
     "execution_count": 113,
     "metadata": {},
     "output_type": "execute_result"
    }
   ],
   "source": [
    "res"
   ]
  },
  {
   "cell_type": "code",
   "execution_count": null,
   "id": "6d306cc3",
   "metadata": {},
   "outputs": [],
   "source": []
  }
 ],
 "metadata": {
  "kernelspec": {
   "display_name": "Python 3 (ipykernel)",
   "language": "python",
   "name": "python3"
  },
  "language_info": {
   "codemirror_mode": {
    "name": "ipython",
    "version": 3
   },
   "file_extension": ".py",
   "mimetype": "text/x-python",
   "name": "python",
   "nbconvert_exporter": "python",
   "pygments_lexer": "ipython3",
   "version": "3.9.13"
  }
 },
 "nbformat": 4,
 "nbformat_minor": 5
}
