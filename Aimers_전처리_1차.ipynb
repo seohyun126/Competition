{
 "cells": [
  {
   "cell_type": "markdown",
   "id": "njYMTQSCs9tx",
   "metadata": {
    "id": "njYMTQSCs9tx"
   },
   "source": [
    "## **0 데이터 확인**"
   ]
  },
  {
   "cell_type": "code",
   "execution_count": 2,
   "id": "fd9888cb-4057-49b3-bc35-bdf2eae05e4f",
   "metadata": {
    "id": "fd9888cb-4057-49b3-bc35-bdf2eae05e4f"
   },
   "outputs": [],
   "source": [
    "import pandas as pd\n",
    "train=pd.read_csv('C:/Users/sshyu/Downloads/Aimers_data/train.csv').drop(columns=['ID'])\n",
    "test=pd.read_csv(\"C:/Users/sshyu/Downloads/Aimers_data/test.csv\").drop(columns=['ID'])\n",
    "submission=pd.read_csv(\"C:/Users/sshyu/Downloads/Aimers_data/sample_submission.csv\")"
   ]
  },
  {
   "cell_type": "code",
   "execution_count": 3,
   "id": "gTG6TKILXvKA",
   "metadata": {
    "colab": {
     "base_uri": "https://localhost:8080/"
    },
    "id": "gTG6TKILXvKA",
    "outputId": "3efc6314-70b8-49f8-e596-74e178b21853"
   },
   "outputs": [
    {
     "data": {
      "text/plain": [
       "(256351, 68)"
      ]
     },
     "execution_count": 3,
     "metadata": {},
     "output_type": "execute_result"
    }
   ],
   "source": [
    "train.shape"
   ]
  },
  {
   "cell_type": "code",
   "execution_count": 4,
   "id": "e6HuvqurX4wF",
   "metadata": {
    "colab": {
     "base_uri": "https://localhost:8080/"
    },
    "id": "e6HuvqurX4wF",
    "outputId": "59d07d70-7c89-40fb-ab6f-08fd2bb20c49"
   },
   "outputs": [
    {
     "data": {
      "text/plain": [
       "(329, 68)"
      ]
     },
     "execution_count": 4,
     "metadata": {},
     "output_type": "execute_result"
    }
   ],
   "source": [
    "train[train['시술 당시 나이']=='알 수 없음'].shape"
   ]
  },
  {
   "cell_type": "code",
   "execution_count": 5,
   "id": "P0Tb-DoabrYq",
   "metadata": {
    "id": "P0Tb-DoabrYq"
   },
   "outputs": [
    {
     "data": {
      "text/plain": [
       "0.0"
      ]
     },
     "execution_count": 5,
     "metadata": {},
     "output_type": "execute_result"
    }
   ],
   "source": [
    "train[train['시술 당시 나이']=='알 수 없음']['임신 성공 여부'].mean()"
   ]
  },
  {
   "cell_type": "code",
   "execution_count": 6,
   "id": "5ab3d2a8-51b8-4333-be00-1f32218dd0d1",
   "metadata": {},
   "outputs": [
    {
     "data": {
      "text/plain": [
       "난자 출처\n",
       "본인 제공    329\n",
       "Name: count, dtype: int64"
      ]
     },
     "execution_count": 6,
     "metadata": {},
     "output_type": "execute_result"
    }
   ],
   "source": [
    "train[train['시술 당시 나이']=='알 수 없음']['난자 출처'].value_counts()"
   ]
  },
  {
   "cell_type": "code",
   "execution_count": 7,
   "id": "c3b24d1f-32ab-4bb2-a733-87e57f2730af",
   "metadata": {},
   "outputs": [
    {
     "data": {
      "text/plain": [
       "난자 기증자 나이\n",
       "알 수 없음    329\n",
       "Name: count, dtype: int64"
      ]
     },
     "execution_count": 7,
     "metadata": {},
     "output_type": "execute_result"
    }
   ],
   "source": [
    "train[train['시술 당시 나이']=='알 수 없음']['난자 기증자 나이'].value_counts()"
   ]
  },
  {
   "cell_type": "code",
   "execution_count": 8,
   "id": "6FEPY3d0ukGG",
   "metadata": {
    "colab": {
     "base_uri": "https://localhost:8080/",
     "height": 335
    },
    "id": "6FEPY3d0ukGG",
    "outputId": "4587a685-beb7-429d-9100-d06d9a9bf02e"
   },
   "outputs": [
    {
     "data": {
      "text/plain": [
       "시술 당시 나이\n",
       "만18-34세    0.322622\n",
       "만35-37세    0.278401\n",
       "만38-39세    0.217138\n",
       "만45-50세    0.167679\n",
       "만40-42세    0.159393\n",
       "만43-44세    0.118012\n",
       "알 수 없음     0.000000\n",
       "Name: 임신 성공 여부, dtype: float64"
      ]
     },
     "execution_count": 8,
     "metadata": {},
     "output_type": "execute_result"
    }
   ],
   "source": [
    "train.groupby('시술 당시 나이')['임신 성공 여부'].mean().sort_values(ascending=False)"
   ]
  },
  {
   "cell_type": "code",
   "execution_count": 9,
   "id": "9dms1OaV0W5f",
   "metadata": {
    "colab": {
     "base_uri": "https://localhost:8080/",
     "height": 335
    },
    "id": "9dms1OaV0W5f",
    "outputId": "ff5e11b7-133f-4a5b-ea03-518e34aac4a8"
   },
   "outputs": [
    {
     "data": {
      "text/plain": [
       "시술 당시 나이\n",
       "만18-34세    0.325815\n",
       "만35-37세    0.280439\n",
       "만38-39세    0.215694\n",
       "만40-42세    0.145823\n",
       "만43-44세    0.064107\n",
       "만45-50세    0.028216\n",
       "알 수 없음     0.000000\n",
       "Name: 임신 성공 여부, dtype: float64"
      ]
     },
     "execution_count": 9,
     "metadata": {},
     "output_type": "execute_result"
    }
   ],
   "source": [
    "train[train['난자 출처']=='본인 제공'].groupby('시술 당시 나이')['임신 성공 여부'].mean()"
   ]
  },
  {
   "cell_type": "markdown",
   "id": "giSqEfnP0mfp",
   "metadata": {
    "id": "giSqEfnP0mfp"
   },
   "source": [
    "- 난자 출처가 본인 제공일 경우, 나이에 따라서 임신 성공 비율이 감소하는 형태임\n",
    "- 알 수 없음 일 경우 0\n",
    " > 알 수 없음 일 경우 나이를 더 크게 잡아도 될 듯"
   ]
  },
  {
   "cell_type": "code",
   "execution_count": 10,
   "id": "605de47d-86ca-4074-a220-1d04c145f4b4",
   "metadata": {},
   "outputs": [
    {
     "data": {
      "text/plain": [
       "시술 당시 나이\n",
       "만18-34세    0.194592\n",
       "만35-37세    0.151034\n",
       "만38-39세    0.102564\n",
       "만40-42세    0.069498\n",
       "만43-44세    0.019093\n",
       "만45-50세    0.003817\n",
       "Name: 임신 성공 여부, dtype: float64"
      ]
     },
     "execution_count": 10,
     "metadata": {},
     "output_type": "execute_result"
    }
   ],
   "source": [
    "train[train['난자 출처']=='알 수 없음'].groupby('시술 당시 나이')['임신 성공 여부'].mean()"
   ]
  },
  {
   "cell_type": "markdown",
   "id": "3095f826-3bb0-46a4-800f-a82abd8e69fd",
   "metadata": {},
   "source": [
    "- 난자 출처가 알 수 없음일 경우 - 난자 기증자 나이도 알 수 없음.,\n",
    "- 또한 시술 당시 나이 순으로 임신 성공 여부 평균이 감소함 monotone으로 -> 난자 출처가 알 수 없음 일 경우 본인 제공으로 봐도 된다고 생각함"
   ]
  },
  {
   "cell_type": "code",
   "execution_count": 11,
   "id": "BxmvOrxGXHwS",
   "metadata": {
    "colab": {
     "base_uri": "https://localhost:8080/"
    },
    "id": "BxmvOrxGXHwS",
    "outputId": "f0fbeb54-4771-4695-9ffb-1f1d3091c5ed"
   },
   "outputs": [
    {
     "data": {
      "text/plain": [
       "(240582, 2)"
      ]
     },
     "execution_count": 11,
     "metadata": {},
     "output_type": "execute_result"
    }
   ],
   "source": [
    "train_age2=train[(train['난자 출처']!='기증 제공')][['시술 당시 나이','임신 성공 여부']]\n",
    "train_age2.shape"
   ]
  },
  {
   "cell_type": "code",
   "execution_count": 12,
   "id": "ydsOZOo4Xk4x",
   "metadata": {
    "colab": {
     "base_uri": "https://localhost:8080/",
     "height": 303
    },
    "id": "ydsOZOo4Xk4x",
    "outputId": "9482cb6d-3d0d-4c60-ad8b-2baf7cc9be5a"
   },
   "outputs": [
    {
     "data": {
      "text/plain": [
       "시술 당시 나이\n",
       "만18-34세    99605\n",
       "만35-37세    55911\n",
       "만38-39세    37628\n",
       "만40-42세    34076\n",
       "만43-44세     9794\n",
       "만45-50세     3239\n",
       "알 수 없음       329\n",
       "Name: count, dtype: int64"
      ]
     },
     "execution_count": 12,
     "metadata": {},
     "output_type": "execute_result"
    }
   ],
   "source": [
    "train_age2['시술 당시 나이'].value_counts()"
   ]
  },
  {
   "cell_type": "code",
   "execution_count": 13,
   "id": "AmBR1lRFXvjG",
   "metadata": {
    "id": "AmBR1lRFXvjG"
   },
   "outputs": [],
   "source": [
    "train_age2.loc[train_age2['시술 당시 나이']=='알 수 없음','시술 당시 나이']=47\n",
    "train_age2.loc[train_age2['시술 당시 나이']=='만45-50세','시술 당시 나이']=45\n",
    "train_age2.loc[train_age2['시술 당시 나이']=='만43-44세','시술 당시 나이']=43.5\n",
    "train_age2.loc[train_age2['시술 당시 나이']=='만40-42세','시술 당시 나이']=41\n",
    "train_age2.loc[train_age2['시술 당시 나이']=='만38-39세','시술 당시 나이']=38.5\n",
    "train_age2.loc[train_age2['시술 당시 나이']=='만35-37세','시술 당시 나이']=36\n",
    "train_age2.loc[train_age2['시술 당시 나이']=='만18-34세','시술 당시 나이']=34"
   ]
  },
  {
   "cell_type": "code",
   "execution_count": 14,
   "id": "17998928-7910-40e4-95b5-61d434cc8051",
   "metadata": {},
   "outputs": [
    {
     "data": {
      "text/plain": [
       "시술 당시 나이\n",
       "34.0    0.323086\n",
       "36.0    0.277083\n",
       "38.5    0.212528\n",
       "41.0    0.143503\n",
       "43.5    0.062181\n",
       "45.0    0.026243\n",
       "47.0    0.000000\n",
       "Name: 임신 성공 여부, dtype: float64"
      ]
     },
     "execution_count": 14,
     "metadata": {},
     "output_type": "execute_result"
    }
   ],
   "source": [
    "train_age2.groupby('시술 당시 나이')['임신 성공 여부'].mean()"
   ]
  },
  {
   "cell_type": "code",
   "execution_count": 15,
   "id": "T2d4SbgkYjQF",
   "metadata": {
    "colab": {
     "base_uri": "https://localhost:8080/",
     "height": 448
    },
    "id": "T2d4SbgkYjQF",
    "outputId": "7a9a5d4b-31e2-4733-fb99-3a618a45236e"
   },
   "outputs": [
    {
     "data": {
      "text/plain": [
       "<matplotlib.collections.PathCollection at 0x2344fb06c90>"
      ]
     },
     "execution_count": 15,
     "metadata": {},
     "output_type": "execute_result"
    },
    {
     "data": {
      "image/png": "[encoded data removed]",
      "text/plain": [
       "<Figure size 640x480 with 1 Axes>"
      ]
     },
     "metadata": {},
     "output_type": "display_data"
    }
   ],
   "source": [
    "import matplotlib.pyplot as plt\n",
    "plt.scatter(train_age2.groupby('시술 당시 나이')['임신 성공 여부'].mean().index,train_age2.groupby('시술 당시 나이')['임신 성공 여부'].mean().values)"
   ]
  },
  {
   "cell_type": "code",
   "execution_count": 16,
   "id": "fUoojla4X2wo",
   "metadata": {
    "colab": {
     "base_uri": "https://localhost:8080/",
     "height": 112
    },
    "id": "fUoojla4X2wo",
    "outputId": "c16955ff-0aac-4272-ca5f-5928242dcbab"
   },
   "outputs": [
    {
     "data": {
      "text/html": [
       "<div>\n",
       "<style scoped>\n",
       "    .dataframe tbody tr th:only-of-type {\n",
       "        vertical-align: middle;\n",
       "    }\n",
       "\n",
       "    .dataframe tbody tr th {\n",
       "        vertical-align: top;\n",
       "    }\n",
       "\n",
       "    .dataframe thead th {\n",
       "        text-align: right;\n",
       "    }\n",
       "</style>\n",
       "<table border=\"1\" class=\"dataframe\">\n",
       "  <thead>\n",
       "    <tr style=\"text-align: right;\">\n",
       "      <th></th>\n",
       "      <th>시술 당시 나이</th>\n",
       "      <th>임신 성공 여부</th>\n",
       "    </tr>\n",
       "  </thead>\n",
       "  <tbody>\n",
       "    <tr>\n",
       "      <th>시술 당시 나이</th>\n",
       "      <td>1.00000</td>\n",
       "      <td>-0.18309</td>\n",
       "    </tr>\n",
       "    <tr>\n",
       "      <th>임신 성공 여부</th>\n",
       "      <td>-0.18309</td>\n",
       "      <td>1.00000</td>\n",
       "    </tr>\n",
       "  </tbody>\n",
       "</table>\n",
       "</div>"
      ],
      "text/plain": [
       "          시술 당시 나이  임신 성공 여부\n",
       "시술 당시 나이   1.00000  -0.18309\n",
       "임신 성공 여부  -0.18309   1.00000"
      ]
     },
     "execution_count": 16,
     "metadata": {},
     "output_type": "execute_result"
    }
   ],
   "source": [
    "train_age2.corr()"
   ]
  },
  {
   "cell_type": "markdown",
   "id": "gEKaUh0wX5IF",
   "metadata": {
    "id": "gEKaUh0wX5IF"
   },
   "source": [
    "원래라면, -0.18 정도의 correlation을 가져야 함 -> 이에 맞게 난자 출처가 기증제공인 경우 난자 기증자 나이와 시술 당시 나이를 가중합 한 보정된 나이 column을 만들어 임신 성공여부와 correlation이 저정도 되도록"
   ]
  },
  {
   "cell_type": "code",
   "execution_count": 17,
   "id": "wG_7Mgblus59",
   "metadata": {
    "colab": {
     "base_uri": "https://localhost:8080/",
     "height": 209
    },
    "id": "wG_7Mgblus59",
    "outputId": "8d0b0ca2-1e6b-4c20-bf3c-bfcc494de8d7"
   },
   "outputs": [
    {
     "data": {
      "text/plain": [
       "난자 출처\n",
       "기증 제공     3679\n",
       "본인 제공     2977\n",
       "알 수 없음     262\n",
       "Name: count, dtype: int64"
      ]
     },
     "execution_count": 17,
     "metadata": {},
     "output_type": "execute_result"
    }
   ],
   "source": [
    "train[train['시술 당시 나이']=='만45-50세']['난자 출처'].value_counts()"
   ]
  },
  {
   "cell_type": "code",
   "execution_count": 18,
   "id": "M-WgPcKUvPLH",
   "metadata": {
    "colab": {
     "base_uri": "https://localhost:8080/",
     "height": 272
    },
    "id": "M-WgPcKUvPLH",
    "outputId": "5c10eb0a-d011-45b9-9482-77a64c559b0f"
   },
   "outputs": [
    {
     "data": {
      "text/plain": [
       "난자 기증자 나이\n",
       "만31-35세    1487\n",
       "만26-30세    1159\n",
       "만21-25세     675\n",
       "알 수 없음      268\n",
       "만20세 이하      90\n",
       "Name: count, dtype: int64"
      ]
     },
     "execution_count": 18,
     "metadata": {},
     "output_type": "execute_result"
    }
   ],
   "source": [
    "train[(train['시술 당시 나이']=='만45-50세') & (train['난자 출처']=='기증 제공')]['난자 기증자 나이'].value_counts()"
   ]
  },
  {
   "cell_type": "markdown",
   "id": "dMIl7-S_0-vv",
   "metadata": {
    "id": "dMIl7-S_0-vv"
   },
   "source": [
    "나이가 있으면, 난자 출처가 기증제공인 경우가 있어 train 전체 데이터에선 임신 성공 비율이 시술 당시 나이에 따라 감소하지 않음"
   ]
  },
  {
   "cell_type": "code",
   "execution_count": 19,
   "id": "ZU3GtfGAw0ki",
   "metadata": {
    "colab": {
     "base_uri": "https://localhost:8080/",
     "height": 272
    },
    "id": "ZU3GtfGAw0ki",
    "outputId": "be969f3e-8fd8-45a9-cbc9-f3efc68ce61f"
   },
   "outputs": [
    {
     "data": {
      "text/plain": [
       "난자 기증자 나이\n",
       "만31-35세    940\n",
       "만26-30세    859\n",
       "만21-25세    403\n",
       "알 수 없음     211\n",
       "만20세 이하     46\n",
       "Name: count, dtype: int64"
      ]
     },
     "execution_count": 19,
     "metadata": {},
     "output_type": "execute_result"
    }
   ],
   "source": [
    "train[(train['시술 당시 나이']=='만43-44세') & (train['난자 출처']=='기증 제공')]['난자 기증자 나이'].value_counts()"
   ]
  },
  {
   "cell_type": "markdown",
   "id": "3ykTV9wm1Lra",
   "metadata": {
    "id": "3ykTV9wm1Lra"
   },
   "source": [
    "예를 들어 시술 당시 나이가 만 43-44세, 난자 출처가 기증 제공일 경우, 난자 기증자 나이 대부분이 시술 당시 나이보다 훨씬 어림"
   ]
  },
  {
   "cell_type": "code",
   "execution_count": 20,
   "id": "72aba6eb-7439-4ae4-a58d-9cf025e5d619",
   "metadata": {},
   "outputs": [
    {
     "data": {
      "text/plain": [
       "동결 배아 사용 여부    0.312766\n",
       "신선 배아 사용 여부    0.687108\n",
       "기증 배아 사용 여부    0.155875\n",
       "dtype: float64"
      ]
     },
     "execution_count": 20,
     "metadata": {},
     "output_type": "execute_result"
    }
   ],
   "source": [
    "train[train['난자 출처']=='기증 제공'][['동결 배아 사용 여부','신선 배아 사용 여부','기증 배아 사용 여부']].mean()"
   ]
  },
  {
   "cell_type": "code",
   "execution_count": 21,
   "id": "25a89514-d8d7-4e41-b1ca-4c7ed135958d",
   "metadata": {},
   "outputs": [],
   "source": [
    "train['배아 사용 여부']=train['동결 배아 사용 여부']+train['신선 배아 사용 여부']+train['기증 배아 사용 여부']"
   ]
  },
  {
   "cell_type": "code",
   "execution_count": 22,
   "id": "3163dd95-5989-49a8-9801-c1188c2d17c6",
   "metadata": {},
   "outputs": [
    {
     "data": {
      "text/html": [
       "<div>\n",
       "<style scoped>\n",
       "    .dataframe tbody tr th:only-of-type {\n",
       "        vertical-align: middle;\n",
       "    }\n",
       "\n",
       "    .dataframe tbody tr th {\n",
       "        vertical-align: top;\n",
       "    }\n",
       "\n",
       "    .dataframe thead th {\n",
       "        text-align: right;\n",
       "    }\n",
       "</style>\n",
       "<table border=\"1\" class=\"dataframe\">\n",
       "  <thead>\n",
       "    <tr style=\"text-align: right;\">\n",
       "      <th></th>\n",
       "      <th>시술 시기 코드</th>\n",
       "      <th>시술 당시 나이</th>\n",
       "      <th>임신 시도 또는 마지막 임신 경과 연수</th>\n",
       "      <th>시술 유형</th>\n",
       "      <th>특정 시술 유형</th>\n",
       "      <th>배란 자극 여부</th>\n",
       "      <th>배란 유도 유형</th>\n",
       "      <th>단일 배아 이식 여부</th>\n",
       "      <th>착상 전 유전 검사 사용 여부</th>\n",
       "      <th>착상 전 유전 진단 사용 여부</th>\n",
       "      <th>...</th>\n",
       "      <th>대리모 여부</th>\n",
       "      <th>PGD 시술 여부</th>\n",
       "      <th>PGS 시술 여부</th>\n",
       "      <th>난자 채취 경과일</th>\n",
       "      <th>난자 해동 경과일</th>\n",
       "      <th>난자 혼합 경과일</th>\n",
       "      <th>배아 이식 경과일</th>\n",
       "      <th>배아 해동 경과일</th>\n",
       "      <th>임신 성공 여부</th>\n",
       "      <th>배아 사용 여부</th>\n",
       "    </tr>\n",
       "  </thead>\n",
       "  <tbody>\n",
       "    <tr>\n",
       "      <th>27833</th>\n",
       "      <td>TRYBLT</td>\n",
       "      <td>만38-39세</td>\n",
       "      <td>NaN</td>\n",
       "      <td>IVF</td>\n",
       "      <td>ICSI:ICSI</td>\n",
       "      <td>1</td>\n",
       "      <td>기록되지 않은 시행</td>\n",
       "      <td>0.0</td>\n",
       "      <td>1.0</td>\n",
       "      <td>0.0</td>\n",
       "      <td>...</td>\n",
       "      <td>0.0</td>\n",
       "      <td>NaN</td>\n",
       "      <td>NaN</td>\n",
       "      <td>0.0</td>\n",
       "      <td>NaN</td>\n",
       "      <td>0.0</td>\n",
       "      <td>NaN</td>\n",
       "      <td>5.0</td>\n",
       "      <td>0</td>\n",
       "      <td>0.0</td>\n",
       "    </tr>\n",
       "    <tr>\n",
       "      <th>148884</th>\n",
       "      <td>TRXQMD</td>\n",
       "      <td>만35-37세</td>\n",
       "      <td>NaN</td>\n",
       "      <td>IVF</td>\n",
       "      <td>IVF</td>\n",
       "      <td>0</td>\n",
       "      <td>알 수 없음</td>\n",
       "      <td>0.0</td>\n",
       "      <td>NaN</td>\n",
       "      <td>0.0</td>\n",
       "      <td>...</td>\n",
       "      <td>0.0</td>\n",
       "      <td>NaN</td>\n",
       "      <td>NaN</td>\n",
       "      <td>NaN</td>\n",
       "      <td>NaN</td>\n",
       "      <td>0.0</td>\n",
       "      <td>6.0</td>\n",
       "      <td>5.0</td>\n",
       "      <td>0</td>\n",
       "      <td>0.0</td>\n",
       "    </tr>\n",
       "    <tr>\n",
       "      <th>179467</th>\n",
       "      <td>TRCMWS</td>\n",
       "      <td>만40-42세</td>\n",
       "      <td>NaN</td>\n",
       "      <td>IVF</td>\n",
       "      <td>Unknown</td>\n",
       "      <td>0</td>\n",
       "      <td>알 수 없음</td>\n",
       "      <td>1.0</td>\n",
       "      <td>NaN</td>\n",
       "      <td>0.0</td>\n",
       "      <td>...</td>\n",
       "      <td>1.0</td>\n",
       "      <td>NaN</td>\n",
       "      <td>NaN</td>\n",
       "      <td>NaN</td>\n",
       "      <td>NaN</td>\n",
       "      <td>NaN</td>\n",
       "      <td>4.0</td>\n",
       "      <td>0.0</td>\n",
       "      <td>1</td>\n",
       "      <td>0.0</td>\n",
       "    </tr>\n",
       "  </tbody>\n",
       "</table>\n",
       "<p>3 rows × 69 columns</p>\n",
       "</div>"
      ],
      "text/plain": [
       "       시술 시기 코드 시술 당시 나이  임신 시도 또는 마지막 임신 경과 연수 시술 유형   특정 시술 유형  배란 자극 여부  \\\n",
       "27833    TRYBLT  만38-39세                    NaN   IVF  ICSI:ICSI         1   \n",
       "148884   TRXQMD  만35-37세                    NaN   IVF        IVF         0   \n",
       "179467   TRCMWS  만40-42세                    NaN   IVF    Unknown         0   \n",
       "\n",
       "          배란 유도 유형  단일 배아 이식 여부  착상 전 유전 검사 사용 여부  착상 전 유전 진단 사용 여부  ...  \\\n",
       "27833   기록되지 않은 시행          0.0               1.0               0.0  ...   \n",
       "148884      알 수 없음          0.0               NaN               0.0  ...   \n",
       "179467      알 수 없음          1.0               NaN               0.0  ...   \n",
       "\n",
       "        대리모 여부  PGD 시술 여부  PGS 시술 여부  난자 채취 경과일  난자 해동 경과일  난자 혼합 경과일  \\\n",
       "27833      0.0        NaN        NaN        0.0        NaN        0.0   \n",
       "148884     0.0        NaN        NaN        NaN        NaN        0.0   \n",
       "179467     1.0        NaN        NaN        NaN        NaN        NaN   \n",
       "\n",
       "        배아 이식 경과일  배아 해동 경과일  임신 성공 여부  배아 사용 여부  \n",
       "27833         NaN        5.0         0       0.0  \n",
       "148884        6.0        5.0         0       0.0  \n",
       "179467        4.0        0.0         1       0.0  \n",
       "\n",
       "[3 rows x 69 columns]"
      ]
     },
     "execution_count": 22,
     "metadata": {},
     "output_type": "execute_result"
    }
   ],
   "source": [
    "train[train['배아 사용 여부']==0]"
   ]
  },
  {
   "cell_type": "code",
   "execution_count": 23,
   "id": "53e1a7a7-6f89-48f6-8476-4a5d3479248d",
   "metadata": {},
   "outputs": [
    {
     "data": {
      "text/plain": [
       "난자 기증자 나이\n",
       "만20세 이하    0.261905\n",
       "만21-25세    0.329906\n",
       "만26-30세    0.348272\n",
       "만31-35세    0.305215\n",
       "알 수 없음     0.254579\n",
       "Name: 임신 성공 여부, dtype: float64"
      ]
     },
     "execution_count": 23,
     "metadata": {},
     "output_type": "execute_result"
    }
   ],
   "source": [
    "train.groupby('난자 기증자 나이')['임신 성공 여부'].mean()"
   ]
  },
  {
   "cell_type": "markdown",
   "id": "85013cb0-e902-4317-a3b6-51568e71efed",
   "metadata": {},
   "source": [
    "난자 기증자 나이 별 임신 성공 여부를 살펴보면\n",
    "\n",
    "26-30세 > 31-35세 > 21-25세 > 20세 이하 > 알 수 없음"
   ]
  },
  {
   "cell_type": "markdown",
   "id": "602675e0-f7df-420f-87d3-8c6e0b3eb8ed",
   "metadata": {},
   "source": [
    "### **특정 시술 유형- 주요 키워드 위주로 onehot encoding**"
   ]
  },
  {
   "cell_type": "code",
   "execution_count": 24,
   "id": "3eed72eb-a6aa-4a4b-a9c1-716de87d6fa0",
   "metadata": {},
   "outputs": [
    {
     "data": {
      "text/plain": [
       "특정 시술 유형\n",
       "ICSI                                   122368\n",
       "IVF                                     91755\n",
       "Unknown                                 26939\n",
       "IUI                                      6100\n",
       "ICSI:ICSI                                2314\n",
       "ICSI / BLASTOCYST                        1609\n",
       "IVF / BLASTOCYST                         1248\n",
       "IVF:IVF                                  1146\n",
       "ICSI:IVF                                  873\n",
       "ICSI / AH                                 769\n",
       "IVF:ICSI                                  392\n",
       "IVF / AH                                  319\n",
       "ICSI:Unknown                              207\n",
       "IVF:Unknown                               100\n",
       "ICI                                        96\n",
       "Generic DI                                 71\n",
       "IVI                                        23\n",
       "ICSI / BLASTOCYST:IVF / BLASTOCYST          6\n",
       "ICSI / BLASTOCYST :IVF / BLASTOCYST         4\n",
       "FER                                         3\n",
       "IVF / AH:ICSI / AH                          2\n",
       "GIFT                                        2\n",
       "ICSI / AH:Unknown                           2\n",
       "ICSI / BLASTOCYST :ICSI                     1\n",
       "Name: count, dtype: int64"
      ]
     },
     "execution_count": 24,
     "metadata": {},
     "output_type": "execute_result"
    }
   ],
   "source": [
    "train['특정 시술 유형'].value_counts()"
   ]
  },
  {
   "cell_type": "markdown",
   "id": "3a800374-685d-4d0a-9063-53b9c6af3a99",
   "metadata": {},
   "source": [
    "FER 과 GIFT의 경우 test에 없음 -> 제외시키기"
   ]
  },
  {
   "cell_type": "code",
   "execution_count": 25,
   "id": "d00ebfc5-4fac-4088-8326-d1457e78c1dc",
   "metadata": {},
   "outputs": [],
   "source": [
    "train=train[train['특정 시술 유형']!='GIFT']\n",
    "train=train[train['특정 시술 유형']!='FER']"
   ]
  },
  {
   "cell_type": "code",
   "execution_count": 26,
   "id": "ea8e14b4-cddb-4e23-ac30-80a8d9c42e4b",
   "metadata": {},
   "outputs": [
    {
     "data": {
      "text/plain": [
       "{'ICSI / AH:Unknown',\n",
       " 'ICSI / BLASTOCYST :ICSI',\n",
       " 'ICSI / BLASTOCYST :IVF / BLASTOCYST',\n",
       " 'IVF / AH:ICSI / AH',\n",
       " nan}"
      ]
     },
     "execution_count": 26,
     "metadata": {},
     "output_type": "execute_result"
    }
   ],
   "source": [
    "set(train['특정 시술 유형'].unique())-set(test['특정 시술 유형'].unique())"
   ]
  },
  {
   "cell_type": "code",
   "execution_count": 27,
   "id": "c0e77dbb-edf9-4086-b580-b5a5125acc44",
   "metadata": {},
   "outputs": [],
   "source": [
    "# '특정 시술 유형' 열에 NaN 값이 있는 행을 삭제\n",
    "train = train.dropna(subset=['특정 시술 유형'])"
   ]
  },
  {
   "cell_type": "code",
   "execution_count": 28,
   "id": "7640b8df-65a1-4527-88ad-73060091544a",
   "metadata": {},
   "outputs": [],
   "source": [
    "# 특정 시술 유형에서 ICSI: BLASTOCYST와 같은 경우에는 두가지 시술을 모두 다 했다는 의미로\n",
    "# 주요 단어들로 column을 만들어서 해당 시술을 했으면 1, 아니면 0으로\n",
    "# 특정 시술 유형에 대해 1 또는 0으로 표시할 칼럼 생성\n",
    "categories = ['ICSI', 'IVF', 'IUI', 'BLASTOCYST', 'AH', 'Generic DI', 'IVI']\n",
    "for category in categories:\n",
    "    train[category] = train['특정 시술 유형'].str.contains(category).astype(int)"
   ]
  },
  {
   "cell_type": "code",
   "execution_count": 29,
   "id": "96acd44f-6e18-4de3-ad9c-0f11cf338036",
   "metadata": {},
   "outputs": [],
   "source": [
    "for category in categories:\n",
    "    test[category] = test['특정 시술 유형'].str.contains(category).astype(int)"
   ]
  },
  {
   "cell_type": "code",
   "execution_count": 30,
   "id": "e451a9d1-9cb0-49ca-8310-ba8c3e3a50a9",
   "metadata": {},
   "outputs": [
    {
     "data": {
      "text/html": [
       "<div>\n",
       "<style scoped>\n",
       "    .dataframe tbody tr th:only-of-type {\n",
       "        vertical-align: middle;\n",
       "    }\n",
       "\n",
       "    .dataframe tbody tr th {\n",
       "        vertical-align: top;\n",
       "    }\n",
       "\n",
       "    .dataframe thead th {\n",
       "        text-align: right;\n",
       "    }\n",
       "</style>\n",
       "<table border=\"1\" class=\"dataframe\">\n",
       "  <thead>\n",
       "    <tr style=\"text-align: right;\">\n",
       "      <th></th>\n",
       "      <th>ICSI</th>\n",
       "      <th>IVF</th>\n",
       "      <th>IUI</th>\n",
       "      <th>BLASTOCYST</th>\n",
       "      <th>AH</th>\n",
       "      <th>Generic DI</th>\n",
       "      <th>IVI</th>\n",
       "    </tr>\n",
       "  </thead>\n",
       "  <tbody>\n",
       "    <tr>\n",
       "      <th>count</th>\n",
       "      <td>256344.000000</td>\n",
       "      <td>256344.000000</td>\n",
       "      <td>256344.000000</td>\n",
       "      <td>256344.000000</td>\n",
       "      <td>256344.000000</td>\n",
       "      <td>256344.000000</td>\n",
       "      <td>256344.000000</td>\n",
       "    </tr>\n",
       "    <tr>\n",
       "      <th>mean</th>\n",
       "      <td>0.501463</td>\n",
       "      <td>0.373892</td>\n",
       "      <td>0.023796</td>\n",
       "      <td>0.011188</td>\n",
       "      <td>0.004260</td>\n",
       "      <td>0.000277</td>\n",
       "      <td>0.000090</td>\n",
       "    </tr>\n",
       "    <tr>\n",
       "      <th>std</th>\n",
       "      <td>0.499999</td>\n",
       "      <td>0.483836</td>\n",
       "      <td>0.152414</td>\n",
       "      <td>0.105181</td>\n",
       "      <td>0.065129</td>\n",
       "      <td>0.016640</td>\n",
       "      <td>0.009472</td>\n",
       "    </tr>\n",
       "    <tr>\n",
       "      <th>min</th>\n",
       "      <td>0.000000</td>\n",
       "      <td>0.000000</td>\n",
       "      <td>0.000000</td>\n",
       "      <td>0.000000</td>\n",
       "      <td>0.000000</td>\n",
       "      <td>0.000000</td>\n",
       "      <td>0.000000</td>\n",
       "    </tr>\n",
       "    <tr>\n",
       "      <th>25%</th>\n",
       "      <td>0.000000</td>\n",
       "      <td>0.000000</td>\n",
       "      <td>0.000000</td>\n",
       "      <td>0.000000</td>\n",
       "      <td>0.000000</td>\n",
       "      <td>0.000000</td>\n",
       "      <td>0.000000</td>\n",
       "    </tr>\n",
       "    <tr>\n",
       "      <th>50%</th>\n",
       "      <td>1.000000</td>\n",
       "      <td>0.000000</td>\n",
       "      <td>0.000000</td>\n",
       "      <td>0.000000</td>\n",
       "      <td>0.000000</td>\n",
       "      <td>0.000000</td>\n",
       "      <td>0.000000</td>\n",
       "    </tr>\n",
       "    <tr>\n",
       "      <th>75%</th>\n",
       "      <td>1.000000</td>\n",
       "      <td>1.000000</td>\n",
       "      <td>0.000000</td>\n",
       "      <td>0.000000</td>\n",
       "      <td>0.000000</td>\n",
       "      <td>0.000000</td>\n",
       "      <td>0.000000</td>\n",
       "    </tr>\n",
       "    <tr>\n",
       "      <th>max</th>\n",
       "      <td>1.000000</td>\n",
       "      <td>1.000000</td>\n",
       "      <td>1.000000</td>\n",
       "      <td>1.000000</td>\n",
       "      <td>1.000000</td>\n",
       "      <td>1.000000</td>\n",
       "      <td>1.000000</td>\n",
       "    </tr>\n",
       "  </tbody>\n",
       "</table>\n",
       "</div>"
      ],
      "text/plain": [
       "                ICSI            IVF            IUI     BLASTOCYST  \\\n",
       "count  256344.000000  256344.000000  256344.000000  256344.000000   \n",
       "mean        0.501463       0.373892       0.023796       0.011188   \n",
       "std         0.499999       0.483836       0.152414       0.105181   \n",
       "min         0.000000       0.000000       0.000000       0.000000   \n",
       "25%         0.000000       0.000000       0.000000       0.000000   \n",
       "50%         1.000000       0.000000       0.000000       0.000000   \n",
       "75%         1.000000       1.000000       0.000000       0.000000   \n",
       "max         1.000000       1.000000       1.000000       1.000000   \n",
       "\n",
       "                  AH     Generic DI            IVI  \n",
       "count  256344.000000  256344.000000  256344.000000  \n",
       "mean        0.004260       0.000277       0.000090  \n",
       "std         0.065129       0.016640       0.009472  \n",
       "min         0.000000       0.000000       0.000000  \n",
       "25%         0.000000       0.000000       0.000000  \n",
       "50%         0.000000       0.000000       0.000000  \n",
       "75%         0.000000       0.000000       0.000000  \n",
       "max         1.000000       1.000000       1.000000  "
      ]
     },
     "execution_count": 30,
     "metadata": {},
     "output_type": "execute_result"
    }
   ],
   "source": [
    "train[['ICSI', 'IVF', 'IUI', 'BLASTOCYST', 'AH', 'Generic DI', 'IVI']].describe()"
   ]
  },
  {
   "cell_type": "code",
   "execution_count": 31,
   "id": "5171fd5a-8ac0-41fd-893f-0da7bcb628f2",
   "metadata": {},
   "outputs": [
    {
     "data": {
      "text/plain": [
       "ICSI          0\n",
       "IVF           0\n",
       "IUI           0\n",
       "BLASTOCYST    0\n",
       "AH            0\n",
       "Generic DI    0\n",
       "IVI           0\n",
       "dtype: int64"
      ]
     },
     "execution_count": 31,
     "metadata": {},
     "output_type": "execute_result"
    }
   ],
   "source": [
    "train[train['특정 시술 유형']=='Unknown'][['ICSI', 'IVF', 'IUI', 'BLASTOCYST', 'AH', 'Generic DI', 'IVI']].sum()"
   ]
  },
  {
   "cell_type": "code",
   "execution_count": 34,
   "id": "15c8da86-5188-47f3-b026-0aa3e7c4b6f8",
   "metadata": {},
   "outputs": [
    {
     "data": {
      "text/plain": [
       "시술 당시 나이  IVF 시술 횟수\n",
       "만18-34세   0회           1190\n",
       "          1회            683\n",
       "          2회            448\n",
       "          3회            284\n",
       "          4회            131\n",
       "          6회 이상          81\n",
       "          5회             54\n",
       "만35-37세   0회            505\n",
       "          1회            440\n",
       "          2회            344\n",
       "          3회            232\n",
       "          4회            148\n",
       "          6회 이상         111\n",
       "          5회             89\n",
       "만38-39세   0회            392\n",
       "          1회            344\n",
       "          2회            297\n",
       "          3회            223\n",
       "          4회            144\n",
       "          6회 이상         125\n",
       "          5회             94\n",
       "만40-42세   0회            713\n",
       "          1회            626\n",
       "          2회            574\n",
       "          3회            459\n",
       "          6회 이상         335\n",
       "          4회            326\n",
       "          5회            239\n",
       "만43-44세   0회            591\n",
       "          1회            517\n",
       "          2회            413\n",
       "          3회            307\n",
       "          6회 이상         289\n",
       "          4회            212\n",
       "          5회            130\n",
       "만45-50세   0회           1075\n",
       "          1회            726\n",
       "          2회            562\n",
       "          3회            413\n",
       "          6회 이상         404\n",
       "          4회            294\n",
       "          5회            205\n",
       "Name: count, dtype: int64"
      ]
     },
     "execution_count": 34,
     "metadata": {},
     "output_type": "execute_result"
    }
   ],
   "source": [
    "train[(train['난자 출처']=='기증 제공')].groupby('시술 당시 나이')['IVF 시술 횟수'].value_counts()"
   ]
  },
  {
   "cell_type": "code",
   "execution_count": 88,
   "id": "WqfHwXdoyA2I",
   "metadata": {
    "id": "WqfHwXdoyA2I"
   },
   "outputs": [],
   "source": [
    "train_age=train[(train['난자 출처']=='기증 제공')][['시술 당시 나이','난자 기증자 나이','동결 배아 사용 여부','신선 배아 사용 여부','배아 이식 경과일','기증 배아 사용 여부','임신 성공 여부']]"
   ]
  },
  {
   "cell_type": "code",
   "execution_count": 89,
   "id": "KgZeJOexyc-e",
   "metadata": {
    "colab": {
     "base_uri": "https://localhost:8080/",
     "height": 209
    },
    "id": "KgZeJOexyc-e",
    "outputId": "2497d613-4141-45e1-a2c6-ef6f29e0dc41"
   },
   "outputs": [
    {
     "data": {
      "text/plain": [
       "시술 당시 나이          0\n",
       "난자 기증자 나이         0\n",
       "동결 배아 사용 여부       0\n",
       "신선 배아 사용 여부       0\n",
       "배아 이식 경과일      1504\n",
       "기증 배아 사용 여부       0\n",
       "임신 성공 여부          0\n",
       "dtype: int64"
      ]
     },
     "execution_count": 89,
     "metadata": {},
     "output_type": "execute_result"
    }
   ],
   "source": [
    "train_age.isna().sum()"
   ]
  },
  {
   "cell_type": "code",
   "execution_count": 90,
   "id": "cb6e2ede-9fe1-4ed2-8b94-7d76d839f5e1",
   "metadata": {},
   "outputs": [],
   "source": [
    "train_age['배아 이식 경과일'].fillna(0,inplace=True)"
   ]
  },
  {
   "cell_type": "code",
   "execution_count": 91,
   "id": "67827294-013c-40bb-928b-c0579b5d9551",
   "metadata": {},
   "outputs": [
    {
     "data": {
      "text/plain": [
       "배아 이식 경과일\n",
       "0.0    5204\n",
       "5.0    5160\n",
       "3.0    3010\n",
       "2.0    1445\n",
       "1.0     519\n",
       "4.0     323\n",
       "6.0     101\n",
       "7.0       7\n",
       "Name: count, dtype: int64"
      ]
     },
     "execution_count": 91,
     "metadata": {},
     "output_type": "execute_result"
    }
   ],
   "source": [
    "train_age['배아 이식 경과일'].value_counts()"
   ]
  },
  {
   "cell_type": "code",
   "execution_count": 92,
   "id": "Eyo1n2rJy1YZ",
   "metadata": {
    "colab": {
     "base_uri": "https://localhost:8080/",
     "height": 303
    },
    "id": "Eyo1n2rJy1YZ",
    "outputId": "b36ea848-e96e-4dca-d108-5f7f78827add"
   },
   "outputs": [
    {
     "data": {
      "text/plain": [
       "시술 당시 나이\n",
       "만45-50세    3679\n",
       "만40-42세    3272\n",
       "만18-34세    2871\n",
       "만43-44세    2459\n",
       "만35-37세    1869\n",
       "만38-39세    1619\n",
       "Name: count, dtype: int64"
      ]
     },
     "execution_count": 92,
     "metadata": {},
     "output_type": "execute_result"
    }
   ],
   "source": [
    "train_age['시술 당시 나이'].value_counts()"
   ]
  },
  {
   "cell_type": "code",
   "execution_count": 157,
   "id": "00a66588-3a48-4fa4-aac6-6eb33e01d6bb",
   "metadata": {},
   "outputs": [
    {
     "data": {
      "text/html": [
       "<div>\n",
       "<style scoped>\n",
       "    .dataframe tbody tr th:only-of-type {\n",
       "        vertical-align: middle;\n",
       "    }\n",
       "\n",
       "    .dataframe tbody tr th {\n",
       "        vertical-align: top;\n",
       "    }\n",
       "\n",
       "    .dataframe thead th {\n",
       "        text-align: right;\n",
       "    }\n",
       "</style>\n",
       "<table border=\"1\" class=\"dataframe\">\n",
       "  <thead>\n",
       "    <tr style=\"text-align: right;\">\n",
       "      <th></th>\n",
       "      <th>시술 당시 나이</th>\n",
       "      <th>난자 기증자 나이</th>\n",
       "      <th>동결 배아 사용 여부</th>\n",
       "      <th>신선 배아 사용 여부</th>\n",
       "      <th>배아 이식 경과일</th>\n",
       "      <th>기증 배아 사용 여부</th>\n",
       "      <th>임신 성공 여부</th>\n",
       "    </tr>\n",
       "  </thead>\n",
       "  <tbody>\n",
       "    <tr>\n",
       "      <th>6</th>\n",
       "      <td>34.0</td>\n",
       "      <td>만21-25세</td>\n",
       "      <td>0.0</td>\n",
       "      <td>1.0</td>\n",
       "      <td>2.0</td>\n",
       "      <td>0.0</td>\n",
       "      <td>0</td>\n",
       "    </tr>\n",
       "    <tr>\n",
       "      <th>22</th>\n",
       "      <td>41.0</td>\n",
       "      <td>만21-25세</td>\n",
       "      <td>0.0</td>\n",
       "      <td>1.0</td>\n",
       "      <td>4.0</td>\n",
       "      <td>0.0</td>\n",
       "      <td>1</td>\n",
       "    </tr>\n",
       "    <tr>\n",
       "      <th>40</th>\n",
       "      <td>34.0</td>\n",
       "      <td>만31-35세</td>\n",
       "      <td>1.0</td>\n",
       "      <td>0.0</td>\n",
       "      <td>0.0</td>\n",
       "      <td>1.0</td>\n",
       "      <td>0</td>\n",
       "    </tr>\n",
       "    <tr>\n",
       "      <th>79</th>\n",
       "      <td>45.0</td>\n",
       "      <td>만26-30세</td>\n",
       "      <td>0.0</td>\n",
       "      <td>1.0</td>\n",
       "      <td>0.0</td>\n",
       "      <td>0.0</td>\n",
       "      <td>0</td>\n",
       "    </tr>\n",
       "    <tr>\n",
       "      <th>100</th>\n",
       "      <td>34.0</td>\n",
       "      <td>만26-30세</td>\n",
       "      <td>1.0</td>\n",
       "      <td>0.0</td>\n",
       "      <td>0.0</td>\n",
       "      <td>0.0</td>\n",
       "      <td>0</td>\n",
       "    </tr>\n",
       "  </tbody>\n",
       "</table>\n",
       "</div>"
      ],
      "text/plain": [
       "     시술 당시 나이 난자 기증자 나이  동결 배아 사용 여부  신선 배아 사용 여부  배아 이식 경과일  기증 배아 사용 여부  \\\n",
       "6        34.0   만21-25세          0.0          1.0        2.0          0.0   \n",
       "22       41.0   만21-25세          0.0          1.0        4.0          0.0   \n",
       "40       34.0   만31-35세          1.0          0.0        0.0          1.0   \n",
       "79       45.0   만26-30세          0.0          1.0        0.0          0.0   \n",
       "100      34.0   만26-30세          1.0          0.0        0.0          0.0   \n",
       "\n",
       "     임신 성공 여부  \n",
       "6           0  \n",
       "22          1  \n",
       "40          0  \n",
       "79          0  \n",
       "100         0  "
      ]
     },
     "execution_count": 157,
     "metadata": {},
     "output_type": "execute_result"
    }
   ],
   "source": [
    "train_age.head()"
   ]
  },
  {
   "cell_type": "code",
   "execution_count": 94,
   "id": "e3705a20-6cce-4643-a257-8c1d384bb43c",
   "metadata": {},
   "outputs": [
    {
     "data": {
      "text/plain": [
       "시술 당시 나이\n",
       "만45-50세    3679\n",
       "만40-42세    3272\n",
       "만18-34세    2871\n",
       "만43-44세    2459\n",
       "만35-37세    1869\n",
       "만38-39세    1619\n",
       "Name: count, dtype: int64"
      ]
     },
     "execution_count": 94,
     "metadata": {},
     "output_type": "execute_result"
    }
   ],
   "source": [
    "train_age['시술 당시 나이'].value_counts()"
   ]
  },
  {
   "cell_type": "code",
   "execution_count": 158,
   "id": "zhCRr2xAyO2V",
   "metadata": {
    "id": "zhCRr2xAyO2V"
   },
   "outputs": [],
   "source": [
    "train_age.loc[train_age['시술 당시 나이']=='만45-50세','시술 당시 나이']=45\n",
    "train_age.loc[train_age['시술 당시 나이']=='만43-44세','시술 당시 나이']=43.5\n",
    "train_age.loc[train_age['시술 당시 나이']=='만40-42세','시술 당시 나이']=41\n",
    "train_age.loc[train_age['시술 당시 나이']=='만38-39세','시술 당시 나이']=38.5\n",
    "train_age.loc[train_age['시술 당시 나이']=='만35-37세','시술 당시 나이']=36\n",
    "train_age.loc[train_age['시술 당시 나이']=='만18-34세','시술 당시 나이']=34"
   ]
  },
  {
   "cell_type": "code",
   "execution_count": 159,
   "id": "gExHrKQTz9E2",
   "metadata": {
    "id": "gExHrKQTz9E2"
   },
   "outputs": [],
   "source": [
    "train_age['시술 당시 나이']=train_age['시술 당시 나이'].astype('float')"
   ]
  },
  {
   "cell_type": "code",
   "execution_count": 160,
   "id": "6dd26b91-fb89-4ab6-ac67-2efd6c9cb7b8",
   "metadata": {},
   "outputs": [
    {
     "data": {
      "text/plain": [
       "시술 당시 나이\n",
       "45.0    3679\n",
       "41.0    3272\n",
       "34.0    2871\n",
       "43.5    2459\n",
       "36.0    1869\n",
       "38.5    1619\n",
       "Name: count, dtype: int64"
      ]
     },
     "execution_count": 160,
     "metadata": {},
     "output_type": "execute_result"
    }
   ],
   "source": [
    "train_age['시술 당시 나이'].value_counts()"
   ]
  },
  {
   "cell_type": "code",
   "execution_count": 172,
   "id": "d-SIaK2M0NMD",
   "metadata": {
    "colab": {
     "base_uri": "https://localhost:8080/",
     "height": 272
    },
    "id": "d-SIaK2M0NMD",
    "outputId": "e5405060-5b75-4c0f-96d2-507c52bf6272"
   },
   "outputs": [
    {
     "data": {
      "text/plain": [
       "난자 기증자 나이\n",
       "만31-35세    6366\n",
       "만26-30세    4976\n",
       "만21-25세    2334\n",
       "만20세 이하     294\n",
       "Name: count, dtype: int64"
      ]
     },
     "execution_count": 172,
     "metadata": {},
     "output_type": "execute_result"
    }
   ],
   "source": [
    "train_age['난자 기증자 나이'].value_counts()"
   ]
  },
  {
   "cell_type": "code",
   "execution_count": 162,
   "id": "dc820343-dbb8-4ebb-8644-efe534f674ca",
   "metadata": {},
   "outputs": [
    {
     "data": {
      "text/plain": [
       "난자 기증자 나이\n",
       "알 수 없음     0.254582\n",
       "만20세 이하    0.261905\n",
       "만31-35세    0.305215\n",
       "만21-25세    0.329906\n",
       "만26-30세    0.348272\n",
       "Name: 임신 성공 여부, dtype: float64"
      ]
     },
     "execution_count": 162,
     "metadata": {},
     "output_type": "execute_result"
    }
   ],
   "source": [
    "train.groupby('난자 기증자 나이')['임신 성공 여부'].mean().sort_values()"
   ]
  },
  {
   "cell_type": "markdown",
   "id": "322f7e21-433c-4972-be76-8fd77a53fa34",
   "metadata": {},
   "source": [
    "- 난자 기증자 나이와 임신 성공 여부의 평균이 monotone 하게 증가/감소하지 않음\n",
    "- 임신 성공 여부는 시술 당시 나이가 가장 중요한 변수이고, 난자 기증자 나이는 부가적인 요소임"
   ]
  },
  {
   "cell_type": "code",
   "execution_count": 163,
   "id": "a3670d91-2d61-435e-a394-9d678b414369",
   "metadata": {},
   "outputs": [
    {
     "data": {
      "text/plain": [
       "난자 기증자 나이\n",
       "알 수 없음     85173\n",
       "만31-35세     2289\n",
       "만26-30세     1669\n",
       "만21-25세      817\n",
       "만20세 이하      119\n",
       "Name: count, dtype: int64"
      ]
     },
     "execution_count": 163,
     "metadata": {},
     "output_type": "execute_result"
    }
   ],
   "source": [
    "test['난자 기증자 나이'].value_counts()"
   ]
  },
  {
   "cell_type": "code",
   "execution_count": 167,
   "id": "6b731444-88d7-4de6-85c7-6a1658045fd6",
   "metadata": {},
   "outputs": [],
   "source": [
    "train_age=train_age[train_age['난자 기증자 나이']!='알 수 없음']"
   ]
  },
  {
   "cell_type": "code",
   "execution_count": 173,
   "id": "ZqeRHH711Yjl",
   "metadata": {
    "id": "ZqeRHH711Yjl"
   },
   "outputs": [],
   "source": [
    "train_age.loc[train_age['난자 기증자 나이']=='만20세 이하','난자 기증자 나이']=20\n",
    "train_age.loc[train_age['난자 기증자 나이']=='만21-25세','난자 기증자 나이']=23\n",
    "train_age.loc[train_age['난자 기증자 나이']=='만26-30세','난자 기증자 나이']=28\n",
    "train_age.loc[train_age['난자 기증자 나이']=='만31-35세','난자 기증자 나이']=33"
   ]
  },
  {
   "cell_type": "code",
   "execution_count": 174,
   "id": "4539ac89-690f-454c-b9ff-eaa48d806d7b",
   "metadata": {},
   "outputs": [
    {
     "data": {
      "text/plain": [
       "난자 기증자 나이\n",
       "33.0    6366\n",
       "28.0    4976\n",
       "23.0    2334\n",
       "20.0     294\n",
       "Name: count, dtype: int64"
      ]
     },
     "execution_count": 174,
     "metadata": {},
     "output_type": "execute_result"
    }
   ],
   "source": [
    "train_age['난자 기증자 나이']=train_age['난자 기증자 나이'].astype('float')\n",
    "train_age['난자 기증자 나이'].value_counts()"
   ]
  },
  {
   "cell_type": "code",
   "execution_count": 175,
   "id": "56d8c03e-da9c-4615-99c8-7d2669b6dff1",
   "metadata": {},
   "outputs": [
    {
     "data": {
      "text/html": [
       "<div>\n",
       "<style scoped>\n",
       "    .dataframe tbody tr th:only-of-type {\n",
       "        vertical-align: middle;\n",
       "    }\n",
       "\n",
       "    .dataframe tbody tr th {\n",
       "        vertical-align: top;\n",
       "    }\n",
       "\n",
       "    .dataframe thead th {\n",
       "        text-align: right;\n",
       "    }\n",
       "</style>\n",
       "<table border=\"1\" class=\"dataframe\">\n",
       "  <thead>\n",
       "    <tr style=\"text-align: right;\">\n",
       "      <th></th>\n",
       "      <th>시술 당시 나이</th>\n",
       "      <th>난자 기증자 나이</th>\n",
       "      <th>동결 배아 사용 여부</th>\n",
       "      <th>신선 배아 사용 여부</th>\n",
       "      <th>배아 이식 경과일</th>\n",
       "      <th>기증 배아 사용 여부</th>\n",
       "      <th>임신 성공 여부</th>\n",
       "    </tr>\n",
       "  </thead>\n",
       "  <tbody>\n",
       "    <tr>\n",
       "      <th>6</th>\n",
       "      <td>34.0</td>\n",
       "      <td>23.0</td>\n",
       "      <td>0.0</td>\n",
       "      <td>1.0</td>\n",
       "      <td>2.0</td>\n",
       "      <td>0.0</td>\n",
       "      <td>0</td>\n",
       "    </tr>\n",
       "    <tr>\n",
       "      <th>22</th>\n",
       "      <td>41.0</td>\n",
       "      <td>23.0</td>\n",
       "      <td>0.0</td>\n",
       "      <td>1.0</td>\n",
       "      <td>4.0</td>\n",
       "      <td>0.0</td>\n",
       "      <td>1</td>\n",
       "    </tr>\n",
       "    <tr>\n",
       "      <th>40</th>\n",
       "      <td>34.0</td>\n",
       "      <td>33.0</td>\n",
       "      <td>1.0</td>\n",
       "      <td>0.0</td>\n",
       "      <td>0.0</td>\n",
       "      <td>1.0</td>\n",
       "      <td>0</td>\n",
       "    </tr>\n",
       "    <tr>\n",
       "      <th>79</th>\n",
       "      <td>45.0</td>\n",
       "      <td>28.0</td>\n",
       "      <td>0.0</td>\n",
       "      <td>1.0</td>\n",
       "      <td>0.0</td>\n",
       "      <td>0.0</td>\n",
       "      <td>0</td>\n",
       "    </tr>\n",
       "    <tr>\n",
       "      <th>100</th>\n",
       "      <td>34.0</td>\n",
       "      <td>28.0</td>\n",
       "      <td>1.0</td>\n",
       "      <td>0.0</td>\n",
       "      <td>0.0</td>\n",
       "      <td>0.0</td>\n",
       "      <td>0</td>\n",
       "    </tr>\n",
       "    <tr>\n",
       "      <th>...</th>\n",
       "      <td>...</td>\n",
       "      <td>...</td>\n",
       "      <td>...</td>\n",
       "      <td>...</td>\n",
       "      <td>...</td>\n",
       "      <td>...</td>\n",
       "      <td>...</td>\n",
       "    </tr>\n",
       "    <tr>\n",
       "      <th>256295</th>\n",
       "      <td>43.5</td>\n",
       "      <td>23.0</td>\n",
       "      <td>0.0</td>\n",
       "      <td>1.0</td>\n",
       "      <td>0.0</td>\n",
       "      <td>0.0</td>\n",
       "      <td>0</td>\n",
       "    </tr>\n",
       "    <tr>\n",
       "      <th>256306</th>\n",
       "      <td>38.5</td>\n",
       "      <td>28.0</td>\n",
       "      <td>1.0</td>\n",
       "      <td>0.0</td>\n",
       "      <td>0.0</td>\n",
       "      <td>0.0</td>\n",
       "      <td>1</td>\n",
       "    </tr>\n",
       "    <tr>\n",
       "      <th>256315</th>\n",
       "      <td>45.0</td>\n",
       "      <td>28.0</td>\n",
       "      <td>0.0</td>\n",
       "      <td>1.0</td>\n",
       "      <td>5.0</td>\n",
       "      <td>0.0</td>\n",
       "      <td>1</td>\n",
       "    </tr>\n",
       "    <tr>\n",
       "      <th>256329</th>\n",
       "      <td>38.5</td>\n",
       "      <td>33.0</td>\n",
       "      <td>1.0</td>\n",
       "      <td>0.0</td>\n",
       "      <td>0.0</td>\n",
       "      <td>0.0</td>\n",
       "      <td>0</td>\n",
       "    </tr>\n",
       "    <tr>\n",
       "      <th>256334</th>\n",
       "      <td>34.0</td>\n",
       "      <td>23.0</td>\n",
       "      <td>0.0</td>\n",
       "      <td>1.0</td>\n",
       "      <td>5.0</td>\n",
       "      <td>0.0</td>\n",
       "      <td>1</td>\n",
       "    </tr>\n",
       "  </tbody>\n",
       "</table>\n",
       "<p>13970 rows × 7 columns</p>\n",
       "</div>"
      ],
      "text/plain": [
       "        시술 당시 나이  난자 기증자 나이  동결 배아 사용 여부  신선 배아 사용 여부  배아 이식 경과일  기증 배아 사용 여부  \\\n",
       "6           34.0       23.0          0.0          1.0        2.0          0.0   \n",
       "22          41.0       23.0          0.0          1.0        4.0          0.0   \n",
       "40          34.0       33.0          1.0          0.0        0.0          1.0   \n",
       "79          45.0       28.0          0.0          1.0        0.0          0.0   \n",
       "100         34.0       28.0          1.0          0.0        0.0          0.0   \n",
       "...          ...        ...          ...          ...        ...          ...   \n",
       "256295      43.5       23.0          0.0          1.0        0.0          0.0   \n",
       "256306      38.5       28.0          1.0          0.0        0.0          0.0   \n",
       "256315      45.0       28.0          0.0          1.0        5.0          0.0   \n",
       "256329      38.5       33.0          1.0          0.0        0.0          0.0   \n",
       "256334      34.0       23.0          0.0          1.0        5.0          0.0   \n",
       "\n",
       "        임신 성공 여부  \n",
       "6              0  \n",
       "22             1  \n",
       "40             0  \n",
       "79             0  \n",
       "100            0  \n",
       "...          ...  \n",
       "256295         0  \n",
       "256306         1  \n",
       "256315         1  \n",
       "256329         0  \n",
       "256334         1  \n",
       "\n",
       "[13970 rows x 7 columns]"
      ]
     },
     "execution_count": 175,
     "metadata": {},
     "output_type": "execute_result"
    }
   ],
   "source": [
    "train_age"
   ]
  },
  {
   "cell_type": "code",
   "execution_count": 176,
   "id": "31cb181b-86ea-4985-b0b3-deb83a6d3a49",
   "metadata": {},
   "outputs": [
    {
     "data": {
      "text/plain": [
       "6         2.0\n",
       "22        4.0\n",
       "40        0.0\n",
       "79        0.0\n",
       "100       0.0\n",
       "         ... \n",
       "256295    0.0\n",
       "256306    0.0\n",
       "256315    5.0\n",
       "256329    0.0\n",
       "256334    5.0\n",
       "Name: 배아 이식 경과일, Length: 13970, dtype: float64"
      ]
     },
     "execution_count": 176,
     "metadata": {},
     "output_type": "execute_result"
    }
   ],
   "source": [
    "train_age['배아 이식 경과일']"
   ]
  },
  {
   "cell_type": "code",
   "execution_count": 177,
   "id": "4870d972-d0d6-4c85-a055-5b90c54cbc42",
   "metadata": {},
   "outputs": [
    {
     "data": {
      "text/plain": [
       "시술 당시 나이      -0.007279\n",
       "난자 기증자 나이     -0.020211\n",
       "동결 배아 사용 여부   -0.093186\n",
       "신선 배아 사용 여부    0.093288\n",
       "배아 이식 경과일      0.233041\n",
       "기증 배아 사용 여부    0.022064\n",
       "임신 성공 여부       1.000000\n",
       "Name: 임신 성공 여부, dtype: float64"
      ]
     },
     "execution_count": 177,
     "metadata": {},
     "output_type": "execute_result"
    }
   ],
   "source": [
    "train_age.corr()['임신 성공 여부']"
   ]
  },
  {
   "cell_type": "code",
   "execution_count": 178,
   "id": "7719ee08-ab1e-487e-be30-5a2f16bcf37d",
   "metadata": {},
   "outputs": [],
   "source": [
    "import warnings\n",
    "import pandas as pd\n",
    "\n",
    "# SettingWithCopyWarning 무시\n",
    "warnings.simplefilter(action='ignore')"
   ]
  },
  {
   "cell_type": "code",
   "execution_count": 148,
   "id": "fb1ee826-285a-41f3-9236-820ec0df8f8e",
   "metadata": {},
   "outputs": [],
   "source": [
    "import numpy as np\n",
    "from scipy.optimize import minimize\n",
    "\n",
    "# 보정된 나이 가중치 최적화\n",
    "def calculate_adjusted_age(a_values):\n",
    "    adjusted_age = np.zeros(len(train_age3))\n",
    "    \n",
    "    # 각 시술 방법에 대해 다른 배아 이식 경과일 가중치 b (최적화되는 값)\n",
    "    b_frozen = a_values[3]  # 동결 배아에 대한 가중치\n",
    "    b_fresh = a_values[4]  # 신선 배아에 대한 가중치\n",
    "    b_donor = a_values[5]  # 기증 배아에 대한 가중치\n",
    "\n",
    "    for i, method in enumerate(['동결 배아 사용 여부', '신선 배아 사용 여부', '기증 배아 사용 여부']):\n",
    "        method_data = train_age3[method] == 1  # 해당 시술 방법이 1인 행을 찾기\n",
    "        adjusted_age[method_data] = train_age3.loc[method_data, '시술 당시 나이'] * a_values[i] + train_age3.loc[method_data, '난자 기증자 나이'] * (1 - a_values[i])\n",
    "\n",
    "    # 배아 이식 경과일에 대한 가중치 적용 (조건에 맞는 행들에만 적용)\n",
    "    adjusted_age[train_age3['동결 배아 사용 여부'] == 1] += b_frozen * train_age3[train_age3['동결 배아 사용 여부'] == 1]['배아 이식 경과일'] \n",
    "    adjusted_age[train_age3['신선 배아 사용 여부'] == 1] += b_fresh * train_age3[train_age3['신선 배아 사용 여부'] == 1]['배아 이식 경과일'] \n",
    "    adjusted_age[train_age3['기증 배아 사용 여부'] == 1] += b_donor * train_age3[train_age3['기증 배아 사용 여부'] == 1]['배아 이식 경과일'] \n",
    "    \n",
    "    # 보정된 나이 계산 후 상관계수 계산\n",
    "    train_age3['보정된 나이'] = adjusted_age\n",
    "    return train_age3[['보정된 나이', '임신 성공 여부']].corr().iloc[0, 1]  # 상관계수 반환\n",
    "\n",
    "# 목적 함수: 상관계수  최소화\n",
    "def objective(a_values):\n",
    "    return calculate_adjusted_age(a_values)\n",
    "\n",
    "# 초기 값 (각 시술 방법에 대한 가중치와 배아 이식 경과일에 대한 가중치 b 초기값 설정)\n",
    "initial_a_values = [0.5] * 3 + [0.0] * 3  # 3개의 시술 방법에 대한 초기값과 배아 이식 경과일에 대한 가중치 0 설정\n",
    "\n",
    "# a의 범위: 0에서 1 사이, b의 범위: -1에서 1 사이\n",
    "bounds = [(0, 1)] * 3 + [(-1, 1)] * 3  # 각 시술 방법과 배아 이식 경과일에 대한 가중치는 각각 범위 설정\n",
    "\n",
    "# 최적화 수행\n",
    "result = minimize(objective, initial_a_values, bounds=bounds)"
   ]
  },
  {
   "cell_type": "code",
   "execution_count": 149,
   "id": "b003b376-5976-4bdb-ba03-b1daed4007f1",
   "metadata": {},
   "outputs": [
    {
     "data": {
      "text/plain": [
       "array([ 0.52030161,  0.3935277 ,  0.50884084, -0.8335926 , -1.        ,\n",
       "       -1.        ])"
      ]
     },
     "execution_count": 149,
     "metadata": {},
     "output_type": "execute_result"
    }
   ],
   "source": [
    "# 최적의 a 값과 b 값 출력\n",
    "optimal_a_values = result.x[:3]  # 시술 방법에 대한 최적의 a 값\n",
    "optimal_b_values = result.x[3:]  # 배아 이식 경과일에 대한 최적의 b 값\n",
    "result.x"
   ]
  },
  {
   "cell_type": "code",
   "execution_count": 150,
   "id": "bc45d346-534a-40d4-a7c4-1c48d7aaee3f",
   "metadata": {},
   "outputs": [
    {
     "data": {
      "text/plain": [
       "40        0.0\n",
       "100       0.0\n",
       "129       0.0\n",
       "230       0.0\n",
       "284       0.0\n",
       "         ... \n",
       "256043    1.0\n",
       "256063    0.0\n",
       "256114    0.0\n",
       "256306    0.0\n",
       "256329    0.0\n",
       "Name: 배아 이식 경과일, Length: 4057, dtype: float64"
      ]
     },
     "execution_count": 150,
     "metadata": {},
     "output_type": "execute_result"
    }
   ],
   "source": [
    "train_age3[train_age3['동결 배아 사용 여부'] == 1]['배아 이식 경과일'] "
   ]
  },
  {
   "cell_type": "code",
   "execution_count": 151,
   "id": "55a557b5-745b-465c-bbc1-8f8b5ec7f511",
   "metadata": {},
   "outputs": [
    {
     "data": {
      "text/plain": [
       "array([0.52030161, 0.3935277 , 0.50884084])"
      ]
     },
     "execution_count": 151,
     "metadata": {},
     "output_type": "execute_result"
    }
   ],
   "source": [
    "result.x[:3] "
   ]
  },
  {
   "cell_type": "code",
   "execution_count": 152,
   "id": "86086241-60d3-48a9-ab38-d7b99812f8c9",
   "metadata": {},
   "outputs": [],
   "source": [
    "# 최적의 a 값과 b 값으로 보정된 나이 계산\n",
    "train_age3['보정된 나이'] = train_age3['시술 당시 나이']  # 초기화\n",
    "for i in range(3):\n",
    "    method_data = train_age3[['동결 배아 사용 여부', '신선 배아 사용 여부', '기증 배아 사용 여부']].iloc[:, i] == 1\n",
    "    train_age3.loc[method_data, '보정된 나이'] = train_age3.loc[method_data, '시술 당시 나이'] * optimal_a_values[i] + train_age3.loc[method_data, '난자 기증자 나이'] * (1 - optimal_a_values[i])"
   ]
  },
  {
   "cell_type": "code",
   "execution_count": 153,
   "id": "47d1a4b9-d5a2-4070-b9e3-fe4a5eb1219a",
   "metadata": {},
   "outputs": [],
   "source": [
    "# 배아 이식 경과일에 대한 보정된 나이 추가\n",
    "train_age3[train_age3['동결 배아 사용 여부'] == 1]['보정된 나이'] += optimal_b_values[0] * train_age3[train_age3['동결 배아 사용 여부'] == 1]['배아 이식 경과일'] \n",
    "train_age3[train_age3['신선 배아 사용 여부'] == 1]['보정된 나이'] += optimal_b_values[1] * train_age3[train_age3['신선 배아 사용 여부'] == 1]['배아 이식 경과일'] \n",
    "train_age3[train_age3['기증 배아 사용 여부'] == 1]['보정된 나이'] += optimal_b_values[2] * train_age3[train_age3['기증 배아 사용 여부'] == 1]['배아 이식 경과일'] "
   ]
  },
  {
   "cell_type": "code",
   "execution_count": 154,
   "id": "0717f022-a44b-409c-b18a-6ebc1b1b7da5",
   "metadata": {},
   "outputs": [
    {
     "data": {
      "text/plain": [
       "-0.8335926046647236"
      ]
     },
     "execution_count": 154,
     "metadata": {},
     "output_type": "execute_result"
    }
   ],
   "source": [
    "optimal_b_values[0]"
   ]
  },
  {
   "cell_type": "code",
   "execution_count": 155,
   "id": "d36bb133-e8e6-4905-a8a7-1c82a051982c",
   "metadata": {},
   "outputs": [
    {
     "data": {
      "text/plain": [
       "6         27.328805\n",
       "22        30.083499\n",
       "40        33.508841\n",
       "79        34.689971\n",
       "100       31.121810\n",
       "            ...    \n",
       "256295    31.067318\n",
       "256306    33.463167\n",
       "256315    34.689971\n",
       "256329    35.861659\n",
       "256334    27.328805\n",
       "Name: 보정된 나이, Length: 13970, dtype: float64"
      ]
     },
     "execution_count": 155,
     "metadata": {},
     "output_type": "execute_result"
    }
   ],
   "source": [
    "train_age3['보정된 나이']"
   ]
  },
  {
   "cell_type": "code",
   "execution_count": 156,
   "id": "387155fb-e9cc-4b71-942e-a03576983dca",
   "metadata": {},
   "outputs": [
    {
     "data": {
      "text/plain": [
       "시술 당시 나이      -0.007279\n",
       "난자 기증자 나이     -0.020211\n",
       "동결 배아 사용 여부   -0.093186\n",
       "신선 배아 사용 여부    0.093288\n",
       "배아 이식 경과일      0.233041\n",
       "기증 배아 사용 여부    0.022064\n",
       "임신 성공 여부       1.000000\n",
       "보정된 나이        -0.037030\n",
       "Name: 임신 성공 여부, dtype: float64"
      ]
     },
     "execution_count": 156,
     "metadata": {},
     "output_type": "execute_result"
    }
   ],
   "source": [
    "train_age3.corr()['임신 성공 여부']"
   ]
  },
  {
   "cell_type": "code",
   "execution_count": 84,
   "id": "76475ad6-945e-47db-b967-d386ea33c9da",
   "metadata": {},
   "outputs": [],
   "source": [
    "import numpy as np\n",
    "import pandas as pd\n",
    "from scipy.optimize import minimize\n",
    "# 보정된 나이 가중치 최적화\n",
    "def calculate_adjusted_age(a_values):\n",
    "    adjusted_age = np.zeros(len(train_age3))\n",
    "    \n",
    "    # IVF 시술 횟수에 대한 가중치 b (최적화되는 값)\n",
    "    b = a_values[-1]  # 마지막 값이 IVF 시술 횟수에 대한 가중치\n",
    "\n",
    "    for i, method in enumerate(['동결 배아 사용 여부', '신선 배아 사용 여부', '기증 배아 사용 여부']):\n",
    "        method_data = train_age3[method] == 1  # 해당 시술 방법이 1인 행을 찾기\n",
    "        adjusted_age[method_data] = train_age3.loc[method_data, '시술 당시 나이'] * a_values[i] + train_age3.loc[method_data, '난자 기증자 나이'] * (1 - a_values[i])\n",
    "\n",
    "    # IVF 시술 횟수에 대한 보정된 나이 추가\n",
    "    adjusted_age += b * train_age3['IVF 시술 횟수']/6\n",
    "    \n",
    "    # 보정된 나이 계산 후 상관계수 계산\n",
    "    train_age3['보정된 나이'] = adjusted_age\n",
    "    return train_age3[['보정된 나이', '임신 성공 여부']].corr().iloc[0, 1]  # 상관계수 반환\n",
    "\n",
    "# 목적 함수: 상관계수의 절댓값을 최소화\n",
    "def objective(a_values):\n",
    "    corr_value = calculate_adjusted_age(a_values)\n",
    "    return abs(corr_value + 1)  # 상관계수와 -1의 차이를 최소화\n",
    "\n",
    "# 초기 값 (각 시술 방법에 대한 가중치와 IVF 시술 횟수에 대한 b 초기값 설정)\n",
    "initial_a_values = [0.5] * 3 + [0.0]  # 3개의 시술 방법에 대한 초기값과 IVF 시술 횟수에 대한 초기값 0 설정\n",
    "\n",
    "# a의 범위: 0에서 1 사이, b의 범위: -1에서 1 사이\n",
    "bounds = [(0, 1)] * 3 + [(-1, 1)]  # IVF 시술 횟수에 대한 가중치는 -1에서 1 사이로 제한\n",
    "\n",
    "# 최적화 수행\n",
    "result = minimize(objective, initial_a_values, bounds=bounds)"
   ]
  },
  {
   "cell_type": "code",
   "execution_count": 85,
   "id": "412b91d2-4080-46fa-9c6f-732f4d906979",
   "metadata": {},
   "outputs": [
    {
     "name": "stdout",
     "output_type": "stream",
     "text": [
      "최적의 a 값: [1.         0.         0.03895044]\n",
      "IVF 시술 횟수에 대한 최적의 b 값: 1.0000\n"
     ]
    }
   ],
   "source": [
    "# 최적의 a 값과 b 값 출력\n",
    "optimal_a_values = result.x[:-1]\n",
    "optimal_b_value = result.x[-1]\n",
    "\n",
    "print(f'최적의 a 값: {optimal_a_values}')\n",
    "print(f'IVF 시술 횟수에 대한 최적의 b 값: {optimal_b_value:.4f}')"
   ]
  },
  {
   "cell_type": "code",
   "execution_count": 86,
   "id": "7caa7f49-bae0-41bb-80d1-10badeb432a0",
   "metadata": {},
   "outputs": [],
   "source": [
    "# 최적의 a 값과 b 값으로 보정된 나이 계산\n",
    "train_age3['보정된 나이'] = train_age3['시술 당시 나이'] # 초기화\n",
    "for i in range(3):\n",
    "    method_data = train_age3[['동결 배아 사용 여부', '신선 배아 사용 여부', '기증 배아 사용 여부']].iloc[:, i] == 1\n",
    "    train_age3.loc[method_data, '보정된 나이'] = train_age3.loc[method_data, '시술 당시 나이'] * optimal_a_values[i] + train_age3.loc[method_data, '난자 기증자 나이'] * (1 - optimal_a_values[i])"
   ]
  },
  {
   "cell_type": "code",
   "execution_count": 87,
   "id": "1b9c5d05-9413-441d-bdfd-4c91f834007a",
   "metadata": {},
   "outputs": [
    {
     "data": {
      "text/plain": [
       "시술 당시 나이      -0.007279\n",
       "난자 기증자 나이     -0.020211\n",
       "동결 배아 사용 여부   -0.093186\n",
       "신선 배아 사용 여부    0.093288\n",
       "IVF 시술 횟수     -0.037936\n",
       "기증 배아 사용 여부    0.022064\n",
       "임신 성공 여부       1.000000\n",
       "보정된 나이        -0.079558\n",
       "Name: 임신 성공 여부, dtype: float64"
      ]
     },
     "execution_count": 87,
     "metadata": {},
     "output_type": "execute_result"
    }
   ],
   "source": [
    "train_age3.corr()['임신 성공 여부']"
   ]
  },
  {
   "cell_type": "code",
   "execution_count": 241,
   "id": "cc853c45-4c76-49f4-b47b-d8fe3bacb8d4",
   "metadata": {},
   "outputs": [
    {
     "data": {
      "text/plain": [
       "동결 배아 사용 여부    0.290408\n",
       "신선 배아 사용 여부    0.709520\n",
       "기증 배아 사용 여부    0.140157\n",
       "dtype: float64"
      ]
     },
     "execution_count": 241,
     "metadata": {},
     "output_type": "execute_result"
    }
   ],
   "source": [
    "train_age[['동결 배아 사용 여부','신선 배아 사용 여부','기증 배아 사용 여부']].mean()"
   ]
  },
  {
   "cell_type": "code",
   "execution_count": 252,
   "id": "ee7e94f7-feaf-4901-8daa-f3334169450e",
   "metadata": {},
   "outputs": [],
   "source": [
    "import numpy as np\n",
    "from scipy.optimize import minimize\n",
    "# 보정된 나이 가중치 최적화\n",
    "def calculate_adjusted_age(a_values):\n",
    "    adjusted_age = np.zeros(len(train_age))\n",
    "    \n",
    "    for i, method in enumerate(['동결 배아 사용 여부', '신선 배아 사용 여부', '기증 배아 사용 여부']):\n",
    "        method_data = train_age[method] == 1  # 해당 시술 방법이 1인 행을 찾기\n",
    "        adjusted_age[method_data] = train_age.loc[method_data, '시술 당시 나이'] * a_values[i] + train_age.loc[method_data, '난자 기증자 나이'] * (1 - a_values[i])\n",
    "    \n",
    "    # 보정된 나이 계산 후 상관계수 계산\n",
    "    train_age['보정된 나이'] = adjusted_age\n",
    "    return train_age[['보정된 나이', '임신 성공 여부']].corr().iloc[0, 1]  # 상관계수 반환\n",
    "# 목적 함수: 상관계수의 절댓값을 최소화\n",
    "def objective(a_values):\n",
    "    corr_value=calculate_adjusted_age(a_values)\n",
    "    return abs(corr_value+1)\n",
    "\n",
    "initial_a_values = [0.5] * 3\n",
    "bounds = [(0.3, 1)] * 3\n",
    "result = minimize(objective, initial_a_values, bounds=bounds)"
   ]
  },
  {
   "cell_type": "code",
   "execution_count": 253,
   "id": "a19905e5-9a11-4a7b-9b37-07ff74982bf1",
   "metadata": {},
   "outputs": [],
   "source": [
    "# 최적의 a 값\n",
    "optimal_a_values = result.x"
   ]
  },
  {
   "cell_type": "code",
   "execution_count": 254,
   "id": "be6a74d3-0196-4f8f-8e50-ec07367d12ce",
   "metadata": {},
   "outputs": [
    {
     "data": {
      "text/plain": [
       "array([1. , 0.3, 0.3])"
      ]
     },
     "execution_count": 254,
     "metadata": {},
     "output_type": "execute_result"
    }
   ],
   "source": [
    "result.x"
   ]
  },
  {
   "cell_type": "code",
   "execution_count": 255,
   "id": "9511260a-d1e1-4e4d-a8f2-79d1ec9eb93e",
   "metadata": {},
   "outputs": [],
   "source": [
    "# 최적의 a 값으로 보정된 나이 계산\n",
    "train_age['보정된 나이'] = train_age['시술 당시 나이']  # 초기화\n",
    "for i, method in enumerate(['동결 배아 사용 여부', '신선 배아 사용 여부', '기증 배아 사용 여부']):\n",
    "    method_data = train_age[method] == 1  # 해당 시술 방법이 1인 행을 찾기\n",
    "    train_age.loc[method_data, '보정된 나이'] = train_age.loc[method_data, '시술 당시 나이'] * optimal_a_values[i] + train_age.loc[method_data, '난자 기증자 나이'] * (1 - optimal_a_values[i])"
   ]
  },
  {
   "cell_type": "code",
   "execution_count": 256,
   "id": "0cf05387-21cf-4a76-adb1-541983f1978b",
   "metadata": {},
   "outputs": [
    {
     "data": {
      "text/plain": [
       "-0.07605938983320726"
      ]
     },
     "execution_count": 256,
     "metadata": {},
     "output_type": "execute_result"
    }
   ],
   "source": [
    "train_age[['보정된 나이', '임신 성공 여부']].corr().iloc[0, 1]  "
   ]
  },
  {
   "cell_type": "code",
   "execution_count": 257,
   "id": "85bc8276-173e-4fc8-bffc-b220fca17f26",
   "metadata": {},
   "outputs": [],
   "source": [
    "train_age['보정된 나이2']=train_age['보정된 나이'].round(0)"
   ]
  },
  {
   "cell_type": "code",
   "execution_count": 258,
   "id": "d57302bc-f3b8-4d78-83c4-1b074c09956a",
   "metadata": {},
   "outputs": [
    {
     "data": {
      "text/plain": [
       "-0.07564866539393775"
      ]
     },
     "execution_count": 258,
     "metadata": {},
     "output_type": "execute_result"
    }
   ],
   "source": [
    "train_age[['보정된 나이2', '임신 성공 여부']].corr().iloc[0, 1]  "
   ]
  },
  {
   "cell_type": "code",
   "execution_count": 259,
   "id": "30e53516-b4cf-4558-8ddf-bba72adf5978",
   "metadata": {},
   "outputs": [
    {
     "data": {
      "text/html": [
       "<div>\n",
       "<style scoped>\n",
       "    .dataframe tbody tr th:only-of-type {\n",
       "        vertical-align: middle;\n",
       "    }\n",
       "\n",
       "    .dataframe tbody tr th {\n",
       "        vertical-align: top;\n",
       "    }\n",
       "\n",
       "    .dataframe thead th {\n",
       "        text-align: right;\n",
       "    }\n",
       "</style>\n",
       "<table border=\"1\" class=\"dataframe\">\n",
       "  <thead>\n",
       "    <tr style=\"text-align: right;\">\n",
       "      <th></th>\n",
       "      <th>시술 당시 나이</th>\n",
       "      <th>난자 기증자 나이</th>\n",
       "      <th>동결 배아 사용 여부</th>\n",
       "      <th>신선 배아 사용 여부</th>\n",
       "      <th>배아 이식 경과일</th>\n",
       "      <th>기증 배아 사용 여부</th>\n",
       "      <th>임신 성공 여부</th>\n",
       "      <th>보정된 나이</th>\n",
       "      <th>보정된 나이2</th>\n",
       "    </tr>\n",
       "  </thead>\n",
       "  <tbody>\n",
       "    <tr>\n",
       "      <th>count</th>\n",
       "      <td>1458.000000</td>\n",
       "      <td>1458.000000</td>\n",
       "      <td>1458.000000</td>\n",
       "      <td>1458.000000</td>\n",
       "      <td>1458.000000</td>\n",
       "      <td>1458.000000</td>\n",
       "      <td>1458.000000</td>\n",
       "      <td>1458.000000</td>\n",
       "      <td>1458.000000</td>\n",
       "    </tr>\n",
       "    <tr>\n",
       "      <th>mean</th>\n",
       "      <td>39.694102</td>\n",
       "      <td>22.534979</td>\n",
       "      <td>0.053498</td>\n",
       "      <td>0.946502</td>\n",
       "      <td>3.406036</td>\n",
       "      <td>0.148834</td>\n",
       "      <td>0.349108</td>\n",
       "      <td>27.682716</td>\n",
       "      <td>27.556927</td>\n",
       "    </tr>\n",
       "    <tr>\n",
       "      <th>std</th>\n",
       "      <td>3.561555</td>\n",
       "      <td>1.086106</td>\n",
       "      <td>0.225101</td>\n",
       "      <td>0.225101</td>\n",
       "      <td>1.885469</td>\n",
       "      <td>0.356047</td>\n",
       "      <td>0.476852</td>\n",
       "      <td>1.185034</td>\n",
       "      <td>1.159182</td>\n",
       "    </tr>\n",
       "    <tr>\n",
       "      <th>min</th>\n",
       "      <td>34.000000</td>\n",
       "      <td>20.000000</td>\n",
       "      <td>0.000000</td>\n",
       "      <td>0.000000</td>\n",
       "      <td>0.000000</td>\n",
       "      <td>0.000000</td>\n",
       "      <td>0.000000</td>\n",
       "      <td>24.200000</td>\n",
       "      <td>24.000000</td>\n",
       "    </tr>\n",
       "    <tr>\n",
       "      <th>25%</th>\n",
       "      <td>36.000000</td>\n",
       "      <td>23.000000</td>\n",
       "      <td>0.000000</td>\n",
       "      <td>1.000000</td>\n",
       "      <td>2.000000</td>\n",
       "      <td>0.000000</td>\n",
       "      <td>0.000000</td>\n",
       "      <td>26.900000</td>\n",
       "      <td>27.000000</td>\n",
       "    </tr>\n",
       "    <tr>\n",
       "      <th>50%</th>\n",
       "      <td>41.000000</td>\n",
       "      <td>23.000000</td>\n",
       "      <td>0.000000</td>\n",
       "      <td>1.000000</td>\n",
       "      <td>4.000000</td>\n",
       "      <td>0.000000</td>\n",
       "      <td>0.000000</td>\n",
       "      <td>27.650000</td>\n",
       "      <td>28.000000</td>\n",
       "    </tr>\n",
       "    <tr>\n",
       "      <th>75%</th>\n",
       "      <td>43.500000</td>\n",
       "      <td>23.000000</td>\n",
       "      <td>0.000000</td>\n",
       "      <td>1.000000</td>\n",
       "      <td>5.000000</td>\n",
       "      <td>0.000000</td>\n",
       "      <td>1.000000</td>\n",
       "      <td>28.400000</td>\n",
       "      <td>28.000000</td>\n",
       "    </tr>\n",
       "    <tr>\n",
       "      <th>max</th>\n",
       "      <td>45.000000</td>\n",
       "      <td>23.000000</td>\n",
       "      <td>1.000000</td>\n",
       "      <td>1.000000</td>\n",
       "      <td>7.000000</td>\n",
       "      <td>1.000000</td>\n",
       "      <td>1.000000</td>\n",
       "      <td>29.150000</td>\n",
       "      <td>29.000000</td>\n",
       "    </tr>\n",
       "  </tbody>\n",
       "</table>\n",
       "</div>"
      ],
      "text/plain": [
       "          시술 당시 나이    난자 기증자 나이  동결 배아 사용 여부  신선 배아 사용 여부    배아 이식 경과일  \\\n",
       "count  1458.000000  1458.000000  1458.000000  1458.000000  1458.000000   \n",
       "mean     39.694102    22.534979     0.053498     0.946502     3.406036   \n",
       "std       3.561555     1.086106     0.225101     0.225101     1.885469   \n",
       "min      34.000000    20.000000     0.000000     0.000000     0.000000   \n",
       "25%      36.000000    23.000000     0.000000     1.000000     2.000000   \n",
       "50%      41.000000    23.000000     0.000000     1.000000     4.000000   \n",
       "75%      43.500000    23.000000     0.000000     1.000000     5.000000   \n",
       "max      45.000000    23.000000     1.000000     1.000000     7.000000   \n",
       "\n",
       "       기증 배아 사용 여부     임신 성공 여부       보정된 나이      보정된 나이2  \n",
       "count  1458.000000  1458.000000  1458.000000  1458.000000  \n",
       "mean      0.148834     0.349108    27.682716    27.556927  \n",
       "std       0.356047     0.476852     1.185034     1.159182  \n",
       "min       0.000000     0.000000    24.200000    24.000000  \n",
       "25%       0.000000     0.000000    26.900000    27.000000  \n",
       "50%       0.000000     0.000000    27.650000    28.000000  \n",
       "75%       0.000000     1.000000    28.400000    28.000000  \n",
       "max       1.000000     1.000000    29.150000    29.000000  "
      ]
     },
     "execution_count": 259,
     "metadata": {},
     "output_type": "execute_result"
    }
   ],
   "source": [
    "train_age[train_age['보정된 나이2']<30].describe()"
   ]
  },
  {
   "cell_type": "code",
   "execution_count": 260,
   "id": "354fa8c9-dfc2-46cd-a1ea-c5b05e64f523",
   "metadata": {},
   "outputs": [
    {
     "data": {
      "text/plain": [
       "난자 기증자 나이\n",
       "23.0    1232\n",
       "20.0     226\n",
       "Name: count, dtype: int64"
      ]
     },
     "execution_count": 260,
     "metadata": {},
     "output_type": "execute_result"
    }
   ],
   "source": [
    "train_age[train_age['보정된 나이2']<30]['난자 기증자 나이'].value_counts()"
   ]
  },
  {
   "cell_type": "code",
   "execution_count": 261,
   "id": "8a15d026-07db-4b2e-b75f-1805730f41cd",
   "metadata": {},
   "outputs": [
    {
     "data": {
      "text/plain": [
       "array([1. , 0.3, 0.3])"
      ]
     },
     "execution_count": 261,
     "metadata": {},
     "output_type": "execute_result"
    }
   ],
   "source": [
    "result.x"
   ]
  },
  {
   "cell_type": "code",
   "execution_count": 266,
   "id": "4983db44-0e49-4320-8d5a-27c130a329eb",
   "metadata": {},
   "outputs": [
    {
     "data": {
      "text/plain": [
       "동결 배아 사용 여부   -0.093186\n",
       "보정된 나이        -0.076059\n",
       "보정된 나이2       -0.075649\n",
       "난자 기증자 나이     -0.020211\n",
       "시술 당시 나이      -0.007279\n",
       "기증 배아 사용 여부    0.022064\n",
       "신선 배아 사용 여부    0.093288\n",
       "배아 이식 경과일      0.233041\n",
       "임신 성공 여부       1.000000\n",
       "Name: 임신 성공 여부, dtype: float64"
      ]
     },
     "execution_count": 266,
     "metadata": {},
     "output_type": "execute_result"
    }
   ],
   "source": [
    "train_age.corr()['임신 성공 여부'].sort_values()"
   ]
  },
  {
   "cell_type": "code",
   "execution_count": 267,
   "id": "b16e06c8-53b9-4578-8825-116db38e51b2",
   "metadata": {},
   "outputs": [
    {
     "data": {
      "text/plain": [
       "<matplotlib.collections.PathCollection at 0x2340931e990>"
      ]
     },
     "execution_count": 267,
     "metadata": {},
     "output_type": "execute_result"
    },
    {
     "data": {
      "image/png": "[encoded data removed]",
      "text/plain": [
       "<Figure size 640x480 with 1 Axes>"
      ]
     },
     "metadata": {},
     "output_type": "display_data"
    }
   ],
   "source": [
    "import matplotlib.pyplot as plt\n",
    "plt.scatter(train_age.groupby('보정된 나이')['임신 성공 여부'].mean().index,train_age.groupby('보정된 나이')['임신 성공 여부'].mean().values)"
   ]
  },
  {
   "cell_type": "code",
   "execution_count": 238,
   "id": "30c786b5-e73f-485c-b113-821dd9d28c03",
   "metadata": {},
   "outputs": [
    {
     "data": {
      "text/plain": [
       "0.14015748031496064"
      ]
     },
     "execution_count": 238,
     "metadata": {},
     "output_type": "execute_result"
    }
   ],
   "source": [
    "train_age['기증 배아 사용 여부'].mean()"
   ]
  },
  {
   "cell_type": "code",
   "execution_count": 277,
   "id": "k8zu92E43BVj",
   "metadata": {
    "colab": {
     "base_uri": "https://localhost:8080/"
    },
    "id": "k8zu92E43BVj",
    "outputId": "935d4000-2f71-464b-ff43-a99e446869ac"
   },
   "outputs": [
    {
     "data": {
      "text/plain": [
       "(13970, 9)"
      ]
     },
     "execution_count": 277,
     "metadata": {},
     "output_type": "execute_result"
    }
   ],
   "source": [
    "train_age.shape"
   ]
  },
  {
   "cell_type": "code",
   "execution_count": 278,
   "id": "qJLvfJhX4FJV",
   "metadata": {
    "colab": {
     "base_uri": "https://localhost:8080/"
    },
    "id": "qJLvfJhX4FJV",
    "outputId": "6b6cc883-0260-41c9-a78b-00c5cf89a5ac"
   },
   "outputs": [
    {
     "data": {
      "text/plain": [
       "0.32376521116678597"
      ]
     },
     "execution_count": 278,
     "metadata": {},
     "output_type": "execute_result"
    }
   ],
   "source": [
    "train_age['임신 성공 여부'].mean()"
   ]
  },
  {
   "cell_type": "code",
   "execution_count": 302,
   "id": "60c8fd09-20e5-4c1e-9e9f-095c5686c3c8",
   "metadata": {},
   "outputs": [
    {
     "data": {
      "image/png": "[encoded data removed]",
      "text/plain": [
       "<Figure size 640x480 with 2 Axes>"
      ]
     },
     "metadata": {},
     "output_type": "display_data"
    }
   ],
   "source": [
    "train_age_ndon=train_age[train_age['기증 배아 사용 여부']!=1]\n",
    "x_bins = np.unique(train_age['시술 당시 나이'])  # 시술 당시 나이의 고유값\n",
    "y_bins = np.unique(train_age['난자 기증자 나이'])  # 난자 기증자 나이의 고유값\n",
    "\n",
    "# 그리드 크기 설정\n",
    "heatmap_data = np.zeros((len(x_bins), len(y_bins)))\n",
    "\n",
    "# 각 그리드 구간에 대해 임신 성공 여부 평균 계산\n",
    "for i, x_val in enumerate(x_bins):\n",
    "    for j, y_val in enumerate(y_bins):\n",
    "        # 각 구간에 해당하는 데이터 필터링\n",
    "        condition = (train_age['시술 당시 나이'] == x_val) & (train_age['난자 기증자 나이'] == y_val)\n",
    "        # 해당 구간에 대한 임신 성공 여부의 평균 계산\n",
    "        heatmap_data[i, j] = train_age.loc[condition, '임신 성공 여부'].mean()\n",
    "\n",
    "c = plt.pcolormesh(x_bins, y_bins, heatmap_data.T, cmap='coolwarm', shading='auto')\n",
    "plt.colorbar(c, label='Success Prob')\n",
    "\n",
    "# 각 그리드에 값 표시\n",
    "for i, x_val in enumerate(x_bins):\n",
    "    for j, y_val in enumerate(y_bins):\n",
    "        plt.text(x_val, y_val, f'{heatmap_data[i, j]:.2f}', ha='center', va='center', color='black')\n",
    "plt.xlabel('Real Age')\n",
    "plt.ylabel('Donor Age')\n",
    "plt.show()"
   ]
  },
  {
   "cell_type": "markdown",
   "id": "aa010709-2517-48ad-8e11-ea3159c872b4",
   "metadata": {},
   "source": [
    "**시술 당시 나이, 난자 기증자 나이별 임신 성공 확률**\n",
    "\n",
    "[Real Age 34세의 경우] - 28>23>33>20\n",
    "\n",
    "[Real Age 36세의 경우] - 23>28>33>20\n",
    "\n",
    "[Real Age 38세의 경우] - 28>23>33>20\n",
    "\n",
    "[Real Age 41세의 경우] - 28>23>20>33\n",
    "\n",
    "[Real Age 43세의 경우] - 28>23>33>20\n",
    "\n",
    "[Real Age 45세의 경우] - 28>23>33>20\n",
    "\n",
    "\n",
    "이때 보이는 경향성은, 나이가 23,28일 때 임신 성공 비율이 높고, 오히려 나이가 너무 낮으면 임신 성공 비율이 떨어짐. \n",
    "\n",
    "실제로 찾아보면, 가장 적합한 Egg Donor Age가 20세초- 30세초라서 그런 것 같음 (여기서 Donor Age가 20인건, 데이터 명세서에 따르면 만 20세 이하, 따라서 너무 Donor Age가 낮아도 좋지 않은 것 같음)\n",
    "\n",
    "따라서 Egg Donor Age가 23,28세일 때 / 33, 20세일 때를 각각 나눠서 해야 할 것"
   ]
  },
  {
   "cell_type": "code",
   "execution_count": 312,
   "id": "b4393ab5-e7f5-479d-b2e0-553f08fac513",
   "metadata": {},
   "outputs": [
    {
     "data": {
      "text/plain": [
       "시술 당시 나이\n",
       "만18-34세    0.323096\n",
       "만35-37세    0.277080\n",
       "만38-39세    0.212528\n",
       "만40-42세    0.143507\n",
       "만43-44세    0.062181\n",
       "만45-50세    0.026243\n",
       "알 수 없음     0.000000\n",
       "Name: 임신 성공 여부, dtype: float64"
      ]
     },
     "execution_count": 312,
     "metadata": {},
     "output_type": "execute_result"
    }
   ],
   "source": [
    "train[train['난자 출처']!='기증 제공'].groupby('시술 당시 나이')['임신 성공 여부'].mean()"
   ]
  },
  {
   "cell_type": "code",
   "execution_count": 322,
   "id": "ec4b78bc-99b6-4ed4-bd53-9bbd353a6393",
   "metadata": {},
   "outputs": [
    {
     "data": {
      "text/plain": [
       "시술 당시 나이\n",
       "만45-50세    3679\n",
       "만40-42세    3272\n",
       "만18-34세    2871\n",
       "만43-44세    2459\n",
       "만35-37세    1869\n",
       "만38-39세    1619\n",
       "Name: count, dtype: int64"
      ]
     },
     "execution_count": 322,
     "metadata": {},
     "output_type": "execute_result"
    }
   ],
   "source": [
    "train[train['난자 출처']=='기증 제공']['시술 당시 나이'].value_counts()"
   ]
  },
  {
   "cell_type": "code",
   "execution_count": 343,
   "id": "f90d17aa-9ff9-4306-8d61-0a14c2bde395",
   "metadata": {},
   "outputs": [
    {
     "data": {
      "text/html": [
       "<div>\n",
       "<style scoped>\n",
       "    .dataframe tbody tr th:only-of-type {\n",
       "        vertical-align: middle;\n",
       "    }\n",
       "\n",
       "    .dataframe tbody tr th {\n",
       "        vertical-align: top;\n",
       "    }\n",
       "\n",
       "    .dataframe thead th {\n",
       "        text-align: right;\n",
       "    }\n",
       "</style>\n",
       "<table border=\"1\" class=\"dataframe\">\n",
       "  <thead>\n",
       "    <tr style=\"text-align: right;\">\n",
       "      <th></th>\n",
       "      <th>본인 제공</th>\n",
       "      <th>출처 알 수 없음</th>\n",
       "      <th>만20세 이하</th>\n",
       "      <th>만21-25세</th>\n",
       "      <th>만26-30세</th>\n",
       "      <th>만31-35세</th>\n",
       "      <th>알 수 없음</th>\n",
       "    </tr>\n",
       "    <tr>\n",
       "      <th>시술 당시 나이</th>\n",
       "      <th></th>\n",
       "      <th></th>\n",
       "      <th></th>\n",
       "      <th></th>\n",
       "      <th></th>\n",
       "      <th></th>\n",
       "      <th></th>\n",
       "    </tr>\n",
       "  </thead>\n",
       "  <tbody>\n",
       "    <tr>\n",
       "      <th>만18-34세</th>\n",
       "      <td>0.325825</td>\n",
       "      <td>0.194592</td>\n",
       "      <td>0.285714</td>\n",
       "      <td>0.317460</td>\n",
       "      <td>0.344639</td>\n",
       "      <td>0.297089</td>\n",
       "      <td>0.246637</td>\n",
       "    </tr>\n",
       "    <tr>\n",
       "      <th>만35-37세</th>\n",
       "      <td>0.280436</td>\n",
       "      <td>0.151034</td>\n",
       "      <td>0.161290</td>\n",
       "      <td>0.350230</td>\n",
       "      <td>0.341651</td>\n",
       "      <td>0.310345</td>\n",
       "      <td>0.288194</td>\n",
       "    </tr>\n",
       "    <tr>\n",
       "      <th>만38-39세</th>\n",
       "      <td>0.215694</td>\n",
       "      <td>0.102564</td>\n",
       "      <td>0.187500</td>\n",
       "      <td>0.336449</td>\n",
       "      <td>0.360721</td>\n",
       "      <td>0.328616</td>\n",
       "      <td>0.243697</td>\n",
       "    </tr>\n",
       "    <tr>\n",
       "      <th>만40-42세</th>\n",
       "      <td>0.145823</td>\n",
       "      <td>0.069565</td>\n",
       "      <td>0.328358</td>\n",
       "      <td>0.339216</td>\n",
       "      <td>0.353516</td>\n",
       "      <td>0.322751</td>\n",
       "      <td>0.227011</td>\n",
       "    </tr>\n",
       "    <tr>\n",
       "      <th>만43-44세</th>\n",
       "      <td>0.064107</td>\n",
       "      <td>0.019093</td>\n",
       "      <td>0.304348</td>\n",
       "      <td>0.362283</td>\n",
       "      <td>0.370198</td>\n",
       "      <td>0.328723</td>\n",
       "      <td>0.236967</td>\n",
       "    </tr>\n",
       "    <tr>\n",
       "      <th>만45-50세</th>\n",
       "      <td>0.028216</td>\n",
       "      <td>0.003817</td>\n",
       "      <td>0.244444</td>\n",
       "      <td>0.300741</td>\n",
       "      <td>0.327869</td>\n",
       "      <td>0.268325</td>\n",
       "      <td>0.264925</td>\n",
       "    </tr>\n",
       "    <tr>\n",
       "      <th>알 수 없음</th>\n",
       "      <td>0.000000</td>\n",
       "      <td>NaN</td>\n",
       "      <td>NaN</td>\n",
       "      <td>NaN</td>\n",
       "      <td>NaN</td>\n",
       "      <td>NaN</td>\n",
       "      <td>NaN</td>\n",
       "    </tr>\n",
       "  </tbody>\n",
       "</table>\n",
       "</div>"
      ],
      "text/plain": [
       "             본인 제공  출처 알 수 없음   만20세 이하   만21-25세   만26-30세   만31-35세  \\\n",
       "시술 당시 나이                                                                \n",
       "만18-34세   0.325825   0.194592  0.285714  0.317460  0.344639  0.297089   \n",
       "만35-37세   0.280436   0.151034  0.161290  0.350230  0.341651  0.310345   \n",
       "만38-39세   0.215694   0.102564  0.187500  0.336449  0.360721  0.328616   \n",
       "만40-42세   0.145823   0.069565  0.328358  0.339216  0.353516  0.322751   \n",
       "만43-44세   0.064107   0.019093  0.304348  0.362283  0.370198  0.328723   \n",
       "만45-50세   0.028216   0.003817  0.244444  0.300741  0.327869  0.268325   \n",
       "알 수 없음    0.000000        NaN       NaN       NaN       NaN       NaN   \n",
       "\n",
       "            알 수 없음  \n",
       "시술 당시 나이            \n",
       "만18-34세   0.246637  \n",
       "만35-37세   0.288194  \n",
       "만38-39세   0.243697  \n",
       "만40-42세   0.227011  \n",
       "만43-44세   0.236967  \n",
       "만45-50세   0.264925  \n",
       "알 수 없음         NaN  "
      ]
     },
     "execution_count": 343,
     "metadata": {},
     "output_type": "execute_result"
    }
   ],
   "source": [
    "age_table=pd.concat([train[train['난자 출처']=='본인 제공'].groupby('시술 당시 나이')['임신 성공 여부'].mean(),\n",
    "            train[train['난자 출처']=='알 수 없음'].groupby('시술 당시 나이')['임신 성공 여부'].mean(),\n",
    "          ],axis=1)\n",
    "age_table.columns=['본인 제공','출처 알 수 없음']\n",
    "train_age4=train[train['난자 출처']=='기증 제공']\n",
    "age_table2=train_age4.pivot_table(values='임신 성공 여부', index='시술 당시 나이',columns='난자 기증자 나이',aggfunc='mean')\n",
    "age_result=pd.concat([age_table,age_table2],axis=1)\n",
    "age_result"
   ]
  },
  {
   "cell_type": "markdown",
   "id": "e88c4466-d988-440d-80b6-c01730be5ff8",
   "metadata": {},
   "source": [
    "**난자 기증자 나이가 만 21-25세, 만 26-30세 인 경우,  시술 당시 나이가 만 18-34세와 비슷한 임신 성공 확률을 보임**"
   ]
  },
  {
   "cell_type": "code",
   "execution_count": 389,
   "id": "caac5369-0cea-4921-a8bc-b27d0773de6a",
   "metadata": {},
   "outputs": [],
   "source": [
    "train['보정된 나이']=50.0 # 시술 당시 나이가 알 수 없음 일 경우\n",
    "train.loc[train['시술 당시 나이']=='만18-34세','보정된 나이']=30.0\n",
    "train.loc[train['시술 당시 나이']=='만35-37세','보정된 나이']=36.0\n",
    "train.loc[train['시술 당시 나이']=='만38-39세','보정된 나이']=38.5\n",
    "train.loc[train['시술 당시 나이']=='만40-42세','보정된 나이']=41.0\n",
    "train.loc[train['시술 당시 나이']=='만43-44세','보정된 나이']=43.5\n",
    "train.loc[train['시술 당시 나이']=='만45-50세','보정된 나이']=47.5"
   ]
  },
  {
   "cell_type": "code",
   "execution_count": 483,
   "id": "38111322-3d8f-488a-911e-5f4e589b502f",
   "metadata": {},
   "outputs": [],
   "source": [
    "test['보정된 나이']=50.0 # 시술 당시 나이가 알 수 없음 일 경우\n",
    "test.loc[test['시술 당시 나이']=='만18-34세','보정된 나이']=30.0\n",
    "test.loc[test['시술 당시 나이']=='만35-37세','보정된 나이']=36.0\n",
    "test.loc[test['시술 당시 나이']=='만38-39세','보정된 나이']=38.5\n",
    "test.loc[test['시술 당시 나이']=='만40-42세','보정된 나이']=41.0\n",
    "test.loc[test['시술 당시 나이']=='만43-44세','보정된 나이']=43.5\n",
    "test.loc[test['시술 당시 나이']=='만45-50세','보정된 나이']=47.5"
   ]
  },
  {
   "cell_type": "code",
   "execution_count": 486,
   "id": "a8ad0628-3c22-4db3-9a84-5b224979a7b4",
   "metadata": {},
   "outputs": [],
   "source": [
    "test['보정된 나이']=test['보정된 나이'].astype(float)"
   ]
  },
  {
   "cell_type": "code",
   "execution_count": 399,
   "id": "474039f4-9816-45d2-ad9f-1d75d7fc85b9",
   "metadata": {},
   "outputs": [
    {
     "data": {
      "text/plain": [
       "보정된 나이\n",
       "30.0    0.325825\n",
       "36.0    0.280436\n",
       "38.5    0.215694\n",
       "41.0    0.145823\n",
       "43.5    0.064107\n",
       "47.5    0.028216\n",
       "50.0    0.000000\n",
       "Name: 임신 성공 여부, dtype: float64"
      ]
     },
     "execution_count": 399,
     "metadata": {},
     "output_type": "execute_result"
    }
   ],
   "source": [
    "train[train['난자 출처'] == '본인 제공'].groupby('보정된 나이')['임신 성공 여부'].mean()"
   ]
  },
  {
   "cell_type": "code",
   "execution_count": 412,
   "id": "e08589f5-3a67-4124-9fd8-9396469b28f2",
   "metadata": {},
   "outputs": [
    {
     "data": {
      "text/plain": [
       "난자 출처\n",
       "본인 제공    234285\n",
       "기증 제공     15769\n",
       "출처 모름      6290\n",
       "Name: count, dtype: int64"
      ]
     },
     "execution_count": 412,
     "metadata": {},
     "output_type": "execute_result"
    }
   ],
   "source": [
    "train['난자 출처'].value_counts()"
   ]
  },
  {
   "cell_type": "code",
   "execution_count": 433,
   "id": "b0b0a987-f806-4ec4-bf09-d992b426d9dc",
   "metadata": {},
   "outputs": [
    {
     "data": {
      "text/html": [
       "<div>\n",
       "<style scoped>\n",
       "    .dataframe tbody tr th:only-of-type {\n",
       "        vertical-align: middle;\n",
       "    }\n",
       "\n",
       "    .dataframe tbody tr th {\n",
       "        vertical-align: top;\n",
       "    }\n",
       "\n",
       "    .dataframe thead th {\n",
       "        text-align: right;\n",
       "    }\n",
       "</style>\n",
       "<table border=\"1\" class=\"dataframe\">\n",
       "  <thead>\n",
       "    <tr style=\"text-align: right;\">\n",
       "      <th>난자 기증자 나이</th>\n",
       "      <th>만20세 이하</th>\n",
       "      <th>만21-25세</th>\n",
       "      <th>만26-30세</th>\n",
       "      <th>만31-35세</th>\n",
       "      <th>알 수 없음</th>\n",
       "    </tr>\n",
       "    <tr>\n",
       "      <th>보정된 나이</th>\n",
       "      <th></th>\n",
       "      <th></th>\n",
       "      <th></th>\n",
       "      <th></th>\n",
       "      <th></th>\n",
       "    </tr>\n",
       "  </thead>\n",
       "  <tbody>\n",
       "    <tr>\n",
       "      <th>30.0</th>\n",
       "      <td>0.285714</td>\n",
       "      <td>0.317460</td>\n",
       "      <td>0.344639</td>\n",
       "      <td>0.297089</td>\n",
       "      <td>0.246637</td>\n",
       "    </tr>\n",
       "    <tr>\n",
       "      <th>36.0</th>\n",
       "      <td>0.161290</td>\n",
       "      <td>0.350230</td>\n",
       "      <td>0.341651</td>\n",
       "      <td>0.310345</td>\n",
       "      <td>0.288194</td>\n",
       "    </tr>\n",
       "    <tr>\n",
       "      <th>38.5</th>\n",
       "      <td>0.187500</td>\n",
       "      <td>0.336449</td>\n",
       "      <td>0.360721</td>\n",
       "      <td>0.328616</td>\n",
       "      <td>0.243697</td>\n",
       "    </tr>\n",
       "    <tr>\n",
       "      <th>41.0</th>\n",
       "      <td>0.328358</td>\n",
       "      <td>0.339216</td>\n",
       "      <td>0.353516</td>\n",
       "      <td>0.322751</td>\n",
       "      <td>0.227011</td>\n",
       "    </tr>\n",
       "    <tr>\n",
       "      <th>43.5</th>\n",
       "      <td>0.304348</td>\n",
       "      <td>0.362283</td>\n",
       "      <td>0.370198</td>\n",
       "      <td>0.328723</td>\n",
       "      <td>0.236967</td>\n",
       "    </tr>\n",
       "    <tr>\n",
       "      <th>47.5</th>\n",
       "      <td>0.244444</td>\n",
       "      <td>0.300741</td>\n",
       "      <td>0.327869</td>\n",
       "      <td>0.268325</td>\n",
       "      <td>0.264925</td>\n",
       "    </tr>\n",
       "  </tbody>\n",
       "</table>\n",
       "</div>"
      ],
      "text/plain": [
       "난자 기증자 나이   만20세 이하   만21-25세   만26-30세   만31-35세    알 수 없음\n",
       "보정된 나이                                                     \n",
       "30.0       0.285714  0.317460  0.344639  0.297089  0.246637\n",
       "36.0       0.161290  0.350230  0.341651  0.310345  0.288194\n",
       "38.5       0.187500  0.336449  0.360721  0.328616  0.243697\n",
       "41.0       0.328358  0.339216  0.353516  0.322751  0.227011\n",
       "43.5       0.304348  0.362283  0.370198  0.328723  0.236967\n",
       "47.5       0.244444  0.300741  0.327869  0.268325  0.264925"
      ]
     },
     "execution_count": 433,
     "metadata": {},
     "output_type": "execute_result"
    }
   ],
   "source": [
    "train[train['난자 출처'] == '기증 제공'].groupby(['보정된 나이', '난자 기증자 나이'])['임신 성공 여부'].mean().unstack()"
   ]
  },
  {
   "cell_type": "code",
   "execution_count": 438,
   "id": "0b660cdc-7d18-4e5c-badd-6ccdae3ab27a",
   "metadata": {},
   "outputs": [],
   "source": [
    "# 본인 제공의 시술 당시 나이별 임신 성공 여부 평균 계산\n",
    "mean_success_bonin = train[train['난자 출처'] == '본인 제공'].groupby('보정된 나이')['임신 성공 여부'].mean()\n",
    "\n",
    "# 난자 기증자 나이별 임신 성공 여부 평균 계산\n",
    "mean_success_donor = pd.concat([train[train['난자 출처'] == '기증 제공'].groupby(['보정된 나이', '난자 기증자 나이'])['임신 성공 여부'].mean().unstack(),\n",
    "                               train[train['난자 출처'] == '출처 모름'].groupby('보정된 나이')['임신 성공 여부'].mean()],axis=1)"
   ]
  },
  {
   "cell_type": "code",
   "execution_count": 443,
   "id": "0050c3e0-9493-4e5c-b05e-3b36f820dae6",
   "metadata": {},
   "outputs": [],
   "source": [
    "mean_success_donor.columns=['만20세 이하', '만21-25세', '만26-30세', '만31-35세', '기증나 나이 모름', '출처 모름']"
   ]
  },
  {
   "cell_type": "code",
   "execution_count": 444,
   "id": "50f1e814-520e-4a06-882e-63574c719841",
   "metadata": {},
   "outputs": [
    {
     "data": {
      "text/html": [
       "<div>\n",
       "<style scoped>\n",
       "    .dataframe tbody tr th:only-of-type {\n",
       "        vertical-align: middle;\n",
       "    }\n",
       "\n",
       "    .dataframe tbody tr th {\n",
       "        vertical-align: top;\n",
       "    }\n",
       "\n",
       "    .dataframe thead th {\n",
       "        text-align: right;\n",
       "    }\n",
       "</style>\n",
       "<table border=\"1\" class=\"dataframe\">\n",
       "  <thead>\n",
       "    <tr style=\"text-align: right;\">\n",
       "      <th></th>\n",
       "      <th>만20세 이하</th>\n",
       "      <th>만21-25세</th>\n",
       "      <th>만26-30세</th>\n",
       "      <th>만31-35세</th>\n",
       "      <th>기증나 나이 모름</th>\n",
       "      <th>출처 모름</th>\n",
       "    </tr>\n",
       "    <tr>\n",
       "      <th>보정된 나이</th>\n",
       "      <th></th>\n",
       "      <th></th>\n",
       "      <th></th>\n",
       "      <th></th>\n",
       "      <th></th>\n",
       "      <th></th>\n",
       "    </tr>\n",
       "  </thead>\n",
       "  <tbody>\n",
       "    <tr>\n",
       "      <th>30.0</th>\n",
       "      <td>0.285714</td>\n",
       "      <td>0.317460</td>\n",
       "      <td>0.344639</td>\n",
       "      <td>0.297089</td>\n",
       "      <td>0.246637</td>\n",
       "      <td>0.194592</td>\n",
       "    </tr>\n",
       "    <tr>\n",
       "      <th>36.0</th>\n",
       "      <td>0.161290</td>\n",
       "      <td>0.350230</td>\n",
       "      <td>0.341651</td>\n",
       "      <td>0.310345</td>\n",
       "      <td>0.288194</td>\n",
       "      <td>0.151034</td>\n",
       "    </tr>\n",
       "    <tr>\n",
       "      <th>38.5</th>\n",
       "      <td>0.187500</td>\n",
       "      <td>0.336449</td>\n",
       "      <td>0.360721</td>\n",
       "      <td>0.328616</td>\n",
       "      <td>0.243697</td>\n",
       "      <td>0.102564</td>\n",
       "    </tr>\n",
       "    <tr>\n",
       "      <th>41.0</th>\n",
       "      <td>0.328358</td>\n",
       "      <td>0.339216</td>\n",
       "      <td>0.353516</td>\n",
       "      <td>0.322751</td>\n",
       "      <td>0.227011</td>\n",
       "      <td>0.069565</td>\n",
       "    </tr>\n",
       "    <tr>\n",
       "      <th>43.5</th>\n",
       "      <td>0.304348</td>\n",
       "      <td>0.362283</td>\n",
       "      <td>0.370198</td>\n",
       "      <td>0.328723</td>\n",
       "      <td>0.236967</td>\n",
       "      <td>0.019093</td>\n",
       "    </tr>\n",
       "    <tr>\n",
       "      <th>47.5</th>\n",
       "      <td>0.244444</td>\n",
       "      <td>0.300741</td>\n",
       "      <td>0.327869</td>\n",
       "      <td>0.268325</td>\n",
       "      <td>0.264925</td>\n",
       "      <td>0.003817</td>\n",
       "    </tr>\n",
       "  </tbody>\n",
       "</table>\n",
       "</div>"
      ],
      "text/plain": [
       "         만20세 이하   만21-25세   만26-30세   만31-35세  기증나 나이 모름     출처 모름\n",
       "보정된 나이                                                             \n",
       "30.0    0.285714  0.317460  0.344639  0.297089   0.246637  0.194592\n",
       "36.0    0.161290  0.350230  0.341651  0.310345   0.288194  0.151034\n",
       "38.5    0.187500  0.336449  0.360721  0.328616   0.243697  0.102564\n",
       "41.0    0.328358  0.339216  0.353516  0.322751   0.227011  0.069565\n",
       "43.5    0.304348  0.362283  0.370198  0.328723   0.236967  0.019093\n",
       "47.5    0.244444  0.300741  0.327869  0.268325   0.264925  0.003817"
      ]
     },
     "execution_count": 444,
     "metadata": {},
     "output_type": "execute_result"
    }
   ],
   "source": [
    "mean_success_donor"
   ]
  },
  {
   "cell_type": "code",
   "execution_count": 468,
   "id": "23faf161-7377-4243-95b6-e77d78e300b1",
   "metadata": {},
   "outputs": [
    {
     "data": {
      "text/plain": [
       "보정된 나이\n",
       "30.0    0.325825\n",
       "36.0    0.280436\n",
       "38.5    0.215694\n",
       "41.0    0.145823\n",
       "43.5    0.064107\n",
       "47.5    0.028216\n",
       "50.0    0.000000\n",
       "Name: 임신 성공 여부, dtype: float64"
      ]
     },
     "execution_count": 468,
     "metadata": {},
     "output_type": "execute_result"
    }
   ],
   "source": [
    "mean_success_bonin"
   ]
  },
  {
   "cell_type": "code",
   "execution_count": 467,
   "id": "9f404a38-69d2-40d8-ba75-b4580ce41399",
   "metadata": {},
   "outputs": [
    {
     "data": {
      "text/plain": [
       "38.5"
      ]
     },
     "execution_count": 467,
     "metadata": {},
     "output_type": "execute_result"
    }
   ],
   "source": [
    "min(mean_success_bonin.index, key=lambda x: abs(mean_success_bonin[x] - 0.244444))"
   ]
  },
  {
   "cell_type": "code",
   "execution_count": 470,
   "id": "8f47c49a-a4f3-4732-9cc5-f326d6ce02ee",
   "metadata": {},
   "outputs": [
    {
     "data": {
      "text/plain": [
       "난자 기증자 나이\n",
       "알 수 없음     242374\n",
       "만31-35세      6366\n",
       "만26-30세      4976\n",
       "만21-25세      2334\n",
       "만20세 이하       294\n",
       "Name: count, dtype: int64"
      ]
     },
     "execution_count": 470,
     "metadata": {},
     "output_type": "execute_result"
    }
   ],
   "source": [
    "train['난자 기증자 나이'].value_counts()"
   ]
  },
  {
   "cell_type": "code",
   "execution_count": 471,
   "id": "5e13e4ac-88e6-465a-af55-8c8d1f29db97",
   "metadata": {},
   "outputs": [],
   "source": [
    "# 난자 출처가 기증 제공일 경우 시술 당시 나이 보정 함수\n",
    "def adjust_age(row, mean_success_bonin):\n",
    "    if row['난자 출처'] != '본인 제공':\n",
    "        # 난자 기증자 나이별 임신 성공 여부 평균값 계산\n",
    "        donor_avg_success = train[(train['난자 기증자 나이'] == row['난자 기증자 나이']) & \n",
    "                                      (train['보정된 나이'] == row['보정된 나이'])]['임신 성공 여부'].mean()\n",
    "        \n",
    "        # 본인 제공의 시술 당시 나이로 보정된 시술 당시 나이를 찾음\n",
    "        closest_age = min(mean_success_bonin.index, key=lambda x: abs(mean_success_bonin[x] - donor_avg_success))\n",
    "        \n",
    "        # 기증 제공에서 보정된 시술 당시 나이를 본인 제공과의 확률 차이를 반영해 계산\n",
    "        adjustment = donor_avg_success - mean_success_bonin[closest_age]\n",
    "        return closest_age + adjustment\n",
    "    else:\n",
    "        # 본인 제공일 경우 시술 당시 나이는 그대로 유지\n",
    "        return row['보정된 나이']\n",
    "# 보정된 시술 당시 나이 계산\n",
    "train['보정된 나이'] = train.apply(adjust_age, axis=1, mean_success_bonin=mean_success_bonin)"
   ]
  },
  {
   "cell_type": "code",
   "execution_count": 472,
   "id": "319773d9-b331-4ee6-b20a-1dd692c41640",
   "metadata": {},
   "outputs": [
    {
     "data": {
      "text/plain": [
       "0"
      ]
     },
     "execution_count": 472,
     "metadata": {},
     "output_type": "execute_result"
    }
   ],
   "source": [
    "train['보정된 나이'].isna().sum()"
   ]
  },
  {
   "cell_type": "code",
   "execution_count": 487,
   "id": "311a92a9-943a-4d70-be37-5d676b29d9e2",
   "metadata": {},
   "outputs": [],
   "source": [
    "train['보정된 나이']=train['보정된 나이'].astype(float)"
   ]
  },
  {
   "cell_type": "code",
   "execution_count": 488,
   "id": "42efc5ab-dae3-4c1b-87fd-83ed88d6f021",
   "metadata": {},
   "outputs": [],
   "source": [
    "# test 데이터에서도 마찬가지로 \n",
    "test['보정된 나이'] = test.apply(adjust_age, axis=1, mean_success_bonin=mean_success_bonin)"
   ]
  },
  {
   "cell_type": "code",
   "execution_count": 502,
   "id": "26c81941-e123-47ca-8004-3f270bb5bfbc",
   "metadata": {},
   "outputs": [
    {
     "data": {
      "text/plain": [
       "(array([35317.,     0.,     0., 19641., 13091., 12319.,  3458.,     0.,\n",
       "         1231.,   116.]),\n",
       " array([30., 32., 34., 36., 38., 40., 42., 44., 46., 48., 50.]),\n",
       " <BarContainer object of 10 artists>)"
      ]
     },
     "execution_count": 502,
     "metadata": {},
     "output_type": "execute_result"
    },
    {
     "data": {
      "image/png": "[encoded data removed]",
      "text/plain": [
       "<Figure size 640x480 with 1 Axes>"
      ]
     },
     "metadata": {},
     "output_type": "display_data"
    }
   ],
   "source": [
    "plt.hist(test['보정된 나이'])"
   ]
  },
  {
   "cell_type": "code",
   "execution_count": 497,
   "id": "0e04b4d8-2333-4dea-920c-d95df0c4243a",
   "metadata": {},
   "outputs": [
    {
     "data": {
      "text/plain": [
       "<matplotlib.collections.PathCollection at 0x2340ce412b0>"
      ]
     },
     "execution_count": 497,
     "metadata": {},
     "output_type": "execute_result"
    },
    {
     "data": {
      "image/png": "[encoded data removed]",
      "text/plain": [
       "<Figure size 640x480 with 1 Axes>"
      ]
     },
     "metadata": {},
     "output_type": "display_data"
    }
   ],
   "source": [
    "plt.scatter(train.groupby('보정된 나이')['임신 성공 여부'].mean().index,train.groupby('보정된 나이')['임신 성공 여부'].mean().values)"
   ]
  },
  {
   "cell_type": "code",
   "execution_count": 498,
   "id": "fd4633ee-e980-4643-b955-2f8ea328c373",
   "metadata": {},
   "outputs": [
    {
     "data": {
      "text/html": [
       "<div>\n",
       "<style scoped>\n",
       "    .dataframe tbody tr th:only-of-type {\n",
       "        vertical-align: middle;\n",
       "    }\n",
       "\n",
       "    .dataframe tbody tr th {\n",
       "        vertical-align: top;\n",
       "    }\n",
       "\n",
       "    .dataframe thead th {\n",
       "        text-align: right;\n",
       "    }\n",
       "</style>\n",
       "<table border=\"1\" class=\"dataframe\">\n",
       "  <thead>\n",
       "    <tr style=\"text-align: right;\">\n",
       "      <th></th>\n",
       "      <th>보정된 나이</th>\n",
       "      <th>임신 성공 여부</th>\n",
       "    </tr>\n",
       "  </thead>\n",
       "  <tbody>\n",
       "    <tr>\n",
       "      <th>보정된 나이</th>\n",
       "      <td>1.000000</td>\n",
       "      <td>-0.172093</td>\n",
       "    </tr>\n",
       "    <tr>\n",
       "      <th>임신 성공 여부</th>\n",
       "      <td>-0.172093</td>\n",
       "      <td>1.000000</td>\n",
       "    </tr>\n",
       "  </tbody>\n",
       "</table>\n",
       "</div>"
      ],
      "text/plain": [
       "            보정된 나이  임신 성공 여부\n",
       "보정된 나이    1.000000 -0.172093\n",
       "임신 성공 여부 -0.172093  1.000000"
      ]
     },
     "execution_count": 498,
     "metadata": {},
     "output_type": "execute_result"
    }
   ],
   "source": [
    "train[['보정된 나이','임신 성공 여부']].corr()"
   ]
  },
  {
   "cell_type": "markdown",
   "id": "119c86fe-785b-48b2-8333-4e00d4570389",
   "metadata": {},
   "source": [
    "굉장히 낮은 correaltion을 보임  !!\n",
    "\n",
    "but 이때 그럼 test에서는 임신 성공 여부 확률을 알 수 없는데 어떻게 해야할지.. 난감함"
   ]
  },
  {
   "cell_type": "markdown",
   "id": "e1f1b5ec-fcca-4b9d-b1d2-df64fca4f822",
   "metadata": {},
   "source": [
    "### **난자 출처/난자 기증자 나이 -> 난자 기증 새로운 column 생성**"
   ]
  },
  {
   "cell_type": "code",
   "execution_count": 505,
   "id": "3e32f6a0-9f79-4637-ab09-ea3f9ccb64cc",
   "metadata": {},
   "outputs": [
    {
     "data": {
      "text/plain": [
       "난자 기증자 나이\n",
       "알 수 없음     242374\n",
       "만31-35세      6366\n",
       "만26-30세      4976\n",
       "만21-25세      2334\n",
       "만20세 이하       294\n",
       "Name: count, dtype: int64"
      ]
     },
     "execution_count": 505,
     "metadata": {},
     "output_type": "execute_result"
    }
   ],
   "source": [
    "train['난자 기증자 나이'].value_counts()"
   ]
  },
  {
   "cell_type": "code",
   "execution_count": 511,
   "id": "7155bea6-62d9-47e2-9ec1-ce77aa4cd134",
   "metadata": {},
   "outputs": [
    {
     "data": {
      "text/plain": [
       "시술 당시 나이\n",
       "만18-34세    0.246637\n",
       "만35-37세    0.288194\n",
       "만38-39세    0.243697\n",
       "만40-42세    0.227011\n",
       "만43-44세    0.236967\n",
       "만45-50세    0.264925\n",
       "Name: 임신 성공 여부, dtype: float64"
      ]
     },
     "execution_count": 511,
     "metadata": {},
     "output_type": "execute_result"
    }
   ],
   "source": [
    "train[(train['난자 기증자 나이']=='알 수 없음')&(train['난자 출처']=='기증 제공')].groupby('시술 당시 나이')['임신 성공 여부'].mean()"
   ]
  },
  {
   "cell_type": "code",
   "execution_count": 512,
   "id": "c042bfd9-050f-4713-9bd8-dd4db723f08c",
   "metadata": {},
   "outputs": [
    {
     "data": {
      "text/plain": [
       "난자 출처\n",
       "본인 제공    234285\n",
       "기증 제공     15769\n",
       "출처 모름      6290\n",
       "Name: count, dtype: int64"
      ]
     },
     "execution_count": 512,
     "metadata": {},
     "output_type": "execute_result"
    }
   ],
   "source": [
    "train['난자 출처'].value_counts()"
   ]
  },
  {
   "cell_type": "code",
   "execution_count": 521,
   "id": "1909e3d7-24fa-4553-8536-923cb79a215a",
   "metadata": {},
   "outputs": [],
   "source": [
    "train.loc[train['난자 출처']=='본인 제공','난자 기증']=0\n",
    "train.loc[(train['난자 출처']=='기증 제공')&(train['난자 기증자 나이']=='만21-25세'),'난자 기증']=1\n",
    "train.loc[(train['난자 출처']=='기증 제공')&(train['난자 기증자 나이']=='만26-30세'),'난자 기증']=1\n",
    "train.loc[(train['난자 출처']=='기증 제공')&(train['난자 기증자 나이']=='만20세 이하'),'난자 기증']=0.5\n",
    "train.loc[(train['난자 출처']=='기증 제공')&(train['난자 기증자 나이']=='만31-35세'),'난자 기증']=0.5\n",
    "train.loc[(train['난자 출처']=='기증 제공')&(train['난자 기증자 나이']=='알 수 없음'),'난자 기증']=0.5\n",
    "train.loc[(train['난자 출처']=='출처 모름'),'난자 기증']=-1"
   ]
  },
  {
   "cell_type": "code",
   "execution_count": 528,
   "id": "54519bd5-2239-4ec5-849c-e3200304ee32",
   "metadata": {},
   "outputs": [],
   "source": [
    "test.loc[test['난자 출처']=='본인 제공','난자 기증']=0\n",
    "test.loc[(test['난자 출처']=='기증 제공')&(test['난자 기증자 나이']=='만21-25세'),'난자 기증']=1\n",
    "test.loc[(test['난자 출처']=='기증 제공')&(test['난자 기증자 나이']=='만26-30세'),'난자 기증']=1\n",
    "test.loc[(test['난자 출처']=='기증 제공')&(test['난자 기증자 나이']=='만20세 이하'),'난자 기증']=0.5\n",
    "test.loc[(test['난자 출처']=='기증 제공')&(test['난자 기증자 나이']=='만31-35세'),'난자 기증']=0.5\n",
    "test.loc[(test['난자 출처']=='기증 제공')&(test['난자 기증자 나이']=='알 수 없음'),'난자 기증']=0.5\n",
    "test.loc[(test['난자 출처']=='알 수 없음'),'난자 기증']=-1"
   ]
  },
  {
   "cell_type": "code",
   "execution_count": 531,
   "id": "6ad912ed-b353-437e-9c29-934600e0142c",
   "metadata": {},
   "outputs": [],
   "source": [
    "train.drop(['난자 출처','난자 기증자 나이','보정된 나이'],axis=1,inplace=True)\n",
    "test.drop(['난자 출처','난자 기증자 나이','보정된 나이'],axis=1,inplace=True)"
   ]
  },
  {
   "cell_type": "markdown",
   "id": "51dd6350-4ba9-41f8-876f-c63f3ed999e8",
   "metadata": {
    "id": "51dd6350-4ba9-41f8-876f-c63f3ed999e8"
   },
   "source": [
    "## **1 결측치 확인**"
   ]
  },
  {
   "cell_type": "code",
   "execution_count": 535,
   "id": "8f2e0fa9-842b-4bfc-8b88-b97fff59f32a",
   "metadata": {
    "colab": {
     "base_uri": "https://localhost:8080/",
     "height": 1000
    },
    "id": "8f2e0fa9-842b-4bfc-8b88-b97fff59f32a",
    "outputId": "4bd35171-c3d3-46b0-9280-e7d77d892d3a"
   },
   "outputs": [
    {
     "data": {
      "text/html": [
       "<div>\n",
       "<style scoped>\n",
       "    .dataframe tbody tr th:only-of-type {\n",
       "        vertical-align: middle;\n",
       "    }\n",
       "\n",
       "    .dataframe tbody tr th {\n",
       "        vertical-align: top;\n",
       "    }\n",
       "\n",
       "    .dataframe thead th {\n",
       "        text-align: right;\n",
       "    }\n",
       "</style>\n",
       "<table border=\"1\" class=\"dataframe\">\n",
       "  <thead>\n",
       "    <tr style=\"text-align: right;\">\n",
       "      <th></th>\n",
       "      <th>0</th>\n",
       "    </tr>\n",
       "  </thead>\n",
       "  <tbody>\n",
       "    <tr>\n",
       "      <th>임신 시도 또는 마지막 임신 경과 연수</th>\n",
       "      <td>246974</td>\n",
       "    </tr>\n",
       "    <tr>\n",
       "      <th>단일 배아 이식 여부</th>\n",
       "      <td>6290</td>\n",
       "    </tr>\n",
       "    <tr>\n",
       "      <th>착상 전 유전 검사 사용 여부</th>\n",
       "      <td>253626</td>\n",
       "    </tr>\n",
       "    <tr>\n",
       "      <th>착상 전 유전 진단 사용 여부</th>\n",
       "      <td>6290</td>\n",
       "    </tr>\n",
       "    <tr>\n",
       "      <th>배아 생성 주요 이유</th>\n",
       "      <td>6290</td>\n",
       "    </tr>\n",
       "    <tr>\n",
       "      <th>총 생성 배아 수</th>\n",
       "      <td>6290</td>\n",
       "    </tr>\n",
       "    <tr>\n",
       "      <th>미세주입된 난자 수</th>\n",
       "      <td>6290</td>\n",
       "    </tr>\n",
       "    <tr>\n",
       "      <th>미세주입에서 생성된 배아 수</th>\n",
       "      <td>6290</td>\n",
       "    </tr>\n",
       "    <tr>\n",
       "      <th>이식된 배아 수</th>\n",
       "      <td>6290</td>\n",
       "    </tr>\n",
       "    <tr>\n",
       "      <th>미세주입 배아 이식 수</th>\n",
       "      <td>6290</td>\n",
       "    </tr>\n",
       "    <tr>\n",
       "      <th>저장된 배아 수</th>\n",
       "      <td>6290</td>\n",
       "    </tr>\n",
       "    <tr>\n",
       "      <th>미세주입 후 저장된 배아 수</th>\n",
       "      <td>6290</td>\n",
       "    </tr>\n",
       "    <tr>\n",
       "      <th>해동된 배아 수</th>\n",
       "      <td>6290</td>\n",
       "    </tr>\n",
       "    <tr>\n",
       "      <th>해동 난자 수</th>\n",
       "      <td>6290</td>\n",
       "    </tr>\n",
       "    <tr>\n",
       "      <th>수집된 신선 난자 수</th>\n",
       "      <td>6290</td>\n",
       "    </tr>\n",
       "    <tr>\n",
       "      <th>저장된 신선 난자 수</th>\n",
       "      <td>6290</td>\n",
       "    </tr>\n",
       "    <tr>\n",
       "      <th>혼합된 난자 수</th>\n",
       "      <td>6290</td>\n",
       "    </tr>\n",
       "    <tr>\n",
       "      <th>파트너 정자와 혼합된 난자 수</th>\n",
       "      <td>6290</td>\n",
       "    </tr>\n",
       "    <tr>\n",
       "      <th>기증자 정자와 혼합된 난자 수</th>\n",
       "      <td>6290</td>\n",
       "    </tr>\n",
       "    <tr>\n",
       "      <th>동결 배아 사용 여부</th>\n",
       "      <td>6290</td>\n",
       "    </tr>\n",
       "    <tr>\n",
       "      <th>신선 배아 사용 여부</th>\n",
       "      <td>6290</td>\n",
       "    </tr>\n",
       "    <tr>\n",
       "      <th>기증 배아 사용 여부</th>\n",
       "      <td>6290</td>\n",
       "    </tr>\n",
       "    <tr>\n",
       "      <th>대리모 여부</th>\n",
       "      <td>6290</td>\n",
       "    </tr>\n",
       "    <tr>\n",
       "      <th>PGD 시술 여부</th>\n",
       "      <td>254165</td>\n",
       "    </tr>\n",
       "    <tr>\n",
       "      <th>PGS 시술 여부</th>\n",
       "      <td>254415</td>\n",
       "    </tr>\n",
       "    <tr>\n",
       "      <th>난자 채취 경과일</th>\n",
       "      <td>57486</td>\n",
       "    </tr>\n",
       "    <tr>\n",
       "      <th>난자 해동 경과일</th>\n",
       "      <td>254908</td>\n",
       "    </tr>\n",
       "    <tr>\n",
       "      <th>난자 혼합 경과일</th>\n",
       "      <td>53733</td>\n",
       "    </tr>\n",
       "    <tr>\n",
       "      <th>배아 이식 경과일</th>\n",
       "      <td>43561</td>\n",
       "    </tr>\n",
       "    <tr>\n",
       "      <th>배아 해동 경과일</th>\n",
       "      <td>215976</td>\n",
       "    </tr>\n",
       "  </tbody>\n",
       "</table>\n",
       "</div>"
      ],
      "text/plain": [
       "                            0\n",
       "임신 시도 또는 마지막 임신 경과 연수  246974\n",
       "단일 배아 이식 여부              6290\n",
       "착상 전 유전 검사 사용 여부       253626\n",
       "착상 전 유전 진단 사용 여부         6290\n",
       "배아 생성 주요 이유              6290\n",
       "총 생성 배아 수                6290\n",
       "미세주입된 난자 수               6290\n",
       "미세주입에서 생성된 배아 수          6290\n",
       "이식된 배아 수                 6290\n",
       "미세주입 배아 이식 수             6290\n",
       "저장된 배아 수                 6290\n",
       "미세주입 후 저장된 배아 수          6290\n",
       "해동된 배아 수                 6290\n",
       "해동 난자 수                  6290\n",
       "수집된 신선 난자 수              6290\n",
       "저장된 신선 난자 수              6290\n",
       "혼합된 난자 수                 6290\n",
       "파트너 정자와 혼합된 난자 수         6290\n",
       "기증자 정자와 혼합된 난자 수         6290\n",
       "동결 배아 사용 여부              6290\n",
       "신선 배아 사용 여부              6290\n",
       "기증 배아 사용 여부              6290\n",
       "대리모 여부                   6290\n",
       "PGD 시술 여부              254165\n",
       "PGS 시술 여부              254415\n",
       "난자 채취 경과일               57486\n",
       "난자 해동 경과일              254908\n",
       "난자 혼합 경과일               53733\n",
       "배아 이식 경과일               43561\n",
       "배아 해동 경과일              215976"
      ]
     },
     "execution_count": 535,
     "metadata": {},
     "output_type": "execute_result"
    }
   ],
   "source": [
    "pd.DataFrame(train.isna().sum()[train.isna().sum() > 0])"
   ]
  },
  {
   "cell_type": "code",
   "execution_count": 536,
   "id": "jrV0BXPcLapV",
   "metadata": {
    "colab": {
     "base_uri": "https://localhost:8080/",
     "height": 989
    },
    "id": "jrV0BXPcLapV",
    "outputId": "ba357c76-e043-45a5-ab40-215ef1ff919a"
   },
   "outputs": [
    {
     "data": {
      "text/html": [
       "<div>\n",
       "<style scoped>\n",
       "    .dataframe tbody tr th:only-of-type {\n",
       "        vertical-align: middle;\n",
       "    }\n",
       "\n",
       "    .dataframe tbody tr th {\n",
       "        vertical-align: top;\n",
       "    }\n",
       "\n",
       "    .dataframe thead th {\n",
       "        text-align: right;\n",
       "    }\n",
       "</style>\n",
       "<table border=\"1\" class=\"dataframe\">\n",
       "  <thead>\n",
       "    <tr style=\"text-align: right;\">\n",
       "      <th></th>\n",
       "      <th>0</th>\n",
       "    </tr>\n",
       "  </thead>\n",
       "  <tbody>\n",
       "    <tr>\n",
       "      <th>임신 시도 또는 마지막 임신 경과 연수</th>\n",
       "      <td>86770</td>\n",
       "    </tr>\n",
       "    <tr>\n",
       "      <th>단일 배아 이식 여부</th>\n",
       "      <td>2176</td>\n",
       "    </tr>\n",
       "    <tr>\n",
       "      <th>착상 전 유전 검사 사용 여부</th>\n",
       "      <td>89134</td>\n",
       "    </tr>\n",
       "    <tr>\n",
       "      <th>착상 전 유전 진단 사용 여부</th>\n",
       "      <td>2176</td>\n",
       "    </tr>\n",
       "    <tr>\n",
       "      <th>배아 생성 주요 이유</th>\n",
       "      <td>2176</td>\n",
       "    </tr>\n",
       "    <tr>\n",
       "      <th>총 생성 배아 수</th>\n",
       "      <td>2176</td>\n",
       "    </tr>\n",
       "    <tr>\n",
       "      <th>미세주입된 난자 수</th>\n",
       "      <td>2176</td>\n",
       "    </tr>\n",
       "    <tr>\n",
       "      <th>미세주입에서 생성된 배아 수</th>\n",
       "      <td>2176</td>\n",
       "    </tr>\n",
       "    <tr>\n",
       "      <th>이식된 배아 수</th>\n",
       "      <td>2176</td>\n",
       "    </tr>\n",
       "    <tr>\n",
       "      <th>미세주입 배아 이식 수</th>\n",
       "      <td>2176</td>\n",
       "    </tr>\n",
       "    <tr>\n",
       "      <th>저장된 배아 수</th>\n",
       "      <td>2176</td>\n",
       "    </tr>\n",
       "    <tr>\n",
       "      <th>미세주입 후 저장된 배아 수</th>\n",
       "      <td>2176</td>\n",
       "    </tr>\n",
       "    <tr>\n",
       "      <th>해동된 배아 수</th>\n",
       "      <td>2176</td>\n",
       "    </tr>\n",
       "    <tr>\n",
       "      <th>해동 난자 수</th>\n",
       "      <td>2176</td>\n",
       "    </tr>\n",
       "    <tr>\n",
       "      <th>수집된 신선 난자 수</th>\n",
       "      <td>2176</td>\n",
       "    </tr>\n",
       "    <tr>\n",
       "      <th>저장된 신선 난자 수</th>\n",
       "      <td>2176</td>\n",
       "    </tr>\n",
       "    <tr>\n",
       "      <th>혼합된 난자 수</th>\n",
       "      <td>2176</td>\n",
       "    </tr>\n",
       "    <tr>\n",
       "      <th>파트너 정자와 혼합된 난자 수</th>\n",
       "      <td>2176</td>\n",
       "    </tr>\n",
       "    <tr>\n",
       "      <th>기증자 정자와 혼합된 난자 수</th>\n",
       "      <td>2176</td>\n",
       "    </tr>\n",
       "    <tr>\n",
       "      <th>동결 배아 사용 여부</th>\n",
       "      <td>2176</td>\n",
       "    </tr>\n",
       "    <tr>\n",
       "      <th>신선 배아 사용 여부</th>\n",
       "      <td>2176</td>\n",
       "    </tr>\n",
       "    <tr>\n",
       "      <th>기증 배아 사용 여부</th>\n",
       "      <td>2176</td>\n",
       "    </tr>\n",
       "    <tr>\n",
       "      <th>대리모 여부</th>\n",
       "      <td>2176</td>\n",
       "    </tr>\n",
       "    <tr>\n",
       "      <th>PGD 시술 여부</th>\n",
       "      <td>89286</td>\n",
       "    </tr>\n",
       "    <tr>\n",
       "      <th>PGS 시술 여부</th>\n",
       "      <td>89396</td>\n",
       "    </tr>\n",
       "    <tr>\n",
       "      <th>난자 채취 경과일</th>\n",
       "      <td>19949</td>\n",
       "    </tr>\n",
       "    <tr>\n",
       "      <th>난자 해동 경과일</th>\n",
       "      <td>89575</td>\n",
       "    </tr>\n",
       "    <tr>\n",
       "      <th>난자 혼합 경과일</th>\n",
       "      <td>18579</td>\n",
       "    </tr>\n",
       "    <tr>\n",
       "      <th>배아 이식 경과일</th>\n",
       "      <td>15246</td>\n",
       "    </tr>\n",
       "    <tr>\n",
       "      <th>배아 해동 경과일</th>\n",
       "      <td>76117</td>\n",
       "    </tr>\n",
       "  </tbody>\n",
       "</table>\n",
       "</div>"
      ],
      "text/plain": [
       "                           0\n",
       "임신 시도 또는 마지막 임신 경과 연수  86770\n",
       "단일 배아 이식 여부             2176\n",
       "착상 전 유전 검사 사용 여부       89134\n",
       "착상 전 유전 진단 사용 여부        2176\n",
       "배아 생성 주요 이유             2176\n",
       "총 생성 배아 수               2176\n",
       "미세주입된 난자 수              2176\n",
       "미세주입에서 생성된 배아 수         2176\n",
       "이식된 배아 수                2176\n",
       "미세주입 배아 이식 수            2176\n",
       "저장된 배아 수                2176\n",
       "미세주입 후 저장된 배아 수         2176\n",
       "해동된 배아 수                2176\n",
       "해동 난자 수                 2176\n",
       "수집된 신선 난자 수             2176\n",
       "저장된 신선 난자 수             2176\n",
       "혼합된 난자 수                2176\n",
       "파트너 정자와 혼합된 난자 수        2176\n",
       "기증자 정자와 혼합된 난자 수        2176\n",
       "동결 배아 사용 여부             2176\n",
       "신선 배아 사용 여부             2176\n",
       "기증 배아 사용 여부             2176\n",
       "대리모 여부                  2176\n",
       "PGD 시술 여부              89286\n",
       "PGS 시술 여부              89396\n",
       "난자 채취 경과일              19949\n",
       "난자 해동 경과일              89575\n",
       "난자 혼합 경과일              18579\n",
       "배아 이식 경과일              15246\n",
       "배아 해동 경과일              76117"
      ]
     },
     "execution_count": 536,
     "metadata": {},
     "output_type": "execute_result"
    }
   ],
   "source": [
    "pd.DataFrame(test.isna().sum()[test.isna().sum() > 0])"
   ]
  },
  {
   "cell_type": "markdown",
   "id": "0sWcDm_etMqg",
   "metadata": {
    "id": "0sWcDm_etMqg"
   },
   "source": [
    "#### **너무 NaN이 많은 컬럼 제외**\n",
    "**[['임신 시도 또는 마지막 임신 경과 연수','착상 전 유전 검사 사용 여부','난자 해동 경과일','배아 해동 경과일']**\n"
   ]
  },
  {
   "cell_type": "code",
   "execution_count": 537,
   "id": "15216e9f-00dd-4c86-820d-3f1ea60d2605",
   "metadata": {
    "id": "15216e9f-00dd-4c86-820d-3f1ea60d2605"
   },
   "outputs": [],
   "source": [
    "# 너무 NaN이 많은 컬럼 제외\n",
    "train.drop(['임신 시도 또는 마지막 임신 경과 연수','착상 전 유전 검사 사용 여부','난자 해동 경과일','배아 해동 경과일'],axis=1,inplace=True)\n",
    "test.drop(['임신 시도 또는 마지막 임신 경과 연수','착상 전 유전 검사 사용 여부','난자 해동 경과일','배아 해동 경과일'],axis=1,inplace=True)"
   ]
  },
  {
   "cell_type": "markdown",
   "id": "-MstHAxztag-",
   "metadata": {
    "id": "-MstHAxztag-"
   },
   "source": [
    "#### **수/ 여부 가 들어간 column 중 nan 값을 0으로 채움**\n"
   ]
  },
  {
   "cell_type": "code",
   "execution_count": 538,
   "id": "15b8eecf-67b9-4244-b6a8-e8205036a1e1",
   "metadata": {
    "id": "15b8eecf-67b9-4244-b6a8-e8205036a1e1"
   },
   "outputs": [],
   "source": [
    "# 수/ 여부 가 들어간 column 중 nan 값을 0으로 채움\n",
    "train.loc[:, train.columns.str.contains(\"수|여부\")] = train.loc[:, train.columns.str.contains(\"수|여부\")].fillna(0)\n",
    "test.loc[:, test.columns.str.contains(\"수|여부\")] = test.loc[:, test.columns.str.contains(\"수|여부\")].fillna(0)"
   ]
  },
  {
   "cell_type": "code",
   "execution_count": 539,
   "id": "2e2e8cf5-ccbe-4456-9183-f25a8dfddc58",
   "metadata": {
    "colab": {
     "base_uri": "https://localhost:8080/",
     "height": 206
    },
    "id": "2e2e8cf5-ccbe-4456-9183-f25a8dfddc58",
    "outputId": "ecde2d2a-1cdb-4f22-d9b9-5aba6519a810"
   },
   "outputs": [
    {
     "data": {
      "text/html": [
       "<div>\n",
       "<style scoped>\n",
       "    .dataframe tbody tr th:only-of-type {\n",
       "        vertical-align: middle;\n",
       "    }\n",
       "\n",
       "    .dataframe tbody tr th {\n",
       "        vertical-align: top;\n",
       "    }\n",
       "\n",
       "    .dataframe thead th {\n",
       "        text-align: right;\n",
       "    }\n",
       "</style>\n",
       "<table border=\"1\" class=\"dataframe\">\n",
       "  <thead>\n",
       "    <tr style=\"text-align: right;\">\n",
       "      <th></th>\n",
       "      <th>0</th>\n",
       "    </tr>\n",
       "  </thead>\n",
       "  <tbody>\n",
       "    <tr>\n",
       "      <th>배아 생성 주요 이유</th>\n",
       "      <td>6290</td>\n",
       "    </tr>\n",
       "    <tr>\n",
       "      <th>난자 채취 경과일</th>\n",
       "      <td>57486</td>\n",
       "    </tr>\n",
       "    <tr>\n",
       "      <th>난자 혼합 경과일</th>\n",
       "      <td>53733</td>\n",
       "    </tr>\n",
       "    <tr>\n",
       "      <th>배아 이식 경과일</th>\n",
       "      <td>43561</td>\n",
       "    </tr>\n",
       "  </tbody>\n",
       "</table>\n",
       "</div>"
      ],
      "text/plain": [
       "                 0\n",
       "배아 생성 주요 이유   6290\n",
       "난자 채취 경과일    57486\n",
       "난자 혼합 경과일    53733\n",
       "배아 이식 경과일    43561"
      ]
     },
     "execution_count": 539,
     "metadata": {},
     "output_type": "execute_result"
    }
   ],
   "source": [
    "pd.DataFrame(train.isna().sum()[train.isna().sum() > 0])"
   ]
  },
  {
   "cell_type": "code",
   "execution_count": 540,
   "id": "20f52fbb-d330-4dd5-bacf-1b0108a7c942",
   "metadata": {
    "colab": {
     "base_uri": "https://localhost:8080/",
     "height": 175
    },
    "id": "20f52fbb-d330-4dd5-bacf-1b0108a7c942",
    "outputId": "d4806f29-3aaa-40a1-ab88-92e4022e3ddc"
   },
   "outputs": [
    {
     "data": {
      "text/html": [
       "<div>\n",
       "<style scoped>\n",
       "    .dataframe tbody tr th:only-of-type {\n",
       "        vertical-align: middle;\n",
       "    }\n",
       "\n",
       "    .dataframe tbody tr th {\n",
       "        vertical-align: top;\n",
       "    }\n",
       "\n",
       "    .dataframe thead th {\n",
       "        text-align: right;\n",
       "    }\n",
       "</style>\n",
       "<table border=\"1\" class=\"dataframe\">\n",
       "  <thead>\n",
       "    <tr style=\"text-align: right;\">\n",
       "      <th></th>\n",
       "      <th>0</th>\n",
       "    </tr>\n",
       "  </thead>\n",
       "  <tbody>\n",
       "    <tr>\n",
       "      <th>배아 생성 주요 이유</th>\n",
       "      <td>2176</td>\n",
       "    </tr>\n",
       "    <tr>\n",
       "      <th>난자 채취 경과일</th>\n",
       "      <td>19949</td>\n",
       "    </tr>\n",
       "    <tr>\n",
       "      <th>난자 혼합 경과일</th>\n",
       "      <td>18579</td>\n",
       "    </tr>\n",
       "    <tr>\n",
       "      <th>배아 이식 경과일</th>\n",
       "      <td>15246</td>\n",
       "    </tr>\n",
       "  </tbody>\n",
       "</table>\n",
       "</div>"
      ],
      "text/plain": [
       "                 0\n",
       "배아 생성 주요 이유   2176\n",
       "난자 채취 경과일    19949\n",
       "난자 혼합 경과일    18579\n",
       "배아 이식 경과일    15246"
      ]
     },
     "execution_count": 540,
     "metadata": {},
     "output_type": "execute_result"
    }
   ],
   "source": [
    "pd.DataFrame(test.isna().sum()[test.isna().sum() > 0])"
   ]
  },
  {
   "cell_type": "markdown",
   "id": "TxF0mxKdtiSZ",
   "metadata": {
    "id": "TxF0mxKdtiSZ"
   },
   "source": [
    "#### **특정 시술 유형이 NaN인 row 제거**\n",
    "- train에만 있었음"
   ]
  },
  {
   "cell_type": "code",
   "execution_count": null,
   "id": "b7e21eb3-7f67-46d5-af43-5cb49badb4ea",
   "metadata": {
    "id": "b7e21eb3-7f67-46d5-af43-5cb49badb4ea"
   },
   "outputs": [],
   "source": [
    "# train에서 특정 시술 유형이 NaN인 것 제외\n",
    "train = train.dropna(subset=[\"특정 시술 유형\"])"
   ]
  },
  {
   "cell_type": "code",
   "execution_count": null,
   "id": "7fbc8a8e-3150-4615-beaa-f8713a0935d6",
   "metadata": {
    "colab": {
     "base_uri": "https://localhost:8080/",
     "height": 175
    },
    "id": "7fbc8a8e-3150-4615-beaa-f8713a0935d6",
    "outputId": "cdfd9402-8b29-41cb-f519-59af037a0130"
   },
   "outputs": [
    {
     "data": {
      "application/vnd.google.colaboratory.intrinsic+json": {
       "summary": "{\n  \"name\": \"pd\",\n  \"rows\": 4,\n  \"fields\": [\n    {\n      \"column\": 0,\n      \"properties\": {\n        \"dtype\": \"number\",\n        \"std\": 23403,\n        \"min\": 6291,\n        \"max\": 57488,\n        \"num_unique_values\": 4,\n        \"samples\": [\n          57488,\n          43564,\n          6291\n        ],\n        \"semantic_type\": \"\",\n        \"description\": \"\"\n      }\n    }\n  ]\n}",
       "type": "dataframe"
      },
      "text/html": [
       "\n",
       "  <div id=\"df-05ad3598-1ee6-4bbf-aebb-021bbf154499\" class=\"colab-df-container\">\n",
       "    <div>\n",
       "<style scoped>\n",
       "    .dataframe tbody tr th:only-of-type {\n",
       "        vertical-align: middle;\n",
       "    }\n",
       "\n",
       "    .dataframe tbody tr th {\n",
       "        vertical-align: top;\n",
       "    }\n",
       "\n",
       "    .dataframe thead th {\n",
       "        text-align: right;\n",
       "    }\n",
       "</style>\n",
       "<table border=\"1\" class=\"dataframe\">\n",
       "  <thead>\n",
       "    <tr style=\"text-align: right;\">\n",
       "      <th></th>\n",
       "      <th>0</th>\n",
       "    </tr>\n",
       "  </thead>\n",
       "  <tbody>\n",
       "    <tr>\n",
       "      <th>배아 생성 주요 이유</th>\n",
       "      <td>6291</td>\n",
       "    </tr>\n",
       "    <tr>\n",
       "      <th>난자 채취 경과일</th>\n",
       "      <td>57488</td>\n",
       "    </tr>\n",
       "    <tr>\n",
       "      <th>난자 혼합 경과일</th>\n",
       "      <td>53735</td>\n",
       "    </tr>\n",
       "    <tr>\n",
       "      <th>배아 이식 경과일</th>\n",
       "      <td>43564</td>\n",
       "    </tr>\n",
       "  </tbody>\n",
       "</table>\n",
       "</div>\n",
       "    <div class=\"colab-df-buttons\">\n",
       "\n",
       "  <div class=\"colab-df-container\">\n",
       "    <button class=\"colab-df-convert\" onclick=\"convertToInteractive('df-05ad3598-1ee6-4bbf-aebb-021bbf154499')\"\n",
       "            title=\"Convert this dataframe to an interactive table.\"\n",
       "            style=\"display:none;\">\n",
       "\n",
       "  <svg xmlns=\"http://www.w3.org/2000/svg\" height=\"24px\" viewBox=\"0 -960 960 960\">\n",
       "    <path d=\"M120-120v-720h720v720H120Zm60-500h600v-160H180v160Zm220 220h160v-160H400v160Zm0 220h160v-160H400v160ZM180-400h160v-160H180v160Zm440 0h160v-160H620v160ZM180-180h160v-160H180v160Zm440 0h160v-160H620v160Z\"/>\n",
       "  </svg>\n",
       "    </button>\n",
       "\n",
       "  <style>\n",
       "    .colab-df-container {\n",
       "      display:flex;\n",
       "      gap: 12px;\n",
       "    }\n",
       "\n",
       "    .colab-df-convert {\n",
       "      background-color: #E8F0FE;\n",
       "      border: none;\n",
       "      border-radius: 50%;\n",
       "      cursor: pointer;\n",
       "      display: none;\n",
       "      fill: #1967D2;\n",
       "      height: 32px;\n",
       "      padding: 0 0 0 0;\n",
       "      width: 32px;\n",
       "    }\n",
       "\n",
       "    .colab-df-convert:hover {\n",
       "      background-color: #E2EBFA;\n",
       "      box-shadow: 0px 1px 2px rgba(60, 64, 67, 0.3), 0px 1px 3px 1px rgba(60, 64, 67, 0.15);\n",
       "      fill: #174EA6;\n",
       "    }\n",
       "\n",
       "    .colab-df-buttons div {\n",
       "      margin-bottom: 4px;\n",
       "    }\n",
       "\n",
       "    [theme=dark] .colab-df-convert {\n",
       "      background-color: #3B4455;\n",
       "      fill: #D2E3FC;\n",
       "    }\n",
       "\n",
       "    [theme=dark] .colab-df-convert:hover {\n",
       "      background-color: #434B5C;\n",
       "      box-shadow: 0px 1px 3px 1px rgba(0, 0, 0, 0.15);\n",
       "      filter: drop-shadow(0px 1px 2px rgba(0, 0, 0, 0.3));\n",
       "      fill: #FFFFFF;\n",
       "    }\n",
       "  </style>\n",
       "\n",
       "    <script>\n",
       "      const buttonEl =\n",
       "        document.querySelector('#df-05ad3598-1ee6-4bbf-aebb-021bbf154499 button.colab-df-convert');\n",
       "      buttonEl.style.display =\n",
       "        google.colab.kernel.accessAllowed ? 'block' : 'none';\n",
       "\n",
       "      async function convertToInteractive(key) {\n",
       "        const element = document.querySelector('#df-05ad3598-1ee6-4bbf-aebb-021bbf154499');\n",
       "        const dataTable =\n",
       "          await google.colab.kernel.invokeFunction('convertToInteractive',\n",
       "                                                    [key], {});\n",
       "        if (!dataTable) return;\n",
       "\n",
       "        const docLinkHtml = 'Like what you see? Visit the ' +\n",
       "          '<a target=\"_blank\" href=https://colab.research.google.com/notebooks/data_table.ipynb>data table notebook</a>'\n",
       "          + ' to learn more about interactive tables.';\n",
       "        element.innerHTML = '';\n",
       "        dataTable['output_type'] = 'display_data';\n",
       "        await google.colab.output.renderOutput(dataTable, element);\n",
       "        const docLink = document.createElement('div');\n",
       "        docLink.innerHTML = docLinkHtml;\n",
       "        element.appendChild(docLink);\n",
       "      }\n",
       "    </script>\n",
       "  </div>\n",
       "\n",
       "\n",
       "<div id=\"df-521d59b2-3b29-4547-b961-cfa50017102d\">\n",
       "  <button class=\"colab-df-quickchart\" onclick=\"quickchart('df-521d59b2-3b29-4547-b961-cfa50017102d')\"\n",
       "            title=\"Suggest charts\"\n",
       "            style=\"display:none;\">\n",
       "\n",
       "<svg xmlns=\"http://www.w3.org/2000/svg\" height=\"24px\"viewBox=\"0 0 24 24\"\n",
       "     width=\"24px\">\n",
       "    <g>\n",
       "        <path d=\"M19 3H5c-1.1 0-2 .9-2 2v14c0 1.1.9 2 2 2h14c1.1 0 2-.9 2-2V5c0-1.1-.9-2-2-2zM9 17H7v-7h2v7zm4 0h-2V7h2v10zm4 0h-2v-4h2v4z\"/>\n",
       "    </g>\n",
       "</svg>\n",
       "  </button>\n",
       "\n",
       "<style>\n",
       "  .colab-df-quickchart {\n",
       "      --bg-color: #E8F0FE;\n",
       "      --fill-color: #1967D2;\n",
       "      --hover-bg-color: #E2EBFA;\n",
       "      --hover-fill-color: #174EA6;\n",
       "      --disabled-fill-color: #AAA;\n",
       "      --disabled-bg-color: #DDD;\n",
       "  }\n",
       "\n",
       "  [theme=dark] .colab-df-quickchart {\n",
       "      --bg-color: #3B4455;\n",
       "      --fill-color: #D2E3FC;\n",
       "      --hover-bg-color: #434B5C;\n",
       "      --hover-fill-color: #FFFFFF;\n",
       "      --disabled-bg-color: #3B4455;\n",
       "      --disabled-fill-color: #666;\n",
       "  }\n",
       "\n",
       "  .colab-df-quickchart {\n",
       "    background-color: var(--bg-color);\n",
       "    border: none;\n",
       "    border-radius: 50%;\n",
       "    cursor: pointer;\n",
       "    display: none;\n",
       "    fill: var(--fill-color);\n",
       "    height: 32px;\n",
       "    padding: 0;\n",
       "    width: 32px;\n",
       "  }\n",
       "\n",
       "  .colab-df-quickchart:hover {\n",
       "    background-color: var(--hover-bg-color);\n",
       "    box-shadow: 0 1px 2px rgba(60, 64, 67, 0.3), 0 1px 3px 1px rgba(60, 64, 67, 0.15);\n",
       "    fill: var(--button-hover-fill-color);\n",
       "  }\n",
       "\n",
       "  .colab-df-quickchart-complete:disabled,\n",
       "  .colab-df-quickchart-complete:disabled:hover {\n",
       "    background-color: var(--disabled-bg-color);\n",
       "    fill: var(--disabled-fill-color);\n",
       "    box-shadow: none;\n",
       "  }\n",
       "\n",
       "  .colab-df-spinner {\n",
       "    border: 2px solid var(--fill-color);\n",
       "    border-color: transparent;\n",
       "    border-bottom-color: var(--fill-color);\n",
       "    animation:\n",
       "      spin 1s steps(1) infinite;\n",
       "  }\n",
       "\n",
       "  @keyframes spin {\n",
       "    0% {\n",
       "      border-color: transparent;\n",
       "      border-bottom-color: var(--fill-color);\n",
       "      border-left-color: var(--fill-color);\n",
       "    }\n",
       "    20% {\n",
       "      border-color: transparent;\n",
       "      border-left-color: var(--fill-color);\n",
       "      border-top-color: var(--fill-color);\n",
       "    }\n",
       "    30% {\n",
       "      border-color: transparent;\n",
       "      border-left-color: var(--fill-color);\n",
       "      border-top-color: var(--fill-color);\n",
       "      border-right-color: var(--fill-color);\n",
       "    }\n",
       "    40% {\n",
       "      border-color: transparent;\n",
       "      border-right-color: var(--fill-color);\n",
       "      border-top-color: var(--fill-color);\n",
       "    }\n",
       "    60% {\n",
       "      border-color: transparent;\n",
       "      border-right-color: var(--fill-color);\n",
       "    }\n",
       "    80% {\n",
       "      border-color: transparent;\n",
       "      border-right-color: var(--fill-color);\n",
       "      border-bottom-color: var(--fill-color);\n",
       "    }\n",
       "    90% {\n",
       "      border-color: transparent;\n",
       "      border-bottom-color: var(--fill-color);\n",
       "    }\n",
       "  }\n",
       "</style>\n",
       "\n",
       "  <script>\n",
       "    async function quickchart(key) {\n",
       "      const quickchartButtonEl =\n",
       "        document.querySelector('#' + key + ' button');\n",
       "      quickchartButtonEl.disabled = true;  // To prevent multiple clicks.\n",
       "      quickchartButtonEl.classList.add('colab-df-spinner');\n",
       "      try {\n",
       "        const charts = await google.colab.kernel.invokeFunction(\n",
       "            'suggestCharts', [key], {});\n",
       "      } catch (error) {\n",
       "        console.error('Error during call to suggestCharts:', error);\n",
       "      }\n",
       "      quickchartButtonEl.classList.remove('colab-df-spinner');\n",
       "      quickchartButtonEl.classList.add('colab-df-quickchart-complete');\n",
       "    }\n",
       "    (() => {\n",
       "      let quickchartButtonEl =\n",
       "        document.querySelector('#df-521d59b2-3b29-4547-b961-cfa50017102d button');\n",
       "      quickchartButtonEl.style.display =\n",
       "        google.colab.kernel.accessAllowed ? 'block' : 'none';\n",
       "    })();\n",
       "  </script>\n",
       "</div>\n",
       "\n",
       "    </div>\n",
       "  </div>\n"
      ],
      "text/plain": [
       "                 0\n",
       "배아 생성 주요 이유   6291\n",
       "난자 채취 경과일    57488\n",
       "난자 혼합 경과일    53735\n",
       "배아 이식 경과일    43564"
      ]
     },
     "execution_count": 13,
     "metadata": {},
     "output_type": "execute_result"
    }
   ],
   "source": [
    "pd.DataFrame(train.isna().sum()[train.isna().sum() > 0])"
   ]
  },
  {
   "cell_type": "markdown",
   "id": "k5jVzzGpjbMN",
   "metadata": {
    "id": "k5jVzzGpjbMN"
   },
   "source": [
    "#### **난자 채취 경과일, 난자 혼합 경과일 -> 0 아니면 NaN 값임 -> 제외**"
   ]
  },
  {
   "cell_type": "code",
   "execution_count": 541,
   "id": "4689f8b0-34eb-4585-972d-0c3de4913996",
   "metadata": {
    "id": "4689f8b0-34eb-4585-972d-0c3de4913996"
   },
   "outputs": [],
   "source": [
    "# 난자 채취 경과일, 난자 혼합 경과일의 경우 csv 를 확인해보니 0 아니면 NaN 값임 -> 제외시키기\n",
    "train.drop(['난자 채취 경과일','난자 혼합 경과일'],inplace=True, axis=1)\n",
    "test.drop(['난자 채취 경과일','난자 혼합 경과일'],inplace=True, axis=1)"
   ]
  },
  {
   "cell_type": "code",
   "execution_count": 542,
   "id": "bc2b9dc0-1eaf-4104-b7eb-da5699c322fb",
   "metadata": {
    "colab": {
     "base_uri": "https://localhost:8080/",
     "height": 112
    },
    "id": "bc2b9dc0-1eaf-4104-b7eb-da5699c322fb",
    "outputId": "caa09be5-2300-4593-954c-3a85a6b0a83c"
   },
   "outputs": [
    {
     "data": {
      "text/html": [
       "<div>\n",
       "<style scoped>\n",
       "    .dataframe tbody tr th:only-of-type {\n",
       "        vertical-align: middle;\n",
       "    }\n",
       "\n",
       "    .dataframe tbody tr th {\n",
       "        vertical-align: top;\n",
       "    }\n",
       "\n",
       "    .dataframe thead th {\n",
       "        text-align: right;\n",
       "    }\n",
       "</style>\n",
       "<table border=\"1\" class=\"dataframe\">\n",
       "  <thead>\n",
       "    <tr style=\"text-align: right;\">\n",
       "      <th></th>\n",
       "      <th>0</th>\n",
       "    </tr>\n",
       "  </thead>\n",
       "  <tbody>\n",
       "    <tr>\n",
       "      <th>배아 생성 주요 이유</th>\n",
       "      <td>6290</td>\n",
       "    </tr>\n",
       "    <tr>\n",
       "      <th>배아 이식 경과일</th>\n",
       "      <td>43561</td>\n",
       "    </tr>\n",
       "  </tbody>\n",
       "</table>\n",
       "</div>"
      ],
      "text/plain": [
       "                 0\n",
       "배아 생성 주요 이유   6290\n",
       "배아 이식 경과일    43561"
      ]
     },
     "execution_count": 542,
     "metadata": {},
     "output_type": "execute_result"
    }
   ],
   "source": [
    "pd.DataFrame(train.isna().sum()[train.isna().sum() > 0])"
   ]
  },
  {
   "cell_type": "code",
   "execution_count": 543,
   "id": "ba4509c9-f421-43d9-bd44-fc663973c3b1",
   "metadata": {
    "colab": {
     "base_uri": "https://localhost:8080/",
     "height": 112
    },
    "id": "ba4509c9-f421-43d9-bd44-fc663973c3b1",
    "outputId": "01ae05fb-631d-4a8a-e5f3-fd91b2753ee1"
   },
   "outputs": [
    {
     "data": {
      "text/html": [
       "<div>\n",
       "<style scoped>\n",
       "    .dataframe tbody tr th:only-of-type {\n",
       "        vertical-align: middle;\n",
       "    }\n",
       "\n",
       "    .dataframe tbody tr th {\n",
       "        vertical-align: top;\n",
       "    }\n",
       "\n",
       "    .dataframe thead th {\n",
       "        text-align: right;\n",
       "    }\n",
       "</style>\n",
       "<table border=\"1\" class=\"dataframe\">\n",
       "  <thead>\n",
       "    <tr style=\"text-align: right;\">\n",
       "      <th></th>\n",
       "      <th>0</th>\n",
       "    </tr>\n",
       "  </thead>\n",
       "  <tbody>\n",
       "    <tr>\n",
       "      <th>배아 생성 주요 이유</th>\n",
       "      <td>2176</td>\n",
       "    </tr>\n",
       "    <tr>\n",
       "      <th>배아 이식 경과일</th>\n",
       "      <td>15246</td>\n",
       "    </tr>\n",
       "  </tbody>\n",
       "</table>\n",
       "</div>"
      ],
      "text/plain": [
       "                 0\n",
       "배아 생성 주요 이유   2176\n",
       "배아 이식 경과일    15246"
      ]
     },
     "execution_count": 543,
     "metadata": {},
     "output_type": "execute_result"
    }
   ],
   "source": [
    "pd.DataFrame(test.isna().sum()[train.isna().sum() > 0])"
   ]
  },
  {
   "cell_type": "code",
   "execution_count": 544,
   "id": "9f7e36c2-70aa-47d8-8388-93b29a895854",
   "metadata": {
    "colab": {
     "base_uri": "https://localhost:8080/",
     "height": 178
    },
    "id": "9f7e36c2-70aa-47d8-8388-93b29a895854",
    "outputId": "b2fca9b7-f5f9-40d0-873e-f78f97f3cddd"
   },
   "outputs": [
    {
     "data": {
      "text/plain": [
       "시술 유형\n",
       "IVF    250054\n",
       "DI       6290\n",
       "Name: count, dtype: int64"
      ]
     },
     "execution_count": 544,
     "metadata": {},
     "output_type": "execute_result"
    }
   ],
   "source": [
    "train['시술 유형'].value_counts()"
   ]
  },
  {
   "cell_type": "markdown",
   "id": "oCzr2yaalwXA",
   "metadata": {
    "id": "oCzr2yaalwXA"
   },
   "source": [
    "## **2 Preprocessing**"
   ]
  },
  {
   "cell_type": "markdown",
   "id": "mkU3Y6BCjjvk",
   "metadata": {
    "id": "mkU3Y6BCjjvk"
   },
   "source": [
    "#### **시술 유형이 IVF면 1, DI면 0으로**"
   ]
  },
  {
   "cell_type": "code",
   "execution_count": 545,
   "id": "497438bc-272e-4813-8414-248602ebfd29",
   "metadata": {
    "id": "497438bc-272e-4813-8414-248602ebfd29"
   },
   "outputs": [],
   "source": [
    "# 시술 유형이 IVF면 1, DI면 0으로\n",
    "train.loc[train['시술 유형']=='IVF','시술 유형']=1\n",
    "train.loc[train['시술 유형']=='DI','시술 유형']=0"
   ]
  },
  {
   "cell_type": "code",
   "execution_count": 546,
   "id": "c0216bc3-c2ae-40ff-9f6c-e16820799229",
   "metadata": {
    "id": "c0216bc3-c2ae-40ff-9f6c-e16820799229"
   },
   "outputs": [],
   "source": [
    "test.loc[test['시술 유형']=='IVF','시술 유형']=1\n",
    "test.loc[test['시술 유형']=='DI','시술 유형']=0"
   ]
  },
  {
   "cell_type": "code",
   "execution_count": 547,
   "id": "111fff15-deae-4ef0-bb44-aef7a441175e",
   "metadata": {
    "id": "111fff15-deae-4ef0-bb44-aef7a441175e"
   },
   "outputs": [],
   "source": [
    "train['시술 유형']=train['시술 유형'].astype(int)\n",
    "test['시술 유형']=test['시술 유형'].astype(int)"
   ]
  },
  {
   "cell_type": "code",
   "execution_count": 548,
   "id": "25fc135e-36ba-480b-8862-cb9983e0f248",
   "metadata": {
    "colab": {
     "base_uri": "https://localhost:8080/"
    },
    "id": "25fc135e-36ba-480b-8862-cb9983e0f248",
    "outputId": "8d8b41bf-26ab-4393-8f9e-cd93752958de"
   },
   "outputs": [
    {
     "data": {
      "text/plain": [
       "Index(['시술 시기 코드', '시술 당시 나이', '특정 시술 유형', '배란 유도 유형', '배아 생성 주요 이유',\n",
       "       '총 시술 횟수', '클리닉 내 총 시술 횟수', 'IVF 시술 횟수', 'DI 시술 횟수', '총 임신 횟수',\n",
       "       'IVF 임신 횟수', 'DI 임신 횟수', '총 출산 횟수', 'IVF 출산 횟수', 'DI 출산 횟수', '정자 출처',\n",
       "       '정자 기증자 나이'],\n",
       "      dtype='object')"
      ]
     },
     "execution_count": 548,
     "metadata": {},
     "output_type": "execute_result"
    }
   ],
   "source": [
    "train.select_dtypes(include=['object']).columns"
   ]
  },
  {
   "cell_type": "code",
   "execution_count": 549,
   "id": "2d4befc5-5518-4c5e-904a-ecf136d77a3e",
   "metadata": {
    "colab": {
     "base_uri": "https://localhost:8080/",
     "height": 335
    },
    "id": "2d4befc5-5518-4c5e-904a-ecf136d77a3e",
    "outputId": "85f6ed90-ab29-464f-be29-bc0319d5c0f5"
   },
   "outputs": [
    {
     "data": {
      "text/plain": [
       "시술 시기 코드\n",
       "TRDQAZ    38966\n",
       "TRCMWS    38090\n",
       "TRYBLT    36713\n",
       "TRVNRY    36171\n",
       "TRJXFG    36030\n",
       "TRZKPL    35544\n",
       "TRXQMD    34830\n",
       "Name: count, dtype: int64"
      ]
     },
     "execution_count": 549,
     "metadata": {},
     "output_type": "execute_result"
    }
   ],
   "source": [
    "train['시술 시기 코드'].value_counts()"
   ]
  },
  {
   "cell_type": "code",
   "execution_count": 550,
   "id": "fa46e82d-e697-42d9-84f2-df05cdd304ed",
   "metadata": {
    "colab": {
     "base_uri": "https://localhost:8080/",
     "height": 335
    },
    "id": "fa46e82d-e697-42d9-84f2-df05cdd304ed",
    "outputId": "689142c0-36a7-4a14-a991-3f8cf0e26ea3"
   },
   "outputs": [
    {
     "data": {
      "text/plain": [
       "시술 시기 코드\n",
       "TRCMWS    0.257417\n",
       "TRDQAZ    0.245419\n",
       "TRJXFG    0.266278\n",
       "TRVNRY    0.259794\n",
       "TRXQMD    0.256130\n",
       "TRYBLT    0.269087\n",
       "TRZKPL    0.255120\n",
       "Name: 임신 성공 여부, dtype: float64"
      ]
     },
     "execution_count": 550,
     "metadata": {},
     "output_type": "execute_result"
    }
   ],
   "source": [
    "train.groupby('시술 시기 코드')['임신 성공 여부'].mean()"
   ]
  },
  {
   "cell_type": "code",
   "execution_count": 551,
   "id": "be747931-ad38-442d-9abf-01883e9a41f0",
   "metadata": {
    "colab": {
     "base_uri": "https://localhost:8080/",
     "height": 335
    },
    "id": "be747931-ad38-442d-9abf-01883e9a41f0",
    "outputId": "8371db75-9f70-4d57-d4fb-b95f7beb42ab"
   },
   "outputs": [
    {
     "data": {
      "text/plain": [
       "시술 시기 코드\n",
       "TRDQAZ    13610\n",
       "TRCMWS    13392\n",
       "TRYBLT    12929\n",
       "TRZKPL    12793\n",
       "TRJXFG    12764\n",
       "TRVNRY    12560\n",
       "TRXQMD    12019\n",
       "Name: count, dtype: int64"
      ]
     },
     "execution_count": 551,
     "metadata": {},
     "output_type": "execute_result"
    }
   ],
   "source": [
    "test['시술 시기 코드'].value_counts()"
   ]
  },
  {
   "cell_type": "markdown",
   "id": "4afe0ec2-a069-4157-87d6-b82206cf7eef",
   "metadata": {
    "id": "4afe0ec2-a069-4157-87d6-b82206cf7eef"
   },
   "source": [
    "#### **시술 시기 코드 제외**\n",
    "시술 시기 코드의 경우 적절히 분배되어 있고, 시술 시기 코드 별 임신 성공 여부에 큰 차이가 없음\n",
    "\n",
    "따라서 해당 열을 제외"
   ]
  },
  {
   "cell_type": "code",
   "execution_count": 552,
   "id": "3d0626da-3b9c-4a8e-a1f6-4c36ff46ef65",
   "metadata": {
    "id": "3d0626da-3b9c-4a8e-a1f6-4c36ff46ef65"
   },
   "outputs": [],
   "source": [
    "train.drop('시술 시기 코드',axis=1,inplace=True)\n",
    "test.drop('시술 시기 코드',axis=1,inplace=True)"
   ]
  },
  {
   "cell_type": "code",
   "execution_count": 554,
   "id": "b499ecba-ce10-41df-91fc-799dc12e9efd",
   "metadata": {},
   "outputs": [
    {
     "data": {
      "text/plain": [
       "배란 유도 유형\n",
       "기록되지 않은 시행      194427\n",
       "알 수 없음           61915\n",
       "세트로타이드 (억제제)         1\n",
       "생식선 자극 호르몬           1\n",
       "Name: count, dtype: int64"
      ]
     },
     "execution_count": 554,
     "metadata": {},
     "output_type": "execute_result"
    }
   ],
   "source": [
    "train['배란 유도 유형'].value_counts()"
   ]
  },
  {
   "cell_type": "code",
   "execution_count": 555,
   "id": "e39a670a-705f-48eb-8996-bbab13d5f05e",
   "metadata": {},
   "outputs": [
    {
     "data": {
      "text/plain": [
       "배란 유도 유형\n",
       "기록되지 않은 시행    68599\n",
       "알 수 없음        21468\n",
       "Name: count, dtype: int64"
      ]
     },
     "execution_count": 555,
     "metadata": {},
     "output_type": "execute_result"
    }
   ],
   "source": [
    "test['배란 유도 유형'].value_counts()"
   ]
  },
  {
   "cell_type": "code",
   "execution_count": 556,
   "id": "a4c6e1e1-e5ea-4d13-93cf-e92df59e490c",
   "metadata": {
    "id": "a4c6e1e1-e5ea-4d13-93cf-e92df59e490c"
   },
   "outputs": [],
   "source": [
    "# 따라서 배란 유도 유형 drop -> 의미 있는 값이 2개 밖에 없음\n",
    "train.drop('배란 유도 유형', inplace=True, axis=1)\n",
    "test.drop('배란 유도 유형', inplace=True, axis=1)"
   ]
  },
  {
   "cell_type": "markdown",
   "id": "flFP_Sv9j4o4",
   "metadata": {
    "id": "flFP_Sv9j4o4"
   },
   "source": [
    "#### **특정 시술 유형 -> DI, GIFT drop**\n",
    "- test에 없음"
   ]
  },
  {
   "cell_type": "code",
   "execution_count": null,
   "id": "08bcf369-1798-4f47-89fd-10dfbda323c3",
   "metadata": {
    "id": "08bcf369-1798-4f47-89fd-10dfbda323c3"
   },
   "outputs": [],
   "source": [
    "# DI (기증 정자 주입)은 성공 여부가 0\n",
    "# 하지만 test 데이터에는 해당 데이터가 없음\n",
    "# 그럼 DI가 있는 row를 드롭할까?\n",
    "train = train[train['특정 시술 유형'] != 'DI']"
   ]
  },
  {
   "cell_type": "markdown",
   "id": "gV1fs5FAkFOm",
   "metadata": {
    "id": "gV1fs5FAkFOm"
   },
   "source": [
    "#### **배아 생성 주요 이유 -> 현재 시술용 or not으로**"
   ]
  },
  {
   "cell_type": "code",
   "execution_count": 559,
   "id": "76a323bc-5129-4ed9-ab8b-ca7387ceeed4",
   "metadata": {
    "colab": {
     "base_uri": "https://localhost:8080/",
     "height": 523
    },
    "id": "76a323bc-5129-4ed9-ab8b-ca7387ceeed4",
    "outputId": "200ea28b-b9cc-4e4a-952f-9b7c6da0bee4"
   },
   "outputs": [
    {
     "data": {
      "text/plain": [
       "배아 생성 주요 이유\n",
       "현재 시술용                 233727\n",
       "배아 저장용                   9191\n",
       "기증용, 현재 시술용              3784\n",
       "난자 저장용                   1959\n",
       "기증용                      1108\n",
       "기증용, 배아 저장용               125\n",
       "배아 저장용, 현재 시술용             83\n",
       "기증용, 난자 저장용                44\n",
       "기증용, 배아 저장용, 현재 시술용        20\n",
       "난자 저장용, 배아 저장용              6\n",
       "난자 저장용, 현재 시술용              5\n",
       "연구용, 현재 시술용                 1\n",
       "난자 저장용, 배아 저장용, 연구용         1\n",
       "Name: count, dtype: int64"
      ]
     },
     "execution_count": 559,
     "metadata": {},
     "output_type": "execute_result"
    }
   ],
   "source": [
    "train['배아 생성 주요 이유'].value_counts()"
   ]
  },
  {
   "cell_type": "code",
   "execution_count": 560,
   "id": "67ff0312-858d-459a-ba6c-1593a6d55c23",
   "metadata": {
    "colab": {
     "base_uri": "https://localhost:8080/",
     "height": 460
    },
    "id": "67ff0312-858d-459a-ba6c-1593a6d55c23",
    "outputId": "58ee1a44-6eff-4f88-a845-93487bb2d89b"
   },
   "outputs": [
    {
     "data": {
      "text/plain": [
       "배아 생성 주요 이유\n",
       "현재 시술용                 82253\n",
       "배아 저장용                  3151\n",
       "기증용, 현재 시술용             1327\n",
       "난자 저장용                   664\n",
       "기증용                      384\n",
       "기증용, 배아 저장용               47\n",
       "배아 저장용, 현재 시술용            38\n",
       "기증용, 난자 저장용               19\n",
       "기증용, 배아 저장용, 현재 시술용        6\n",
       "난자 저장용, 현재 시술용             1\n",
       "난자 저장용, 배아 저장용             1\n",
       "Name: count, dtype: int64"
      ]
     },
     "execution_count": 560,
     "metadata": {},
     "output_type": "execute_result"
    }
   ],
   "source": [
    "test['배아 생성 주요 이유'].value_counts()"
   ]
  },
  {
   "cell_type": "code",
   "execution_count": 561,
   "id": "39cfaabd-547f-4259-a1b0-ea9e72f1fb1d",
   "metadata": {
    "colab": {
     "base_uri": "https://localhost:8080/"
    },
    "id": "39cfaabd-547f-4259-a1b0-ea9e72f1fb1d",
    "outputId": "d76c2841-efb1-464d-a3d4-7876597dadf2"
   },
   "outputs": [
    {
     "data": {
      "text/plain": [
       "(237620, 66)"
      ]
     },
     "execution_count": 561,
     "metadata": {},
     "output_type": "execute_result"
    }
   ],
   "source": [
    "train[train['배아 생성 주요 이유'].str.contains('현재 시술용',na=False)].shape"
   ]
  },
  {
   "cell_type": "code",
   "execution_count": 562,
   "id": "74fb77ee-ffd1-416d-81ed-293835924a2c",
   "metadata": {
    "colab": {
     "base_uri": "https://localhost:8080/",
     "height": 523
    },
    "id": "74fb77ee-ffd1-416d-81ed-293835924a2c",
    "outputId": "a59976e7-2871-4e89-dc0f-de8ca4ff435c"
   },
   "outputs": [
    {
     "data": {
      "text/plain": [
       "배아 생성 주요 이유\n",
       "기증용                    0.000000\n",
       "기증용, 난자 저장용            0.000000\n",
       "기증용, 배아 저장용            0.000000\n",
       "기증용, 배아 저장용, 현재 시술용    0.350000\n",
       "기증용, 현재 시술용            0.379757\n",
       "난자 저장용                 0.000000\n",
       "난자 저장용, 배아 저장용         0.000000\n",
       "난자 저장용, 배아 저장용, 연구용    0.000000\n",
       "난자 저장용, 현재 시술용         0.200000\n",
       "배아 저장용                 0.000870\n",
       "배아 저장용, 현재 시술용         0.265060\n",
       "연구용, 현재 시술용            0.000000\n",
       "현재 시술용                 0.273571\n",
       "Name: 임신 성공 여부, dtype: float64"
      ]
     },
     "execution_count": 562,
     "metadata": {},
     "output_type": "execute_result"
    }
   ],
   "source": [
    "train.groupby('배아 생성 주요 이유')['임신 성공 여부'].mean()"
   ]
  },
  {
   "cell_type": "code",
   "execution_count": 563,
   "id": "cf49085d-46af-4a49-a25b-385996dc107c",
   "metadata": {
    "colab": {
     "base_uri": "https://localhost:8080/"
    },
    "id": "cf49085d-46af-4a49-a25b-385996dc107c",
    "outputId": "9127938b-7a37-4e56-96e0-4559d5720311"
   },
   "outputs": [
    {
     "data": {
      "text/plain": [
       "0.1289348171701113"
      ]
     },
     "execution_count": 563,
     "metadata": {},
     "output_type": "execute_result"
    }
   ],
   "source": [
    "train[train['배아 생성 주요 이유'].isna()]['임신 성공 여부'].mean()"
   ]
  },
  {
   "cell_type": "markdown",
   "id": "d5c307a4-2e0a-4c25-8a6a-e4d853c9ce37",
   "metadata": {
    "id": "d5c307a4-2e0a-4c25-8a6a-e4d853c9ce37"
   },
   "source": [
    "현재 시술 용만 배아 생성 주요 이유 = 1 을 할지, 아니면 현재 시술 용이 포함된 걸 모두 배아 생성 주요 이유 = 0 을 할지 고민했는데 (아닌 건 0으로)\n",
    "\n",
    "배아 생성 주요 이유에 현재 시술용이 포함되어 있는 것과 아닌 것에 임신 성공 여부 차이가 많이 남\n",
    "\n",
    "또한 배아 생성 주요 이유가 NaN 값인 건 그 중간 정도 임신 성공 여부 평균값을 가짐\n",
    "\n",
    "나중에 scaling을 한다고 했을 때 모든 값들이 0 ~ 1 사이, 또는 -1 ~ 1 사이의 값들이어야 하므로\n",
    "\n",
    "배아 생성 주요 이유에 현재 시술용이 포함되면 1, 아니면 0, NaN이면 0.5 부여"
   ]
  },
  {
   "cell_type": "code",
   "execution_count": 564,
   "id": "d6f957f1-49ba-4e8c-8a8c-820921ed6931",
   "metadata": {
    "colab": {
     "base_uri": "https://localhost:8080/"
    },
    "id": "d6f957f1-49ba-4e8c-8a8c-820921ed6931",
    "outputId": "91d00774-3ebd-4f92-f2dd-313dd4e53a7c"
   },
   "outputs": [
    {
     "data": {
      "text/plain": [
       "(6290, 66)"
      ]
     },
     "execution_count": 564,
     "metadata": {},
     "output_type": "execute_result"
    }
   ],
   "source": [
    "train[train['배아 생성 주요 이유'].isna()].shape"
   ]
  },
  {
   "cell_type": "code",
   "execution_count": 565,
   "id": "81b11575-22e2-4034-a400-fef8f0bcc4dd",
   "metadata": {
    "id": "81b11575-22e2-4034-a400-fef8f0bcc4dd"
   },
   "outputs": [],
   "source": [
    "train['현재 시술용 여부']=0.0\n",
    "train.loc[train['배아 생성 주요 이유'].isna(),'현재 시술용 여부']=0.5"
   ]
  },
  {
   "cell_type": "code",
   "execution_count": 566,
   "id": "142f9d3d-7302-478a-8b3e-104528b676c2",
   "metadata": {
    "colab": {
     "base_uri": "https://localhost:8080/",
     "height": 178
    },
    "id": "142f9d3d-7302-478a-8b3e-104528b676c2",
    "outputId": "07716059-4be8-4f8c-98dd-bbd8dfb598ba"
   },
   "outputs": [
    {
     "data": {
      "text/plain": [
       "현재 시술용 여부\n",
       "0.0    250054\n",
       "0.5      6290\n",
       "Name: count, dtype: int64"
      ]
     },
     "execution_count": 566,
     "metadata": {},
     "output_type": "execute_result"
    }
   ],
   "source": [
    "train['현재 시술용 여부'].value_counts()"
   ]
  },
  {
   "cell_type": "code",
   "execution_count": 567,
   "id": "c5ae9655-1505-4eec-a268-ef50e3701d65",
   "metadata": {
    "id": "c5ae9655-1505-4eec-a268-ef50e3701d65"
   },
   "outputs": [],
   "source": [
    "train.loc[train['배아 생성 주요 이유'].str.contains('현재 시술용',na=False),'현재 시술용 여부']=1"
   ]
  },
  {
   "cell_type": "code",
   "execution_count": 568,
   "id": "2b38ea06-7c01-47e2-859d-d5a7aabe1c66",
   "metadata": {
    "colab": {
     "base_uri": "https://localhost:8080/",
     "height": 209
    },
    "id": "2b38ea06-7c01-47e2-859d-d5a7aabe1c66",
    "outputId": "d547ee0b-f935-4c4c-b272-daeaf91386d9"
   },
   "outputs": [
    {
     "data": {
      "text/plain": [
       "현재 시술용 여부\n",
       "1.0    237620\n",
       "0.0     12434\n",
       "0.5      6290\n",
       "Name: count, dtype: int64"
      ]
     },
     "execution_count": 568,
     "metadata": {},
     "output_type": "execute_result"
    }
   ],
   "source": [
    "train.drop('배아 생성 주요 이유',inplace=True,axis=1)\n",
    "train['현재 시술용 여부'].value_counts()"
   ]
  },
  {
   "cell_type": "code",
   "execution_count": 569,
   "id": "7ce7cafb-f3f5-4b94-b836-3b8bae712ac8",
   "metadata": {
    "id": "7ce7cafb-f3f5-4b94-b836-3b8bae712ac8"
   },
   "outputs": [],
   "source": [
    "test['현재 시술용 여부']=0.0\n",
    "test.loc[test['배아 생성 주요 이유'].isna(),'현재 시술용 여부']=0.5\n",
    "test.loc[test['배아 생성 주요 이유'].str.contains('현재 시술용',na=False),'현재 시술용 여부']=1"
   ]
  },
  {
   "cell_type": "code",
   "execution_count": 570,
   "id": "389e6647-12fb-4341-a4b2-cf0a73c781f7",
   "metadata": {
    "colab": {
     "base_uri": "https://localhost:8080/",
     "height": 209
    },
    "id": "389e6647-12fb-4341-a4b2-cf0a73c781f7",
    "outputId": "c1aa3f68-707c-4a88-a514-02475b8d0f3b"
   },
   "outputs": [
    {
     "data": {
      "text/plain": [
       "현재 시술용 여부\n",
       "1.0    83625\n",
       "0.0     4266\n",
       "0.5     2176\n",
       "Name: count, dtype: int64"
      ]
     },
     "execution_count": 570,
     "metadata": {},
     "output_type": "execute_result"
    }
   ],
   "source": [
    "test.drop('배아 생성 주요 이유',inplace=True,axis=1)\n",
    "test['현재 시술용 여부'].value_counts()"
   ]
  },
  {
   "cell_type": "markdown",
   "id": "u4nh2dpHkMQl",
   "metadata": {
    "id": "u4nh2dpHkMQl"
   },
   "source": [
    "#### **총 시술 횟수 숫자형으로**"
   ]
  },
  {
   "cell_type": "code",
   "execution_count": 571,
   "id": "e7cc83d3-7539-418f-952b-b0679a5a9ab4",
   "metadata": {
    "colab": {
     "base_uri": "https://localhost:8080/",
     "height": 335
    },
    "id": "e7cc83d3-7539-418f-952b-b0679a5a9ab4",
    "outputId": "17a0e21d-e7f5-4943-ad51-1d1e87244b60"
   },
   "outputs": [
    {
     "data": {
      "text/plain": [
       "총 시술 횟수\n",
       "0회       0.290990\n",
       "1회       0.249965\n",
       "2회       0.244153\n",
       "3회       0.236354\n",
       "4회       0.227792\n",
       "5회       0.215792\n",
       "6회 이상    0.203315\n",
       "Name: 임신 성공 여부, dtype: float64"
      ]
     },
     "execution_count": 571,
     "metadata": {},
     "output_type": "execute_result"
    }
   ],
   "source": [
    "train.groupby('총 시술 횟수')['임신 성공 여부'].mean()"
   ]
  },
  {
   "cell_type": "code",
   "execution_count": 576,
   "id": "a200079c-2744-4bf9-95e2-57dd41b00c8f",
   "metadata": {},
   "outputs": [
    {
     "data": {
      "text/plain": [
       "총 시술 횟수\n",
       "0    0.290990\n",
       "1    0.249965\n",
       "2    0.244153\n",
       "3    0.236354\n",
       "4    0.227792\n",
       "5    0.215792\n",
       "6    0.203315\n",
       "Name: 임신 성공 여부, dtype: float64"
      ]
     },
     "execution_count": 576,
     "metadata": {},
     "output_type": "execute_result"
    }
   ],
   "source": [
    "train.groupby('총 시술 횟수')['임신 성공 여부'].mean()"
   ]
  },
  {
   "cell_type": "markdown",
   "id": "b4d01678-352f-4c25-8ce6-38f660965139",
   "metadata": {},
   "source": [
    "총 시술 횟수가 증가할 수록, 임신 성공 여부가 꾸준하게 감소함"
   ]
  },
  {
   "cell_type": "code",
   "execution_count": 572,
   "id": "4dec9b9f-9244-4ad2-b0fc-3743b8eed3ce",
   "metadata": {
    "id": "4dec9b9f-9244-4ad2-b0fc-3743b8eed3ce"
   },
   "outputs": [],
   "source": [
    "# 상관관계 분석을 위해 일단 숫자형으로 바꾸기\n",
    "train['총 시술 횟수'] = train['총 시술 횟수'].str.extract('(\\d+)').astype(int)"
   ]
  },
  {
   "cell_type": "code",
   "execution_count": 573,
   "id": "376e9a4e-912b-4ed2-b2f3-572bcae4270f",
   "metadata": {
    "id": "376e9a4e-912b-4ed2-b2f3-572bcae4270f"
   },
   "outputs": [],
   "source": [
    "test['총 시술 횟수'] = test['총 시술 횟수'].str.extract('(\\d+)').astype(int)"
   ]
  },
  {
   "cell_type": "code",
   "execution_count": 574,
   "id": "96ca9cf5-e93a-4f05-81e2-9736e5226d1a",
   "metadata": {
    "colab": {
     "base_uri": "https://localhost:8080/",
     "height": 112
    },
    "id": "96ca9cf5-e93a-4f05-81e2-9736e5226d1a",
    "outputId": "f1575ece-a245-4d2a-921a-e6811bb3de64"
   },
   "outputs": [
    {
     "data": {
      "text/html": [
       "<div>\n",
       "<style scoped>\n",
       "    .dataframe tbody tr th:only-of-type {\n",
       "        vertical-align: middle;\n",
       "    }\n",
       "\n",
       "    .dataframe tbody tr th {\n",
       "        vertical-align: top;\n",
       "    }\n",
       "\n",
       "    .dataframe thead th {\n",
       "        text-align: right;\n",
       "    }\n",
       "</style>\n",
       "<table border=\"1\" class=\"dataframe\">\n",
       "  <thead>\n",
       "    <tr style=\"text-align: right;\">\n",
       "      <th></th>\n",
       "      <th>총 시술 횟수</th>\n",
       "      <th>임신 성공 여부</th>\n",
       "    </tr>\n",
       "  </thead>\n",
       "  <tbody>\n",
       "    <tr>\n",
       "      <th>총 시술 횟수</th>\n",
       "      <td>1.000000</td>\n",
       "      <td>-0.058924</td>\n",
       "    </tr>\n",
       "    <tr>\n",
       "      <th>임신 성공 여부</th>\n",
       "      <td>-0.058924</td>\n",
       "      <td>1.000000</td>\n",
       "    </tr>\n",
       "  </tbody>\n",
       "</table>\n",
       "</div>"
      ],
      "text/plain": [
       "           총 시술 횟수  임신 성공 여부\n",
       "총 시술 횟수   1.000000 -0.058924\n",
       "임신 성공 여부 -0.058924  1.000000"
      ]
     },
     "execution_count": 574,
     "metadata": {},
     "output_type": "execute_result"
    }
   ],
   "source": [
    "train[['총 시술 횟수', '임신 성공 여부']].corr()"
   ]
  },
  {
   "cell_type": "code",
   "execution_count": 575,
   "id": "f02f18d1-091c-4eca-b643-9d7287e6fe1f",
   "metadata": {
    "colab": {
     "base_uri": "https://localhost:8080/",
     "height": 112
    },
    "id": "f02f18d1-091c-4eca-b643-9d7287e6fe1f",
    "outputId": "44f7924d-c82d-4fdb-8867-6b5cbae1708e"
   },
   "outputs": [
    {
     "data": {
      "text/html": [
       "<div>\n",
       "<style scoped>\n",
       "    .dataframe tbody tr th:only-of-type {\n",
       "        vertical-align: middle;\n",
       "    }\n",
       "\n",
       "    .dataframe tbody tr th {\n",
       "        vertical-align: top;\n",
       "    }\n",
       "\n",
       "    .dataframe thead th {\n",
       "        text-align: right;\n",
       "    }\n",
       "</style>\n",
       "<table border=\"1\" class=\"dataframe\">\n",
       "  <thead>\n",
       "    <tr style=\"text-align: right;\">\n",
       "      <th></th>\n",
       "      <th>총 시술 횟수</th>\n",
       "      <th>임신 성공 여부</th>\n",
       "    </tr>\n",
       "  </thead>\n",
       "  <tbody>\n",
       "    <tr>\n",
       "      <th>총 시술 횟수</th>\n",
       "      <td>1.0000</td>\n",
       "      <td>-0.0624</td>\n",
       "    </tr>\n",
       "    <tr>\n",
       "      <th>임신 성공 여부</th>\n",
       "      <td>-0.0624</td>\n",
       "      <td>1.0000</td>\n",
       "    </tr>\n",
       "  </tbody>\n",
       "</table>\n",
       "</div>"
      ],
      "text/plain": [
       "          총 시술 횟수  임신 성공 여부\n",
       "총 시술 횟수    1.0000   -0.0624\n",
       "임신 성공 여부  -0.0624    1.0000"
      ]
     },
     "execution_count": 575,
     "metadata": {},
     "output_type": "execute_result"
    }
   ],
   "source": [
    "train[['총 시술 횟수', '임신 성공 여부']].corr(method='spearman')"
   ]
  },
  {
   "cell_type": "markdown",
   "id": "K-HdlSaskQWP",
   "metadata": {
    "id": "K-HdlSaskQWP"
   },
   "source": [
    "#### **클리닉 내 총 시술 횟수 숫자형으로**"
   ]
  },
  {
   "cell_type": "code",
   "execution_count": 577,
   "id": "17ac0bef-8ba9-4686-82f0-1a2fda462e26",
   "metadata": {},
   "outputs": [
    {
     "data": {
      "text/plain": [
       "클리닉 내 총 시술 횟수\n",
       "0회       0.282920\n",
       "1회       0.245389\n",
       "2회       0.237934\n",
       "3회       0.232445\n",
       "4회       0.221901\n",
       "5회       0.207561\n",
       "6회 이상    0.198513\n",
       "Name: 임신 성공 여부, dtype: float64"
      ]
     },
     "execution_count": 577,
     "metadata": {},
     "output_type": "execute_result"
    }
   ],
   "source": [
    "train.groupby('클리닉 내 총 시술 횟수')['임신 성공 여부'].mean()"
   ]
  },
  {
   "cell_type": "markdown",
   "id": "c2b772f0-3d03-42db-a060-bd67a45cf6b7",
   "metadata": {},
   "source": [
    "마찬가지로 클리닉 내 총 시술 횟수가 증가할 수록 임신 성공 여부가 감소함 "
   ]
  },
  {
   "cell_type": "code",
   "execution_count": 578,
   "id": "6fc8b56d-1182-4f9d-8672-3b8dfaa6c9f1",
   "metadata": {
    "id": "6fc8b56d-1182-4f9d-8672-3b8dfaa6c9f1"
   },
   "outputs": [],
   "source": [
    "# 어느 정도 관계가 보이긴 함.. 냅두기\n",
    "train.groupby('클리닉 내 총 시술 횟수')['임신 성공 여부'].mean()\n",
    "# 마찬가지로 어느 정도 관계가 보이긴 함.. 냅두기 이때 숫자형으로 바꾸기\n",
    "train['클리닉 내 총 시술 횟수'] = train['클리닉 내 총 시술 횟수'].str.extract('(\\d+)').astype(int)"
   ]
  },
  {
   "cell_type": "code",
   "execution_count": 579,
   "id": "f9482a04-5c81-4639-baf7-e1e1eee19676",
   "metadata": {
    "id": "f9482a04-5c81-4639-baf7-e1e1eee19676"
   },
   "outputs": [],
   "source": [
    "test['클리닉 내 총 시술 횟수']=test['클리닉 내 총 시술 횟수'].str.extract(r'(\\d+)').astype(int)"
   ]
  },
  {
   "cell_type": "markdown",
   "id": "XbkhqM0xkUjC",
   "metadata": {
    "id": "XbkhqM0xkUjC"
   },
   "source": [
    "#### **IVF 시술 횟수 숫자형으로**"
   ]
  },
  {
   "cell_type": "code",
   "execution_count": 580,
   "id": "a2aff453-9271-40f0-bd65-55cc2d7fc65f",
   "metadata": {
    "colab": {
     "base_uri": "https://localhost:8080/",
     "height": 335
    },
    "id": "a2aff453-9271-40f0-bd65-55cc2d7fc65f",
    "outputId": "9cb89932-78eb-4b8c-9ac3-aa32d87eb75e"
   },
   "outputs": [
    {
     "data": {
      "text/plain": [
       "IVF 시술 횟수\n",
       "0회       0.286261\n",
       "1회       0.250583\n",
       "2회       0.245443\n",
       "3회       0.235524\n",
       "4회       0.227452\n",
       "5회       0.212766\n",
       "6회 이상    0.196082\n",
       "Name: 임신 성공 여부, dtype: float64"
      ]
     },
     "execution_count": 580,
     "metadata": {},
     "output_type": "execute_result"
    }
   ],
   "source": [
    "train.groupby('IVF 시술 횟수')['임신 성공 여부'].mean()"
   ]
  },
  {
   "cell_type": "markdown",
   "id": "f4c3891d-cd79-4786-9bec-3f6ff4369274",
   "metadata": {},
   "source": [
    "IVF 시술 횟수가 증가할 수록 임신 성공 여부가 꾸준하게 감소함"
   ]
  },
  {
   "cell_type": "code",
   "execution_count": 581,
   "id": "a649366e-57ba-4104-96a9-d259f986a8fb",
   "metadata": {
    "id": "a649366e-57ba-4104-96a9-d259f986a8fb"
   },
   "outputs": [],
   "source": [
    "# 어느 정도 선형적이 관계를 보이긴 함.. 숫자형으로만 바꾸기\n",
    "train['IVF 시술 횟수']=train['IVF 시술 횟수'].str.extract(r'(\\d+)').astype(int)\n",
    "test['IVF 시술 횟수']=test['IVF 시술 횟수'].str.extract(r'(\\d+)').astype(int)"
   ]
  },
  {
   "cell_type": "markdown",
   "id": "S88DfP2rkXWz",
   "metadata": {
    "id": "S88DfP2rkXWz"
   },
   "source": [
    "#### **DI 시술 횟수 숫자형으로**"
   ]
  },
  {
   "cell_type": "code",
   "execution_count": 582,
   "id": "3838d056-b59c-4044-aa3b-8dc20b550901",
   "metadata": {
    "colab": {
     "base_uri": "https://localhost:8080/",
     "height": 335
    },
    "id": "3838d056-b59c-4044-aa3b-8dc20b550901",
    "outputId": "aef6c57a-d217-445e-b925-8f53ebd691fc"
   },
   "outputs": [
    {
     "data": {
      "text/plain": [
       "DI 시술 횟수\n",
       "0회       0.260655\n",
       "1회       0.192123\n",
       "2회       0.217232\n",
       "3회       0.242298\n",
       "4회       0.220614\n",
       "5회       0.188177\n",
       "6회 이상    0.236430\n",
       "Name: 임신 성공 여부, dtype: float64"
      ]
     },
     "execution_count": 582,
     "metadata": {},
     "output_type": "execute_result"
    }
   ],
   "source": [
    "train.groupby('DI 시술 횟수')['임신 성공 여부'].mean()"
   ]
  },
  {
   "cell_type": "markdown",
   "id": "34bbc258-b356-4489-ab8d-30b250b8cecf",
   "metadata": {},
   "source": [
    "이건 DI 시술 횟수가 증가하더라고, 임신 성공 여부 평균은 감소하지 않음"
   ]
  },
  {
   "cell_type": "code",
   "execution_count": 585,
   "id": "8c3a7a6c-921b-47bc-ba93-1a6724e0d86a",
   "metadata": {},
   "outputs": [
    {
     "name": "stdout",
     "output_type": "stream",
     "text": [
      "0.26065545372806836\n",
      "0.2181333717413222\n"
     ]
    }
   ],
   "source": [
    "print(train[train['DI 시술 횟수']=='0회']['임신 성공 여부'].mean())\n",
    "print(train[train['DI 시술 횟수']!='0회']['임신 성공 여부'].mean())"
   ]
  },
  {
   "cell_type": "code",
   "execution_count": 586,
   "id": "70b13563-19bc-4c33-a233-81c474e4423a",
   "metadata": {},
   "outputs": [],
   "source": [
    "# 이번엔 그럼 한번 DI 시술 횟수 -> DI 시술 여부로 바꿔보기\n",
    "train['DI 시술 여부']=1.0\n",
    "test['DI 시술 여부']=1.0\n",
    "test.loc[test['DI 시술 횟수']=='0회','DI 시술 여부']=0.0\n",
    "train.loc[train['DI 시술 횟수']=='0회','DI 시술 여부']=0.0"
   ]
  },
  {
   "cell_type": "code",
   "execution_count": 589,
   "id": "79105e70-cb24-4c62-98ec-b4a682e9b096",
   "metadata": {},
   "outputs": [],
   "source": [
    "train.drop('DI 시술 횟수',axis=1,inplace=True)\n",
    "test.drop('DI 시술 횟수',axis=1,inplace=True)"
   ]
  },
  {
   "cell_type": "markdown",
   "id": "3uHu92c0kbS2",
   "metadata": {
    "id": "3uHu92c0kbS2"
   },
   "source": [
    "#### **IVF 출산 횟수 숫자형으로**"
   ]
  },
  {
   "cell_type": "code",
   "execution_count": 591,
   "id": "9deeaa7c-95d7-4da1-bcef-e7733198dee9",
   "metadata": {
    "colab": {
     "base_uri": "https://localhost:8080/",
     "height": 303
    },
    "id": "9deeaa7c-95d7-4da1-bcef-e7733198dee9",
    "outputId": "1dcd8fff-a70e-4c57-9b8f-3313f3f4a614",
    "scrolled": true
   },
   "outputs": [
    {
     "data": {
      "text/plain": [
       "IVF 출산 횟수\n",
       "0회    0.256548\n",
       "1회    0.269881\n",
       "2회    0.262741\n",
       "3회    0.299270\n",
       "4회    0.230769\n",
       "5회    0.000000\n",
       "Name: 임신 성공 여부, dtype: float64"
      ]
     },
     "execution_count": 591,
     "metadata": {},
     "output_type": "execute_result"
    }
   ],
   "source": [
    "train.groupby('IVF 출산 횟수')['임신 성공 여부'].mean()"
   ]
  },
  {
   "cell_type": "code",
   "execution_count": 592,
   "id": "7d2d41f9-3a71-4c87-8fdb-7fe408d7d000",
   "metadata": {
    "colab": {
     "base_uri": "https://localhost:8080/",
     "height": 272
    },
    "id": "7d2d41f9-3a71-4c87-8fdb-7fe408d7d000",
    "outputId": "404eb9ed-4349-4673-995b-aba41e6018dc"
   },
   "outputs": [
    {
     "data": {
      "text/plain": [
       "IVF 출산 횟수\n",
       "0회    77480\n",
       "1회    11874\n",
       "2회      666\n",
       "3회       42\n",
       "4회        5\n",
       "Name: count, dtype: int64"
      ]
     },
     "execution_count": 592,
     "metadata": {},
     "output_type": "execute_result"
    }
   ],
   "source": [
    "test['IVF 출산 횟수'].value_counts()"
   ]
  },
  {
   "cell_type": "markdown",
   "id": "67800109-744c-4e48-aad2-f31ddc6f49ae",
   "metadata": {},
   "source": [
    "test에는 IVF 출산 횟수가 5회인게 없음"
   ]
  },
  {
   "cell_type": "code",
   "execution_count": 594,
   "id": "c4ca109f-fd5b-499b-992f-9d59b78f4102",
   "metadata": {},
   "outputs": [],
   "source": [
    "# 이번에도 딱히 선형적인 관계는 안보이므로 0,1로 그럼 한번 \n",
    "train['IVF 출산 여부']=1.0\n",
    "test['IVF 출산 여부']=1.0\n",
    "test.loc[test['IVF 출산 횟수']=='0회','IVF 출산 여부']=0.0\n",
    "train.loc[train['IVF 출산 횟수']=='0회','IVF 출산 여부']=0.0"
   ]
  },
  {
   "cell_type": "code",
   "execution_count": 598,
   "id": "f2486427-524f-4115-8e8f-eed107d4e2d3",
   "metadata": {},
   "outputs": [],
   "source": [
    "train.drop('IVF 출산 횟수',axis=1,inplace=True)\n",
    "test.drop('IVF 출산 횟수',axis=1,inplace=True)"
   ]
  },
  {
   "cell_type": "markdown",
   "id": "H7L9k9iIkgUG",
   "metadata": {
    "id": "H7L9k9iIkgUG"
   },
   "source": [
    "#### **총 임신 횟수 숫자형으로**"
   ]
  },
  {
   "cell_type": "code",
   "execution_count": 599,
   "id": "628732e2-559b-45f8-9889-1589bf03e667",
   "metadata": {
    "colab": {
     "base_uri": "https://localhost:8080/",
     "height": 335
    },
    "id": "628732e2-559b-45f8-9889-1589bf03e667",
    "outputId": "ae0b4bad-d172-4921-c69e-4bf4217d1ca2"
   },
   "outputs": [
    {
     "data": {
      "text/plain": [
       "총 임신 횟수\n",
       "0회       0.257459\n",
       "1회       0.262908\n",
       "2회       0.257925\n",
       "3회       0.245308\n",
       "4회       0.215054\n",
       "5회       0.250000\n",
       "6회 이상    0.333333\n",
       "Name: 임신 성공 여부, dtype: float64"
      ]
     },
     "execution_count": 599,
     "metadata": {},
     "output_type": "execute_result"
    }
   ],
   "source": [
    "train.groupby('총 임신 횟수')['임신 성공 여부'].mean()"
   ]
  },
  {
   "cell_type": "code",
   "execution_count": 600,
   "id": "f018d43d-2417-4f61-9a72-e9981d84d1b7",
   "metadata": {
    "colab": {
     "base_uri": "https://localhost:8080/",
     "height": 335
    },
    "id": "f018d43d-2417-4f61-9a72-e9981d84d1b7",
    "outputId": "b3411b99-2a4e-4b3a-c8e9-02c2e89207fc"
   },
   "outputs": [
    {
     "data": {
      "text/plain": [
       "총 임신 횟수\n",
       "0회       72216\n",
       "1회       15386\n",
       "2회        2127\n",
       "3회         297\n",
       "4회          37\n",
       "5회           3\n",
       "6회 이상        1\n",
       "Name: count, dtype: int64"
      ]
     },
     "execution_count": 600,
     "metadata": {},
     "output_type": "execute_result"
    }
   ],
   "source": [
    "test.value_counts('총 임신 횟수')"
   ]
  },
  {
   "cell_type": "code",
   "execution_count": 601,
   "id": "3aedbcc1-fe97-40b0-aca7-495b12cd7fb2",
   "metadata": {
    "id": "3aedbcc1-fe97-40b0-aca7-495b12cd7fb2"
   },
   "outputs": [],
   "source": [
    "train['총 임신 횟수']=train['총 임신 횟수'].str.extract(r'(\\d+)').astype(int)\n",
    "test['총 임신 횟수']=test['총 임신 횟수'].str.extract(r'(\\d+)').astype(int)"
   ]
  },
  {
   "cell_type": "code",
   "execution_count": 602,
   "id": "912e1a91-af00-4453-b2d9-42030a2d69d8",
   "metadata": {
    "colab": {
     "base_uri": "https://localhost:8080/",
     "height": 112
    },
    "id": "912e1a91-af00-4453-b2d9-42030a2d69d8",
    "outputId": "5313c61a-707c-44c6-997a-fba8f3676aa2"
   },
   "outputs": [
    {
     "data": {
      "text/html": [
       "<div>\n",
       "<style scoped>\n",
       "    .dataframe tbody tr th:only-of-type {\n",
       "        vertical-align: middle;\n",
       "    }\n",
       "\n",
       "    .dataframe tbody tr th {\n",
       "        vertical-align: top;\n",
       "    }\n",
       "\n",
       "    .dataframe thead th {\n",
       "        text-align: right;\n",
       "    }\n",
       "</style>\n",
       "<table border=\"1\" class=\"dataframe\">\n",
       "  <thead>\n",
       "    <tr style=\"text-align: right;\">\n",
       "      <th></th>\n",
       "      <th>총 임신 횟수</th>\n",
       "      <th>임신 성공 여부</th>\n",
       "    </tr>\n",
       "  </thead>\n",
       "  <tbody>\n",
       "    <tr>\n",
       "      <th>총 임신 횟수</th>\n",
       "      <td>1.000000</td>\n",
       "      <td>0.002682</td>\n",
       "    </tr>\n",
       "    <tr>\n",
       "      <th>임신 성공 여부</th>\n",
       "      <td>0.002682</td>\n",
       "      <td>1.000000</td>\n",
       "    </tr>\n",
       "  </tbody>\n",
       "</table>\n",
       "</div>"
      ],
      "text/plain": [
       "           총 임신 횟수  임신 성공 여부\n",
       "총 임신 횟수   1.000000  0.002682\n",
       "임신 성공 여부  0.002682  1.000000"
      ]
     },
     "execution_count": 602,
     "metadata": {},
     "output_type": "execute_result"
    }
   ],
   "source": [
    "train[['총 임신 횟수','임신 성공 여부']].corr()"
   ]
  },
  {
   "cell_type": "markdown",
   "id": "d3ee235f-d3c4-4413-8a3a-42912115f4dc",
   "metadata": {},
   "source": [
    "일단 냅두기.."
   ]
  },
  {
   "cell_type": "markdown",
   "id": "ciXLi7p6kjrz",
   "metadata": {
    "id": "ciXLi7p6kjrz"
   },
   "source": [
    "#### **IVF 임신 횟수 숫자형으로**"
   ]
  },
  {
   "cell_type": "code",
   "execution_count": 604,
   "id": "8d6b105e-ce3b-42ab-ae26-33ac91d54cb6",
   "metadata": {
    "colab": {
     "base_uri": "https://localhost:8080/",
     "height": 335
    },
    "id": "8d6b105e-ce3b-42ab-ae26-33ac91d54cb6",
    "outputId": "1a0e074f-c87d-44fc-bef3-387c8c499c82"
   },
   "outputs": [
    {
     "data": {
      "text/plain": [
       "IVF 임신 횟수\n",
       "0회       208285\n",
       "1회        41519\n",
       "2회         5788\n",
       "3회          663\n",
       "4회           81\n",
       "5회            7\n",
       "6회 이상         1\n",
       "Name: count, dtype: int64"
      ]
     },
     "execution_count": 604,
     "metadata": {},
     "output_type": "execute_result"
    }
   ],
   "source": [
    "train['IVF 임신 횟수'].value_counts()"
   ]
  },
  {
   "cell_type": "code",
   "execution_count": 605,
   "id": "55cacd9a-c9c2-4c67-9998-804d0c71d242",
   "metadata": {
    "colab": {
     "base_uri": "https://localhost:8080/",
     "height": 303
    },
    "id": "55cacd9a-c9c2-4c67-9998-804d0c71d242",
    "outputId": "a020e010-579e-4f2f-9a5d-2d46f03c9d5d"
   },
   "outputs": [
    {
     "data": {
      "text/plain": [
       "IVF 임신 횟수\n",
       "0회    73207\n",
       "1회    14571\n",
       "2회     1981\n",
       "3회      274\n",
       "4회       31\n",
       "5회        3\n",
       "Name: count, dtype: int64"
      ]
     },
     "execution_count": 605,
     "metadata": {},
     "output_type": "execute_result"
    }
   ],
   "source": [
    "test['IVF 임신 횟수'].value_counts()"
   ]
  },
  {
   "cell_type": "code",
   "execution_count": 606,
   "id": "c77642a4-09b3-4534-9828-bb3c961d16d6",
   "metadata": {},
   "outputs": [
    {
     "data": {
      "text/plain": [
       "IVF 임신 횟수\n",
       "0회       0.256855\n",
       "1회       0.266408\n",
       "2회       0.256047\n",
       "3회       0.247360\n",
       "4회       0.234568\n",
       "5회       0.142857\n",
       "6회 이상    1.000000\n",
       "Name: 임신 성공 여부, dtype: float64"
      ]
     },
     "execution_count": 606,
     "metadata": {},
     "output_type": "execute_result"
    }
   ],
   "source": [
    "train.groupby('IVF 임신 횟수')['임신 성공 여부'].mean()"
   ]
  },
  {
   "cell_type": "code",
   "execution_count": 607,
   "id": "4aa42221-7ab3-4592-99bb-f450c7f02c36",
   "metadata": {
    "id": "4aa42221-7ab3-4592-99bb-f450c7f02c36"
   },
   "outputs": [],
   "source": [
    "train['IVF 임신 횟수'] = train['IVF 임신 횟수'].str.extract('(\\d+)').astype(int)\n",
    "test['IVF 임신 횟수'] = test['IVF 임신 횟수'].str.extract('(\\d+)').astype(int)"
   ]
  },
  {
   "cell_type": "code",
   "execution_count": 608,
   "id": "1a7b08c2-217f-4b88-b3c4-b59c02ea7180",
   "metadata": {
    "id": "1a7b08c2-217f-4b88-b3c4-b59c02ea7180"
   },
   "outputs": [],
   "source": [
    "# train에서만 임신 횟수가 6회 이상이 한개 나옴 -> 제거하기\n",
    "train=train[train['IVF 임신 횟수']!=6]"
   ]
  },
  {
   "cell_type": "code",
   "execution_count": 609,
   "id": "e571025f-e3fb-4b1a-ad7f-a8d729aff14c",
   "metadata": {
    "colab": {
     "base_uri": "https://localhost:8080/",
     "height": 303
    },
    "id": "e571025f-e3fb-4b1a-ad7f-a8d729aff14c",
    "outputId": "e9b4a870-24bc-463f-d72f-7ed7ed650eb3"
   },
   "outputs": [
    {
     "data": {
      "text/plain": [
       "IVF 임신 횟수\n",
       "0    0.256855\n",
       "1    0.266408\n",
       "2    0.256047\n",
       "3    0.247360\n",
       "4    0.234568\n",
       "5    0.142857\n",
       "Name: 임신 성공 여부, dtype: float64"
      ]
     },
     "execution_count": 609,
     "metadata": {},
     "output_type": "execute_result"
    }
   ],
   "source": [
    "train.groupby('IVF 임신 횟수')['임신 성공 여부'].mean()\n",
    "# 5회에서 급격히 떨어지는 걸 볼 수 있음"
   ]
  },
  {
   "cell_type": "markdown",
   "id": "pHaBa2kFkoMn",
   "metadata": {
    "id": "pHaBa2kFkoMn"
   },
   "source": [
    "#### **DI 임신 횟수 숫자형으로**"
   ]
  },
  {
   "cell_type": "code",
   "execution_count": 610,
   "id": "13079f0b-6705-48bf-bab7-45ffa08ed681",
   "metadata": {
    "id": "13079f0b-6705-48bf-bab7-45ffa08ed681"
   },
   "outputs": [],
   "source": [
    "train['DI 임신 횟수'] = train['DI 임신 횟수'].str.extract('(\\d+)').astype(int)\n",
    "test['DI 임신 횟수'] = test['DI 임신 횟수'].str.extract('(\\d+)').astype(int)"
   ]
  },
  {
   "cell_type": "code",
   "execution_count": 611,
   "id": "73ab07f9-f1a7-4c97-aa7b-e84fd146f0c0",
   "metadata": {
    "colab": {
     "base_uri": "https://localhost:8080/",
     "height": 303
    },
    "id": "73ab07f9-f1a7-4c97-aa7b-e84fd146f0c0",
    "outputId": "4916b5d7-a4d2-43a2-a01e-09561a5d54e2"
   },
   "outputs": [
    {
     "data": {
      "text/plain": [
       "DI 임신 횟수\n",
       "0    0.258849\n",
       "1    0.209143\n",
       "2    0.274457\n",
       "3    0.208333\n",
       "4    0.000000\n",
       "5    0.333333\n",
       "Name: 임신 성공 여부, dtype: float64"
      ]
     },
     "execution_count": 611,
     "metadata": {},
     "output_type": "execute_result"
    }
   ],
   "source": [
    "train.groupby('DI 임신 횟수')['임신 성공 여부'].mean()\n",
    "# 4회에서 임신 성공 여부가 모두 0이 되는 특이점..(row는 5개 존재함)"
   ]
  },
  {
   "cell_type": "code",
   "execution_count": 614,
   "id": "20ca3b9c-0dcb-4225-9369-0085af1523f0",
   "metadata": {},
   "outputs": [
    {
     "data": {
      "text/plain": [
       "DI 임신 횟수\n",
       "0    253294\n",
       "1      2625\n",
       "2       368\n",
       "3        48\n",
       "4         5\n",
       "5         3\n",
       "Name: count, dtype: int64"
      ]
     },
     "execution_count": 614,
     "metadata": {},
     "output_type": "execute_result"
    }
   ],
   "source": [
    "train['DI 임신 횟수'].value_counts()"
   ]
  },
  {
   "cell_type": "markdown",
   "id": "feDmXE30ksQw",
   "metadata": {
    "id": "feDmXE30ksQw"
   },
   "source": [
    "#### **총 출산 횟수 숫자형으로**"
   ]
  },
  {
   "cell_type": "code",
   "execution_count": 615,
   "id": "648e1063-26a3-44be-b777-554a85a72ad3",
   "metadata": {
    "colab": {
     "base_uri": "https://localhost:8080/",
     "height": 303
    },
    "id": "648e1063-26a3-44be-b777-554a85a72ad3",
    "outputId": "df6b5012-3f48-487d-e96f-cc80a523d774"
   },
   "outputs": [
    {
     "data": {
      "text/plain": [
       "총 출산 횟수\n",
       "0회       0.256854\n",
       "1회       0.267240\n",
       "2회       0.263158\n",
       "3회       0.273810\n",
       "4회       0.230769\n",
       "5회       0.000000\n",
       "6회 이상    0.000000\n",
       "Name: 임신 성공 여부, dtype: float64"
      ]
     },
     "execution_count": 615,
     "metadata": {},
     "output_type": "execute_result"
    }
   ],
   "source": [
    "train.groupby('총 출산 횟수')['임신 성공 여부'].mean()\n",
    "# 6회 이상 값이 0이 됨 (row 는 2개)\n",
    "# test 에서 총 출산 횟수가 6회 이상 -> 임신 성공 여부를 0으로 나중에 고치기"
   ]
  },
  {
   "cell_type": "code",
   "execution_count": 616,
   "id": "b59a2499-a2d7-4281-968f-7c0025852e73",
   "metadata": {
    "colab": {
     "base_uri": "https://localhost:8080/",
     "height": 303
    },
    "id": "b59a2499-a2d7-4281-968f-7c0025852e73",
    "outputId": "38717aca-d58c-4d9d-b50e-76b4cb91e158"
   },
   "outputs": [
    {
     "data": {
      "text/plain": [
       "총 출산 횟수\n",
       "0회       76735\n",
       "1회       12548\n",
       "2회         727\n",
       "3회          51\n",
       "4회           5\n",
       "6회 이상        1\n",
       "Name: count, dtype: int64"
      ]
     },
     "execution_count": 616,
     "metadata": {},
     "output_type": "execute_result"
    }
   ],
   "source": [
    "test['총 출산 횟수'].value_counts()"
   ]
  },
  {
   "cell_type": "code",
   "execution_count": 617,
   "id": "c013e5ae-4e7a-4b41-989a-57ad344c6bb2",
   "metadata": {
    "id": "c013e5ae-4e7a-4b41-989a-57ad344c6bb2"
   },
   "outputs": [],
   "source": [
    "train['총 출산 횟수'] = train['총 출산 횟수'].str.extract('(\\d+)').astype(int)\n",
    "test['총 출산 횟수'] = test['총 출산 횟수'].str.extract('(\\d+)').astype(int)"
   ]
  },
  {
   "cell_type": "markdown",
   "id": "-nqbCu1Rkv9i",
   "metadata": {
    "id": "-nqbCu1Rkv9i"
   },
   "source": [
    "#### **DI 출산 횟수 숫자형으로**"
   ]
  },
  {
   "cell_type": "code",
   "execution_count": 618,
   "id": "34524fd8-8216-417a-b6cd-513cd17ef052",
   "metadata": {
    "colab": {
     "base_uri": "https://localhost:8080/",
     "height": 272
    },
    "id": "34524fd8-8216-417a-b6cd-513cd17ef052",
    "outputId": "df7ca9b1-3ac0-47ab-e73f-8f150778e607"
   },
   "outputs": [
    {
     "data": {
      "text/plain": [
       "DI 출산 횟수\n",
       "0회    0.258617\n",
       "1회    0.229186\n",
       "2회    0.234973\n",
       "3회    0.210526\n",
       "5회    0.000000\n",
       "Name: 임신 성공 여부, dtype: float64"
      ]
     },
     "execution_count": 618,
     "metadata": {},
     "output_type": "execute_result"
    }
   ],
   "source": [
    "train.groupby('DI 출산 횟수')['임신 성공 여부'].mean()\n",
    "# 5회 이면 0임. 따라서 마지막에 고치기"
   ]
  },
  {
   "cell_type": "code",
   "execution_count": 619,
   "id": "5e589867-d5f8-4435-a99d-bb519e508c5b",
   "metadata": {
    "colab": {
     "base_uri": "https://localhost:8080/",
     "height": 272
    },
    "id": "5e589867-d5f8-4435-a99d-bb519e508c5b",
    "outputId": "37c4aa22-7f05-4100-ab26-0ef625934b01"
   },
   "outputs": [
    {
     "data": {
      "text/plain": [
       "DI 출산 횟수\n",
       "0회    254001\n",
       "1회      2138\n",
       "2회       183\n",
       "3회        19\n",
       "5회         2\n",
       "Name: count, dtype: int64"
      ]
     },
     "execution_count": 619,
     "metadata": {},
     "output_type": "execute_result"
    }
   ],
   "source": [
    "train['DI 출산 횟수'].value_counts()"
   ]
  },
  {
   "cell_type": "code",
   "execution_count": 620,
   "id": "d6195b09-4517-46c1-a476-bddbe936f3a2",
   "metadata": {
    "id": "d6195b09-4517-46c1-a476-bddbe936f3a2"
   },
   "outputs": [],
   "source": [
    "train['DI 출산 횟수'] = train['DI 출산 횟수'].str.extract('(\\d+)').astype(int)\n",
    "test['DI 출산 횟수'] = test['DI 출산 횟수'].str.extract('(\\d+)').astype(int)"
   ]
  },
  {
   "cell_type": "markdown",
   "id": "Mpo8QlKKlEtY",
   "metadata": {
    "id": "Mpo8QlKKlEtY"
   },
   "source": [
    "#### **정자 출처 -> 정자 기증 여부로**\n",
    "- 기증 제공 또는 배우자 제공이면 1, 미할당이면 0.5 배우자 및 기증 제공이면 0"
   ]
  },
  {
   "cell_type": "code",
   "execution_count": 622,
   "id": "349fec7b-6237-4ae7-9df1-6723dcdf1a93",
   "metadata": {
    "colab": {
     "base_uri": "https://localhost:8080/",
     "height": 241
    },
    "id": "349fec7b-6237-4ae7-9df1-6723dcdf1a93",
    "outputId": "066e9f0d-361c-40e3-e538-011384e278c6"
   },
   "outputs": [
    {
     "data": {
      "text/plain": [
       "정자 출처\n",
       "기증 제공          0.243725\n",
       "미할당            0.106557\n",
       "배우자 및 기증 제공    0.000000\n",
       "배우자 제공         0.260169\n",
       "Name: 임신 성공 여부, dtype: float64"
      ]
     },
     "execution_count": 622,
     "metadata": {},
     "output_type": "execute_result"
    }
   ],
   "source": [
    "train.groupby('정자 출처')['임신 성공 여부'].mean()"
   ]
  },
  {
   "cell_type": "code",
   "execution_count": 629,
   "id": "5e4aeac3-1eb2-4c3a-8652-0306395f3950",
   "metadata": {},
   "outputs": [
    {
     "data": {
      "text/html": [
       "<div>\n",
       "<style scoped>\n",
       "    .dataframe tbody tr th:only-of-type {\n",
       "        vertical-align: middle;\n",
       "    }\n",
       "\n",
       "    .dataframe tbody tr th {\n",
       "        vertical-align: top;\n",
       "    }\n",
       "\n",
       "    .dataframe thead th {\n",
       "        text-align: right;\n",
       "    }\n",
       "</style>\n",
       "<table border=\"1\" class=\"dataframe\">\n",
       "  <thead>\n",
       "    <tr style=\"text-align: right;\">\n",
       "      <th></th>\n",
       "      <th></th>\n",
       "      <th>임신 성공 여부</th>\n",
       "    </tr>\n",
       "    <tr>\n",
       "      <th>정자 출처</th>\n",
       "      <th>정자 기증자 나이</th>\n",
       "      <th></th>\n",
       "    </tr>\n",
       "  </thead>\n",
       "  <tbody>\n",
       "    <tr>\n",
       "      <th rowspan=\"7\" valign=\"top\">기증 제공</th>\n",
       "      <th>만20세 이하</th>\n",
       "      <td>0.209040</td>\n",
       "    </tr>\n",
       "    <tr>\n",
       "      <th>만21-25세</th>\n",
       "      <td>0.241318</td>\n",
       "    </tr>\n",
       "    <tr>\n",
       "      <th>만26-30세</th>\n",
       "      <td>0.247292</td>\n",
       "    </tr>\n",
       "    <tr>\n",
       "      <th>만31-35세</th>\n",
       "      <td>0.248038</td>\n",
       "    </tr>\n",
       "    <tr>\n",
       "      <th>만36-40세</th>\n",
       "      <td>0.245008</td>\n",
       "    </tr>\n",
       "    <tr>\n",
       "      <th>만41-45세</th>\n",
       "      <td>0.241307</td>\n",
       "    </tr>\n",
       "    <tr>\n",
       "      <th>알 수 없음</th>\n",
       "      <td>0.252934</td>\n",
       "    </tr>\n",
       "    <tr>\n",
       "      <th rowspan=\"6\" valign=\"top\">미할당</th>\n",
       "      <th>만21-25세</th>\n",
       "      <td>0.117647</td>\n",
       "    </tr>\n",
       "    <tr>\n",
       "      <th>만26-30세</th>\n",
       "      <td>0.444444</td>\n",
       "    </tr>\n",
       "    <tr>\n",
       "      <th>만31-35세</th>\n",
       "      <td>0.000000</td>\n",
       "    </tr>\n",
       "    <tr>\n",
       "      <th>만36-40세</th>\n",
       "      <td>0.166667</td>\n",
       "    </tr>\n",
       "    <tr>\n",
       "      <th>만41-45세</th>\n",
       "      <td>0.200000</td>\n",
       "    </tr>\n",
       "    <tr>\n",
       "      <th>알 수 없음</th>\n",
       "      <td>0.049180</td>\n",
       "    </tr>\n",
       "    <tr>\n",
       "      <th rowspan=\"5\" valign=\"top\">배우자 및 기증 제공</th>\n",
       "      <th>만21-25세</th>\n",
       "      <td>0.000000</td>\n",
       "    </tr>\n",
       "    <tr>\n",
       "      <th>만26-30세</th>\n",
       "      <td>0.000000</td>\n",
       "    </tr>\n",
       "    <tr>\n",
       "      <th>만31-35세</th>\n",
       "      <td>0.000000</td>\n",
       "    </tr>\n",
       "    <tr>\n",
       "      <th>만36-40세</th>\n",
       "      <td>0.000000</td>\n",
       "    </tr>\n",
       "    <tr>\n",
       "      <th>만41-45세</th>\n",
       "      <td>0.000000</td>\n",
       "    </tr>\n",
       "    <tr>\n",
       "      <th rowspan=\"7\" valign=\"top\">배우자 제공</th>\n",
       "      <th>만20세 이하</th>\n",
       "      <td>0.400000</td>\n",
       "    </tr>\n",
       "    <tr>\n",
       "      <th>만21-25세</th>\n",
       "      <td>0.295082</td>\n",
       "    </tr>\n",
       "    <tr>\n",
       "      <th>만26-30세</th>\n",
       "      <td>0.310345</td>\n",
       "    </tr>\n",
       "    <tr>\n",
       "      <th>만31-35세</th>\n",
       "      <td>0.377358</td>\n",
       "    </tr>\n",
       "    <tr>\n",
       "      <th>만36-40세</th>\n",
       "      <td>0.333333</td>\n",
       "    </tr>\n",
       "    <tr>\n",
       "      <th>만41-45세</th>\n",
       "      <td>0.410256</td>\n",
       "    </tr>\n",
       "    <tr>\n",
       "      <th>알 수 없음</th>\n",
       "      <td>0.260072</td>\n",
       "    </tr>\n",
       "  </tbody>\n",
       "</table>\n",
       "</div>"
      ],
      "text/plain": [
       "                       임신 성공 여부\n",
       "정자 출처       정자 기증자 나이          \n",
       "기증 제공       만20세 이하    0.209040\n",
       "            만21-25세    0.241318\n",
       "            만26-30세    0.247292\n",
       "            만31-35세    0.248038\n",
       "            만36-40세    0.245008\n",
       "            만41-45세    0.241307\n",
       "            알 수 없음     0.252934\n",
       "미할당         만21-25세    0.117647\n",
       "            만26-30세    0.444444\n",
       "            만31-35세    0.000000\n",
       "            만36-40세    0.166667\n",
       "            만41-45세    0.200000\n",
       "            알 수 없음     0.049180\n",
       "배우자 및 기증 제공 만21-25세    0.000000\n",
       "            만26-30세    0.000000\n",
       "            만31-35세    0.000000\n",
       "            만36-40세    0.000000\n",
       "            만41-45세    0.000000\n",
       "배우자 제공      만20세 이하    0.400000\n",
       "            만21-25세    0.295082\n",
       "            만26-30세    0.310345\n",
       "            만31-35세    0.377358\n",
       "            만36-40세    0.333333\n",
       "            만41-45세    0.410256\n",
       "            알 수 없음     0.260072"
      ]
     },
     "execution_count": 629,
     "metadata": {},
     "output_type": "execute_result"
    }
   ],
   "source": [
    "pd.DataFrame(train.groupby(['정자 출처','정자 기증자 나이'])['임신 성공 여부'].mean())"
   ]
  },
  {
   "cell_type": "code",
   "execution_count": 633,
   "id": "f6055f50-976c-4235-957b-77da3627f20e",
   "metadata": {
    "id": "f6055f50-976c-4235-957b-77da3627f20e"
   },
   "outputs": [],
   "source": [
    "# 임신 성공 여부를 반영하여\n",
    "# 기증 제공 또는 배우자 제공이면 1, 기증 제공이면 0.5, 미할당이면 -0.5 배우자 및 기증 제공이면 -1\n",
    "train['정자 기증 여부']=1.0\n",
    "train.loc[train['정자 출처']=='기증 제공','정자 기증 여부']=0.5\n",
    "train.loc[train['정자 출처']=='미할당','정자 기증 여부']=-0.5\n",
    "train.loc[train['정자 출처']=='배우자 및 기증 제공','정자 기증 여부']=-1"
   ]
  },
  {
   "cell_type": "code",
   "execution_count": 634,
   "id": "b6f708bd-1798-4aca-b626-12e3c2454cd8",
   "metadata": {
    "id": "b6f708bd-1798-4aca-b626-12e3c2454cd8"
   },
   "outputs": [],
   "source": [
    "test['정자 기증 여부']=1.0\n",
    "test.loc[test['정자 출처']=='기증 제공','정자 기증 여부']=0.5\n",
    "test.loc[test['정자 출처']=='미할당','정자 기증 여부']=-0.5\n",
    "test.loc[test['정자 출처']=='배우자 및 기증 제공','정자 기증 여부']=-1"
   ]
  },
  {
   "cell_type": "code",
   "execution_count": 635,
   "id": "787e7c0e-c869-448d-abb4-bd621ac6fdb0",
   "metadata": {
    "id": "787e7c0e-c869-448d-abb4-bd621ac6fdb0"
   },
   "outputs": [],
   "source": [
    "train.drop('정자 출처',axis=1,inplace=True)\n",
    "test.drop('정자 출처',axis=1,inplace=True)"
   ]
  },
  {
   "cell_type": "code",
   "execution_count": 638,
   "id": "c683b2bf-450e-4406-9e6b-c47a4b90ee4d",
   "metadata": {
    "colab": {
     "base_uri": "https://localhost:8080/"
    },
    "id": "c683b2bf-450e-4406-9e6b-c47a4b90ee4d",
    "outputId": "066965a8-ecfc-40a1-cfe5-8985f4ff75df"
   },
   "outputs": [
    {
     "data": {
      "text/plain": [
       "Index(['시술 당시 나이', '특정 시술 유형', '정자 기증자 나이'], dtype='object')"
      ]
     },
     "execution_count": 638,
     "metadata": {},
     "output_type": "execute_result"
    }
   ],
   "source": [
    "train.select_dtypes(include=['object']).columns"
   ]
  },
  {
   "cell_type": "code",
   "execution_count": 639,
   "id": "ac5b350a-077c-4110-ab41-9506294b6d95",
   "metadata": {
    "colab": {
     "base_uri": "https://localhost:8080/"
    },
    "id": "ac5b350a-077c-4110-ab41-9506294b6d95",
    "outputId": "61b450dd-5783-4c38-ea6a-fe95e9d1d5fe"
   },
   "outputs": [
    {
     "data": {
      "text/plain": [
       "Index(['시술 당시 나이', '특정 시술 유형', '정자 기증자 나이'], dtype='object')"
      ]
     },
     "execution_count": 639,
     "metadata": {},
     "output_type": "execute_result"
    }
   ],
   "source": [
    "test.select_dtypes(include=['object']).columns"
   ]
  },
  {
   "cell_type": "code",
   "execution_count": 642,
   "id": "f0b9e065-381b-44cd-9c87-ff30b295e07b",
   "metadata": {},
   "outputs": [],
   "source": [
    "train.drop('특정 시술 유형',axis=1,inplace=True)\n",
    "test.drop('특정 시술 유형',axis=1,inplace=True)"
   ]
  },
  {
   "cell_type": "markdown",
   "id": "e086f0e1-16f6-4f7e-9206-c285ef82afe8",
   "metadata": {
    "id": "e086f0e1-16f6-4f7e-9206-c285ef82afe8"
   },
   "source": [
    "원핫 인코딩"
   ]
  },
  {
   "cell_type": "markdown",
   "id": "6yFIVRuMlR3C",
   "metadata": {
    "id": "6yFIVRuMlR3C"
   },
   "source": [
    "#### **시술 당시 나이, 정자 기증자 나이 onehot encoding**"
   ]
  },
  {
   "cell_type": "markdown",
   "id": "6g4ecHsRlW3o",
   "metadata": {
    "id": "6g4ecHsRlW3o"
   },
   "source": [
    "## **3-1 KNN Imputation 👶 배아 아식 경과일**"
   ]
  },
  {
   "cell_type": "code",
   "execution_count": 643,
   "id": "6d811b29-3f92-4712-9552-125e60400a75",
   "metadata": {
    "id": "6d811b29-3f92-4712-9552-125e60400a75"
   },
   "outputs": [],
   "source": [
    "train=pd.get_dummies(train, columns=['시술 당시 나이','정자 기증자 나이'], drop_first=True,dtype=int)\n",
    "test=pd.get_dummies(test, columns=['시술 당시 나이','정자 기증자 나이'], drop_first=True,dtype=int)"
   ]
  },
  {
   "cell_type": "markdown",
   "id": "3654e073-ed2b-46d9-bf0e-80745229dcea",
   "metadata": {
    "id": "3654e073-ed2b-46d9-bf0e-80745229dcea"
   },
   "source": [
    "**아직 남아있는 NaN -> KNN imputation으로**"
   ]
  },
  {
   "cell_type": "code",
   "execution_count": 644,
   "id": "81b5d82f-3fbc-48cb-be03-a15aa8561026",
   "metadata": {
    "colab": {
     "base_uri": "https://localhost:8080/",
     "height": 81
    },
    "id": "81b5d82f-3fbc-48cb-be03-a15aa8561026",
    "outputId": "6fc74f89-6435-47d5-8d79-460f65987871"
   },
   "outputs": [
    {
     "data": {
      "text/html": [
       "<div>\n",
       "<style scoped>\n",
       "    .dataframe tbody tr th:only-of-type {\n",
       "        vertical-align: middle;\n",
       "    }\n",
       "\n",
       "    .dataframe tbody tr th {\n",
       "        vertical-align: top;\n",
       "    }\n",
       "\n",
       "    .dataframe thead th {\n",
       "        text-align: right;\n",
       "    }\n",
       "</style>\n",
       "<table border=\"1\" class=\"dataframe\">\n",
       "  <thead>\n",
       "    <tr style=\"text-align: right;\">\n",
       "      <th></th>\n",
       "      <th>0</th>\n",
       "    </tr>\n",
       "  </thead>\n",
       "  <tbody>\n",
       "    <tr>\n",
       "      <th>배아 이식 경과일</th>\n",
       "      <td>43561</td>\n",
       "    </tr>\n",
       "  </tbody>\n",
       "</table>\n",
       "</div>"
      ],
      "text/plain": [
       "               0\n",
       "배아 이식 경과일  43561"
      ]
     },
     "execution_count": 644,
     "metadata": {},
     "output_type": "execute_result"
    }
   ],
   "source": [
    "pd.DataFrame(train.isna().sum()[train.isna().sum() > 0])"
   ]
  },
  {
   "cell_type": "code",
   "execution_count": 645,
   "id": "ce49df19-7994-41e4-bd57-6b0497ac5774",
   "metadata": {
    "colab": {
     "base_uri": "https://localhost:8080/",
     "height": 81
    },
    "id": "ce49df19-7994-41e4-bd57-6b0497ac5774",
    "outputId": "7d24caa6-41aa-49b7-a930-8c484eba4cdb"
   },
   "outputs": [
    {
     "data": {
      "text/html": [
       "<div>\n",
       "<style scoped>\n",
       "    .dataframe tbody tr th:only-of-type {\n",
       "        vertical-align: middle;\n",
       "    }\n",
       "\n",
       "    .dataframe tbody tr th {\n",
       "        vertical-align: top;\n",
       "    }\n",
       "\n",
       "    .dataframe thead th {\n",
       "        text-align: right;\n",
       "    }\n",
       "</style>\n",
       "<table border=\"1\" class=\"dataframe\">\n",
       "  <thead>\n",
       "    <tr style=\"text-align: right;\">\n",
       "      <th></th>\n",
       "      <th>0</th>\n",
       "    </tr>\n",
       "  </thead>\n",
       "  <tbody>\n",
       "    <tr>\n",
       "      <th>배아 이식 경과일</th>\n",
       "      <td>15246</td>\n",
       "    </tr>\n",
       "  </tbody>\n",
       "</table>\n",
       "</div>"
      ],
      "text/plain": [
       "               0\n",
       "배아 이식 경과일  15246"
      ]
     },
     "execution_count": 645,
     "metadata": {},
     "output_type": "execute_result"
    }
   ],
   "source": [
    "pd.DataFrame(test.isna().sum()[test.isna().sum() > 0])"
   ]
  },
  {
   "cell_type": "code",
   "execution_count": 646,
   "id": "165be005-5010-4973-bc57-670d569589b0",
   "metadata": {
    "colab": {
     "base_uri": "https://localhost:8080/",
     "height": 366
    },
    "id": "165be005-5010-4973-bc57-670d569589b0",
    "outputId": "240ae929-3ef7-4392-f0f1-189181e1bba9"
   },
   "outputs": [
    {
     "data": {
      "text/plain": [
       "배란 자극 여부            0.586438\n",
       "총 생성 배아 수           0.648156\n",
       "수집된 신선 난자 수         0.575869\n",
       "혼합된 난자 수            0.625841\n",
       "파트너 정자와 혼합된 난자 수    0.564741\n",
       "동결 배아 사용 여부        -0.690088\n",
       "신선 배아 사용 여부         0.691265\n",
       "배아 이식 경과일           1.000000\n",
       "Name: 배아 이식 경과일, dtype: float64"
      ]
     },
     "execution_count": 646,
     "metadata": {},
     "output_type": "execute_result"
    }
   ],
   "source": [
    "# 배아이식 경과일\n",
    "num_cols=train.select_dtypes(exclude=['object']).columns\n",
    "corr_values=train[num_cols].corr()['배아 이식 경과일']\n",
    "corr_values[(corr_values >= 0.5) | (corr_values <= -0.5)]"
   ]
  },
  {
   "cell_type": "code",
   "execution_count": 653,
   "id": "832994c5-b0f9-4886-85c6-aa4eeeb54672",
   "metadata": {
    "id": "832994c5-b0f9-4886-85c6-aa4eeeb54672"
   },
   "outputs": [],
   "source": [
    "# 상관관계가 높은 feature들로 채워줌\n",
    "from sklearn.impute import KNNImputer\n",
    "\n",
    "# 사용할 컬럼 선택\n",
    "selected_columns = [\n",
    "    '배란 자극 여부', '총 생성 배아 수', '수집된 신선 난자 수', '혼합된 난자 수',\n",
    "    '파트너 정자와 혼합된 난자 수', '동결 배아 사용 여부', '신선 배아 사용 여부',\n",
    "]\n",
    "# 선택한 컬럼만 포함한 데이터프레임 생성\n",
    "train_selected = train[selected_columns]\n",
    "# KNN Imputer 설정\n",
    "imputer = KNNImputer(n_neighbors=5)  # K값은 5로 설정\n",
    "train_selected_imputed = pd.DataFrame(imputer.fit_transform(train_selected), columns=selected_columns)\n",
    "# 원본 데이터프레임에 채워진 값 반영\n",
    "train[selected_columns] = train_selected_imputed\n",
    "# 이제 '배아 이식 경과일'만 KNN으로 채우기\n",
    "train['배아 이식 경과일'] = train['배아 이식 경과일'].fillna(train['배아 이식 경과일'].mean())"
   ]
  },
  {
   "cell_type": "code",
   "execution_count": 654,
   "id": "R36AXwE_hYeI",
   "metadata": {
    "colab": {
     "base_uri": "https://localhost:8080/"
    },
    "id": "R36AXwE_hYeI",
    "outputId": "c1bae6ef-e840-4ccf-8056-c14fcb4d2a58"
   },
   "outputs": [
    {
     "data": {
      "text/plain": [
       "0"
      ]
     },
     "execution_count": 654,
     "metadata": {},
     "output_type": "execute_result"
    }
   ],
   "source": [
    "train['배아 이식 경과일'].isna().sum()"
   ]
  },
  {
   "cell_type": "code",
   "execution_count": 655,
   "id": "4b5e9a99-4889-409d-96d4-176844c73d3f",
   "metadata": {
    "colab": {
     "base_uri": "https://localhost:8080/",
     "height": 397
    },
    "id": "4b5e9a99-4889-409d-96d4-176844c73d3f",
    "outputId": "3b7aae0a-7eca-4c65-c77a-4ef2c713d292"
   },
   "outputs": [
    {
     "data": {
      "text/plain": [
       "배아 이식 경과일\n",
       "5.000000    81458\n",
       "3.000000    57924\n",
       "3.254763    43561\n",
       "2.000000    35078\n",
       "0.000000    24902\n",
       "1.000000     6053\n",
       "4.000000     4504\n",
       "6.000000     2773\n",
       "7.000000       90\n",
       "Name: count, dtype: int64"
      ]
     },
     "execution_count": 655,
     "metadata": {},
     "output_type": "execute_result"
    }
   ],
   "source": [
    "train['배아 이식 경과일'].value_counts()"
   ]
  },
  {
   "cell_type": "code",
   "execution_count": 656,
   "id": "241c23b0-a559-4404-b542-35bb7404a713",
   "metadata": {
    "id": "241c23b0-a559-4404-b542-35bb7404a713"
   },
   "outputs": [],
   "source": [
    "# 선택한 컬럼만 포함한 데이터프레임 생성\n",
    "test_selected = test[selected_columns]\n",
    "# KNN Imputer 설정\n",
    "imputer = KNNImputer(n_neighbors=3)  # K값은 3로 설정\n",
    "test_selected_imputed = pd.DataFrame(imputer.fit_transform(test_selected), columns=selected_columns)\n",
    "# 원본 데이터프레임에 채워진 값 반영\n",
    "test[selected_columns] = test_selected_imputed\n",
    "# 이제 '배아 이식 경과일'만 KNN으로 채우기\n",
    "test['배아 이식 경과일'] = test['배아 이식 경과일'].fillna(test['배아 이식 경과일'].mean())"
   ]
  },
  {
   "cell_type": "code",
   "execution_count": 657,
   "id": "2A1S4Xu5hwAS",
   "metadata": {
    "colab": {
     "base_uri": "https://localhost:8080/"
    },
    "id": "2A1S4Xu5hwAS",
    "outputId": "d13d0acb-a1ce-4447-fd34-7de303cb6050"
   },
   "outputs": [
    {
     "data": {
      "text/plain": [
       "0"
      ]
     },
     "execution_count": 657,
     "metadata": {},
     "output_type": "execute_result"
    }
   ],
   "source": [
    "test['배아 이식 경과일'].isna().sum()"
   ]
  },
  {
   "cell_type": "code",
   "execution_count": 658,
   "id": "771296fa-edc9-4bdb-b63e-bdf982b707eb",
   "metadata": {
    "colab": {
     "base_uri": "https://localhost:8080/",
     "height": 397
    },
    "id": "771296fa-edc9-4bdb-b63e-bdf982b707eb",
    "outputId": "6bd4bc21-867f-4bc5-d33e-f3fcc9b1e5e8"
   },
   "outputs": [
    {
     "data": {
      "text/plain": [
       "배아 이식 경과일\n",
       "5.000000    28790\n",
       "3.000000    20630\n",
       "3.269363    15246\n",
       "2.000000    12206\n",
       "0.000000     8538\n",
       "1.000000     2094\n",
       "4.000000     1570\n",
       "6.000000      960\n",
       "7.000000       33\n",
       "Name: count, dtype: int64"
      ]
     },
     "execution_count": 658,
     "metadata": {},
     "output_type": "execute_result"
    }
   ],
   "source": [
    "test['배아 이식 경과일'].value_counts()"
   ]
  },
  {
   "cell_type": "code",
   "execution_count": 675,
   "id": "6d8357b4-c097-445d-a47b-d5a4963de8b0",
   "metadata": {},
   "outputs": [],
   "source": [
    "train.dropna(inplace=True)"
   ]
  },
  {
   "cell_type": "code",
   "execution_count": 676,
   "id": "f5370a17-763c-4a7a-9c98-9c6cd6500abe",
   "metadata": {},
   "outputs": [
    {
     "data": {
      "text/plain": [
       "0"
      ]
     },
     "execution_count": 676,
     "metadata": {},
     "output_type": "execute_result"
    }
   ],
   "source": [
    "train.isna().sum().sum()"
   ]
  },
  {
   "cell_type": "code",
   "execution_count": 677,
   "id": "719eb0c8-9238-40a3-b3d7-5471072f3b62",
   "metadata": {},
   "outputs": [
    {
     "data": {
      "text/plain": [
       "0"
      ]
     },
     "execution_count": 677,
     "metadata": {},
     "output_type": "execute_result"
    }
   ],
   "source": [
    "test.isna().sum().sum()"
   ]
  },
  {
   "cell_type": "code",
   "execution_count": 678,
   "id": "825042be-a605-4485-9c91-780fe5b619b9",
   "metadata": {},
   "outputs": [
    {
     "data": {
      "text/plain": [
       "(256335, 75)"
      ]
     },
     "execution_count": 678,
     "metadata": {},
     "output_type": "execute_result"
    }
   ],
   "source": [
    "train.shape"
   ]
  },
  {
   "cell_type": "code",
   "execution_count": 679,
   "id": "ba283745-77db-4e5d-b07f-0ddbac0a456b",
   "metadata": {},
   "outputs": [
    {
     "data": {
      "text/plain": [
       "(90067, 74)"
      ]
     },
     "execution_count": 679,
     "metadata": {},
     "output_type": "execute_result"
    }
   ],
   "source": [
    "test.shape"
   ]
  },
  {
   "cell_type": "code",
   "execution_count": 680,
   "id": "X0crxyhCkXdY",
   "metadata": {
    "colab": {
     "base_uri": "https://localhost:8080/"
    },
    "id": "X0crxyhCkXdY",
    "outputId": "226303c9-0061-453d-c649-e8fc636fe2bd"
   },
   "outputs": [
    {
     "data": {
      "text/plain": [
       "Index([], dtype='object')"
      ]
     },
     "execution_count": 680,
     "metadata": {},
     "output_type": "execute_result"
    }
   ],
   "source": [
    "train.select_dtypes(include=['object']).columns"
   ]
  },
  {
   "cell_type": "code",
   "execution_count": 681,
   "id": "NJwpWGR_kdHj",
   "metadata": {
    "colab": {
     "base_uri": "https://localhost:8080/"
    },
    "id": "NJwpWGR_kdHj",
    "outputId": "661de191-3b6e-4ada-ffbd-8301fe945fc9"
   },
   "outputs": [
    {
     "data": {
      "text/plain": [
       "Index([], dtype='object')"
      ]
     },
     "execution_count": 681,
     "metadata": {},
     "output_type": "execute_result"
    }
   ],
   "source": [
    "test.select_dtypes(include=['object']).columns"
   ]
  },
  {
   "cell_type": "code",
   "execution_count": 682,
   "id": "_CR4OoPhkgAQ",
   "metadata": {
    "colab": {
     "base_uri": "https://localhost:8080/",
     "height": 287
    },
    "id": "_CR4OoPhkgAQ",
    "outputId": "f91bdbb4-5142-4930-a127-b826df61c6f7"
   },
   "outputs": [
    {
     "data": {
      "text/html": [
       "<div>\n",
       "<style scoped>\n",
       "    .dataframe tbody tr th:only-of-type {\n",
       "        vertical-align: middle;\n",
       "    }\n",
       "\n",
       "    .dataframe tbody tr th {\n",
       "        vertical-align: top;\n",
       "    }\n",
       "\n",
       "    .dataframe thead th {\n",
       "        text-align: right;\n",
       "    }\n",
       "</style>\n",
       "<table border=\"1\" class=\"dataframe\">\n",
       "  <thead>\n",
       "    <tr style=\"text-align: right;\">\n",
       "      <th></th>\n",
       "      <th>시술 유형</th>\n",
       "      <th>배란 자극 여부</th>\n",
       "      <th>단일 배아 이식 여부</th>\n",
       "      <th>착상 전 유전 진단 사용 여부</th>\n",
       "      <th>남성 주 불임 원인</th>\n",
       "      <th>남성 부 불임 원인</th>\n",
       "      <th>여성 주 불임 원인</th>\n",
       "      <th>여성 부 불임 원인</th>\n",
       "      <th>부부 주 불임 원인</th>\n",
       "      <th>부부 부 불임 원인</th>\n",
       "      <th>...</th>\n",
       "      <th>시술 당시 나이_만40-42세</th>\n",
       "      <th>시술 당시 나이_만43-44세</th>\n",
       "      <th>시술 당시 나이_만45-50세</th>\n",
       "      <th>시술 당시 나이_알 수 없음</th>\n",
       "      <th>정자 기증자 나이_만21-25세</th>\n",
       "      <th>정자 기증자 나이_만26-30세</th>\n",
       "      <th>정자 기증자 나이_만31-35세</th>\n",
       "      <th>정자 기증자 나이_만36-40세</th>\n",
       "      <th>정자 기증자 나이_만41-45세</th>\n",
       "      <th>정자 기증자 나이_알 수 없음</th>\n",
       "    </tr>\n",
       "  </thead>\n",
       "  <tbody>\n",
       "    <tr>\n",
       "      <th>0</th>\n",
       "      <td>1</td>\n",
       "      <td>1.0</td>\n",
       "      <td>0.0</td>\n",
       "      <td>0.0</td>\n",
       "      <td>0</td>\n",
       "      <td>0</td>\n",
       "      <td>0</td>\n",
       "      <td>0</td>\n",
       "      <td>0</td>\n",
       "      <td>0</td>\n",
       "      <td>...</td>\n",
       "      <td>0</td>\n",
       "      <td>0</td>\n",
       "      <td>0</td>\n",
       "      <td>0</td>\n",
       "      <td>0</td>\n",
       "      <td>0</td>\n",
       "      <td>0</td>\n",
       "      <td>0</td>\n",
       "      <td>0</td>\n",
       "      <td>1</td>\n",
       "    </tr>\n",
       "    <tr>\n",
       "      <th>1</th>\n",
       "      <td>1</td>\n",
       "      <td>0.0</td>\n",
       "      <td>0.0</td>\n",
       "      <td>0.0</td>\n",
       "      <td>0</td>\n",
       "      <td>0</td>\n",
       "      <td>0</td>\n",
       "      <td>0</td>\n",
       "      <td>0</td>\n",
       "      <td>0</td>\n",
       "      <td>...</td>\n",
       "      <td>0</td>\n",
       "      <td>0</td>\n",
       "      <td>1</td>\n",
       "      <td>0</td>\n",
       "      <td>0</td>\n",
       "      <td>0</td>\n",
       "      <td>0</td>\n",
       "      <td>0</td>\n",
       "      <td>0</td>\n",
       "      <td>1</td>\n",
       "    </tr>\n",
       "    <tr>\n",
       "      <th>2</th>\n",
       "      <td>1</td>\n",
       "      <td>1.0</td>\n",
       "      <td>0.0</td>\n",
       "      <td>0.0</td>\n",
       "      <td>0</td>\n",
       "      <td>0</td>\n",
       "      <td>0</td>\n",
       "      <td>0</td>\n",
       "      <td>0</td>\n",
       "      <td>0</td>\n",
       "      <td>...</td>\n",
       "      <td>0</td>\n",
       "      <td>0</td>\n",
       "      <td>0</td>\n",
       "      <td>0</td>\n",
       "      <td>0</td>\n",
       "      <td>0</td>\n",
       "      <td>0</td>\n",
       "      <td>0</td>\n",
       "      <td>0</td>\n",
       "      <td>1</td>\n",
       "    </tr>\n",
       "    <tr>\n",
       "      <th>3</th>\n",
       "      <td>1</td>\n",
       "      <td>1.0</td>\n",
       "      <td>0.0</td>\n",
       "      <td>0.0</td>\n",
       "      <td>0</td>\n",
       "      <td>0</td>\n",
       "      <td>0</td>\n",
       "      <td>0</td>\n",
       "      <td>0</td>\n",
       "      <td>0</td>\n",
       "      <td>...</td>\n",
       "      <td>0</td>\n",
       "      <td>0</td>\n",
       "      <td>0</td>\n",
       "      <td>0</td>\n",
       "      <td>0</td>\n",
       "      <td>0</td>\n",
       "      <td>0</td>\n",
       "      <td>0</td>\n",
       "      <td>0</td>\n",
       "      <td>1</td>\n",
       "    </tr>\n",
       "    <tr>\n",
       "      <th>4</th>\n",
       "      <td>1</td>\n",
       "      <td>1.0</td>\n",
       "      <td>0.0</td>\n",
       "      <td>0.0</td>\n",
       "      <td>0</td>\n",
       "      <td>0</td>\n",
       "      <td>0</td>\n",
       "      <td>0</td>\n",
       "      <td>0</td>\n",
       "      <td>0</td>\n",
       "      <td>...</td>\n",
       "      <td>0</td>\n",
       "      <td>0</td>\n",
       "      <td>0</td>\n",
       "      <td>0</td>\n",
       "      <td>0</td>\n",
       "      <td>0</td>\n",
       "      <td>0</td>\n",
       "      <td>0</td>\n",
       "      <td>0</td>\n",
       "      <td>1</td>\n",
       "    </tr>\n",
       "  </tbody>\n",
       "</table>\n",
       "<p>5 rows × 75 columns</p>\n",
       "</div>"
      ],
      "text/plain": [
       "   시술 유형  배란 자극 여부  단일 배아 이식 여부  착상 전 유전 진단 사용 여부  남성 주 불임 원인  남성 부 불임 원인  \\\n",
       "0      1       1.0          0.0               0.0           0           0   \n",
       "1      1       0.0          0.0               0.0           0           0   \n",
       "2      1       1.0          0.0               0.0           0           0   \n",
       "3      1       1.0          0.0               0.0           0           0   \n",
       "4      1       1.0          0.0               0.0           0           0   \n",
       "\n",
       "   여성 주 불임 원인  여성 부 불임 원인  부부 주 불임 원인  부부 부 불임 원인  ...  시술 당시 나이_만40-42세  \\\n",
       "0           0           0           0           0  ...                 0   \n",
       "1           0           0           0           0  ...                 0   \n",
       "2           0           0           0           0  ...                 0   \n",
       "3           0           0           0           0  ...                 0   \n",
       "4           0           0           0           0  ...                 0   \n",
       "\n",
       "   시술 당시 나이_만43-44세  시술 당시 나이_만45-50세  시술 당시 나이_알 수 없음  정자 기증자 나이_만21-25세  \\\n",
       "0                 0                 0                0                  0   \n",
       "1                 0                 1                0                  0   \n",
       "2                 0                 0                0                  0   \n",
       "3                 0                 0                0                  0   \n",
       "4                 0                 0                0                  0   \n",
       "\n",
       "   정자 기증자 나이_만26-30세  정자 기증자 나이_만31-35세  정자 기증자 나이_만36-40세  정자 기증자 나이_만41-45세  \\\n",
       "0                  0                  0                  0                  0   \n",
       "1                  0                  0                  0                  0   \n",
       "2                  0                  0                  0                  0   \n",
       "3                  0                  0                  0                  0   \n",
       "4                  0                  0                  0                  0   \n",
       "\n",
       "   정자 기증자 나이_알 수 없음  \n",
       "0                 1  \n",
       "1                 1  \n",
       "2                 1  \n",
       "3                 1  \n",
       "4                 1  \n",
       "\n",
       "[5 rows x 75 columns]"
      ]
     },
     "execution_count": 682,
     "metadata": {},
     "output_type": "execute_result"
    }
   ],
   "source": [
    "train.head()"
   ]
  },
  {
   "cell_type": "code",
   "execution_count": 683,
   "id": "_hgSc6TjkiQ6",
   "metadata": {
    "colab": {
     "base_uri": "https://localhost:8080/",
     "height": 287
    },
    "id": "_hgSc6TjkiQ6",
    "outputId": "1557d3f0-99ba-43d4-9528-ed57612af479"
   },
   "outputs": [
    {
     "data": {
      "text/html": [
       "<div>\n",
       "<style scoped>\n",
       "    .dataframe tbody tr th:only-of-type {\n",
       "        vertical-align: middle;\n",
       "    }\n",
       "\n",
       "    .dataframe tbody tr th {\n",
       "        vertical-align: top;\n",
       "    }\n",
       "\n",
       "    .dataframe thead th {\n",
       "        text-align: right;\n",
       "    }\n",
       "</style>\n",
       "<table border=\"1\" class=\"dataframe\">\n",
       "  <thead>\n",
       "    <tr style=\"text-align: right;\">\n",
       "      <th></th>\n",
       "      <th>시술 유형</th>\n",
       "      <th>배란 자극 여부</th>\n",
       "      <th>단일 배아 이식 여부</th>\n",
       "      <th>착상 전 유전 진단 사용 여부</th>\n",
       "      <th>남성 주 불임 원인</th>\n",
       "      <th>남성 부 불임 원인</th>\n",
       "      <th>여성 주 불임 원인</th>\n",
       "      <th>여성 부 불임 원인</th>\n",
       "      <th>부부 주 불임 원인</th>\n",
       "      <th>부부 부 불임 원인</th>\n",
       "      <th>...</th>\n",
       "      <th>시술 당시 나이_만40-42세</th>\n",
       "      <th>시술 당시 나이_만43-44세</th>\n",
       "      <th>시술 당시 나이_만45-50세</th>\n",
       "      <th>시술 당시 나이_알 수 없음</th>\n",
       "      <th>정자 기증자 나이_만21-25세</th>\n",
       "      <th>정자 기증자 나이_만26-30세</th>\n",
       "      <th>정자 기증자 나이_만31-35세</th>\n",
       "      <th>정자 기증자 나이_만36-40세</th>\n",
       "      <th>정자 기증자 나이_만41-45세</th>\n",
       "      <th>정자 기증자 나이_알 수 없음</th>\n",
       "    </tr>\n",
       "  </thead>\n",
       "  <tbody>\n",
       "    <tr>\n",
       "      <th>0</th>\n",
       "      <td>1</td>\n",
       "      <td>1.0</td>\n",
       "      <td>0.0</td>\n",
       "      <td>0.0</td>\n",
       "      <td>0</td>\n",
       "      <td>0</td>\n",
       "      <td>0</td>\n",
       "      <td>0</td>\n",
       "      <td>0</td>\n",
       "      <td>0</td>\n",
       "      <td>...</td>\n",
       "      <td>0</td>\n",
       "      <td>0</td>\n",
       "      <td>0</td>\n",
       "      <td>0</td>\n",
       "      <td>0</td>\n",
       "      <td>0</td>\n",
       "      <td>0</td>\n",
       "      <td>0</td>\n",
       "      <td>0</td>\n",
       "      <td>1</td>\n",
       "    </tr>\n",
       "    <tr>\n",
       "      <th>1</th>\n",
       "      <td>1</td>\n",
       "      <td>1.0</td>\n",
       "      <td>0.0</td>\n",
       "      <td>0.0</td>\n",
       "      <td>0</td>\n",
       "      <td>0</td>\n",
       "      <td>0</td>\n",
       "      <td>0</td>\n",
       "      <td>0</td>\n",
       "      <td>0</td>\n",
       "      <td>...</td>\n",
       "      <td>0</td>\n",
       "      <td>0</td>\n",
       "      <td>0</td>\n",
       "      <td>0</td>\n",
       "      <td>0</td>\n",
       "      <td>0</td>\n",
       "      <td>0</td>\n",
       "      <td>1</td>\n",
       "      <td>0</td>\n",
       "      <td>0</td>\n",
       "    </tr>\n",
       "    <tr>\n",
       "      <th>2</th>\n",
       "      <td>1</td>\n",
       "      <td>1.0</td>\n",
       "      <td>0.0</td>\n",
       "      <td>0.0</td>\n",
       "      <td>0</td>\n",
       "      <td>0</td>\n",
       "      <td>0</td>\n",
       "      <td>0</td>\n",
       "      <td>0</td>\n",
       "      <td>0</td>\n",
       "      <td>...</td>\n",
       "      <td>1</td>\n",
       "      <td>0</td>\n",
       "      <td>0</td>\n",
       "      <td>0</td>\n",
       "      <td>0</td>\n",
       "      <td>0</td>\n",
       "      <td>0</td>\n",
       "      <td>0</td>\n",
       "      <td>0</td>\n",
       "      <td>1</td>\n",
       "    </tr>\n",
       "    <tr>\n",
       "      <th>3</th>\n",
       "      <td>1</td>\n",
       "      <td>1.0</td>\n",
       "      <td>0.0</td>\n",
       "      <td>0.0</td>\n",
       "      <td>0</td>\n",
       "      <td>0</td>\n",
       "      <td>0</td>\n",
       "      <td>0</td>\n",
       "      <td>0</td>\n",
       "      <td>0</td>\n",
       "      <td>...</td>\n",
       "      <td>1</td>\n",
       "      <td>0</td>\n",
       "      <td>0</td>\n",
       "      <td>0</td>\n",
       "      <td>0</td>\n",
       "      <td>0</td>\n",
       "      <td>0</td>\n",
       "      <td>0</td>\n",
       "      <td>0</td>\n",
       "      <td>1</td>\n",
       "    </tr>\n",
       "    <tr>\n",
       "      <th>4</th>\n",
       "      <td>1</td>\n",
       "      <td>1.0</td>\n",
       "      <td>0.0</td>\n",
       "      <td>0.0</td>\n",
       "      <td>0</td>\n",
       "      <td>0</td>\n",
       "      <td>0</td>\n",
       "      <td>0</td>\n",
       "      <td>0</td>\n",
       "      <td>0</td>\n",
       "      <td>...</td>\n",
       "      <td>0</td>\n",
       "      <td>0</td>\n",
       "      <td>0</td>\n",
       "      <td>0</td>\n",
       "      <td>0</td>\n",
       "      <td>0</td>\n",
       "      <td>0</td>\n",
       "      <td>0</td>\n",
       "      <td>0</td>\n",
       "      <td>1</td>\n",
       "    </tr>\n",
       "  </tbody>\n",
       "</table>\n",
       "<p>5 rows × 74 columns</p>\n",
       "</div>"
      ],
      "text/plain": [
       "   시술 유형  배란 자극 여부  단일 배아 이식 여부  착상 전 유전 진단 사용 여부  남성 주 불임 원인  남성 부 불임 원인  \\\n",
       "0      1       1.0          0.0               0.0           0           0   \n",
       "1      1       1.0          0.0               0.0           0           0   \n",
       "2      1       1.0          0.0               0.0           0           0   \n",
       "3      1       1.0          0.0               0.0           0           0   \n",
       "4      1       1.0          0.0               0.0           0           0   \n",
       "\n",
       "   여성 주 불임 원인  여성 부 불임 원인  부부 주 불임 원인  부부 부 불임 원인  ...  시술 당시 나이_만40-42세  \\\n",
       "0           0           0           0           0  ...                 0   \n",
       "1           0           0           0           0  ...                 0   \n",
       "2           0           0           0           0  ...                 1   \n",
       "3           0           0           0           0  ...                 1   \n",
       "4           0           0           0           0  ...                 0   \n",
       "\n",
       "   시술 당시 나이_만43-44세  시술 당시 나이_만45-50세  시술 당시 나이_알 수 없음  정자 기증자 나이_만21-25세  \\\n",
       "0                 0                 0                0                  0   \n",
       "1                 0                 0                0                  0   \n",
       "2                 0                 0                0                  0   \n",
       "3                 0                 0                0                  0   \n",
       "4                 0                 0                0                  0   \n",
       "\n",
       "   정자 기증자 나이_만26-30세  정자 기증자 나이_만31-35세  정자 기증자 나이_만36-40세  정자 기증자 나이_만41-45세  \\\n",
       "0                  0                  0                  0                  0   \n",
       "1                  0                  0                  1                  0   \n",
       "2                  0                  0                  0                  0   \n",
       "3                  0                  0                  0                  0   \n",
       "4                  0                  0                  0                  0   \n",
       "\n",
       "   정자 기증자 나이_알 수 없음  \n",
       "0                 1  \n",
       "1                 0  \n",
       "2                 1  \n",
       "3                 1  \n",
       "4                 1  \n",
       "\n",
       "[5 rows x 74 columns]"
      ]
     },
     "execution_count": 683,
     "metadata": {},
     "output_type": "execute_result"
    }
   ],
   "source": [
    "test.head()"
   ]
  },
  {
   "cell_type": "markdown",
   "id": "D7_n8BE_llj8",
   "metadata": {
    "id": "D7_n8BE_llj8"
   },
   "source": [
    "## **4 소숫점 셋째자리에서 반올림 후 내보내기**"
   ]
  },
  {
   "cell_type": "code",
   "execution_count": 684,
   "id": "zu7OT_5NkkRS",
   "metadata": {
    "id": "zu7OT_5NkkRS"
   },
   "outputs": [],
   "source": [
    "# 모두 소숫점 셋째자리에서 반올림\n",
    "train=train.round(4)\n",
    "test=test.round(4)"
   ]
  },
  {
   "cell_type": "code",
   "execution_count": 688,
   "id": "08f743f6-bdd2-42c2-b356-e53b78b57fbf",
   "metadata": {},
   "outputs": [
    {
     "data": {
      "text/html": [
       "<div>\n",
       "<style scoped>\n",
       "    .dataframe tbody tr th:only-of-type {\n",
       "        vertical-align: middle;\n",
       "    }\n",
       "\n",
       "    .dataframe tbody tr th {\n",
       "        vertical-align: top;\n",
       "    }\n",
       "\n",
       "    .dataframe thead th {\n",
       "        text-align: right;\n",
       "    }\n",
       "</style>\n",
       "<table border=\"1\" class=\"dataframe\">\n",
       "  <thead>\n",
       "    <tr style=\"text-align: right;\">\n",
       "      <th></th>\n",
       "      <th>시술 유형</th>\n",
       "      <th>배란 자극 여부</th>\n",
       "      <th>단일 배아 이식 여부</th>\n",
       "      <th>착상 전 유전 진단 사용 여부</th>\n",
       "      <th>남성 주 불임 원인</th>\n",
       "      <th>남성 부 불임 원인</th>\n",
       "      <th>여성 주 불임 원인</th>\n",
       "      <th>여성 부 불임 원인</th>\n",
       "      <th>부부 주 불임 원인</th>\n",
       "      <th>부부 부 불임 원인</th>\n",
       "      <th>...</th>\n",
       "      <th>시술 당시 나이_만40-42세</th>\n",
       "      <th>시술 당시 나이_만43-44세</th>\n",
       "      <th>시술 당시 나이_만45-50세</th>\n",
       "      <th>시술 당시 나이_알 수 없음</th>\n",
       "      <th>정자 기증자 나이_만21-25세</th>\n",
       "      <th>정자 기증자 나이_만26-30세</th>\n",
       "      <th>정자 기증자 나이_만31-35세</th>\n",
       "      <th>정자 기증자 나이_만36-40세</th>\n",
       "      <th>정자 기증자 나이_만41-45세</th>\n",
       "      <th>정자 기증자 나이_알 수 없음</th>\n",
       "    </tr>\n",
       "  </thead>\n",
       "  <tbody>\n",
       "    <tr>\n",
       "      <th>0</th>\n",
       "      <td>1</td>\n",
       "      <td>1.0</td>\n",
       "      <td>0.0</td>\n",
       "      <td>0.0</td>\n",
       "      <td>0</td>\n",
       "      <td>0</td>\n",
       "      <td>0</td>\n",
       "      <td>0</td>\n",
       "      <td>0</td>\n",
       "      <td>0</td>\n",
       "      <td>...</td>\n",
       "      <td>0</td>\n",
       "      <td>0</td>\n",
       "      <td>0</td>\n",
       "      <td>0</td>\n",
       "      <td>0</td>\n",
       "      <td>0</td>\n",
       "      <td>0</td>\n",
       "      <td>0</td>\n",
       "      <td>0</td>\n",
       "      <td>1</td>\n",
       "    </tr>\n",
       "    <tr>\n",
       "      <th>1</th>\n",
       "      <td>1</td>\n",
       "      <td>0.0</td>\n",
       "      <td>0.0</td>\n",
       "      <td>0.0</td>\n",
       "      <td>0</td>\n",
       "      <td>0</td>\n",
       "      <td>0</td>\n",
       "      <td>0</td>\n",
       "      <td>0</td>\n",
       "      <td>0</td>\n",
       "      <td>...</td>\n",
       "      <td>0</td>\n",
       "      <td>0</td>\n",
       "      <td>1</td>\n",
       "      <td>0</td>\n",
       "      <td>0</td>\n",
       "      <td>0</td>\n",
       "      <td>0</td>\n",
       "      <td>0</td>\n",
       "      <td>0</td>\n",
       "      <td>1</td>\n",
       "    </tr>\n",
       "    <tr>\n",
       "      <th>2</th>\n",
       "      <td>1</td>\n",
       "      <td>1.0</td>\n",
       "      <td>0.0</td>\n",
       "      <td>0.0</td>\n",
       "      <td>0</td>\n",
       "      <td>0</td>\n",
       "      <td>0</td>\n",
       "      <td>0</td>\n",
       "      <td>0</td>\n",
       "      <td>0</td>\n",
       "      <td>...</td>\n",
       "      <td>0</td>\n",
       "      <td>0</td>\n",
       "      <td>0</td>\n",
       "      <td>0</td>\n",
       "      <td>0</td>\n",
       "      <td>0</td>\n",
       "      <td>0</td>\n",
       "      <td>0</td>\n",
       "      <td>0</td>\n",
       "      <td>1</td>\n",
       "    </tr>\n",
       "    <tr>\n",
       "      <th>3</th>\n",
       "      <td>1</td>\n",
       "      <td>1.0</td>\n",
       "      <td>0.0</td>\n",
       "      <td>0.0</td>\n",
       "      <td>0</td>\n",
       "      <td>0</td>\n",
       "      <td>0</td>\n",
       "      <td>0</td>\n",
       "      <td>0</td>\n",
       "      <td>0</td>\n",
       "      <td>...</td>\n",
       "      <td>0</td>\n",
       "      <td>0</td>\n",
       "      <td>0</td>\n",
       "      <td>0</td>\n",
       "      <td>0</td>\n",
       "      <td>0</td>\n",
       "      <td>0</td>\n",
       "      <td>0</td>\n",
       "      <td>0</td>\n",
       "      <td>1</td>\n",
       "    </tr>\n",
       "    <tr>\n",
       "      <th>4</th>\n",
       "      <td>1</td>\n",
       "      <td>1.0</td>\n",
       "      <td>0.0</td>\n",
       "      <td>0.0</td>\n",
       "      <td>0</td>\n",
       "      <td>0</td>\n",
       "      <td>0</td>\n",
       "      <td>0</td>\n",
       "      <td>0</td>\n",
       "      <td>0</td>\n",
       "      <td>...</td>\n",
       "      <td>0</td>\n",
       "      <td>0</td>\n",
       "      <td>0</td>\n",
       "      <td>0</td>\n",
       "      <td>0</td>\n",
       "      <td>0</td>\n",
       "      <td>0</td>\n",
       "      <td>0</td>\n",
       "      <td>0</td>\n",
       "      <td>1</td>\n",
       "    </tr>\n",
       "  </tbody>\n",
       "</table>\n",
       "<p>5 rows × 75 columns</p>\n",
       "</div>"
      ],
      "text/plain": [
       "   시술 유형  배란 자극 여부  단일 배아 이식 여부  착상 전 유전 진단 사용 여부  남성 주 불임 원인  남성 부 불임 원인  \\\n",
       "0      1       1.0          0.0               0.0           0           0   \n",
       "1      1       0.0          0.0               0.0           0           0   \n",
       "2      1       1.0          0.0               0.0           0           0   \n",
       "3      1       1.0          0.0               0.0           0           0   \n",
       "4      1       1.0          0.0               0.0           0           0   \n",
       "\n",
       "   여성 주 불임 원인  여성 부 불임 원인  부부 주 불임 원인  부부 부 불임 원인  ...  시술 당시 나이_만40-42세  \\\n",
       "0           0           0           0           0  ...                 0   \n",
       "1           0           0           0           0  ...                 0   \n",
       "2           0           0           0           0  ...                 0   \n",
       "3           0           0           0           0  ...                 0   \n",
       "4           0           0           0           0  ...                 0   \n",
       "\n",
       "   시술 당시 나이_만43-44세  시술 당시 나이_만45-50세  시술 당시 나이_알 수 없음  정자 기증자 나이_만21-25세  \\\n",
       "0                 0                 0                0                  0   \n",
       "1                 0                 1                0                  0   \n",
       "2                 0                 0                0                  0   \n",
       "3                 0                 0                0                  0   \n",
       "4                 0                 0                0                  0   \n",
       "\n",
       "   정자 기증자 나이_만26-30세  정자 기증자 나이_만31-35세  정자 기증자 나이_만36-40세  정자 기증자 나이_만41-45세  \\\n",
       "0                  0                  0                  0                  0   \n",
       "1                  0                  0                  0                  0   \n",
       "2                  0                  0                  0                  0   \n",
       "3                  0                  0                  0                  0   \n",
       "4                  0                  0                  0                  0   \n",
       "\n",
       "   정자 기증자 나이_알 수 없음  \n",
       "0                 1  \n",
       "1                 1  \n",
       "2                 1  \n",
       "3                 1  \n",
       "4                 1  \n",
       "\n",
       "[5 rows x 75 columns]"
      ]
     },
     "execution_count": 688,
     "metadata": {},
     "output_type": "execute_result"
    }
   ],
   "source": [
    "train.head()"
   ]
  },
  {
   "cell_type": "code",
   "execution_count": 690,
   "id": "tqAzo8J_k1kS",
   "metadata": {
    "id": "tqAzo8J_k1kS"
   },
   "outputs": [],
   "source": [
    "train.to_csv('C:/Users/sshyu/Downloads/Aimers_data/train_2.csv',index=False,encoding='utf-8-sig')\n",
    "test.to_csv('C:/Users/sshyu/Downloads/Aimers_data/test_2.csv',index=False,encoding='utf-8-sig')"
   ]
  }
 ],
 "metadata": {
  "accelerator": "TPU",
  "colab": {
   "gpuType": "V28",
   "provenance": []
  },
  "kernelspec": {
   "display_name": "Python 3 (ipykernel)",
   "language": "python",
   "name": "python3"
  },
  "language_info": {
   "codemirror_mode": {
    "name": "ipython",
    "version": 3
   },
   "file_extension": ".py",
   "mimetype": "text/x-python",
   "name": "python",
   "nbconvert_exporter": "python",
   "pygments_lexer": "ipython3",
   "version": "3.12.5"
  }
 },
 "nbformat": 4,
 "nbformat_minor": 5
}
