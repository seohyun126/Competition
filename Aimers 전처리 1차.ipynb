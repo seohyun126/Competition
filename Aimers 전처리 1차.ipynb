{
 "cells": [
  {
   "cell_type": "code",
   "execution_count": 517,
   "id": "fd9888cb-4057-49b3-bc35-bdf2eae05e4f",
   "metadata": {},
   "outputs": [],
   "source": [
    "import pandas as pd\n",
    "train=pd.read_csv(\"C:/Users/sshyu/Downloads/Aimers_data/train.csv\").drop(columns=['ID'])\n",
    "test=pd.read_csv(\"C:/Users/sshyu/Downloads/Aimers_data/test.csv\").drop(columns=['ID'])\n",
    "submission=pd.read_csv(\"C:/Users/sshyu/Downloads/Aimers_data/sample_submission.csv\")"
   ]
  },
  {
   "cell_type": "markdown",
   "id": "51dd6350-4ba9-41f8-876f-c63f3ed999e8",
   "metadata": {},
   "source": [
    "## 데이터 확인 ##"
   ]
  },
  {
   "cell_type": "code",
   "execution_count": 518,
   "id": "1e5e9ade-76e6-4994-874c-75d35d60616c",
   "metadata": {},
   "outputs": [
    {
     "data": {
      "text/plain": [
       "256351"
      ]
     },
     "execution_count": 518,
     "metadata": {},
     "output_type": "execute_result"
    }
   ],
   "source": [
    "train.shape[0]"
   ]
  },
  {
   "cell_type": "code",
   "execution_count": 519,
   "id": "8f2e0fa9-842b-4bfc-8b88-b97fff59f32a",
   "metadata": {},
   "outputs": [
    {
     "data": {
      "text/html": [
       "<div>\n",
       "<style scoped>\n",
       "    .dataframe tbody tr th:only-of-type {\n",
       "        vertical-align: middle;\n",
       "    }\n",
       "\n",
       "    .dataframe tbody tr th {\n",
       "        vertical-align: top;\n",
       "    }\n",
       "\n",
       "    .dataframe thead th {\n",
       "        text-align: right;\n",
       "    }\n",
       "</style>\n",
       "<table border=\"1\" class=\"dataframe\">\n",
       "  <thead>\n",
       "    <tr style=\"text-align: right;\">\n",
       "      <th></th>\n",
       "      <th>0</th>\n",
       "    </tr>\n",
       "  </thead>\n",
       "  <tbody>\n",
       "    <tr>\n",
       "      <th>임신 시도 또는 마지막 임신 경과 연수</th>\n",
       "      <td>246981</td>\n",
       "    </tr>\n",
       "    <tr>\n",
       "      <th>특정 시술 유형</th>\n",
       "      <td>2</td>\n",
       "    </tr>\n",
       "    <tr>\n",
       "      <th>단일 배아 이식 여부</th>\n",
       "      <td>6291</td>\n",
       "    </tr>\n",
       "    <tr>\n",
       "      <th>착상 전 유전 검사 사용 여부</th>\n",
       "      <td>253633</td>\n",
       "    </tr>\n",
       "    <tr>\n",
       "      <th>착상 전 유전 진단 사용 여부</th>\n",
       "      <td>6291</td>\n",
       "    </tr>\n",
       "    <tr>\n",
       "      <th>배아 생성 주요 이유</th>\n",
       "      <td>6291</td>\n",
       "    </tr>\n",
       "    <tr>\n",
       "      <th>총 생성 배아 수</th>\n",
       "      <td>6291</td>\n",
       "    </tr>\n",
       "    <tr>\n",
       "      <th>미세주입된 난자 수</th>\n",
       "      <td>6291</td>\n",
       "    </tr>\n",
       "    <tr>\n",
       "      <th>미세주입에서 생성된 배아 수</th>\n",
       "      <td>6291</td>\n",
       "    </tr>\n",
       "    <tr>\n",
       "      <th>이식된 배아 수</th>\n",
       "      <td>6291</td>\n",
       "    </tr>\n",
       "    <tr>\n",
       "      <th>미세주입 배아 이식 수</th>\n",
       "      <td>6291</td>\n",
       "    </tr>\n",
       "    <tr>\n",
       "      <th>저장된 배아 수</th>\n",
       "      <td>6291</td>\n",
       "    </tr>\n",
       "    <tr>\n",
       "      <th>미세주입 후 저장된 배아 수</th>\n",
       "      <td>6291</td>\n",
       "    </tr>\n",
       "    <tr>\n",
       "      <th>해동된 배아 수</th>\n",
       "      <td>6291</td>\n",
       "    </tr>\n",
       "    <tr>\n",
       "      <th>해동 난자 수</th>\n",
       "      <td>6291</td>\n",
       "    </tr>\n",
       "    <tr>\n",
       "      <th>수집된 신선 난자 수</th>\n",
       "      <td>6291</td>\n",
       "    </tr>\n",
       "    <tr>\n",
       "      <th>저장된 신선 난자 수</th>\n",
       "      <td>6291</td>\n",
       "    </tr>\n",
       "    <tr>\n",
       "      <th>혼합된 난자 수</th>\n",
       "      <td>6291</td>\n",
       "    </tr>\n",
       "    <tr>\n",
       "      <th>파트너 정자와 혼합된 난자 수</th>\n",
       "      <td>6291</td>\n",
       "    </tr>\n",
       "    <tr>\n",
       "      <th>기증자 정자와 혼합된 난자 수</th>\n",
       "      <td>6291</td>\n",
       "    </tr>\n",
       "    <tr>\n",
       "      <th>동결 배아 사용 여부</th>\n",
       "      <td>6291</td>\n",
       "    </tr>\n",
       "    <tr>\n",
       "      <th>신선 배아 사용 여부</th>\n",
       "      <td>6291</td>\n",
       "    </tr>\n",
       "    <tr>\n",
       "      <th>기증 배아 사용 여부</th>\n",
       "      <td>6291</td>\n",
       "    </tr>\n",
       "    <tr>\n",
       "      <th>대리모 여부</th>\n",
       "      <td>6291</td>\n",
       "    </tr>\n",
       "    <tr>\n",
       "      <th>PGD 시술 여부</th>\n",
       "      <td>254172</td>\n",
       "    </tr>\n",
       "    <tr>\n",
       "      <th>PGS 시술 여부</th>\n",
       "      <td>254422</td>\n",
       "    </tr>\n",
       "    <tr>\n",
       "      <th>난자 채취 경과일</th>\n",
       "      <td>57488</td>\n",
       "    </tr>\n",
       "    <tr>\n",
       "      <th>난자 해동 경과일</th>\n",
       "      <td>254915</td>\n",
       "    </tr>\n",
       "    <tr>\n",
       "      <th>난자 혼합 경과일</th>\n",
       "      <td>53735</td>\n",
       "    </tr>\n",
       "    <tr>\n",
       "      <th>배아 이식 경과일</th>\n",
       "      <td>43566</td>\n",
       "    </tr>\n",
       "    <tr>\n",
       "      <th>배아 해동 경과일</th>\n",
       "      <td>215982</td>\n",
       "    </tr>\n",
       "  </tbody>\n",
       "</table>\n",
       "</div>"
      ],
      "text/plain": [
       "                            0\n",
       "임신 시도 또는 마지막 임신 경과 연수  246981\n",
       "특정 시술 유형                    2\n",
       "단일 배아 이식 여부              6291\n",
       "착상 전 유전 검사 사용 여부       253633\n",
       "착상 전 유전 진단 사용 여부         6291\n",
       "배아 생성 주요 이유              6291\n",
       "총 생성 배아 수                6291\n",
       "미세주입된 난자 수               6291\n",
       "미세주입에서 생성된 배아 수          6291\n",
       "이식된 배아 수                 6291\n",
       "미세주입 배아 이식 수             6291\n",
       "저장된 배아 수                 6291\n",
       "미세주입 후 저장된 배아 수          6291\n",
       "해동된 배아 수                 6291\n",
       "해동 난자 수                  6291\n",
       "수집된 신선 난자 수              6291\n",
       "저장된 신선 난자 수              6291\n",
       "혼합된 난자 수                 6291\n",
       "파트너 정자와 혼합된 난자 수         6291\n",
       "기증자 정자와 혼합된 난자 수         6291\n",
       "동결 배아 사용 여부              6291\n",
       "신선 배아 사용 여부              6291\n",
       "기증 배아 사용 여부              6291\n",
       "대리모 여부                   6291\n",
       "PGD 시술 여부              254172\n",
       "PGS 시술 여부              254422\n",
       "난자 채취 경과일               57488\n",
       "난자 해동 경과일              254915\n",
       "난자 혼합 경과일               53735\n",
       "배아 이식 경과일               43566\n",
       "배아 해동 경과일              215982"
      ]
     },
     "execution_count": 519,
     "metadata": {},
     "output_type": "execute_result"
    }
   ],
   "source": [
    "pd.DataFrame(train.isna().sum()[train.isna().sum() > 0])"
   ]
  },
  {
   "cell_type": "code",
   "execution_count": 520,
   "id": "15216e9f-00dd-4c86-820d-3f1ea60d2605",
   "metadata": {},
   "outputs": [],
   "source": [
    "# 너무 NaN이 많은 컬럼 제외\n",
    "train.drop(['임신 시도 또는 마지막 임신 경과 연수','착상 전 유전 검사 사용 여부','난자 해동 경과일','배아 해동 경과일'],axis=1,inplace=True)\n",
    "test.drop(['임신 시도 또는 마지막 임신 경과 연수','착상 전 유전 검사 사용 여부','난자 해동 경과일','배아 해동 경과일'],axis=1,inplace=True)"
   ]
  },
  {
   "cell_type": "code",
   "execution_count": 521,
   "id": "15b8eecf-67b9-4244-b6a8-e8205036a1e1",
   "metadata": {},
   "outputs": [],
   "source": [
    "# 수/ 여부 가 들어간 column 중 nan 값을 0으로 채움\n",
    "train.loc[:, train.columns.str.contains(\"수|여부\")] = train.loc[:, train.columns.str.contains(\"수|여부\")].fillna(0)\n",
    "test.loc[:, test.columns.str.contains(\"수|여부\")] = test.loc[:, test.columns.str.contains(\"수|여부\")].fillna(0)"
   ]
  },
  {
   "cell_type": "code",
   "execution_count": 522,
   "id": "2e2e8cf5-ccbe-4456-9183-f25a8dfddc58",
   "metadata": {},
   "outputs": [
    {
     "data": {
      "text/html": [
       "<div>\n",
       "<style scoped>\n",
       "    .dataframe tbody tr th:only-of-type {\n",
       "        vertical-align: middle;\n",
       "    }\n",
       "\n",
       "    .dataframe tbody tr th {\n",
       "        vertical-align: top;\n",
       "    }\n",
       "\n",
       "    .dataframe thead th {\n",
       "        text-align: right;\n",
       "    }\n",
       "</style>\n",
       "<table border=\"1\" class=\"dataframe\">\n",
       "  <thead>\n",
       "    <tr style=\"text-align: right;\">\n",
       "      <th></th>\n",
       "      <th>0</th>\n",
       "    </tr>\n",
       "  </thead>\n",
       "  <tbody>\n",
       "    <tr>\n",
       "      <th>특정 시술 유형</th>\n",
       "      <td>2</td>\n",
       "    </tr>\n",
       "    <tr>\n",
       "      <th>배아 생성 주요 이유</th>\n",
       "      <td>6291</td>\n",
       "    </tr>\n",
       "    <tr>\n",
       "      <th>난자 채취 경과일</th>\n",
       "      <td>57488</td>\n",
       "    </tr>\n",
       "    <tr>\n",
       "      <th>난자 혼합 경과일</th>\n",
       "      <td>53735</td>\n",
       "    </tr>\n",
       "    <tr>\n",
       "      <th>배아 이식 경과일</th>\n",
       "      <td>43566</td>\n",
       "    </tr>\n",
       "  </tbody>\n",
       "</table>\n",
       "</div>"
      ],
      "text/plain": [
       "                 0\n",
       "특정 시술 유형         2\n",
       "배아 생성 주요 이유   6291\n",
       "난자 채취 경과일    57488\n",
       "난자 혼합 경과일    53735\n",
       "배아 이식 경과일    43566"
      ]
     },
     "execution_count": 522,
     "metadata": {},
     "output_type": "execute_result"
    }
   ],
   "source": [
    "pd.DataFrame(train.isna().sum()[train.isna().sum() > 0])"
   ]
  },
  {
   "cell_type": "code",
   "execution_count": 523,
   "id": "20f52fbb-d330-4dd5-bacf-1b0108a7c942",
   "metadata": {},
   "outputs": [
    {
     "data": {
      "text/html": [
       "<div>\n",
       "<style scoped>\n",
       "    .dataframe tbody tr th:only-of-type {\n",
       "        vertical-align: middle;\n",
       "    }\n",
       "\n",
       "    .dataframe tbody tr th {\n",
       "        vertical-align: top;\n",
       "    }\n",
       "\n",
       "    .dataframe thead th {\n",
       "        text-align: right;\n",
       "    }\n",
       "</style>\n",
       "<table border=\"1\" class=\"dataframe\">\n",
       "  <thead>\n",
       "    <tr style=\"text-align: right;\">\n",
       "      <th></th>\n",
       "      <th>0</th>\n",
       "    </tr>\n",
       "  </thead>\n",
       "  <tbody>\n",
       "    <tr>\n",
       "      <th>배아 생성 주요 이유</th>\n",
       "      <td>2176</td>\n",
       "    </tr>\n",
       "    <tr>\n",
       "      <th>난자 채취 경과일</th>\n",
       "      <td>19949</td>\n",
       "    </tr>\n",
       "    <tr>\n",
       "      <th>난자 혼합 경과일</th>\n",
       "      <td>18579</td>\n",
       "    </tr>\n",
       "    <tr>\n",
       "      <th>배아 이식 경과일</th>\n",
       "      <td>15246</td>\n",
       "    </tr>\n",
       "  </tbody>\n",
       "</table>\n",
       "</div>"
      ],
      "text/plain": [
       "                 0\n",
       "배아 생성 주요 이유   2176\n",
       "난자 채취 경과일    19949\n",
       "난자 혼합 경과일    18579\n",
       "배아 이식 경과일    15246"
      ]
     },
     "execution_count": 523,
     "metadata": {},
     "output_type": "execute_result"
    }
   ],
   "source": [
    "pd.DataFrame(test.isna().sum()[test.isna().sum() > 0])"
   ]
  },
  {
   "cell_type": "code",
   "execution_count": 524,
   "id": "b7e21eb3-7f67-46d5-af43-5cb49badb4ea",
   "metadata": {},
   "outputs": [],
   "source": [
    "# train에서 특정 시술 유형이 NaN인 것 제외\n",
    "train = train.dropna(subset=[\"특정 시술 유형\"])"
   ]
  },
  {
   "cell_type": "code",
   "execution_count": 525,
   "id": "7fbc8a8e-3150-4615-beaa-f8713a0935d6",
   "metadata": {},
   "outputs": [
    {
     "data": {
      "text/html": [
       "<div>\n",
       "<style scoped>\n",
       "    .dataframe tbody tr th:only-of-type {\n",
       "        vertical-align: middle;\n",
       "    }\n",
       "\n",
       "    .dataframe tbody tr th {\n",
       "        vertical-align: top;\n",
       "    }\n",
       "\n",
       "    .dataframe thead th {\n",
       "        text-align: right;\n",
       "    }\n",
       "</style>\n",
       "<table border=\"1\" class=\"dataframe\">\n",
       "  <thead>\n",
       "    <tr style=\"text-align: right;\">\n",
       "      <th></th>\n",
       "      <th>0</th>\n",
       "    </tr>\n",
       "  </thead>\n",
       "  <tbody>\n",
       "    <tr>\n",
       "      <th>배아 생성 주요 이유</th>\n",
       "      <td>6291</td>\n",
       "    </tr>\n",
       "    <tr>\n",
       "      <th>난자 채취 경과일</th>\n",
       "      <td>57488</td>\n",
       "    </tr>\n",
       "    <tr>\n",
       "      <th>난자 혼합 경과일</th>\n",
       "      <td>53735</td>\n",
       "    </tr>\n",
       "    <tr>\n",
       "      <th>배아 이식 경과일</th>\n",
       "      <td>43564</td>\n",
       "    </tr>\n",
       "  </tbody>\n",
       "</table>\n",
       "</div>"
      ],
      "text/plain": [
       "                 0\n",
       "배아 생성 주요 이유   6291\n",
       "난자 채취 경과일    57488\n",
       "난자 혼합 경과일    53735\n",
       "배아 이식 경과일    43564"
      ]
     },
     "execution_count": 525,
     "metadata": {},
     "output_type": "execute_result"
    }
   ],
   "source": [
    "pd.DataFrame(train.isna().sum()[train.isna().sum() > 0])"
   ]
  },
  {
   "cell_type": "code",
   "execution_count": 526,
   "id": "4689f8b0-34eb-4585-972d-0c3de4913996",
   "metadata": {},
   "outputs": [],
   "source": [
    "# 난자 채취 경과일, 난자 혼합 경과일의 경우 csv 를 확인해보니 0 아니면 NaN 값임 -> 제외시키기\n",
    "train.drop(['난자 채취 경과일','난자 혼합 경과일'],inplace=True, axis=1)\n",
    "test.drop(['난자 채취 경과일','난자 혼합 경과일'],inplace=True, axis=1)"
   ]
  },
  {
   "cell_type": "code",
   "execution_count": 527,
   "id": "bc2b9dc0-1eaf-4104-b7eb-da5699c322fb",
   "metadata": {},
   "outputs": [
    {
     "data": {
      "text/html": [
       "<div>\n",
       "<style scoped>\n",
       "    .dataframe tbody tr th:only-of-type {\n",
       "        vertical-align: middle;\n",
       "    }\n",
       "\n",
       "    .dataframe tbody tr th {\n",
       "        vertical-align: top;\n",
       "    }\n",
       "\n",
       "    .dataframe thead th {\n",
       "        text-align: right;\n",
       "    }\n",
       "</style>\n",
       "<table border=\"1\" class=\"dataframe\">\n",
       "  <thead>\n",
       "    <tr style=\"text-align: right;\">\n",
       "      <th></th>\n",
       "      <th>0</th>\n",
       "    </tr>\n",
       "  </thead>\n",
       "  <tbody>\n",
       "    <tr>\n",
       "      <th>배아 생성 주요 이유</th>\n",
       "      <td>6291</td>\n",
       "    </tr>\n",
       "    <tr>\n",
       "      <th>배아 이식 경과일</th>\n",
       "      <td>43564</td>\n",
       "    </tr>\n",
       "  </tbody>\n",
       "</table>\n",
       "</div>"
      ],
      "text/plain": [
       "                 0\n",
       "배아 생성 주요 이유   6291\n",
       "배아 이식 경과일    43564"
      ]
     },
     "execution_count": 527,
     "metadata": {},
     "output_type": "execute_result"
    }
   ],
   "source": [
    "pd.DataFrame(train.isna().sum()[train.isna().sum() > 0])"
   ]
  },
  {
   "cell_type": "code",
   "execution_count": 528,
   "id": "ba4509c9-f421-43d9-bd44-fc663973c3b1",
   "metadata": {},
   "outputs": [
    {
     "data": {
      "text/html": [
       "<div>\n",
       "<style scoped>\n",
       "    .dataframe tbody tr th:only-of-type {\n",
       "        vertical-align: middle;\n",
       "    }\n",
       "\n",
       "    .dataframe tbody tr th {\n",
       "        vertical-align: top;\n",
       "    }\n",
       "\n",
       "    .dataframe thead th {\n",
       "        text-align: right;\n",
       "    }\n",
       "</style>\n",
       "<table border=\"1\" class=\"dataframe\">\n",
       "  <thead>\n",
       "    <tr style=\"text-align: right;\">\n",
       "      <th></th>\n",
       "      <th>0</th>\n",
       "    </tr>\n",
       "  </thead>\n",
       "  <tbody>\n",
       "    <tr>\n",
       "      <th>배아 생성 주요 이유</th>\n",
       "      <td>2176</td>\n",
       "    </tr>\n",
       "    <tr>\n",
       "      <th>배아 이식 경과일</th>\n",
       "      <td>15246</td>\n",
       "    </tr>\n",
       "  </tbody>\n",
       "</table>\n",
       "</div>"
      ],
      "text/plain": [
       "                 0\n",
       "배아 생성 주요 이유   2176\n",
       "배아 이식 경과일    15246"
      ]
     },
     "execution_count": 528,
     "metadata": {},
     "output_type": "execute_result"
    }
   ],
   "source": [
    "pd.DataFrame(test.isna().sum()[train.isna().sum() > 0])"
   ]
  },
  {
   "cell_type": "code",
   "execution_count": 529,
   "id": "9f7e36c2-70aa-47d8-8388-93b29a895854",
   "metadata": {},
   "outputs": [
    {
     "data": {
      "text/plain": [
       "시술 유형\n",
       "IVF    250058\n",
       "DI       6291\n",
       "Name: count, dtype: int64"
      ]
     },
     "execution_count": 529,
     "metadata": {},
     "output_type": "execute_result"
    }
   ],
   "source": [
    "train['시술 유형'].value_counts()"
   ]
  },
  {
   "cell_type": "code",
   "execution_count": 530,
   "id": "497438bc-272e-4813-8414-248602ebfd29",
   "metadata": {},
   "outputs": [],
   "source": [
    "# 시술 유형이 IVF면 1, DI면 0으로\n",
    "train.loc[train['시술 유형']=='IVF','시술 유형']=1\n",
    "train.loc[train['시술 유형']=='DI','시술 유형']=0"
   ]
  },
  {
   "cell_type": "code",
   "execution_count": 531,
   "id": "c0216bc3-c2ae-40ff-9f6c-e16820799229",
   "metadata": {},
   "outputs": [],
   "source": [
    "test.loc[test['시술 유형']=='IVF','시술 유형']=1\n",
    "test.loc[test['시술 유형']=='DI','시술 유형']=0"
   ]
  },
  {
   "cell_type": "code",
   "execution_count": 532,
   "id": "111fff15-deae-4ef0-bb44-aef7a441175e",
   "metadata": {},
   "outputs": [],
   "source": [
    "train['시술 유형']=train['시술 유형'].astype(int)\n",
    "test['시술 유형']=test['시술 유형'].astype(int)"
   ]
  },
  {
   "cell_type": "code",
   "execution_count": 533,
   "id": "25fc135e-36ba-480b-8862-cb9983e0f248",
   "metadata": {},
   "outputs": [
    {
     "data": {
      "text/plain": [
       "Index(['시술 시기 코드', '시술 당시 나이', '특정 시술 유형', '배란 유도 유형', '배아 생성 주요 이유',\n",
       "       '총 시술 횟수', '클리닉 내 총 시술 횟수', 'IVF 시술 횟수', 'DI 시술 횟수', '총 임신 횟수',\n",
       "       'IVF 임신 횟수', 'DI 임신 횟수', '총 출산 횟수', 'IVF 출산 횟수', 'DI 출산 횟수', '난자 출처',\n",
       "       '정자 출처', '난자 기증자 나이', '정자 기증자 나이'],\n",
       "      dtype='object')"
      ]
     },
     "execution_count": 533,
     "metadata": {},
     "output_type": "execute_result"
    }
   ],
   "source": [
    "train.select_dtypes(include=['object']).columns"
   ]
  },
  {
   "cell_type": "code",
   "execution_count": 534,
   "id": "2d4befc5-5518-4c5e-904a-ecf136d77a3e",
   "metadata": {},
   "outputs": [
    {
     "data": {
      "text/plain": [
       "시술 시기 코드\n",
       "TRDQAZ    38969\n",
       "TRCMWS    38090\n",
       "TRYBLT    36713\n",
       "TRVNRY    36172\n",
       "TRJXFG    36030\n",
       "TRZKPL    35544\n",
       "TRXQMD    34831\n",
       "Name: count, dtype: int64"
      ]
     },
     "execution_count": 534,
     "metadata": {},
     "output_type": "execute_result"
    }
   ],
   "source": [
    "train['시술 시기 코드'].value_counts()"
   ]
  },
  {
   "cell_type": "code",
   "execution_count": 535,
   "id": "fa46e82d-e697-42d9-84f2-df05cdd304ed",
   "metadata": {},
   "outputs": [
    {
     "data": {
      "text/plain": [
       "시술 시기 코드\n",
       "TRCMWS    0.257417\n",
       "TRDQAZ    0.245426\n",
       "TRJXFG    0.266278\n",
       "TRVNRY    0.259787\n",
       "TRXQMD    0.256122\n",
       "TRYBLT    0.269087\n",
       "TRZKPL    0.255120\n",
       "Name: 임신 성공 여부, dtype: float64"
      ]
     },
     "execution_count": 535,
     "metadata": {},
     "output_type": "execute_result"
    }
   ],
   "source": [
    "train.groupby('시술 시기 코드')['임신 성공 여부'].mean()"
   ]
  },
  {
   "cell_type": "code",
   "execution_count": 536,
   "id": "be747931-ad38-442d-9abf-01883e9a41f0",
   "metadata": {},
   "outputs": [
    {
     "data": {
      "text/plain": [
       "시술 시기 코드\n",
       "TRDQAZ    13610\n",
       "TRCMWS    13392\n",
       "TRYBLT    12929\n",
       "TRZKPL    12793\n",
       "TRJXFG    12764\n",
       "TRVNRY    12560\n",
       "TRXQMD    12019\n",
       "Name: count, dtype: int64"
      ]
     },
     "execution_count": 536,
     "metadata": {},
     "output_type": "execute_result"
    }
   ],
   "source": [
    "test['시술 시기 코드'].value_counts()"
   ]
  },
  {
   "cell_type": "markdown",
   "id": "4afe0ec2-a069-4157-87d6-b82206cf7eef",
   "metadata": {},
   "source": [
    "시술 시기 코드의 경우 적절히 분배되어 있고, 시술 시기 코드 별 임신 성공 여부에 큰 차이가 없음\n",
    "\n",
    "따라서 해당 열을 제외"
   ]
  },
  {
   "cell_type": "code",
   "execution_count": 537,
   "id": "3d0626da-3b9c-4a8e-a1f6-4c36ff46ef65",
   "metadata": {},
   "outputs": [],
   "source": [
    "train.drop('시술 시기 코드',axis=1,inplace=True)\n",
    "test.drop('시술 시기 코드',axis=1,inplace=True)"
   ]
  },
  {
   "cell_type": "code",
   "execution_count": 538,
   "id": "a4c6e1e1-e5ea-4d13-93cf-e92df59e490c",
   "metadata": {},
   "outputs": [],
   "source": [
    "# 따라서 배란 유도 유형 drop -> 의미 있는 값이 2개 밖에 없음\n",
    "train.drop('배란 유도 유형', inplace=True, axis=1)\n",
    "test.drop('배란 유도 유형', inplace=True, axis=1)"
   ]
  },
  {
   "cell_type": "code",
   "execution_count": 539,
   "id": "58694396-94b9-448d-80fc-7157cd215d21",
   "metadata": {},
   "outputs": [
    {
     "data": {
      "text/plain": [
       "특정 시술 유형\n",
       "ICSI                                   122368\n",
       "IVF                                     91755\n",
       "Unknown                                 26939\n",
       "IUI                                      6100\n",
       "ICSI:ICSI                                2314\n",
       "ICSI / BLASTOCYST                        1609\n",
       "IVF / BLASTOCYST                         1248\n",
       "IVF:IVF                                  1146\n",
       "ICSI:IVF                                  873\n",
       "ICSI / AH                                 769\n",
       "IVF:ICSI                                  392\n",
       "IVF / AH                                  319\n",
       "ICSI:Unknown                              207\n",
       "IVF:Unknown                               100\n",
       "ICI                                        96\n",
       "Generic DI                                 71\n",
       "IVI                                        23\n",
       "ICSI / BLASTOCYST:IVF / BLASTOCYST          6\n",
       "ICSI / BLASTOCYST :IVF / BLASTOCYST         4\n",
       "FER                                         3\n",
       "IVF / AH:ICSI / AH                          2\n",
       "GIFT                                        2\n",
       "ICSI / AH:Unknown                           2\n",
       "ICSI / BLASTOCYST :ICSI                     1\n",
       "Name: count, dtype: int64"
      ]
     },
     "execution_count": 539,
     "metadata": {},
     "output_type": "execute_result"
    }
   ],
   "source": [
    "train['특정 시술 유형'].value_counts()"
   ]
  },
  {
   "cell_type": "code",
   "execution_count": 540,
   "id": "60bf3e5d-7889-4c03-b06e-4214614cc77a",
   "metadata": {},
   "outputs": [],
   "source": [
    "# 너무 카테고리가 많음\n",
    "# 주요 그룹으로 단순화하기 - 카테고리 갯수 줄이기\n",
    "def simplify_treatment_type(x):\n",
    "    if \"ICSI\" in x:\n",
    "        return \"ICSI\"\n",
    "    elif \"IVF\" in x:\n",
    "        return \"IVF\"\n",
    "    elif \"IUI\" in x:\n",
    "        return \"IUI\"\n",
    "    elif \"FER\" in x:\n",
    "        return \"FER\"\n",
    "    elif \"GIFT\" in x:\n",
    "        return \"GIFT\"\n",
    "    elif \"ICI\" in x:\n",
    "        return \"ICI\"\n",
    "    elif \"DI\" in x:\n",
    "        return \"DI\"\n",
    "    else:\n",
    "        return \"Unknown\"\n",
    "\n",
    "train['특정 시술 유형'] = train['특정 시술 유형'].apply(simplify_treatment_type)"
   ]
  },
  {
   "cell_type": "code",
   "execution_count": 541,
   "id": "26138ea5-2fe8-4623-918e-ac7c273fda93",
   "metadata": {},
   "outputs": [
    {
     "data": {
      "text/plain": [
       "특정 시술 유형\n",
       "ICSI       128547\n",
       "IVF         94568\n",
       "Unknown     26962\n",
       "IUI          6100\n",
       "ICI            96\n",
       "DI             71\n",
       "FER             3\n",
       "GIFT            2\n",
       "Name: count, dtype: int64"
      ]
     },
     "execution_count": 541,
     "metadata": {},
     "output_type": "execute_result"
    }
   ],
   "source": [
    "train['특정 시술 유형'].value_counts()"
   ]
  },
  {
   "cell_type": "code",
   "execution_count": 542,
   "id": "8481c3ce-edcb-490e-89e2-9777838d89b7",
   "metadata": {},
   "outputs": [],
   "source": [
    "test['특정 시술 유형'] = test['특정 시술 유형'].apply(simplify_treatment_type)"
   ]
  },
  {
   "cell_type": "code",
   "execution_count": 543,
   "id": "5cad90e7-71d6-4c35-9880-f1005ed44f15",
   "metadata": {},
   "outputs": [
    {
     "data": {
      "text/plain": [
       "특정 시술 유형\n",
       "ICSI       45383\n",
       "IVF        33292\n",
       "Unknown     9224\n",
       "IUI         2114\n",
       "ICI           28\n",
       "DI            26\n",
       "Name: count, dtype: int64"
      ]
     },
     "execution_count": 543,
     "metadata": {},
     "output_type": "execute_result"
    }
   ],
   "source": [
    "test['특정 시술 유형'].value_counts()"
   ]
  },
  {
   "cell_type": "code",
   "execution_count": 544,
   "id": "ceb3cccf-55cc-4d59-914e-9823d2888897",
   "metadata": {},
   "outputs": [
    {
     "data": {
      "text/plain": [
       "특정 시술 유형\n",
       "DI         0.169014\n",
       "FER        0.333333\n",
       "GIFT       0.000000\n",
       "ICI        0.135417\n",
       "ICSI       0.268314\n",
       "IUI        0.128525\n",
       "IVF        0.259443\n",
       "Unknown    0.237074\n",
       "Name: 임신 성공 여부, dtype: float64"
      ]
     },
     "execution_count": 544,
     "metadata": {},
     "output_type": "execute_result"
    }
   ],
   "source": [
    "train.groupby('특정 시술 유형')['임신 성공 여부'].mean()"
   ]
  },
  {
   "cell_type": "code",
   "execution_count": 545,
   "id": "08bcf369-1798-4f47-89fd-10dfbda323c3",
   "metadata": {},
   "outputs": [],
   "source": [
    "# DI (기증 정자 주입)은 성공 여부가 0\n",
    "# 하지만 test 데이터에는 해당 데이터가 없음\n",
    "# 그럼 DI가 있는 row를 드롭할까?\n",
    "train = train[train['특정 시술 유형'] != 'DI']"
   ]
  },
  {
   "cell_type": "code",
   "execution_count": 546,
   "id": "76a323bc-5129-4ed9-ab8b-ca7387ceeed4",
   "metadata": {},
   "outputs": [
    {
     "data": {
      "text/plain": [
       "배아 생성 주요 이유\n",
       "현재 시술용                 233730\n",
       "배아 저장용                   9192\n",
       "기증용, 현재 시술용              3784\n",
       "난자 저장용                   1959\n",
       "기증용                      1108\n",
       "기증용, 배아 저장용               125\n",
       "배아 저장용, 현재 시술용             83\n",
       "기증용, 난자 저장용                44\n",
       "기증용, 배아 저장용, 현재 시술용        20\n",
       "난자 저장용, 배아 저장용              6\n",
       "난자 저장용, 현재 시술용              5\n",
       "연구용, 현재 시술용                 1\n",
       "난자 저장용, 배아 저장용, 연구용         1\n",
       "Name: count, dtype: int64"
      ]
     },
     "execution_count": 546,
     "metadata": {},
     "output_type": "execute_result"
    }
   ],
   "source": [
    "train['배아 생성 주요 이유'].value_counts()"
   ]
  },
  {
   "cell_type": "code",
   "execution_count": 547,
   "id": "67ff0312-858d-459a-ba6c-1593a6d55c23",
   "metadata": {},
   "outputs": [
    {
     "data": {
      "text/plain": [
       "배아 생성 주요 이유\n",
       "현재 시술용                 82253\n",
       "배아 저장용                  3151\n",
       "기증용, 현재 시술용             1327\n",
       "난자 저장용                   664\n",
       "기증용                      384\n",
       "기증용, 배아 저장용               47\n",
       "배아 저장용, 현재 시술용            38\n",
       "기증용, 난자 저장용               19\n",
       "기증용, 배아 저장용, 현재 시술용        6\n",
       "난자 저장용, 현재 시술용             1\n",
       "난자 저장용, 배아 저장용             1\n",
       "Name: count, dtype: int64"
      ]
     },
     "execution_count": 547,
     "metadata": {},
     "output_type": "execute_result"
    }
   ],
   "source": [
    "test['배아 생성 주요 이유'].value_counts()"
   ]
  },
  {
   "cell_type": "code",
   "execution_count": 548,
   "id": "39cfaabd-547f-4259-a1b0-ea9e72f1fb1d",
   "metadata": {},
   "outputs": [
    {
     "data": {
      "text/plain": [
       "(237623, 60)"
      ]
     },
     "execution_count": 548,
     "metadata": {},
     "output_type": "execute_result"
    }
   ],
   "source": [
    "train[train['배아 생성 주요 이유'].str.contains('현재 시술용',na=False)].shape"
   ]
  },
  {
   "cell_type": "code",
   "execution_count": 549,
   "id": "74fb77ee-ffd1-416d-81ed-293835924a2c",
   "metadata": {},
   "outputs": [
    {
     "data": {
      "text/plain": [
       "배아 생성 주요 이유\n",
       "기증용                    0.000000\n",
       "기증용, 난자 저장용            0.000000\n",
       "기증용, 배아 저장용            0.000000\n",
       "기증용, 배아 저장용, 현재 시술용    0.350000\n",
       "기증용, 현재 시술용            0.379757\n",
       "난자 저장용                 0.000000\n",
       "난자 저장용, 배아 저장용         0.000000\n",
       "난자 저장용, 배아 저장용, 연구용    0.000000\n",
       "난자 저장용, 현재 시술용         0.200000\n",
       "배아 저장용                 0.000870\n",
       "배아 저장용, 현재 시술용         0.265060\n",
       "연구용, 현재 시술용            0.000000\n",
       "현재 시술용                 0.273572\n",
       "Name: 임신 성공 여부, dtype: float64"
      ]
     },
     "execution_count": 549,
     "metadata": {},
     "output_type": "execute_result"
    }
   ],
   "source": [
    "train.groupby('배아 생성 주요 이유')['임신 성공 여부'].mean()"
   ]
  },
  {
   "cell_type": "code",
   "execution_count": 550,
   "id": "cf49085d-46af-4a49-a25b-385996dc107c",
   "metadata": {},
   "outputs": [
    {
     "data": {
      "text/plain": [
       "0.1284565916398714"
      ]
     },
     "execution_count": 550,
     "metadata": {},
     "output_type": "execute_result"
    }
   ],
   "source": [
    "train[train['배아 생성 주요 이유'].isna()]['임신 성공 여부'].mean()"
   ]
  },
  {
   "cell_type": "markdown",
   "id": "d5c307a4-2e0a-4c25-8a6a-e4d853c9ce37",
   "metadata": {},
   "source": [
    "현재 시술 용만 배아 생성 주요 이유 = 1 을 할지, 아니면 현재 시술 용이 포함된 걸 모두 배아 생성 주요 이유 = 0 을 할지 고민했는데 (아닌 건 0으로)\n",
    "\n",
    "배아 생성 주요 이유에 현재 시술용이 포함되어 있는 것과 아닌 것에 임신 성공 여부 차이가 많이 남\n",
    "\n",
    "또한 배아 생성 주요 이유가 NaN 값인 건 그 중간 정도 임신 성공 여부 평균값을 가짐\n",
    "\n",
    "나중에 scaling을 한다고 했을 때 모든 값들이 0~1 사이, 또는 -1~1 사이의 값들이어야 하므로\n",
    "\n",
    "배아 생성 주요 이유에 현재 시술용이 포함되면 1, 아니면 0, NaN이면 0.5 부여"
   ]
  },
  {
   "cell_type": "code",
   "execution_count": 551,
   "id": "d6f957f1-49ba-4e8c-8a8c-820921ed6931",
   "metadata": {},
   "outputs": [
    {
     "data": {
      "text/plain": [
       "(6220, 60)"
      ]
     },
     "execution_count": 551,
     "metadata": {},
     "output_type": "execute_result"
    }
   ],
   "source": [
    "train[train['배아 생성 주요 이유'].isna()].shape"
   ]
  },
  {
   "cell_type": "code",
   "execution_count": 552,
   "id": "81b11575-22e2-4034-a400-fef8f0bcc4dd",
   "metadata": {},
   "outputs": [],
   "source": [
    "train['현재 시술용 여부']=0.0\n",
    "train.loc[train['배아 생성 주요 이유'].isna(),'현재 시술용 여부']=0.5"
   ]
  },
  {
   "cell_type": "code",
   "execution_count": 553,
   "id": "142f9d3d-7302-478a-8b3e-104528b676c2",
   "metadata": {},
   "outputs": [
    {
     "data": {
      "text/plain": [
       "현재 시술용 여부\n",
       "0.0    250058\n",
       "0.5      6220\n",
       "Name: count, dtype: int64"
      ]
     },
     "execution_count": 553,
     "metadata": {},
     "output_type": "execute_result"
    }
   ],
   "source": [
    "train['현재 시술용 여부'].value_counts()"
   ]
  },
  {
   "cell_type": "code",
   "execution_count": 554,
   "id": "c5ae9655-1505-4eec-a268-ef50e3701d65",
   "metadata": {},
   "outputs": [],
   "source": [
    "train.loc[train['배아 생성 주요 이유'].str.contains('현재 시술용',na=False),'현재 시술용 여부']=1"
   ]
  },
  {
   "cell_type": "code",
   "execution_count": 555,
   "id": "2b38ea06-7c01-47e2-859d-d5a7aabe1c66",
   "metadata": {},
   "outputs": [
    {
     "data": {
      "text/plain": [
       "현재 시술용 여부\n",
       "1.0    237623\n",
       "0.0     12435\n",
       "0.5      6220\n",
       "Name: count, dtype: int64"
      ]
     },
     "execution_count": 555,
     "metadata": {},
     "output_type": "execute_result"
    }
   ],
   "source": [
    "train.drop('배아 생성 주요 이유',inplace=True,axis=1)\n",
    "train['현재 시술용 여부'].value_counts()"
   ]
  },
  {
   "cell_type": "code",
   "execution_count": 556,
   "id": "7ce7cafb-f3f5-4b94-b836-3b8bae712ac8",
   "metadata": {},
   "outputs": [],
   "source": [
    "test['현재 시술용 여부']=0.0\n",
    "test.loc[test['배아 생성 주요 이유'].isna(),'현재 시술용 여부']=0.5\n",
    "test.loc[test['배아 생성 주요 이유'].str.contains('현재 시술용',na=False),'현재 시술용 여부']=1"
   ]
  },
  {
   "cell_type": "code",
   "execution_count": 557,
   "id": "389e6647-12fb-4341-a4b2-cf0a73c781f7",
   "metadata": {},
   "outputs": [
    {
     "data": {
      "text/plain": [
       "현재 시술용 여부\n",
       "1.0    83625\n",
       "0.0     4266\n",
       "0.5     2176\n",
       "Name: count, dtype: int64"
      ]
     },
     "execution_count": 557,
     "metadata": {},
     "output_type": "execute_result"
    }
   ],
   "source": [
    "test.drop('배아 생성 주요 이유',inplace=True,axis=1)\n",
    "test['현재 시술용 여부'].value_counts()"
   ]
  },
  {
   "cell_type": "code",
   "execution_count": 558,
   "id": "e7cc83d3-7539-418f-952b-b0679a5a9ab4",
   "metadata": {},
   "outputs": [
    {
     "data": {
      "text/plain": [
       "총 시술 횟수\n",
       "0회       0.291018\n",
       "1회       0.249969\n",
       "2회       0.244190\n",
       "3회       0.236400\n",
       "4회       0.227765\n",
       "5회       0.215753\n",
       "6회 이상    0.203374\n",
       "Name: 임신 성공 여부, dtype: float64"
      ]
     },
     "execution_count": 558,
     "metadata": {},
     "output_type": "execute_result"
    }
   ],
   "source": [
    "train.groupby('총 시술 횟수')['임신 성공 여부'].mean()"
   ]
  },
  {
   "cell_type": "code",
   "execution_count": 559,
   "id": "4dec9b9f-9244-4ad2-b0fc-3743b8eed3ce",
   "metadata": {},
   "outputs": [
    {
     "name": "stderr",
     "output_type": "stream",
     "text": [
      "<>:2: SyntaxWarning: invalid escape sequence '\\d'\n",
      "<>:2: SyntaxWarning: invalid escape sequence '\\d'\n",
      "C:\\Users\\sshyu\\AppData\\Local\\Temp\\ipykernel_12052\\3497006103.py:2: SyntaxWarning: invalid escape sequence '\\d'\n",
      "  train['총 시술 횟수'] = train['총 시술 횟수'].str.extract('(\\d+)').astype(int)\n"
     ]
    }
   ],
   "source": [
    "# 상관관계 분석을 위해 일단 숫자형으로 바꾸기\n",
    "train['총 시술 횟수'] = train['총 시술 횟수'].str.extract('(\\d+)').astype(int)"
   ]
  },
  {
   "cell_type": "code",
   "execution_count": 560,
   "id": "376e9a4e-912b-4ed2-b2f3-572bcae4270f",
   "metadata": {},
   "outputs": [
    {
     "name": "stderr",
     "output_type": "stream",
     "text": [
      "<>:1: SyntaxWarning: invalid escape sequence '\\d'\n",
      "<>:1: SyntaxWarning: invalid escape sequence '\\d'\n",
      "C:\\Users\\sshyu\\AppData\\Local\\Temp\\ipykernel_12052\\1609410155.py:1: SyntaxWarning: invalid escape sequence '\\d'\n",
      "  test['총 시술 횟수'] = test['총 시술 횟수'].str.extract('(\\d+)').astype(int)\n"
     ]
    }
   ],
   "source": [
    "test['총 시술 횟수'] = test['총 시술 횟수'].str.extract('(\\d+)').astype(int)"
   ]
  },
  {
   "cell_type": "code",
   "execution_count": 561,
   "id": "96ca9cf5-e93a-4f05-81e2-9736e5226d1a",
   "metadata": {},
   "outputs": [
    {
     "data": {
      "text/html": [
       "<div>\n",
       "<style scoped>\n",
       "    .dataframe tbody tr th:only-of-type {\n",
       "        vertical-align: middle;\n",
       "    }\n",
       "\n",
       "    .dataframe tbody tr th {\n",
       "        vertical-align: top;\n",
       "    }\n",
       "\n",
       "    .dataframe thead th {\n",
       "        text-align: right;\n",
       "    }\n",
       "</style>\n",
       "<table border=\"1\" class=\"dataframe\">\n",
       "  <thead>\n",
       "    <tr style=\"text-align: right;\">\n",
       "      <th></th>\n",
       "      <th>총 시술 횟수</th>\n",
       "      <th>임신 성공 여부</th>\n",
       "    </tr>\n",
       "  </thead>\n",
       "  <tbody>\n",
       "    <tr>\n",
       "      <th>총 시술 횟수</th>\n",
       "      <td>1.000000</td>\n",
       "      <td>-0.058927</td>\n",
       "    </tr>\n",
       "    <tr>\n",
       "      <th>임신 성공 여부</th>\n",
       "      <td>-0.058927</td>\n",
       "      <td>1.000000</td>\n",
       "    </tr>\n",
       "  </tbody>\n",
       "</table>\n",
       "</div>"
      ],
      "text/plain": [
       "           총 시술 횟수  임신 성공 여부\n",
       "총 시술 횟수   1.000000 -0.058927\n",
       "임신 성공 여부 -0.058927  1.000000"
      ]
     },
     "execution_count": 561,
     "metadata": {},
     "output_type": "execute_result"
    }
   ],
   "source": [
    "train[['총 시술 횟수', '임신 성공 여부']].corr()"
   ]
  },
  {
   "cell_type": "code",
   "execution_count": 562,
   "id": "f02f18d1-091c-4eca-b643-9d7287e6fe1f",
   "metadata": {},
   "outputs": [
    {
     "data": {
      "text/html": [
       "<div>\n",
       "<style scoped>\n",
       "    .dataframe tbody tr th:only-of-type {\n",
       "        vertical-align: middle;\n",
       "    }\n",
       "\n",
       "    .dataframe tbody tr th {\n",
       "        vertical-align: top;\n",
       "    }\n",
       "\n",
       "    .dataframe thead th {\n",
       "        text-align: right;\n",
       "    }\n",
       "</style>\n",
       "<table border=\"1\" class=\"dataframe\">\n",
       "  <thead>\n",
       "    <tr style=\"text-align: right;\">\n",
       "      <th></th>\n",
       "      <th>총 시술 횟수</th>\n",
       "      <th>임신 성공 여부</th>\n",
       "    </tr>\n",
       "  </thead>\n",
       "  <tbody>\n",
       "    <tr>\n",
       "      <th>총 시술 횟수</th>\n",
       "      <td>1.000000</td>\n",
       "      <td>-0.062404</td>\n",
       "    </tr>\n",
       "    <tr>\n",
       "      <th>임신 성공 여부</th>\n",
       "      <td>-0.062404</td>\n",
       "      <td>1.000000</td>\n",
       "    </tr>\n",
       "  </tbody>\n",
       "</table>\n",
       "</div>"
      ],
      "text/plain": [
       "           총 시술 횟수  임신 성공 여부\n",
       "총 시술 횟수   1.000000 -0.062404\n",
       "임신 성공 여부 -0.062404  1.000000"
      ]
     },
     "execution_count": 562,
     "metadata": {},
     "output_type": "execute_result"
    }
   ],
   "source": [
    "train[['총 시술 횟수', '임신 성공 여부']].corr(method='spearman')"
   ]
  },
  {
   "cell_type": "code",
   "execution_count": 563,
   "id": "6fc8b56d-1182-4f9d-8672-3b8dfaa6c9f1",
   "metadata": {},
   "outputs": [
    {
     "name": "stderr",
     "output_type": "stream",
     "text": [
      "<>:4: SyntaxWarning: invalid escape sequence '\\d'\n",
      "<>:4: SyntaxWarning: invalid escape sequence '\\d'\n",
      "C:\\Users\\sshyu\\AppData\\Local\\Temp\\ipykernel_12052\\2332837819.py:4: SyntaxWarning: invalid escape sequence '\\d'\n",
      "  train['클리닉 내 총 시술 횟수'] = train['클리닉 내 총 시술 횟수'].str.extract('(\\d+)').astype(int)\n"
     ]
    }
   ],
   "source": [
    "# 어느 정도 관계가 보이긴 함.. 냅두기\n",
    "train.groupby('클리닉 내 총 시술 횟수')['임신 성공 여부'].mean()\n",
    "# 마찬가지로 어느 정도 관계가 보이긴 함.. 냅두기 이때 숫자형으로 바꾸기\n",
    "train['클리닉 내 총 시술 횟수'] = train['클리닉 내 총 시술 횟수'].str.extract('(\\d+)').astype(int)"
   ]
  },
  {
   "cell_type": "code",
   "execution_count": 564,
   "id": "f9482a04-5c81-4639-baf7-e1e1eee19676",
   "metadata": {},
   "outputs": [],
   "source": [
    "test['클리닉 내 총 시술 횟수']=test['클리닉 내 총 시술 횟수'].str.extract(r'(\\d+)').astype(int)"
   ]
  },
  {
   "cell_type": "code",
   "execution_count": 565,
   "id": "a2aff453-9271-40f0-bd65-55cc2d7fc65f",
   "metadata": {},
   "outputs": [
    {
     "data": {
      "text/plain": [
       "IVF 시술 횟수\n",
       "0회       0.286347\n",
       "1회       0.250553\n",
       "2회       0.245456\n",
       "3회       0.235524\n",
       "4회       0.227452\n",
       "5회       0.212793\n",
       "6회 이상    0.196082\n",
       "Name: 임신 성공 여부, dtype: float64"
      ]
     },
     "execution_count": 565,
     "metadata": {},
     "output_type": "execute_result"
    }
   ],
   "source": [
    "train.groupby('IVF 시술 횟수')['임신 성공 여부'].mean()"
   ]
  },
  {
   "cell_type": "code",
   "execution_count": 566,
   "id": "a649366e-57ba-4104-96a9-d259f986a8fb",
   "metadata": {},
   "outputs": [],
   "source": [
    "# 어느 정도 선형적이 관계를 보이긴 함.. 숫자형으로만 바꾸기\n",
    "train['IVF 시술 횟수']=train['IVF 시술 횟수'].str.extract(r'(\\d+)').astype(int)\n",
    "test['IVF 시술 횟수']=test['IVF 시술 횟수'].str.extract(r'(\\d+)').astype(int)"
   ]
  },
  {
   "cell_type": "code",
   "execution_count": 567,
   "id": "3838d056-b59c-4044-aa3b-8dc20b550901",
   "metadata": {},
   "outputs": [
    {
     "data": {
      "text/plain": [
       "DI 시술 횟수\n",
       "0회       0.260665\n",
       "1회       0.191870\n",
       "2회       0.217623\n",
       "3회       0.242678\n",
       "4회       0.219895\n",
       "5회       0.188490\n",
       "6회 이상    0.236801\n",
       "Name: 임신 성공 여부, dtype: float64"
      ]
     },
     "execution_count": 567,
     "metadata": {},
     "output_type": "execute_result"
    }
   ],
   "source": [
    "train.groupby('DI 시술 횟수')['임신 성공 여부'].mean()"
   ]
  },
  {
   "cell_type": "code",
   "execution_count": 568,
   "id": "a2e3e6a7-f3fa-495f-8085-e38edf7948f3",
   "metadata": {},
   "outputs": [],
   "source": [
    "# 다른 변수들로 대체 가능할지.. 알아보기 위해 일단 숫자형으로 바꾸기\n",
    "train['DI 시술 횟수']=train['DI 시술 횟수'].str.extract(r'(\\d+)').astype(int)\n",
    "test['DI 시술 횟수']=test['DI 시술 횟수'].str.extract(r'(\\d+)').astype(int)"
   ]
  },
  {
   "cell_type": "code",
   "execution_count": 569,
   "id": "6bbf6161-a608-4435-a95c-d494336b6ab1",
   "metadata": {},
   "outputs": [
    {
     "data": {
      "text/plain": [
       "DI 시술 횟수\n",
       "0    0.260665\n",
       "1    0.191870\n",
       "2    0.217623\n",
       "3    0.242678\n",
       "4    0.219895\n",
       "5    0.188490\n",
       "6    0.236801\n",
       "Name: 임신 성공 여부, dtype: float64"
      ]
     },
     "execution_count": 569,
     "metadata": {},
     "output_type": "execute_result"
    }
   ],
   "source": [
    "train.groupby('DI 시술 횟수')['임신 성공 여부'].mean()"
   ]
  },
  {
   "cell_type": "code",
   "execution_count": 570,
   "id": "b0014a8a-4bbf-47a9-bf9a-ce0b43e5b8a4",
   "metadata": {},
   "outputs": [
    {
     "data": {
      "text/plain": [
       "DI 시술 횟수    1.0\n",
       "Name: DI 시술 횟수, dtype: float64"
      ]
     },
     "execution_count": 570,
     "metadata": {},
     "output_type": "execute_result"
    }
   ],
   "source": [
    "num_cols=train.select_dtypes(exclude=['object']).columns\n",
    "corr_values = train[num_cols].corr()['DI 시술 횟수']\n",
    "# 0.9 이상 또는 -0.9 이하인 값만 필터링\n",
    "corr_values[(corr_values >= 0.9) | (corr_values <= -0.9)]"
   ]
  },
  {
   "cell_type": "markdown",
   "id": "5841b702-89f4-4d2c-959c-6c7be31c11ba",
   "metadata": {},
   "source": [
    "딱히 대체 가능한 column은 없어 보임\n",
    "\n",
    "일단 두기.. scaling 어떻게 할지.. 나중에 고민하기 ~"
   ]
  },
  {
   "cell_type": "code",
   "execution_count": 571,
   "id": "77c34534-e201-4865-ae73-eb551d52cbcc",
   "metadata": {},
   "outputs": [
    {
     "data": {
      "text/plain": [
       "IVF 출산 횟수\n",
       "0회    220759\n",
       "1회     33347\n",
       "2회      2021\n",
       "3회       137\n",
       "4회        13\n",
       "5회         1\n",
       "Name: count, dtype: int64"
      ]
     },
     "execution_count": 571,
     "metadata": {},
     "output_type": "execute_result"
    }
   ],
   "source": [
    "train['IVF 출산 횟수'].value_counts()"
   ]
  },
  {
   "cell_type": "code",
   "execution_count": 572,
   "id": "9deeaa7c-95d7-4da1-bcef-e7733198dee9",
   "metadata": {
    "scrolled": true
   },
   "outputs": [
    {
     "data": {
      "text/plain": [
       "IVF 출산 횟수\n",
       "0회    0.256574\n",
       "1회    0.269889\n",
       "2회    0.262741\n",
       "3회    0.299270\n",
       "4회    0.230769\n",
       "5회    0.000000\n",
       "Name: 임신 성공 여부, dtype: float64"
      ]
     },
     "execution_count": 572,
     "metadata": {},
     "output_type": "execute_result"
    }
   ],
   "source": [
    "train.groupby('IVF 출산 횟수')['임신 성공 여부'].mean()"
   ]
  },
  {
   "cell_type": "code",
   "execution_count": 573,
   "id": "7d2d41f9-3a71-4c87-8fdb-7fe408d7d000",
   "metadata": {},
   "outputs": [
    {
     "data": {
      "text/plain": [
       "IVF 출산 횟수\n",
       "0회    77480\n",
       "1회    11874\n",
       "2회      666\n",
       "3회       42\n",
       "4회        5\n",
       "Name: count, dtype: int64"
      ]
     },
     "execution_count": 573,
     "metadata": {},
     "output_type": "execute_result"
    }
   ],
   "source": [
    "test['IVF 출산 횟수'].value_counts()"
   ]
  },
  {
   "cell_type": "code",
   "execution_count": 574,
   "id": "1fe7856b-4992-4e70-8727-c50727b2805d",
   "metadata": {},
   "outputs": [],
   "source": [
    "train['IVF 출산 횟수']=train['IVF 출산 횟수'].str.extract(r'(\\d+)').astype(int)\n",
    "test['IVF 출산 횟수']=test['IVF 출산 횟수'].str.extract(r'(\\d+)').astype(int)"
   ]
  },
  {
   "cell_type": "code",
   "execution_count": 575,
   "id": "76746720-c887-4162-b390-24a4517c6177",
   "metadata": {},
   "outputs": [],
   "source": [
    "# IVF 출산 횟수가 5회 인건 test 데이터에 없음 -> 지우기\n",
    "train=train[train['IVF 출산 횟수']!=5]"
   ]
  },
  {
   "cell_type": "code",
   "execution_count": 576,
   "id": "bd522bfe-9774-420c-a684-7ca837586091",
   "metadata": {},
   "outputs": [
    {
     "data": {
      "text/plain": [
       "IVF 출산 횟수\n",
       "0    0.256574\n",
       "1    0.269889\n",
       "2    0.262741\n",
       "3    0.299270\n",
       "4    0.230769\n",
       "Name: 임신 성공 여부, dtype: float64"
      ]
     },
     "execution_count": 576,
     "metadata": {},
     "output_type": "execute_result"
    }
   ],
   "source": [
    "train.groupby('IVF 출산 횟수')['임신 성공 여부'].mean()"
   ]
  },
  {
   "cell_type": "code",
   "execution_count": 577,
   "id": "0454c180-5bc3-4a6f-9359-524b4303d1e0",
   "metadata": {},
   "outputs": [
    {
     "data": {
      "text/plain": [
       "IVF 출산 횟수    1.0\n",
       "Name: IVF 출산 횟수, dtype: float64"
      ]
     },
     "execution_count": 577,
     "metadata": {},
     "output_type": "execute_result"
    }
   ],
   "source": [
    "num_cols=train.select_dtypes(exclude=['object']).columns\n",
    "corr_values = train[num_cols].corr()['IVF 출산 횟수']\n",
    "# 0.9 이상 또는 -0.9 이하인 값만 필터링\n",
    "corr_values[(corr_values >= 0.9) | (corr_values <= -0.9)]"
   ]
  },
  {
   "cell_type": "code",
   "execution_count": 578,
   "id": "628732e2-559b-45f8-9889-1589bf03e667",
   "metadata": {},
   "outputs": [
    {
     "data": {
      "text/plain": [
       "총 임신 횟수\n",
       "0회       0.257482\n",
       "1회       0.262922\n",
       "2회       0.258008\n",
       "3회       0.245638\n",
       "4회       0.215054\n",
       "5회       0.285714\n",
       "6회 이상    0.333333\n",
       "Name: 임신 성공 여부, dtype: float64"
      ]
     },
     "execution_count": 578,
     "metadata": {},
     "output_type": "execute_result"
    }
   ],
   "source": [
    "train.groupby('총 임신 횟수')['임신 성공 여부'].mean()"
   ]
  },
  {
   "cell_type": "code",
   "execution_count": 579,
   "id": "f018d43d-2417-4f61-9a72-e9981d84d1b7",
   "metadata": {},
   "outputs": [
    {
     "data": {
      "text/plain": [
       "총 임신 횟수\n",
       "0회       72216\n",
       "1회       15386\n",
       "2회        2127\n",
       "3회         297\n",
       "4회          37\n",
       "5회           3\n",
       "6회 이상        1\n",
       "Name: count, dtype: int64"
      ]
     },
     "execution_count": 579,
     "metadata": {},
     "output_type": "execute_result"
    }
   ],
   "source": [
    "test.value_counts('총 임신 횟수')"
   ]
  },
  {
   "cell_type": "code",
   "execution_count": 580,
   "id": "3aedbcc1-fe97-40b0-aca7-495b12cd7fb2",
   "metadata": {},
   "outputs": [],
   "source": [
    "train['총 임신 횟수']=train['총 임신 횟수'].str.extract(r'(\\d+)').astype(int)\n",
    "test['총 임신 횟수']=test['총 임신 횟수'].str.extract(r'(\\d+)').astype(int)"
   ]
  },
  {
   "cell_type": "code",
   "execution_count": 581,
   "id": "912e1a91-af00-4453-b2d9-42030a2d69d8",
   "metadata": {},
   "outputs": [
    {
     "data": {
      "text/html": [
       "<div>\n",
       "<style scoped>\n",
       "    .dataframe tbody tr th:only-of-type {\n",
       "        vertical-align: middle;\n",
       "    }\n",
       "\n",
       "    .dataframe tbody tr th {\n",
       "        vertical-align: top;\n",
       "    }\n",
       "\n",
       "    .dataframe thead th {\n",
       "        text-align: right;\n",
       "    }\n",
       "</style>\n",
       "<table border=\"1\" class=\"dataframe\">\n",
       "  <thead>\n",
       "    <tr style=\"text-align: right;\">\n",
       "      <th></th>\n",
       "      <th>총 임신 횟수</th>\n",
       "      <th>임신 성공 여부</th>\n",
       "    </tr>\n",
       "  </thead>\n",
       "  <tbody>\n",
       "    <tr>\n",
       "      <th>총 임신 횟수</th>\n",
       "      <td>1.000000</td>\n",
       "      <td>0.002723</td>\n",
       "    </tr>\n",
       "    <tr>\n",
       "      <th>임신 성공 여부</th>\n",
       "      <td>0.002723</td>\n",
       "      <td>1.000000</td>\n",
       "    </tr>\n",
       "  </tbody>\n",
       "</table>\n",
       "</div>"
      ],
      "text/plain": [
       "           총 임신 횟수  임신 성공 여부\n",
       "총 임신 횟수   1.000000  0.002723\n",
       "임신 성공 여부  0.002723  1.000000"
      ]
     },
     "execution_count": 581,
     "metadata": {},
     "output_type": "execute_result"
    }
   ],
   "source": [
    "train[['총 임신 횟수','임신 성공 여부']].corr()"
   ]
  },
  {
   "cell_type": "code",
   "execution_count": 582,
   "id": "8d6b105e-ce3b-42ab-ae26-33ac91d54cb6",
   "metadata": {},
   "outputs": [
    {
     "data": {
      "text/plain": [
       "IVF 임신 횟수\n",
       "0회       208220\n",
       "1회        41518\n",
       "2회         5788\n",
       "3회          663\n",
       "4회           81\n",
       "5회            6\n",
       "6회 이상         1\n",
       "Name: count, dtype: int64"
      ]
     },
     "execution_count": 582,
     "metadata": {},
     "output_type": "execute_result"
    }
   ],
   "source": [
    "train['IVF 임신 횟수'].value_counts()"
   ]
  },
  {
   "cell_type": "code",
   "execution_count": 583,
   "id": "55cacd9a-c9c2-4c67-9998-804d0c71d242",
   "metadata": {},
   "outputs": [
    {
     "data": {
      "text/plain": [
       "IVF 임신 횟수\n",
       "0회    73207\n",
       "1회    14571\n",
       "2회     1981\n",
       "3회      274\n",
       "4회       31\n",
       "5회        3\n",
       "Name: count, dtype: int64"
      ]
     },
     "execution_count": 583,
     "metadata": {},
     "output_type": "execute_result"
    }
   ],
   "source": [
    "test['IVF 임신 횟수'].value_counts()"
   ]
  },
  {
   "cell_type": "code",
   "execution_count": 584,
   "id": "4aa42221-7ab3-4592-99bb-f450c7f02c36",
   "metadata": {},
   "outputs": [
    {
     "name": "stderr",
     "output_type": "stream",
     "text": [
      "<>:1: SyntaxWarning: invalid escape sequence '\\d'\n",
      "<>:2: SyntaxWarning: invalid escape sequence '\\d'\n",
      "<>:1: SyntaxWarning: invalid escape sequence '\\d'\n",
      "<>:2: SyntaxWarning: invalid escape sequence '\\d'\n",
      "C:\\Users\\sshyu\\AppData\\Local\\Temp\\ipykernel_12052\\3354623911.py:1: SyntaxWarning: invalid escape sequence '\\d'\n",
      "  train['IVF 임신 횟수'] = train['IVF 임신 횟수'].str.extract('(\\d+)').astype(int)\n",
      "C:\\Users\\sshyu\\AppData\\Local\\Temp\\ipykernel_12052\\3354623911.py:2: SyntaxWarning: invalid escape sequence '\\d'\n",
      "  test['IVF 임신 횟수'] = test['IVF 임신 횟수'].str.extract('(\\d+)').astype(int)\n"
     ]
    }
   ],
   "source": [
    "train['IVF 임신 횟수'] = train['IVF 임신 횟수'].str.extract('(\\d+)').astype(int)\n",
    "test['IVF 임신 횟수'] = test['IVF 임신 횟수'].str.extract('(\\d+)').astype(int)"
   ]
  },
  {
   "cell_type": "code",
   "execution_count": 585,
   "id": "1a7b08c2-217f-4b88-b3c4-b59c02ea7180",
   "metadata": {},
   "outputs": [],
   "source": [
    "# train에서만 임신 횟수가 6회 이상이 한개 나옴 -> 제거하기\n",
    "train=train[train['IVF 임신 횟수']!=6]"
   ]
  },
  {
   "cell_type": "code",
   "execution_count": 586,
   "id": "e571025f-e3fb-4b1a-ad7f-a8d729aff14c",
   "metadata": {},
   "outputs": [
    {
     "data": {
      "text/plain": [
       "IVF 임신 횟수\n",
       "0    0.256882\n",
       "1    0.266415\n",
       "2    0.256047\n",
       "3    0.247360\n",
       "4    0.234568\n",
       "5    0.166667\n",
       "Name: 임신 성공 여부, dtype: float64"
      ]
     },
     "execution_count": 586,
     "metadata": {},
     "output_type": "execute_result"
    }
   ],
   "source": [
    "train.groupby('IVF 임신 횟수')['임신 성공 여부'].mean()\n",
    "# 5회에서 급격히 떨어지는 걸 볼 수 있음"
   ]
  },
  {
   "cell_type": "code",
   "execution_count": 587,
   "id": "490b9c02-2509-4962-8b7f-b9595b655b34",
   "metadata": {},
   "outputs": [
    {
     "data": {
      "text/plain": [
       "DI 임신 횟수\n",
       "0회    89008\n",
       "1회      929\n",
       "2회      117\n",
       "3회       10\n",
       "4회        2\n",
       "5회        1\n",
       "Name: count, dtype: int64"
      ]
     },
     "execution_count": 587,
     "metadata": {},
     "output_type": "execute_result"
    }
   ],
   "source": [
    "test['DI 임신 횟수'].value_counts()"
   ]
  },
  {
   "cell_type": "code",
   "execution_count": 588,
   "id": "13079f0b-6705-48bf-bab7-45ffa08ed681",
   "metadata": {},
   "outputs": [
    {
     "name": "stderr",
     "output_type": "stream",
     "text": [
      "<>:1: SyntaxWarning: invalid escape sequence '\\d'\n",
      "<>:2: SyntaxWarning: invalid escape sequence '\\d'\n",
      "<>:1: SyntaxWarning: invalid escape sequence '\\d'\n",
      "<>:2: SyntaxWarning: invalid escape sequence '\\d'\n",
      "C:\\Users\\sshyu\\AppData\\Local\\Temp\\ipykernel_12052\\3173026808.py:1: SyntaxWarning: invalid escape sequence '\\d'\n",
      "  train['DI 임신 횟수'] = train['DI 임신 횟수'].str.extract('(\\d+)').astype(int)\n",
      "C:\\Users\\sshyu\\AppData\\Local\\Temp\\ipykernel_12052\\3173026808.py:2: SyntaxWarning: invalid escape sequence '\\d'\n",
      "  test['DI 임신 횟수'] = test['DI 임신 횟수'].str.extract('(\\d+)').astype(int)\n"
     ]
    }
   ],
   "source": [
    "train['DI 임신 횟수'] = train['DI 임신 횟수'].str.extract('(\\d+)').astype(int)\n",
    "test['DI 임신 횟수'] = test['DI 임신 횟수'].str.extract('(\\d+)').astype(int)"
   ]
  },
  {
   "cell_type": "code",
   "execution_count": 589,
   "id": "73ab07f9-f1a7-4c97-aa7b-e84fd146f0c0",
   "metadata": {},
   "outputs": [
    {
     "data": {
      "text/plain": [
       "DI 임신 횟수\n",
       "0    0.258870\n",
       "1    0.209098\n",
       "2    0.275956\n",
       "3    0.212766\n",
       "4    0.000000\n",
       "5    0.333333\n",
       "Name: 임신 성공 여부, dtype: float64"
      ]
     },
     "execution_count": 589,
     "metadata": {},
     "output_type": "execute_result"
    }
   ],
   "source": [
    "train.groupby('DI 임신 횟수')['임신 성공 여부'].mean()\n",
    "# 4회에서 임신 성공 여부가 모두 0이 되는 특이점..(row는 5개 존재함)"
   ]
  },
  {
   "cell_type": "code",
   "execution_count": 590,
   "id": "648e1063-26a3-44be-b777-554a85a72ad3",
   "metadata": {},
   "outputs": [
    {
     "data": {
      "text/plain": [
       "총 출산 횟수\n",
       "0회       0.256875\n",
       "1회       0.267266\n",
       "2회       0.263275\n",
       "3회       0.275449\n",
       "4회       0.230769\n",
       "6회 이상    0.000000\n",
       "Name: 임신 성공 여부, dtype: float64"
      ]
     },
     "execution_count": 590,
     "metadata": {},
     "output_type": "execute_result"
    }
   ],
   "source": [
    "train.groupby('총 출산 횟수')['임신 성공 여부'].mean()\n",
    "# 6회 이상 값이 0이 됨 (row 는 2개)\n",
    "# test 에서 총 출산 횟수가 6회 이상 -> 임신 성공 여부를 0으로 나중에 고치기"
   ]
  },
  {
   "cell_type": "code",
   "execution_count": 591,
   "id": "b59a2499-a2d7-4281-968f-7c0025852e73",
   "metadata": {},
   "outputs": [
    {
     "data": {
      "text/plain": [
       "총 출산 횟수\n",
       "0회       76735\n",
       "1회       12548\n",
       "2회         727\n",
       "3회          51\n",
       "4회           5\n",
       "6회 이상        1\n",
       "Name: count, dtype: int64"
      ]
     },
     "execution_count": 591,
     "metadata": {},
     "output_type": "execute_result"
    }
   ],
   "source": [
    "test['총 출산 횟수'].value_counts()"
   ]
  },
  {
   "cell_type": "code",
   "execution_count": 592,
   "id": "c013e5ae-4e7a-4b41-989a-57ad344c6bb2",
   "metadata": {},
   "outputs": [
    {
     "name": "stderr",
     "output_type": "stream",
     "text": [
      "<>:1: SyntaxWarning: invalid escape sequence '\\d'\n",
      "<>:2: SyntaxWarning: invalid escape sequence '\\d'\n",
      "<>:1: SyntaxWarning: invalid escape sequence '\\d'\n",
      "<>:2: SyntaxWarning: invalid escape sequence '\\d'\n",
      "C:\\Users\\sshyu\\AppData\\Local\\Temp\\ipykernel_12052\\1996552244.py:1: SyntaxWarning: invalid escape sequence '\\d'\n",
      "  train['총 출산 횟수'] = train['총 출산 횟수'].str.extract('(\\d+)').astype(int)\n",
      "C:\\Users\\sshyu\\AppData\\Local\\Temp\\ipykernel_12052\\1996552244.py:2: SyntaxWarning: invalid escape sequence '\\d'\n",
      "  test['총 출산 횟수'] = test['총 출산 횟수'].str.extract('(\\d+)').astype(int)\n"
     ]
    }
   ],
   "source": [
    "train['총 출산 횟수'] = train['총 출산 횟수'].str.extract('(\\d+)').astype(int)\n",
    "test['총 출산 횟수'] = test['총 출산 횟수'].str.extract('(\\d+)').astype(int)"
   ]
  },
  {
   "cell_type": "code",
   "execution_count": 593,
   "id": "34524fd8-8216-417a-b6cd-513cd17ef052",
   "metadata": {},
   "outputs": [
    {
     "data": {
      "text/plain": [
       "DI 출산 횟수\n",
       "0회    0.258638\n",
       "1회    0.229323\n",
       "2회    0.236264\n",
       "3회    0.222222\n",
       "5회    0.000000\n",
       "Name: 임신 성공 여부, dtype: float64"
      ]
     },
     "execution_count": 593,
     "metadata": {},
     "output_type": "execute_result"
    }
   ],
   "source": [
    "train.groupby('DI 출산 횟수')['임신 성공 여부'].mean()\n",
    "# 5회 이면 0임. 따라서 마지막에 고치기"
   ]
  },
  {
   "cell_type": "code",
   "execution_count": 594,
   "id": "5e589867-d5f8-4435-a99d-bb519e508c5b",
   "metadata": {},
   "outputs": [
    {
     "data": {
      "text/plain": [
       "DI 출산 횟수\n",
       "0회    253946\n",
       "1회      2128\n",
       "2회       182\n",
       "3회        18\n",
       "5회         2\n",
       "Name: count, dtype: int64"
      ]
     },
     "execution_count": 594,
     "metadata": {},
     "output_type": "execute_result"
    }
   ],
   "source": [
    "train['DI 출산 횟수'].value_counts()"
   ]
  },
  {
   "cell_type": "code",
   "execution_count": 595,
   "id": "d6195b09-4517-46c1-a476-bddbe936f3a2",
   "metadata": {},
   "outputs": [
    {
     "name": "stderr",
     "output_type": "stream",
     "text": [
      "<>:1: SyntaxWarning: invalid escape sequence '\\d'\n",
      "<>:2: SyntaxWarning: invalid escape sequence '\\d'\n",
      "<>:1: SyntaxWarning: invalid escape sequence '\\d'\n",
      "<>:2: SyntaxWarning: invalid escape sequence '\\d'\n",
      "C:\\Users\\sshyu\\AppData\\Local\\Temp\\ipykernel_12052\\1227948566.py:1: SyntaxWarning: invalid escape sequence '\\d'\n",
      "  train['DI 출산 횟수'] = train['DI 출산 횟수'].str.extract('(\\d+)').astype(int)\n",
      "C:\\Users\\sshyu\\AppData\\Local\\Temp\\ipykernel_12052\\1227948566.py:2: SyntaxWarning: invalid escape sequence '\\d'\n",
      "  test['DI 출산 횟수'] = test['DI 출산 횟수'].str.extract('(\\d+)').astype(int)\n"
     ]
    }
   ],
   "source": [
    "train['DI 출산 횟수'] = train['DI 출산 횟수'].str.extract('(\\d+)').astype(int)\n",
    "test['DI 출산 횟수'] = test['DI 출산 횟수'].str.extract('(\\d+)').astype(int)"
   ]
  },
  {
   "cell_type": "code",
   "execution_count": 596,
   "id": "9b782114-77e3-4c69-bfb8-abc2fed84019",
   "metadata": {},
   "outputs": [
    {
     "data": {
      "text/plain": [
       "난자 출처\n",
       "본인 제공     234289\n",
       "기증 제공      15767\n",
       "알 수 없음      6220\n",
       "Name: count, dtype: int64"
      ]
     },
     "execution_count": 596,
     "metadata": {},
     "output_type": "execute_result"
    }
   ],
   "source": [
    "train['난자 출처'].value_counts()"
   ]
  },
  {
   "cell_type": "code",
   "execution_count": 597,
   "id": "f4f38a7d-337f-4eff-89f3-23368bb19223",
   "metadata": {},
   "outputs": [
    {
     "data": {
      "text/plain": [
       "난자 출처\n",
       "기증 제공     0.315406\n",
       "본인 제공     0.257985\n",
       "알 수 없음    0.128457\n",
       "Name: 임신 성공 여부, dtype: float64"
      ]
     },
     "execution_count": 597,
     "metadata": {},
     "output_type": "execute_result"
    }
   ],
   "source": [
    "train.groupby('난자 출처')['임신 성공 여부'].mean()"
   ]
  },
  {
   "cell_type": "code",
   "execution_count": 598,
   "id": "c89b282a-6f14-45f1-9171-6a2ed07ad792",
   "metadata": {},
   "outputs": [
    {
     "data": {
      "text/plain": [
       "난자 출처\n",
       "본인 제공     82397\n",
       "기증 제공      5494\n",
       "알 수 없음     2176\n",
       "Name: count, dtype: int64"
      ]
     },
     "execution_count": 598,
     "metadata": {},
     "output_type": "execute_result"
    }
   ],
   "source": [
    "test['난자 출처'].value_counts()"
   ]
  },
  {
   "cell_type": "code",
   "execution_count": 599,
   "id": "bb878006-fdcd-4e5f-8f9e-e0af85d70c96",
   "metadata": {},
   "outputs": [],
   "source": [
    "# 임신 성공 여부 평균을 반영하여 기증 제공이면 1, 본인 제공이면 0.5, 알수 없음이면 0으로\n",
    "train['난자 기증 여부']=0.0\n",
    "train.loc[train['난자 출처']=='기증 제공','난자 기증 여부']=1\n",
    "train.loc[train['난자 출처']=='본인 제공','난자 기증 여부']=0.5"
   ]
  },
  {
   "cell_type": "code",
   "execution_count": 600,
   "id": "c94fc1d1-1459-4f72-9573-85886b078915",
   "metadata": {},
   "outputs": [],
   "source": [
    "test['난자 기증 여부']=0.0\n",
    "test.loc[test['난자 출처']=='기증 제공','난자 기증 여부']=1\n",
    "test.loc[test['난자 출처']=='본인 제공','난자 기증 여부']=0.5"
   ]
  },
  {
   "cell_type": "code",
   "execution_count": 601,
   "id": "76477e07-da68-4d02-97fc-cd13dcbc9c90",
   "metadata": {},
   "outputs": [],
   "source": [
    "train.drop('난자 출처',axis=1,inplace=True)\n",
    "test.drop('난자 출처',axis=1,inplace=True)"
   ]
  },
  {
   "cell_type": "code",
   "execution_count": 602,
   "id": "349fec7b-6237-4ae7-9df1-6723dcdf1a93",
   "metadata": {},
   "outputs": [
    {
     "data": {
      "text/plain": [
       "정자 출처\n",
       "기증 제공          0.243922\n",
       "미할당            0.106557\n",
       "배우자 및 기증 제공    0.000000\n",
       "배우자 제공         0.260169\n",
       "Name: 임신 성공 여부, dtype: float64"
      ]
     },
     "execution_count": 602,
     "metadata": {},
     "output_type": "execute_result"
    }
   ],
   "source": [
    "train.groupby('정자 출처')['임신 성공 여부'].mean()"
   ]
  },
  {
   "cell_type": "code",
   "execution_count": 603,
   "id": "f6055f50-976c-4235-957b-77da3627f20e",
   "metadata": {},
   "outputs": [],
   "source": [
    "# 임신 성공 여부를 반영하여\n",
    "# 기증 제공 또는 배우자 제공이면 1, 미할당이면 0.5 배우자 및 기증 제공이면 0\n",
    "train['정자 기증 여부']=1.0\n",
    "train.loc[train['정자 출처']=='미할당','정자 기증 여부']=0.5\n",
    "train.loc[train['정자 출처']=='배우자 및 기증 제공','정자 기증 여부']=0"
   ]
  },
  {
   "cell_type": "code",
   "execution_count": 604,
   "id": "b6f708bd-1798-4aca-b626-12e3c2454cd8",
   "metadata": {},
   "outputs": [],
   "source": [
    "test['정자 기증 여부']=1.0\n",
    "test.loc[test['정자 출처']=='미할당','정자 기증 여부']=0.5\n",
    "test.loc[test['정자 출처']=='배우자 및 기증 제공','정자 기증 여부']=0"
   ]
  },
  {
   "cell_type": "code",
   "execution_count": 605,
   "id": "787e7c0e-c869-448d-abb4-bd621ac6fdb0",
   "metadata": {},
   "outputs": [],
   "source": [
    "train.drop('정자 출처',axis=1,inplace=True)\n",
    "test.drop('정자 출처',axis=1,inplace=True)"
   ]
  },
  {
   "cell_type": "code",
   "execution_count": 606,
   "id": "927df661-d947-4c43-8be4-2e19bc64e6f5",
   "metadata": {},
   "outputs": [
    {
     "data": {
      "text/plain": [
       "난자 기증자 나이\n",
       "알 수 없음     242307\n",
       "만31-35세      6365\n",
       "만26-30세      4976\n",
       "만21-25세      2334\n",
       "만20세 이하       294\n",
       "Name: count, dtype: int64"
      ]
     },
     "execution_count": 606,
     "metadata": {},
     "output_type": "execute_result"
    }
   ],
   "source": [
    "train['난자 기증자 나이'].value_counts()"
   ]
  },
  {
   "cell_type": "markdown",
   "id": "85904d55-4447-4713-b46d-baeb087b4be6",
   "metadata": {},
   "source": [
    "94% 의 값이 알 수 없음임..(test 데이터도 마찬가지) 결측치를 채우면 오히려 성능이 떨어질 듯"
   ]
  },
  {
   "cell_type": "code",
   "execution_count": 607,
   "id": "45ac4ea9-5c74-4c99-9119-ccd6dd05c5a8",
   "metadata": {},
   "outputs": [
    {
     "data": {
      "text/plain": [
       "정자 기증자 나이\n",
       "알 수 없음     81043\n",
       "만21-25세     1988\n",
       "만36-40세     1887\n",
       "만26-30세     1828\n",
       "만31-35세     1643\n",
       "만41-45세     1299\n",
       "만20세 이하      379\n",
       "Name: count, dtype: int64"
      ]
     },
     "execution_count": 607,
     "metadata": {},
     "output_type": "execute_result"
    }
   ],
   "source": [
    "test['정자 기증자 나이'].value_counts()"
   ]
  },
  {
   "cell_type": "markdown",
   "id": "82180a0c-76c1-4f90-a7b2-f7b189053884",
   "metadata": {},
   "source": [
    "마찬가지로 90% 의 값이 알 수 없음임..(test 데이터도 마찬가지) 결측치를 채우면 오히려 성능이 떨어질 듯"
   ]
  },
  {
   "cell_type": "code",
   "execution_count": 608,
   "id": "7fa4f18b-25f4-4bef-8a69-5642d20ceec9",
   "metadata": {},
   "outputs": [],
   "source": [
    "train.drop(['난자 기증자 나이','정자 기증자 나이'],axis=1,inplace=True)\n",
    "test.drop(['난자 기증자 나이','정자 기증자 나이'],axis=1,inplace=True)"
   ]
  },
  {
   "cell_type": "code",
   "execution_count": 609,
   "id": "c683b2bf-450e-4406-9e6b-c47a4b90ee4d",
   "metadata": {},
   "outputs": [
    {
     "data": {
      "text/plain": [
       "Index(['시술 당시 나이', '특정 시술 유형'], dtype='object')"
      ]
     },
     "execution_count": 609,
     "metadata": {},
     "output_type": "execute_result"
    }
   ],
   "source": [
    "train.select_dtypes(include=['object']).columns"
   ]
  },
  {
   "cell_type": "code",
   "execution_count": 610,
   "id": "ac5b350a-077c-4110-ab41-9506294b6d95",
   "metadata": {},
   "outputs": [
    {
     "data": {
      "text/plain": [
       "Index(['시술 당시 나이', '특정 시술 유형'], dtype='object')"
      ]
     },
     "execution_count": 610,
     "metadata": {},
     "output_type": "execute_result"
    }
   ],
   "source": [
    "test.select_dtypes(include=['object']).columns"
   ]
  },
  {
   "cell_type": "code",
   "execution_count": 611,
   "id": "8c927149-244f-44e7-8e11-cdbeee49079b",
   "metadata": {},
   "outputs": [
    {
     "data": {
      "text/plain": [
       "배아 이식 경과일\n",
       "5.0    81459\n",
       "3.0    57924\n",
       "2.0    35078\n",
       "0.0    24902\n",
       "1.0     6053\n",
       "4.0     4504\n",
       "6.0     2773\n",
       "7.0       90\n",
       "Name: count, dtype: int64"
      ]
     },
     "execution_count": 611,
     "metadata": {},
     "output_type": "execute_result"
    }
   ],
   "source": [
    "train['배아 이식 경과일'].value_counts()"
   ]
  },
  {
   "cell_type": "markdown",
   "id": "e086f0e1-16f6-4f7e-9206-c285ef82afe8",
   "metadata": {},
   "source": [
    "원핫 인코딩"
   ]
  },
  {
   "cell_type": "code",
   "execution_count": 612,
   "id": "43724bc5-9872-4f08-891e-7cea3b8aebab",
   "metadata": {},
   "outputs": [
    {
     "data": {
      "text/plain": [
       "특정 시술 유형\n",
       "ICSI       128547\n",
       "IVF         94568\n",
       "Unknown     26960\n",
       "IUI          6100\n",
       "ICI            96\n",
       "FER             3\n",
       "GIFT            2\n",
       "Name: count, dtype: int64"
      ]
     },
     "execution_count": 612,
     "metadata": {},
     "output_type": "execute_result"
    }
   ],
   "source": [
    "train['특정 시술 유형'].value_counts()\n",
    "# 원핫 인코딩"
   ]
  },
  {
   "cell_type": "code",
   "execution_count": 613,
   "id": "6d811b29-3f92-4712-9552-125e60400a75",
   "metadata": {},
   "outputs": [],
   "source": [
    "train=pd.get_dummies(train, columns=['특정 시술 유형'], drop_first=True,dtype=int)\n",
    "test=pd.get_dummies(test, columns=['특정 시술 유형'], drop_first=True,dtype=int)"
   ]
  },
  {
   "cell_type": "markdown",
   "id": "3654e073-ed2b-46d9-bf0e-80745229dcea",
   "metadata": {},
   "source": [
    "**아직 남아있는 NaN -> KNN imputation으로**"
   ]
  },
  {
   "cell_type": "code",
   "execution_count": 614,
   "id": "81b5d82f-3fbc-48cb-be03-a15aa8561026",
   "metadata": {},
   "outputs": [
    {
     "data": {
      "text/html": [
       "<div>\n",
       "<style scoped>\n",
       "    .dataframe tbody tr th:only-of-type {\n",
       "        vertical-align: middle;\n",
       "    }\n",
       "\n",
       "    .dataframe tbody tr th {\n",
       "        vertical-align: top;\n",
       "    }\n",
       "\n",
       "    .dataframe thead th {\n",
       "        text-align: right;\n",
       "    }\n",
       "</style>\n",
       "<table border=\"1\" class=\"dataframe\">\n",
       "  <thead>\n",
       "    <tr style=\"text-align: right;\">\n",
       "      <th></th>\n",
       "      <th>0</th>\n",
       "    </tr>\n",
       "  </thead>\n",
       "  <tbody>\n",
       "    <tr>\n",
       "      <th>배아 이식 경과일</th>\n",
       "      <td>43493</td>\n",
       "    </tr>\n",
       "  </tbody>\n",
       "</table>\n",
       "</div>"
      ],
      "text/plain": [
       "               0\n",
       "배아 이식 경과일  43493"
      ]
     },
     "execution_count": 614,
     "metadata": {},
     "output_type": "execute_result"
    }
   ],
   "source": [
    "pd.DataFrame(train.isna().sum()[train.isna().sum() > 0])"
   ]
  },
  {
   "cell_type": "code",
   "execution_count": 615,
   "id": "ce49df19-7994-41e4-bd57-6b0497ac5774",
   "metadata": {},
   "outputs": [
    {
     "data": {
      "text/html": [
       "<div>\n",
       "<style scoped>\n",
       "    .dataframe tbody tr th:only-of-type {\n",
       "        vertical-align: middle;\n",
       "    }\n",
       "\n",
       "    .dataframe tbody tr th {\n",
       "        vertical-align: top;\n",
       "    }\n",
       "\n",
       "    .dataframe thead th {\n",
       "        text-align: right;\n",
       "    }\n",
       "</style>\n",
       "<table border=\"1\" class=\"dataframe\">\n",
       "  <thead>\n",
       "    <tr style=\"text-align: right;\">\n",
       "      <th></th>\n",
       "      <th>0</th>\n",
       "    </tr>\n",
       "  </thead>\n",
       "  <tbody>\n",
       "    <tr>\n",
       "      <th>배아 이식 경과일</th>\n",
       "      <td>15246</td>\n",
       "    </tr>\n",
       "  </tbody>\n",
       "</table>\n",
       "</div>"
      ],
      "text/plain": [
       "               0\n",
       "배아 이식 경과일  15246"
      ]
     },
     "execution_count": 615,
     "metadata": {},
     "output_type": "execute_result"
    }
   ],
   "source": [
    "pd.DataFrame(test.isna().sum()[test.isna().sum() > 0])"
   ]
  },
  {
   "cell_type": "code",
   "execution_count": 616,
   "id": "165be005-5010-4973-bc57-670d569589b0",
   "metadata": {},
   "outputs": [
    {
     "data": {
      "text/plain": [
       "배란 자극 여부            0.586438\n",
       "총 생성 배아 수           0.648158\n",
       "수집된 신선 난자 수         0.575872\n",
       "혼합된 난자 수            0.625842\n",
       "파트너 정자와 혼합된 난자 수    0.564743\n",
       "동결 배아 사용 여부        -0.690088\n",
       "신선 배아 사용 여부         0.691266\n",
       "배아 이식 경과일           1.000000\n",
       "특정 시술 유형_Unknown   -0.531194\n",
       "Name: 배아 이식 경과일, dtype: float64"
      ]
     },
     "execution_count": 616,
     "metadata": {},
     "output_type": "execute_result"
    }
   ],
   "source": [
    "# 배아이식 경과일\n",
    "num_cols=train.select_dtypes(exclude=['object']).columns\n",
    "corr_values=train[num_cols].corr()['배아 이식 경과일']\n",
    "corr_values[(corr_values >= 0.5) | (corr_values <= -0.5)]"
   ]
  },
  {
   "cell_type": "code",
   "execution_count": 617,
   "id": "832994c5-b0f9-4886-85c6-aa4eeeb54672",
   "metadata": {},
   "outputs": [],
   "source": [
    "# 상관관계가 높은 feature들로 채워줌\n",
    "from sklearn.impute import KNNImputer\n",
    "\n",
    "# 사용할 컬럼 선택 \n",
    "selected_columns = [\n",
    "    '배란 자극 여부', '총 생성 배아 수', '수집된 신선 난자 수', '혼합된 난자 수', \n",
    "    '파트너 정자와 혼합된 난자 수', '동결 배아 사용 여부', '신선 배아 사용 여부', \n",
    "    '특정 시술 유형_Unknown'\n",
    "]\n",
    "# 선택한 컬럼만 포함한 데이터프레임 생성\n",
    "train_selected = train[selected_columns]\n",
    "# KNN Imputer 설정\n",
    "imputer = KNNImputer(n_neighbors=5)  # K값은 5로 설정 \n",
    "train_selected_imputed = pd.DataFrame(imputer.fit_transform(train_selected), columns=selected_columns)\n",
    "# 원본 데이터프레임에 채워진 값 반영\n",
    "train[selected_columns] = train_selected_imputed\n",
    "# 이제 '배아 이식 경과일'만 KNN으로 채우기\n",
    "train['배아 이식 경과일'] = train['배아 이식 경과일'].fillna(train['배아 이식 경과일'].mean())"
   ]
  },
  {
   "cell_type": "code",
   "execution_count": 618,
   "id": "4b5e9a99-4889-409d-96d4-176844c73d3f",
   "metadata": {},
   "outputs": [
    {
     "data": {
      "text/plain": [
       "배아 이식 경과일\n",
       "5.0    84202\n",
       "3.0    59286\n",
       "2.0    36852\n",
       "0.0    24903\n",
       "1.0     8363\n",
       "0.6     6058\n",
       "4.0     5907\n",
       "2.2     3757\n",
       "4.6     3434\n",
       "2.4     3385\n",
       "0.8     2952\n",
       "6.0     2773\n",
       "2.6     2445\n",
       "4.2     2082\n",
       "2.8     1533\n",
       "3.8     1514\n",
       "3.6     1264\n",
       "4.4     1003\n",
       "0.4      900\n",
       "1.8      748\n",
       "3.2      685\n",
       "3.4      674\n",
       "4.8      550\n",
       "5.2      485\n",
       "1.6      247\n",
       "5.4       90\n",
       "7.0       90\n",
       "1.4       15\n",
       "5.6        4\n",
       "Name: count, dtype: int64"
      ]
     },
     "execution_count": 618,
     "metadata": {},
     "output_type": "execute_result"
    }
   ],
   "source": [
    "train['배아 이식 경과일'].value_counts()"
   ]
  },
  {
   "cell_type": "code",
   "execution_count": 619,
   "id": "241c23b0-a559-4404-b542-35bb7404a713",
   "metadata": {},
   "outputs": [],
   "source": [
    "# 선택한 컬럼만 포함한 데이터프레임 생성\n",
    "test_selected = test[selected_columns]\n",
    "\n",
    "# KNN Imputer 설정\n",
    "imputer = KNNImputer(n_neighbors=5)  # K값은 5로 설정 \n",
    "test_selected_imputed = pd.DataFrame(imputer.fit_transform(test_selected), columns=selected_columns)\n",
    "\n",
    "# 원본 데이터프레임에 채워진 값 반영\n",
    "test['배아 이식 경과일'] = test_selected_imputed['배아 이식 경과일']"
   ]
  },
  {
   "cell_type": "code",
   "execution_count": 620,
   "id": "771296fa-edc9-4bdb-b63e-bdf982b707eb",
   "metadata": {},
   "outputs": [
    {
     "data": {
      "text/plain": [
       "배아 이식 경과일\n",
       "5.0    29861\n",
       "3.0    20898\n",
       "2.0    12588\n",
       "0.0    10173\n",
       "1.0     2094\n",
       "4.0     1995\n",
       "2.2     1652\n",
       "0.6     1584\n",
       "2.4     1399\n",
       "4.6     1079\n",
       "0.4     1015\n",
       "6.0      960\n",
       "4.2      730\n",
       "2.6      676\n",
       "2.8      600\n",
       "3.4      467\n",
       "3.8      432\n",
       "3.2      385\n",
       "4.4      376\n",
       "3.6      343\n",
       "4.8      205\n",
       "5.2      148\n",
       "1.8      122\n",
       "1.6      104\n",
       "1.4       98\n",
       "5.4       35\n",
       "7.0       33\n",
       "0.8        6\n",
       "1.2        4\n",
       "5.8        3\n",
       "5.6        2\n",
       "Name: count, dtype: int64"
      ]
     },
     "execution_count": 620,
     "metadata": {},
     "output_type": "execute_result"
    }
   ],
   "source": [
    "test['배아 이식 경과일'].value_counts()"
   ]
  },
  {
   "cell_type": "code",
   "execution_count": 646,
   "id": "69b9143e-0cbc-42ac-91a4-d418b6fcde97",
   "metadata": {},
   "outputs": [
    {
     "data": {
      "text/plain": [
       "75"
      ]
     },
     "execution_count": 646,
     "metadata": {},
     "output_type": "execute_result"
    }
   ],
   "source": [
    "train['배아 이식 경과일'].isna().sum()"
   ]
  },
  {
   "cell_type": "code",
   "execution_count": 621,
   "id": "9d59a841-b103-4362-877d-92577ea3ecb9",
   "metadata": {},
   "outputs": [
    {
     "data": {
      "text/plain": [
       "시술 당시 나이\n",
       "만18-34세    102438\n",
       "만35-37세     57765\n",
       "만38-39세     39240\n",
       "만40-42세     37340\n",
       "만43-44세     12249\n",
       "만45-50세      6915\n",
       "알 수 없음        329\n",
       "Name: count, dtype: int64"
      ]
     },
     "execution_count": 621,
     "metadata": {},
     "output_type": "execute_result"
    }
   ],
   "source": [
    "train['시술 당시 나이'].value_counts()"
   ]
  },
  {
   "cell_type": "code",
   "execution_count": 622,
   "id": "b7b176f2-f025-4be4-8261-47eccccd6297",
   "metadata": {},
   "outputs": [
    {
     "data": {
      "text/plain": [
       "시술 당시 나이\n",
       "만18-34세    36178\n",
       "만35-37세    20211\n",
       "만38-39세    13611\n",
       "만40-42세    13266\n",
       "만43-44세     4272\n",
       "만45-50세     2413\n",
       "알 수 없음       116\n",
       "Name: count, dtype: int64"
      ]
     },
     "execution_count": 622,
     "metadata": {},
     "output_type": "execute_result"
    }
   ],
   "source": [
    "test['시술 당시 나이'].value_counts()"
   ]
  },
  {
   "cell_type": "code",
   "execution_count": null,
   "id": "6ece1a1f-15af-4dd0-a8c3-866102cc4830",
   "metadata": {},
   "outputs": [],
   "source": [
    "train['시술 나이'] = np.nan\n",
    "age_mapping = {\n",
    "    '만18-34세': 1\n",
    "    '만35-37세': 2,\n",
    "    '만38-39세': 3,\n",
    "    '만40-42세': 4,\n",
    "    '만43-44세': 5,\n",
    "    '만45-50세': 6\n",
    "}\n",
    "train['시술 나이'] = train['시술 당시 나이'].map(age_mapping)\n",
    "train.loc[train['시술 당시 나이'] == '알 수 없음', '시술 나이'] = np.nan\n",
    "train['시술 나이'] = train['시술 나이'].astype(float)"
   ]
  },
  {
   "cell_type": "code",
   "execution_count": 634,
   "id": "73ad261f-ef1e-41f5-8f3e-a342c88aa464",
   "metadata": {},
   "outputs": [
    {
     "data": {
      "text/plain": [
       "329"
      ]
     },
     "execution_count": 634,
     "metadata": {},
     "output_type": "execute_result"
    }
   ],
   "source": [
    "train['시술 나이'].isna().sum()"
   ]
  },
  {
   "cell_type": "code",
   "execution_count": 638,
   "id": "67266fc7-8939-4329-9d30-f6a0aa3f2679",
   "metadata": {},
   "outputs": [
    {
     "data": {
      "text/plain": [
       "329"
      ]
     },
     "execution_count": 638,
     "metadata": {},
     "output_type": "execute_result"
    }
   ],
   "source": [
    "train[train['시술 당시 나이']=='알 수 없음'].shape[0]"
   ]
  },
  {
   "cell_type": "code",
   "execution_count": 637,
   "id": "2780a2b0-bc7a-4ca3-bd73-6870aea4009b",
   "metadata": {},
   "outputs": [],
   "source": [
    "test['시술 나이'] = np.nan\n",
    "test['시술 나이'] = test['시술 당시 나이'].map(age_mapping)\n",
    "test.loc[test['시술 당시 나이'] == '알 수 없음', '시술 나이'] = np.nan\n",
    "test['시술 나이'] = test['시술 나이'].astype(float)"
   ]
  },
  {
   "cell_type": "code",
   "execution_count": 639,
   "id": "a3f9de32-76a9-4578-9aac-ee6a274ec82c",
   "metadata": {},
   "outputs": [
    {
     "data": {
      "text/plain": [
       "116"
      ]
     },
     "execution_count": 639,
     "metadata": {},
     "output_type": "execute_result"
    }
   ],
   "source": [
    "test['시술 나이'].isna().sum()"
   ]
  },
  {
   "cell_type": "code",
   "execution_count": 640,
   "id": "e02ab4a4-133f-43fc-bb50-27f5c14493f2",
   "metadata": {},
   "outputs": [
    {
     "data": {
      "text/plain": [
       "116"
      ]
     },
     "execution_count": 640,
     "metadata": {},
     "output_type": "execute_result"
    }
   ],
   "source": [
    "test[test['시술 당시 나이']=='알 수 없음'].shape[0]"
   ]
  },
  {
   "cell_type": "code",
   "execution_count": 644,
   "id": "4384c8b3-b6c9-47bf-ae54-364daaabf0f3",
   "metadata": {},
   "outputs": [
    {
     "data": {
      "text/plain": [
       "시술 나이\n",
       "1.0    36178\n",
       "2.0    20211\n",
       "3.0    13611\n",
       "4.0    13266\n",
       "5.0     4272\n",
       "6.0     2413\n",
       "Name: count, dtype: int64"
      ]
     },
     "execution_count": 644,
     "metadata": {},
     "output_type": "execute_result"
    }
   ],
   "source": [
    "test['시술 나이'].value_counts()"
   ]
  },
  {
   "cell_type": "code",
   "execution_count": 625,
   "id": "da576908-a9dd-47b0-a801-9b08a6da718d",
   "metadata": {},
   "outputs": [],
   "source": [
    "test['시술 나이']=0\n",
    "test.loc[test['시술 당시 나이']=='만35-37세','시술 나이']=1\n",
    "test.loc[test['시술 당시 나이']=='만38-39세','시술 나이']=2\n",
    "test.loc[test['시술 당시 나이']=='만40-42세','시술 나이']=3\n",
    "test.loc[test['시술 당시 나이']=='만43-44세','시술 나이']=4\n",
    "test.loc[test['시술 당시 나이']=='만45-50세','시술 나이']=5\n",
    "test['시술 나이'] = test['시술 나이'].astype(float)\n",
    "test.loc[test['시술 나이'] == '알 수 없음', '시술 나이'] = np.nan"
   ]
  },
  {
   "cell_type": "code",
   "execution_count": 627,
   "id": "f2cfe746-485a-4047-a5fd-d6d4d3dc9f69",
   "metadata": {},
   "outputs": [
    {
     "data": {
      "text/plain": [
       "0"
      ]
     },
     "execution_count": 627,
     "metadata": {},
     "output_type": "execute_result"
    }
   ],
   "source": [
    "train['시술 나이'].isna().sum()"
   ]
  },
  {
   "cell_type": "code",
   "execution_count": 498,
   "id": "5501a55d-1d81-44f5-9ad9-b9cddd94f114",
   "metadata": {},
   "outputs": [],
   "source": [
    "# train.drop('시술 당시 나이',inplace=True, axis=1)\n",
    "# test.drop('시술 당시 나이',inplace=True, axis=1)"
   ]
  },
  {
   "cell_type": "code",
   "execution_count": 503,
   "id": "ce07149a-1a47-4259-b28e-f1725f40e3f1",
   "metadata": {},
   "outputs": [],
   "source": [
    "num_cols=train.select_dtypes(exclude=['object']).columns\n",
    "corr_values=train[num_cols].corr()['시술 나이']"
   ]
  },
  {
   "cell_type": "code",
   "execution_count": 507,
   "id": "cad1fe51-28cc-4e18-8571-9fd7702e96e9",
   "metadata": {},
   "outputs": [
    {
     "data": {
      "text/plain": [
       "배란 자극 여부           -0.207645\n",
       "총 시술 횟수             0.217266\n",
       "IVF 시술 횟수           0.216393\n",
       "수집된 신선 난자 수        -0.307762\n",
       "혼합된 난자 수           -0.223943\n",
       "파트너 정자와 혼합된 난자 수   -0.222229\n",
       "난자 기증 여부            0.206043\n",
       "시술 나이               1.000000\n",
       "Name: 시술 나이, dtype: float64"
      ]
     },
     "execution_count": 507,
     "metadata": {},
     "output_type": "execute_result"
    }
   ],
   "source": [
    "# 위에 비해 값이 correlation 값 자체가 낮음 따라서 0.2를 기준으로\n",
    "corr_values[(corr_values >= 0.2) | (corr_values <= -0.2)]"
   ]
  },
  {
   "cell_type": "code",
   "execution_count": 511,
   "id": "e0b00045-af12-4e4d-a820-aabaed50dd91",
   "metadata": {},
   "outputs": [
    {
     "data": {
      "text/plain": [
       "시술 나이\n",
       "0.0    102767\n",
       "1.0     57765\n",
       "2.0     39240\n",
       "3.0     37340\n",
       "4.0     12249\n",
       "5.0      6915\n",
       "Name: count, dtype: int64"
      ]
     },
     "execution_count": 511,
     "metadata": {},
     "output_type": "execute_result"
    }
   ],
   "source": [
    "train['시술 나이'].value_counts()"
   ]
  },
  {
   "cell_type": "code",
   "execution_count": 513,
   "id": "23d97892-1004-4ff1-9959-98b336bdd084",
   "metadata": {},
   "outputs": [
    {
     "data": {
      "text/plain": [
       "0"
      ]
     },
     "execution_count": 513,
     "metadata": {},
     "output_type": "execute_result"
    }
   ],
   "source": [
    "train['시술 나이'].isna().sum()"
   ]
  }
 ],
 "metadata": {
  "kernelspec": {
   "display_name": "Python 3 (ipykernel)",
   "language": "python",
   "name": "python3"
  },
  "language_info": {
   "codemirror_mode": {
    "name": "ipython",
    "version": 3
   },
   "file_extension": ".py",
   "mimetype": "text/x-python",
   "name": "python",
   "nbconvert_exporter": "python",
   "pygments_lexer": "ipython3",
   "version": "3.12.5"
  }
 },
 "nbformat": 4,
 "nbformat_minor": 5
}
